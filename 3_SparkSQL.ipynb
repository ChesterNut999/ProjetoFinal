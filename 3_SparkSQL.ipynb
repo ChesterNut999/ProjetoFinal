{
  "nbformat": 4,
  "nbformat_minor": 0,
  "metadata": {
    "colab": {
      "name": "3 - SparkSQL",
      "provenance": [],
      "collapsed_sections": [
        "sLNQ6L-pipfz",
        "A1_gZQqNnv_x",
        "-Kz2TqlxoZNL"
      ],
      "include_colab_link": true
    },
    "kernelspec": {
      "name": "python3",
      "display_name": "Python 3"
    },
    "language_info": {
      "name": "python"
    }
  },
  "cells": [
    {
      "cell_type": "markdown",
      "metadata": {
        "id": "view-in-github",
        "colab_type": "text"
      },
      "source": [
        "<a href=\"https://colab.research.google.com/github/MarianaDuartee/ProjetoFinal/blob/main/3_SparkSQL.ipynb\" target=\"_parent\"><img src=\"https://colab.research.google.com/assets/colab-badge.svg\" alt=\"Open In Colab\"/></a>"
      ]
    },
    {
      "cell_type": "markdown",
      "metadata": {
        "id": "sLNQ6L-pipfz"
      },
      "source": [
        "##Instalando  dependencias"
      ]
    },
    {
      "cell_type": "code",
      "metadata": {
        "id": "HEe7035PZshu",
        "colab": {
          "base_uri": "https://localhost:8080/"
        },
        "outputId": "210469a9-35e3-4470-ffe4-84c3453ee216"
      },
      "source": [
        "!pip install pyspark\n",
        "!pip install gcsfs\n",
        "!pip install pandas\n"
      ],
      "execution_count": null,
      "outputs": [
        {
          "output_type": "stream",
          "name": "stdout",
          "text": [
            "Requirement already satisfied: pyspark in /usr/local/lib/python3.7/dist-packages (3.2.0)\n",
            "Requirement already satisfied: py4j==0.10.9.2 in /usr/local/lib/python3.7/dist-packages (from pyspark) (0.10.9.2)\n",
            "Requirement already satisfied: gcsfs in /usr/local/lib/python3.7/dist-packages (2021.11.0)\n",
            "Requirement already satisfied: requests in /usr/local/lib/python3.7/dist-packages (from gcsfs) (2.23.0)\n",
            "Requirement already satisfied: google-cloud-storage in /usr/local/lib/python3.7/dist-packages (from gcsfs) (1.18.1)\n",
            "Requirement already satisfied: google-auth-oauthlib in /usr/local/lib/python3.7/dist-packages (from gcsfs) (0.4.6)\n",
            "Requirement already satisfied: fsspec==2021.11.0 in /usr/local/lib/python3.7/dist-packages (from gcsfs) (2021.11.0)\n",
            "Requirement already satisfied: decorator>4.1.2 in /usr/local/lib/python3.7/dist-packages (from gcsfs) (4.4.2)\n",
            "Requirement already satisfied: google-auth>=1.2 in /usr/local/lib/python3.7/dist-packages (from gcsfs) (1.35.0)\n",
            "Requirement already satisfied: aiohttp in /usr/local/lib/python3.7/dist-packages (from gcsfs) (3.8.1)\n",
            "Requirement already satisfied: cachetools<5.0,>=2.0.0 in /usr/local/lib/python3.7/dist-packages (from google-auth>=1.2->gcsfs) (4.2.4)\n",
            "Requirement already satisfied: six>=1.9.0 in /usr/local/lib/python3.7/dist-packages (from google-auth>=1.2->gcsfs) (1.15.0)\n",
            "Requirement already satisfied: rsa<5,>=3.1.4 in /usr/local/lib/python3.7/dist-packages (from google-auth>=1.2->gcsfs) (4.7.2)\n",
            "Requirement already satisfied: pyasn1-modules>=0.2.1 in /usr/local/lib/python3.7/dist-packages (from google-auth>=1.2->gcsfs) (0.2.8)\n",
            "Requirement already satisfied: setuptools>=40.3.0 in /usr/local/lib/python3.7/dist-packages (from google-auth>=1.2->gcsfs) (57.4.0)\n",
            "Requirement already satisfied: pyasn1<0.5.0,>=0.4.6 in /usr/local/lib/python3.7/dist-packages (from pyasn1-modules>=0.2.1->google-auth>=1.2->gcsfs) (0.4.8)\n",
            "Requirement already satisfied: charset-normalizer<3.0,>=2.0 in /usr/local/lib/python3.7/dist-packages (from aiohttp->gcsfs) (2.0.7)\n",
            "Requirement already satisfied: multidict<7.0,>=4.5 in /usr/local/lib/python3.7/dist-packages (from aiohttp->gcsfs) (5.2.0)\n",
            "Requirement already satisfied: yarl<2.0,>=1.0 in /usr/local/lib/python3.7/dist-packages (from aiohttp->gcsfs) (1.7.2)\n",
            "Requirement already satisfied: async-timeout<5.0,>=4.0.0a3 in /usr/local/lib/python3.7/dist-packages (from aiohttp->gcsfs) (4.0.1)\n",
            "Requirement already satisfied: asynctest==0.13.0 in /usr/local/lib/python3.7/dist-packages (from aiohttp->gcsfs) (0.13.0)\n",
            "Requirement already satisfied: frozenlist>=1.1.1 in /usr/local/lib/python3.7/dist-packages (from aiohttp->gcsfs) (1.2.0)\n",
            "Requirement already satisfied: typing-extensions>=3.7.4 in /usr/local/lib/python3.7/dist-packages (from aiohttp->gcsfs) (3.10.0.2)\n",
            "Requirement already satisfied: attrs>=17.3.0 in /usr/local/lib/python3.7/dist-packages (from aiohttp->gcsfs) (21.2.0)\n",
            "Requirement already satisfied: aiosignal>=1.1.2 in /usr/local/lib/python3.7/dist-packages (from aiohttp->gcsfs) (1.2.0)\n",
            "Requirement already satisfied: idna>=2.0 in /usr/local/lib/python3.7/dist-packages (from yarl<2.0,>=1.0->aiohttp->gcsfs) (2.10)\n",
            "Requirement already satisfied: requests-oauthlib>=0.7.0 in /usr/local/lib/python3.7/dist-packages (from google-auth-oauthlib->gcsfs) (1.3.0)\n",
            "Requirement already satisfied: oauthlib>=3.0.0 in /usr/local/lib/python3.7/dist-packages (from requests-oauthlib>=0.7.0->google-auth-oauthlib->gcsfs) (3.1.1)\n",
            "Requirement already satisfied: chardet<4,>=3.0.2 in /usr/local/lib/python3.7/dist-packages (from requests->gcsfs) (3.0.4)\n",
            "Requirement already satisfied: certifi>=2017.4.17 in /usr/local/lib/python3.7/dist-packages (from requests->gcsfs) (2021.10.8)\n",
            "Requirement already satisfied: urllib3!=1.25.0,!=1.25.1,<1.26,>=1.21.1 in /usr/local/lib/python3.7/dist-packages (from requests->gcsfs) (1.24.3)\n",
            "Requirement already satisfied: google-resumable-media<0.5.0dev,>=0.3.1 in /usr/local/lib/python3.7/dist-packages (from google-cloud-storage->gcsfs) (0.4.1)\n",
            "Requirement already satisfied: google-cloud-core<2.0dev,>=1.0.0 in /usr/local/lib/python3.7/dist-packages (from google-cloud-storage->gcsfs) (1.0.3)\n",
            "Requirement already satisfied: google-api-core<2.0.0dev,>=1.14.0 in /usr/local/lib/python3.7/dist-packages (from google-cloud-core<2.0dev,>=1.0.0->google-cloud-storage->gcsfs) (1.26.3)\n",
            "Requirement already satisfied: packaging>=14.3 in /usr/local/lib/python3.7/dist-packages (from google-api-core<2.0.0dev,>=1.14.0->google-cloud-core<2.0dev,>=1.0.0->google-cloud-storage->gcsfs) (21.3)\n",
            "Requirement already satisfied: pytz in /usr/local/lib/python3.7/dist-packages (from google-api-core<2.0.0dev,>=1.14.0->google-cloud-core<2.0dev,>=1.0.0->google-cloud-storage->gcsfs) (2018.9)\n",
            "Requirement already satisfied: googleapis-common-protos<2.0dev,>=1.6.0 in /usr/local/lib/python3.7/dist-packages (from google-api-core<2.0.0dev,>=1.14.0->google-cloud-core<2.0dev,>=1.0.0->google-cloud-storage->gcsfs) (1.53.0)\n",
            "Requirement already satisfied: protobuf>=3.12.0 in /usr/local/lib/python3.7/dist-packages (from google-api-core<2.0.0dev,>=1.14.0->google-cloud-core<2.0dev,>=1.0.0->google-cloud-storage->gcsfs) (3.17.3)\n",
            "Requirement already satisfied: pyparsing!=3.0.5,>=2.0.2 in /usr/local/lib/python3.7/dist-packages (from packaging>=14.3->google-api-core<2.0.0dev,>=1.14.0->google-cloud-core<2.0dev,>=1.0.0->google-cloud-storage->gcsfs) (3.0.6)\n",
            "Requirement already satisfied: pandas in /usr/local/lib/python3.7/dist-packages (1.1.5)\n",
            "Requirement already satisfied: pytz>=2017.2 in /usr/local/lib/python3.7/dist-packages (from pandas) (2018.9)\n",
            "Requirement already satisfied: python-dateutil>=2.7.3 in /usr/local/lib/python3.7/dist-packages (from pandas) (2.8.2)\n",
            "Requirement already satisfied: numpy>=1.15.4 in /usr/local/lib/python3.7/dist-packages (from pandas) (1.19.5)\n",
            "Requirement already satisfied: six>=1.5 in /usr/local/lib/python3.7/dist-packages (from python-dateutil>=2.7.3->pandas) (1.15.0)\n"
          ]
        }
      ]
    },
    {
      "cell_type": "markdown",
      "metadata": {
        "id": "gVf0cgZmq1Fh"
      },
      "source": [
        "##Importando dataframes, bibliotecas e abrindo Sparksession"
      ]
    },
    {
      "cell_type": "code",
      "metadata": {
        "id": "X16h-urOnkKs"
      },
      "source": [
        "from pyspark.sql import SparkSession\n",
        "from pyspark import SQLContext\n",
        "from google.cloud import storage\n",
        "from pyspark.sql.types import *\n",
        "from pyspark.sql.types import DateType\n",
        "\n",
        "import pyspark\n",
        "import pyspark.sql.functions as F\n",
        "import os\n",
        "import gcsfs\n",
        "import pandas as pd"
      ],
      "execution_count": null,
      "outputs": []
    },
    {
      "cell_type": "code",
      "metadata": {
        "id": "mF3TyPmfEgeh",
        "colab": {
          "base_uri": "https://localhost:8080/"
        },
        "outputId": "7801e9c5-f140-4f1a-feeb-1bde1715abcc"
      },
      "source": [
        "from google.colab import drive\n",
        "drive.mount('/content/drive')"
      ],
      "execution_count": null,
      "outputs": [
        {
          "output_type": "stream",
          "name": "stdout",
          "text": [
            "Drive already mounted at /content/drive; to attempt to forcibly remount, call drive.mount(\"/content/drive\", force_remount=True).\n"
          ]
        }
      ]
    },
    {
      "cell_type": "markdown",
      "metadata": {
        "id": "A1_gZQqNnv_x"
      },
      "source": [
        "##Criando uma conexão Spark e configurando chave de serviço\n",
        "\n"
      ]
    },
    {
      "cell_type": "code",
      "metadata": {
        "id": "CqwU082-i67b"
      },
      "source": [
        "spark = SparkSession.builder\\\n",
        ".master('local')\\\n",
        ".appName('Projeto_Final')\\\n",
        ".config('spark.ui.enable', 'true')\\\n",
        ".config('spark.ui.port', '4050')\\\n",
        ".getOrCreate()\n",
        "\n",
        "spark\n",
        "\n",
        "serviceaccount = '/content/drive/MyDrive/SoulCode/Projeto Final/soulcode-projeto-final-4b88bea6e07a.json'\n",
        "os.environ[\"GOOGLE_APPLICATION_CREDENTIALS\"] = serviceaccount"
      ],
      "execution_count": null,
      "outputs": []
    },
    {
      "cell_type": "markdown",
      "metadata": {
        "id": "-Kz2TqlxoZNL"
      },
      "source": [
        "## Dataframes exportados do PySpark"
      ]
    },
    {
      "cell_type": "markdown",
      "metadata": {
        "id": "BZCGZwUaCnmU"
      },
      "source": [
        "Separar as planilhas e alterar o arquivo da planilha 6. Acrescentar planilha 7"
      ]
    },
    {
      "cell_type": "markdown",
      "metadata": {
        "id": "U_ZR2T5Rk3ey"
      },
      "source": [
        "df_ 1 - Planilha de despesas com segurança publica"
      ]
    },
    {
      "cell_type": "code",
      "metadata": {
        "id": "AwXrPDNdGjq7",
        "colab": {
          "base_uri": "https://localhost:8080/"
        },
        "outputId": "7b4a2806-73fb-4a46-8e4a-a41c6ba2c69d"
      },
      "source": [
        "file_path_1 = 'gs://data_lake_ingest_data/2_temp/temp_pandas_despesas_normalizado.csv'\n",
        "\n",
        "fs = gcsfs.GCSFileSystem(project='soulcode-projeto-final', token=serviceaccount)\n",
        "with fs.open(file_path_1):\n",
        "    data = pd.read_csv(file_path_1, sep=',', encoding='UTF-8', header=0)\n",
        "\n",
        "df_1 = spark.createDataFrame(data)\n",
        "df = df_1.createOrReplaceTempView('df_1')\n",
        "\n",
        "#df_1.printSchema()\n",
        "#df_1.dtypes\n",
        "\n",
        "df_1.show(5, truncate=False)\n"
      ],
      "execution_count": null,
      "outputs": [
        {
          "output_type": "stream",
          "name": "stdout",
          "text": [
            "+--------+------------------+------------+------------------+------------+------------------+---------+------------------+\n",
            "|UF      |Despesas2016      |Despesas2017|Despesas2018      |Despesas2019|Despesas2020      |Variacao%|Previsao2021|Media|\n",
            "+--------+------------------+------------+------------------+------------+------------------+---------+------------------+\n",
            "|Acre    |498.535           |568.361     |627.351           |692.57      |493.75300000000004|8.5      |576.114           |\n",
            "|Amapá   |475.32300000000004|500.227     |489.228           |606.366     |752.252           |52.3     |564.6792          |\n",
            "|Amazonas|1604.7320000000002|1578.957    |1862.6689999999999|2108.46     |2101.447          |60.4     |1851.253          |\n",
            "|Pará    |2551.741          |2579.916    |2903.2            |2943.448    |2966.553          |58.0     |2788.9716         |\n",
            "|Rondônia|874.8739999999999 |895.868     |903.2539999999999 |853.971     |999.044           |-14.7    |905.4022          |\n",
            "+--------+------------------+------------+------------------+------------+------------------+---------+------------------+\n",
            "only showing top 5 rows\n",
            "\n"
          ]
        }
      ]
    },
    {
      "cell_type": "markdown",
      "metadata": {
        "id": "n9AuqMyjoZO6"
      },
      "source": [
        "df_2 - Numero de ocorrencias "
      ]
    },
    {
      "cell_type": "code",
      "metadata": {
        "colab": {
          "base_uri": "https://localhost:8080/"
        },
        "id": "BJ16Y6-NkISJ",
        "outputId": "9d290d06-6b4b-40e5-f572-ce2c6ebcf6ee"
      },
      "source": [
        "file_path_2 = 'gs://data_lake_ingest_data/2_temp/temp_pandas_ocorrencias_normalizado.json'\n",
        "\n",
        "fs = gcsfs.GCSFileSystem(project='soulcode-projeto-final', token=serviceaccount)\n",
        "with fs.open(file_path_2):\n",
        "    data = pd.read_json(file_path_2, encoding='UTF-8')\n",
        "\n",
        "df_2 = spark.createDataFrame(data)\n",
        "df = df_2.createOrReplaceTempView('df_2')\n",
        "\n",
        "#df_2.printSchema()\n",
        "#df_2.dtypes\n",
        "\n",
        "df_2.show(5, truncate=False)\n"
      ],
      "execution_count": null,
      "outputs": [
        {
          "output_type": "stream",
          "name": "stdout",
          "text": [
            "+----+-------------------------------+----+-------+-----------+\n",
            "|UF  |TipoCrime                      |Ano |Mes    |Ocorrencias|\n",
            "+----+-------------------------------+----+-------+-----------+\n",
            "|Acre|Estupro                        |2021|janeiro|39         |\n",
            "|Acre|Furto de veículo               |2021|janeiro|55         |\n",
            "|Acre|Homicídio doloso               |2021|janeiro|14         |\n",
            "|Acre|Lesão corporal seguida de morte|2021|janeiro|0          |\n",
            "|Acre|Roubo a instituição financeira |2021|janeiro|0          |\n",
            "+----+-------------------------------+----+-------+-----------+\n",
            "only showing top 5 rows\n",
            "\n"
          ]
        }
      ]
    },
    {
      "cell_type": "markdown",
      "metadata": {
        "id": "iQyrY-e3vD8_"
      },
      "source": [
        "df_3 - Tipo de Ocorrencias com sexo e numero de vitimas Brasil 2021 (dados até junho)"
      ]
    },
    {
      "cell_type": "code",
      "metadata": {
        "colab": {
          "base_uri": "https://localhost:8080/"
        },
        "id": "vpPWpQsDkTkI",
        "outputId": "b24baba5-eae7-4344-a242-01aebea2a6f7"
      },
      "source": [
        "file_path_3 = 'gs://data_lake_ingest_data/2_temp/temp_pandas_vitimas_normalizado.json'\n",
        "\n",
        "fs = gcsfs.GCSFileSystem(project='soulcode-projeto-final', token=serviceaccount)\n",
        "with fs.open(file_path_3):\n",
        "    data = pd.read_json(file_path_3, encoding='UTF-8')\n",
        "\n",
        "df_3 = spark.createDataFrame(data)\n",
        "df = df_3.createOrReplaceTempView('df_3')\n",
        "\n",
        "#df_3.printSchema()\n",
        "#df_3.dtypes\n",
        "\n",
        "df_3.show(20, truncate=False)\n"
      ],
      "execution_count": null,
      "outputs": [
        {
          "output_type": "stream",
          "name": "stdout",
          "text": [
            "+----+-------------------------------+----+---------+----------+-------+\n",
            "|UF  |TipoCrime                      |Ano |Mes      |SexoVitima|Vitimas|\n",
            "+----+-------------------------------+----+---------+----------+-------+\n",
            "|Acre|Homicídio doloso               |2021|janeiro  |Feminino  |1      |\n",
            "|Acre|Homicídio doloso               |2021|janeiro  |Masculino |13     |\n",
            "|Acre|Homicídio doloso               |2021|janeiro  |Sexo NI   |0      |\n",
            "|Acre|Homicídio doloso               |2021|fevereiro|Feminino  |4      |\n",
            "|Acre|Homicídio doloso               |2021|fevereiro|Masculino |12     |\n",
            "|Acre|Homicídio doloso               |2021|fevereiro|Sexo NI   |0      |\n",
            "|Acre|Homicídio doloso               |2021|março    |Feminino  |2      |\n",
            "|Acre|Homicídio doloso               |2021|março    |Masculino |24     |\n",
            "|Acre|Homicídio doloso               |2021|março    |Sexo NI   |0      |\n",
            "|Acre|Homicídio doloso               |2021|abril    |Feminino  |2      |\n",
            "|Acre|Homicídio doloso               |2021|abril    |Masculino |16     |\n",
            "|Acre|Homicídio doloso               |2021|abril    |Sexo NI   |0      |\n",
            "|Acre|Homicídio doloso               |2021|maio     |Feminino  |2      |\n",
            "|Acre|Homicídio doloso               |2021|maio     |Masculino |16     |\n",
            "|Acre|Homicídio doloso               |2021|maio     |Sexo NI   |0      |\n",
            "|Acre|Homicídio doloso               |2021|junho    |Feminino  |1      |\n",
            "|Acre|Homicídio doloso               |2021|junho    |Masculino |17     |\n",
            "|Acre|Homicídio doloso               |2021|junho    |Sexo NI   |0      |\n",
            "|Acre|Lesão corporal seguida de morte|2021|janeiro  |Feminino  |0      |\n",
            "|Acre|Lesão corporal seguida de morte|2021|janeiro  |Masculino |0      |\n",
            "+----+-------------------------------+----+---------+----------+-------+\n",
            "only showing top 20 rows\n",
            "\n"
          ]
        }
      ]
    },
    {
      "cell_type": "code",
      "metadata": {
        "colab": {
          "base_uri": "https://localhost:8080/"
        },
        "id": "ExksM52Hkc89",
        "outputId": "2ec82b8c-6e53-4332-cf97-29be18834fcb"
      },
      "source": [
        "file_path_4 = 'gs://data_lake_ingest_data/2_temp/temp_pandas_ocorrencias_normalizado.json'\n",
        "\n",
        "fs = gcsfs.GCSFileSystem(project='soulcode-projeto-final', token=serviceaccount)\n",
        "with fs.open(file_path_4):\n",
        "    data = pd.read_json(file_path_4, encoding='UTF-8')\n",
        "\n",
        "df_4 = spark.createDataFrame(data)\n",
        "df = df_4.createOrReplaceTempView('df_4')\n",
        "\n",
        "#df_4.printSchema()\n",
        "#df_4.dtypes\n",
        "\n",
        "df_4.show(5, truncate=False)\n"
      ],
      "execution_count": null,
      "outputs": [
        {
          "output_type": "stream",
          "name": "stdout",
          "text": [
            "+----+-------------------------------+----+-------+-----------+\n",
            "|UF  |TipoCrime                      |Ano |Mes    |Ocorrencias|\n",
            "+----+-------------------------------+----+-------+-----------+\n",
            "|Acre|Estupro                        |2021|janeiro|39         |\n",
            "|Acre|Furto de veículo               |2021|janeiro|55         |\n",
            "|Acre|Homicídio doloso               |2021|janeiro|14         |\n",
            "|Acre|Lesão corporal seguida de morte|2021|janeiro|0          |\n",
            "|Acre|Roubo a instituição financeira |2021|janeiro|0          |\n",
            "+----+-------------------------------+----+-------+-----------+\n",
            "only showing top 5 rows\n",
            "\n"
          ]
        }
      ]
    },
    {
      "cell_type": "markdown",
      "metadata": {
        "id": "jI4To6Dfym-B"
      },
      "source": [
        "df_5 - Ocorrencias vitimas por estado e tipo de ocorrencia"
      ]
    },
    {
      "cell_type": "code",
      "metadata": {
        "colab": {
          "base_uri": "https://localhost:8080/"
        },
        "id": "T3Sp74jykkYS",
        "outputId": "c456ea25-bcde-49fb-f45f-dd050999c03b"
      },
      "source": [
        "#ARQUIVO 5\n",
        "file_path_5 = 'gs://data_lake_ingest_data/2_temp/temp_pandas_ocorrencia_vitimas_porAnoEstado.csv'\n",
        "\n",
        "fs = gcsfs.GCSFileSystem(project='soulcode-projeto-final', token=serviceaccount)\n",
        "with fs.open(file_path_5):\n",
        "    data = pd.read_csv(file_path_5, sep=',', encoding='UTF-8')\n",
        "\n",
        "df_5 = spark.createDataFrame(data)\n",
        "df = df_5.createOrReplaceTempView('df_5')\n",
        "\n",
        "#df_5.printSchema()\n",
        "#df_5.dtypes\n",
        "\n",
        "df_5.show(5, truncate=False)\n"
      ],
      "execution_count": null,
      "outputs": [
        {
          "output_type": "stream",
          "name": "stdout",
          "text": [
            "+----+----+-----------------------------------+-----------+-------+\n",
            "|UF  |Ano |TipoCrime                          |Ocorrencias|Vitimas|\n",
            "+----+----+-----------------------------------+-----------+-------+\n",
            "|Acre|2016|Homicídio doloso                   |425        |354    |\n",
            "|Acre|2017|Homicídio doloso                   |221        |232    |\n",
            "|Acre|2017|Lesão corporal seguida de morte    |0          |3      |\n",
            "|Acre|2017|Roubo seguido de morte (latrocínio)|10         |15     |\n",
            "|Acre|2018|Homicídio doloso                   |396        |394    |\n",
            "+----+----+-----------------------------------+-----------+-------+\n",
            "only showing top 5 rows\n",
            "\n"
          ]
        }
      ]
    },
    {
      "cell_type": "markdown",
      "metadata": {
        "id": "Vts2IeWSzAQ4"
      },
      "source": [
        "df-6 - Frequencia escolar Brasil anos de 2016 a 2019 por faixa de idade"
      ]
    },
    {
      "cell_type": "code",
      "metadata": {
        "colab": {
          "base_uri": "https://localhost:8080/"
        },
        "id": "Y-wI7X8nkqW_",
        "outputId": "4966faec-7371-4718-8d6d-24ad27455562"
      },
      "source": [
        "file_path_6 = 'gs://data_lake_ingest_data/2_temp/temp_pyspark_tabela_frequencia_escolar_normalizado.csv'\n",
        "\n",
        "fs = gcsfs.GCSFileSystem(project='soulcode-projeto-final', token=serviceaccount)\n",
        "with fs.open(file_path_6):\n",
        "    data = pd.read_csv(file_path_6, header=0)\n",
        "\n",
        "df_6 = spark.createDataFrame(data)\n",
        "df = df_6.createOrReplaceTempView('df_6')\n",
        "\n",
        "#df_6.printSchema()\n",
        "#df_6.dtypes\n",
        "\n",
        "df_6.show(5, truncate=False)\n"
      ],
      "execution_count": null,
      "outputs": [
        {
          "output_type": "stream",
          "name": "stdout",
          "text": [
            "+----------+--------+-----------------------+-----------------------+--------------------------+\n",
            "|Unnamed: 0|UF      |Media_Freq_15_a_17_anos|Media_Freq_18_a_24_anos|Media_Freq_25_anos_ou_mais|\n",
            "+----------+--------+-----------------------+-----------------------+--------------------------+\n",
            "|0         |Acre    |86 %                   |39 %                   |9 %                       |\n",
            "|1         |Alagoas |85 %                   |35 %                   |4 %                       |\n",
            "|2         |Amapá   |88 %                   |42 %                   |7 %                       |\n",
            "|3         |Amazonas|90 %                   |39 %                   |7 %                       |\n",
            "|4         |Bahia   |90 %                   |43 %                   |7 %                       |\n",
            "+----------+--------+-----------------------+-----------------------+--------------------------+\n",
            "only showing top 5 rows\n",
            "\n"
          ]
        }
      ]
    },
    {
      "cell_type": "markdown",
      "metadata": {
        "id": "UyEEbUv7cQn6"
      },
      "source": [
        "df_7 Tabela de taxa de analfabetismo anos de 2016 a 2019\n"
      ]
    },
    {
      "cell_type": "code",
      "metadata": {
        "colab": {
          "base_uri": "https://localhost:8080/"
        },
        "id": "iewORYUhbvlU",
        "outputId": "e788b869-ac1e-468e-a2d4-17d425a391c2"
      },
      "source": [
        "file_path_6 = 'gs://data_lake_ingest_data/2_temp/temp_pandas_taxa_analfabetismo_normalizado.csv'\n",
        "\n",
        "fs = gcsfs.GCSFileSystem(project='soulcode-projeto-final', token=serviceaccount)\n",
        "with fs.open(file_path_6):\n",
        "    data = pd.read_csv(file_path_6, header=0)\n",
        "\n",
        "df_7 = spark.createDataFrame(data)\n",
        "df = df_7.createOrReplaceTempView('df_7')\n",
        "\n",
        "#df_7.printSchema()\n",
        "#df_7.dtypes\n",
        "\n",
        "df_7.show(5, truncate=False)"
      ],
      "execution_count": null,
      "outputs": [
        {
          "output_type": "stream",
          "name": "stdout",
          "text": [
            "+----------+--------+---------------+---------------------+---------------------+---------------------+---------------------+\n",
            "|Unnamed: 0|UF      |Grupo_idade    |TaxaAnalfabetismo2016|TaxaAnalfabetismo2017|TaxaAnalfabetismo2018|TaxaAnalfabetismo2019|\n",
            "+----------+--------+---------------+---------------------+---------------------+---------------------+---------------------+\n",
            "|0         |Rondônia|15 anos ou mais|6.6                  |7.2                  |6.5                  |6.4                  |\n",
            "|1         |Acre    |15 anos ou mais|13.1                 |12.1                 |12.1                 |11.7                 |\n",
            "|2         |Amazonas|15 anos ou mais|6.9                  |6.1                  |5.8                  |5.4                  |\n",
            "|3         |Roraima |15 anos ou mais|6.6                  |6.0                  |6.0                  |5.0                  |\n",
            "|4         |Pará    |15 anos ou mais|9.2                  |8.6                  |8.8                  |8.4                  |\n",
            "+----------+--------+---------------+---------------------+---------------------+---------------------+---------------------+\n",
            "only showing top 5 rows\n",
            "\n"
          ]
        }
      ]
    },
    {
      "cell_type": "markdown",
      "metadata": {
        "id": "OlxgusTt7wh7"
      },
      "source": [
        "##Realizando algumas analises no SparkSQL"
      ]
    },
    {
      "cell_type": "markdown",
      "metadata": {
        "id": "axlQ6L4f6kWu"
      },
      "source": [
        "Total de ocorrencias criminais por Estado (nos anos de 2016 a 2021) Está correto 2021??? De quando foi essa analise?"
      ]
    },
    {
      "cell_type": "code",
      "metadata": {
        "id": "7rxo5m-qR4bj",
        "colab": {
          "base_uri": "https://localhost:8080/"
        },
        "outputId": "184ac682-ba81-43be-c818-e66c65e61277"
      },
      "source": [
        "spark.sql(\n",
        "'''\n",
        "SELECT UF, SUM(Ocorrencias) AS Total_Ocorrencias_por_estado\n",
        "FROM df_5\n",
        "GROUP BY UF\n",
        "ORDER BY UF ASC\n",
        "'''\n",
        ").show()\n"
      ],
      "execution_count": null,
      "outputs": [
        {
          "output_type": "stream",
          "name": "stdout",
          "text": [
            "+-------------------+----------------------------+\n",
            "|                 UF|Total_Ocorrencias_por_estado|\n",
            "+-------------------+----------------------------+\n",
            "|               Acre|                        1776|\n",
            "|            Alagoas|                        7642|\n",
            "|              Amapá|                        1599|\n",
            "|           Amazonas|                        6098|\n",
            "|              Bahia|                       31016|\n",
            "|              Ceará|                       19895|\n",
            "|   Distrito Federal|                        2547|\n",
            "|     Espírito Santo|                        6549|\n",
            "|              Goiás|                       11116|\n",
            "|           Maranhão|                       10276|\n",
            "|        Mato Grosso|                        5299|\n",
            "| Mato Grosso do Sul|                        2762|\n",
            "|       Minas Gerais|                       17835|\n",
            "|             Paraná|                       10102|\n",
            "|            Paraíba|                        6411|\n",
            "|               Pará|                       17664|\n",
            "|         Pernambuco|                       21823|\n",
            "|              Piauí|                        3622|\n",
            "|Rio Grande do Norte|                        9203|\n",
            "|  Rio Grande do Sul|                       12397|\n",
            "+-------------------+----------------------------+\n",
            "only showing top 20 rows\n",
            "\n"
          ]
        }
      ]
    },
    {
      "cell_type": "markdown",
      "metadata": {
        "id": "t1ZWzcfo3TXP"
      },
      "source": [
        "Quantidade de vitimas do sexo feminino por tipo de crime"
      ]
    },
    {
      "cell_type": "code",
      "metadata": {
        "colab": {
          "base_uri": "https://localhost:8080/"
        },
        "id": "IfxY9irC3vaK",
        "outputId": "ed119b74-3dca-4876-d8e5-ddcbf160688a"
      },
      "source": [
        "spark.sql(\n",
        "  \n",
        "'''\n",
        "SELECT TipoCrime,\n",
        "COUNT (Vitimas) AS Feminino\n",
        "FROM df_3\n",
        "WHERE SexoVitima = 'Feminino'\n",
        "GROUP BY TipoCrime\n",
        "'''\n",
        "\n",
        ").show()"
      ],
      "execution_count": null,
      "outputs": [
        {
          "output_type": "stream",
          "name": "stdout",
          "text": [
            "+--------------------+--------+\n",
            "|           TipoCrime|Feminino|\n",
            "+--------------------+--------+\n",
            "|Roubo seguido de ...|    1380|\n",
            "|    Homicídio doloso|    1715|\n",
            "|Lesão corporal se...|    1300|\n",
            "+--------------------+--------+\n",
            "\n"
          ]
        }
      ]
    },
    {
      "cell_type": "markdown",
      "metadata": {
        "id": "DJ-SelFiW8md"
      },
      "source": [
        "Quantidade de vitimas do sexo maculino por tipo de crime"
      ]
    },
    {
      "cell_type": "code",
      "metadata": {
        "id": "E8wX0QR8W-78",
        "colab": {
          "base_uri": "https://localhost:8080/"
        },
        "outputId": "88c7bdc6-8f06-426d-d701-c1a5e5ad94a5"
      },
      "source": [
        "spark.sql(\n",
        "  \n",
        "'''\n",
        "SELECT TipoCrime, \n",
        "COUNT (Vitimas) AS Masculino\n",
        "FROM df_3\n",
        "WHERE SexoVitima = 'Masculino'\n",
        "GROUP BY TipoCrime\n",
        "'''\n",
        "\n",
        ").show()"
      ],
      "execution_count": null,
      "outputs": [
        {
          "output_type": "stream",
          "name": "stdout",
          "text": [
            "+--------------------+---------+\n",
            "|           TipoCrime|Masculino|\n",
            "+--------------------+---------+\n",
            "|Roubo seguido de ...|     1640|\n",
            "|    Homicídio doloso|     1746|\n",
            "|Lesão corporal se...|     1513|\n",
            "+--------------------+---------+\n",
            "\n"
          ]
        }
      ]
    },
    {
      "cell_type": "markdown",
      "metadata": {
        "id": "B3YIsDrxJU4q"
      },
      "source": [
        "Somando a quantidade de vitimas por sexo e tipo de crime\n"
      ]
    },
    {
      "cell_type": "code",
      "metadata": {
        "colab": {
          "base_uri": "https://localhost:8080/"
        },
        "id": "V70fmKlmZ6yj",
        "outputId": "406dab92-853b-4c87-b8f3-dee92038aa29"
      },
      "source": [
        "spark.sql(\n",
        "  \n",
        "'''\n",
        "SELECT TipoCrime, SexoVitima, SUM(Vitimas) AS SomaVitimas\n",
        "FROM df_3\n",
        "GROUP BY TipoCrime,SexoVitima\n",
        "ORDER BY TipoCrime\n",
        "'''\n",
        "\n",
        ").show(10)"
      ],
      "execution_count": null,
      "outputs": [
        {
          "output_type": "stream",
          "name": "stdout",
          "text": [
            "+--------------------+----------+-----------+\n",
            "|           TipoCrime|SexoVitima|SomaVitimas|\n",
            "+--------------------+----------+-----------+\n",
            "|    Homicídio doloso| Masculino|     228612|\n",
            "|    Homicídio doloso|   Sexo NI|       8624|\n",
            "|    Homicídio doloso|  Feminino|      20834|\n",
            "|Lesão corporal se...|   Sexo NI|        305|\n",
            "|Lesão corporal se...|  Feminino|        527|\n",
            "|Lesão corporal se...| Masculino|       3663|\n",
            "|Roubo seguido de ...| Masculino|       8786|\n",
            "|Roubo seguido de ...|   Sexo NI|        457|\n",
            "|Roubo seguido de ...|  Feminino|       1056|\n",
            "+--------------------+----------+-----------+\n",
            "\n"
          ]
        }
      ]
    },
    {
      "cell_type": "markdown",
      "metadata": {
        "id": "yP8hvnOXJEA_"
      },
      "source": [
        "\n",
        "\n",
        "Comparando a quantidade de ocorrencias com taxa de analfabetismo\n",
        "\n",
        "\n"
      ]
    },
    {
      "cell_type": "code",
      "metadata": {
        "id": "FogfxZWikL-l",
        "colab": {
          "base_uri": "https://localhost:8080/"
        },
        "outputId": "eaf85814-9a3d-4a6e-d952-12952a15acd7"
      },
      "source": [
        "spark.sql(\n",
        "'''\n",
        "SELECT  df_5.UF AS Estado, \n",
        "        df_5.TipoCrime AS TipoCrime, \n",
        "        df_5.Ocorrencias AS Ocorrencias, \n",
        "        df_7.TaxaAnalfabetismo2019 AS Anafalbetismo\n",
        "FROM df_5 \n",
        "INNER JOIN df_7 \n",
        "ON (df_5.UF = df_7.UF)\n",
        "WHERE df_5.Ano = 2019\n",
        "'''\n",
        ").show()"
      ],
      "execution_count": null,
      "outputs": [
        {
          "output_type": "stream",
          "name": "stdout",
          "text": [
            "+----------------+--------------------+-----------+-------------+\n",
            "|          Estado|           TipoCrime|Ocorrencias|Anafalbetismo|\n",
            "+----------------+--------------------+-----------+-------------+\n",
            "|            Acre|    Homicídio doloso|        292|         11.7|\n",
            "|            Acre|Lesão corporal se...|          2|         11.7|\n",
            "|            Acre|Roubo seguido de ...|         14|         11.7|\n",
            "|         Alagoas|    Homicídio doloso|       1028|         17.1|\n",
            "|         Alagoas|Lesão corporal se...|          6|         17.1|\n",
            "|         Alagoas|Roubo seguido de ...|         17|         17.1|\n",
            "|           Amapá|    Homicídio doloso|        232|          5.5|\n",
            "|           Amapá|Lesão corporal se...|         23|          5.5|\n",
            "|           Amapá|Roubo seguido de ...|         15|          5.5|\n",
            "|        Amazonas|    Homicídio doloso|        984|          5.4|\n",
            "|        Amazonas|Lesão corporal se...|         23|          5.4|\n",
            "|        Amazonas|Roubo seguido de ...|         46|          5.4|\n",
            "|           Bahia|    Homicídio doloso|       4751|         12.9|\n",
            "|           Bahia|Lesão corporal se...|         74|         12.9|\n",
            "|           Bahia|Roubo seguido de ...|        139|         12.9|\n",
            "|           Ceará|    Homicídio doloso|       2087|         13.6|\n",
            "|           Ceará|Lesão corporal se...|         30|         13.6|\n",
            "|           Ceará|Roubo seguido de ...|         36|         13.6|\n",
            "|Distrito Federal|    Homicídio doloso|        372|          2.7|\n",
            "|Distrito Federal|Lesão corporal se...|          4|          2.7|\n",
            "+----------------+--------------------+-----------+-------------+\n",
            "only showing top 20 rows\n",
            "\n"
          ]
        }
      ]
    },
    {
      "cell_type": "markdown",
      "metadata": {
        "id": "awarcaKnMtOt"
      },
      "source": [
        "Comparando a quantidade de ocorrencias de 2019 com frequencia escolar com idade acima de 20 anos\n"
      ]
    },
    {
      "cell_type": "code",
      "metadata": {
        "id": "KW5B29lP18HV",
        "colab": {
          "base_uri": "https://localhost:8080/"
        },
        "outputId": "875186fe-3125-4ce9-d90a-68d5226c4311"
      },
      "source": [
        "spark.sql(\n",
        "'''\n",
        "SELECT  df_5.UF AS Estado, \n",
        "        df_5.TipoCrime AS TipoCrime, \n",
        "        df_5.Ocorrencias AS Ocorrencias, \n",
        "        df_6.Media_Freq_25_anos_ou_mais AS Freq_2016a2019\n",
        "FROM df_5 \n",
        "INNER JOIN df_6 \n",
        "ON (df_5.UF = df_6.UF)\n",
        "WHERE df_5.Ano = 2019\n",
        "'''\n",
        ").show()"
      ],
      "execution_count": null,
      "outputs": [
        {
          "output_type": "stream",
          "name": "stdout",
          "text": [
            "+----------------+--------------------+-----------+--------------+\n",
            "|          Estado|           TipoCrime|Ocorrencias|Freq_2016a2019|\n",
            "+----------------+--------------------+-----------+--------------+\n",
            "|            Acre|    Homicídio doloso|        292|           9 %|\n",
            "|            Acre|Lesão corporal se...|          2|           9 %|\n",
            "|            Acre|Roubo seguido de ...|         14|           9 %|\n",
            "|         Alagoas|    Homicídio doloso|       1028|           4 %|\n",
            "|         Alagoas|Lesão corporal se...|          6|           4 %|\n",
            "|         Alagoas|Roubo seguido de ...|         17|           4 %|\n",
            "|           Amapá|    Homicídio doloso|        232|           7 %|\n",
            "|           Amapá|Lesão corporal se...|         23|           7 %|\n",
            "|           Amapá|Roubo seguido de ...|         15|           7 %|\n",
            "|        Amazonas|    Homicídio doloso|        984|           7 %|\n",
            "|        Amazonas|Lesão corporal se...|         23|           7 %|\n",
            "|        Amazonas|Roubo seguido de ...|         46|           7 %|\n",
            "|           Bahia|    Homicídio doloso|       4751|           7 %|\n",
            "|           Bahia|Lesão corporal se...|         74|           7 %|\n",
            "|           Bahia|Roubo seguido de ...|        139|           7 %|\n",
            "|           Ceará|    Homicídio doloso|       2087|           5 %|\n",
            "|           Ceará|Lesão corporal se...|         30|           5 %|\n",
            "|           Ceará|Roubo seguido de ...|         36|           5 %|\n",
            "|Distrito Federal|    Homicídio doloso|        372|           6 %|\n",
            "|Distrito Federal|Lesão corporal se...|          4|           6 %|\n",
            "+----------------+--------------------+-----------+--------------+\n",
            "only showing top 20 rows\n",
            "\n"
          ]
        }
      ]
    },
    {
      "cell_type": "markdown",
      "metadata": {
        "id": "j30nNWArONib"
      },
      "source": [
        "Comparando o numero de ocorrencias com valor investido para segurança publica no ano de 2019"
      ]
    },
    {
      "cell_type": "code",
      "metadata": {
        "colab": {
          "base_uri": "https://localhost:8080/"
        },
        "id": "AfsXSuvAOS8e",
        "outputId": "09ed1718-6b0a-4f6a-9fdb-c7af423f6bbe"
      },
      "source": [
        "spark.sql(\n",
        "'''\n",
        "SELECT  df_5.UF AS Estado, \n",
        "        df_5.TipoCrime AS TipoCrime, \n",
        "        df_5.Ocorrencias AS Ocorrencias, \n",
        "        df_1.Despesas2019 AS Investimento\n",
        "FROM df_1 \n",
        "INNER JOIN df_5 \n",
        "ON (df_5.UF = df_1.UF)\n",
        "WHERE df_5.Ano = 2019\n",
        "'''\n",
        ").show(10)"
      ],
      "execution_count": null,
      "outputs": [
        {
          "output_type": "stream",
          "name": "stdout",
          "text": [
            "+--------+--------------------+-----------+------------------+\n",
            "|  Estado|           TipoCrime|Ocorrencias|      Investimento|\n",
            "+--------+--------------------+-----------+------------------+\n",
            "|    Acre|    Homicídio doloso|        292|            692.57|\n",
            "|    Acre|Lesão corporal se...|          2|            692.57|\n",
            "|    Acre|Roubo seguido de ...|         14|            692.57|\n",
            "| Alagoas|    Homicídio doloso|       1028|1159.1589999999999|\n",
            "| Alagoas|Lesão corporal se...|          6|1159.1589999999999|\n",
            "| Alagoas|Roubo seguido de ...|         17|1159.1589999999999|\n",
            "|   Amapá|    Homicídio doloso|        232|           606.366|\n",
            "|   Amapá|Lesão corporal se...|         23|           606.366|\n",
            "|   Amapá|Roubo seguido de ...|         15|           606.366|\n",
            "|Amazonas|    Homicídio doloso|        984|           2108.46|\n",
            "+--------+--------------------+-----------+------------------+\n",
            "only showing top 10 rows\n",
            "\n"
          ]
        }
      ]
    },
    {
      "cell_type": "markdown",
      "metadata": {
        "id": "zKeXLGwAdyXM"
      },
      "source": [
        "Ranking a taxa de anafalbetismo por estado"
      ]
    },
    {
      "cell_type": "code",
      "metadata": {
        "colab": {
          "base_uri": "https://localhost:8080/"
        },
        "id": "8K6PQ065TK8Q",
        "outputId": "8de609ea-9ac0-4e07-8800-b4d1601bf1ed"
      },
      "source": [
        "spark.sql(\n",
        "'''\n",
        "SELECT UF, TaxaAnalfabetismo2019,\n",
        "RANK() OVER (ORDER BY TaxaAnalfabetismo2019 DESC) AS Rank\n",
        "FROM df_7\n",
        "'''\n",
        ").show(27)\n"
      ],
      "execution_count": null,
      "outputs": [
        {
          "output_type": "stream",
          "name": "stdout",
          "text": [
            "+-------------------+---------------------+----+\n",
            "|                 UF|TaxaAnalfabetismo2019|Rank|\n",
            "+-------------------+---------------------+----+\n",
            "|            Alagoas|                 17.1|   1|\n",
            "|            Paraíba|                 16.1|   2|\n",
            "|              Piauí|                 16.0|   3|\n",
            "|           Maranhão|                 15.6|   4|\n",
            "|              Ceará|                 13.6|   5|\n",
            "|            Sergipe|                 13.5|   6|\n",
            "|Rio Grande do Norte|                 13.4|   7|\n",
            "|              Bahia|                 12.9|   8|\n",
            "|         Pernambuco|                 11.9|   9|\n",
            "|               Acre|                 11.7|  10|\n",
            "|          Tocantins|                  9.7|  11|\n",
            "|               Pará|                  8.4|  12|\n",
            "|           Rondônia|                  6.4|  13|\n",
            "|        Mato Grosso|                  6.2|  14|\n",
            "|              Amapá|                  5.5|  15|\n",
            "|       Minas Gerais|                  5.5|  15|\n",
            "|           Amazonas|                  5.4|  17|\n",
            "|     Espírito Santo|                  5.3|  18|\n",
            "| Mato Grosso do Sul|                  5.1|  19|\n",
            "|              Goiás|                  5.1|  19|\n",
            "|            Roraima|                  5.0|  21|\n",
            "|             Paraná|                  4.6|  22|\n",
            "|   Distrito Federal|                  2.7|  23|\n",
            "|          São Paulo|                  2.6|  24|\n",
            "|  Rio Grande do Sul|                  2.6|  24|\n",
            "|     Santa Catarina|                  2.3|  26|\n",
            "|     Rio de Janeiro|                  2.1|  27|\n",
            "+-------------------+---------------------+----+\n",
            "\n"
          ]
        }
      ]
    }
  ]
}