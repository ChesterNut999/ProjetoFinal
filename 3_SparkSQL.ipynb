{
  "nbformat": 4,
  "nbformat_minor": 0,
  "metadata": {
    "colab": {
      "name": "3 - SparkSQL",
      "provenance": [],
      "collapsed_sections": [],
      "include_colab_link": true
    },
    "kernelspec": {
      "name": "python3",
      "display_name": "Python 3"
    },
    "language_info": {
      "name": "python"
    }
  },
  "cells": [
    {
      "cell_type": "markdown",
      "metadata": {
        "id": "view-in-github",
        "colab_type": "text"
      },
      "source": [
        "<a href=\"https://colab.research.google.com/github/MarianaDuartee/ProjetoFinal/blob/main/3_SparkSQL.ipynb\" target=\"_parent\"><img src=\"https://colab.research.google.com/assets/colab-badge.svg\" alt=\"Open In Colab\"/></a>"
      ]
    },
    {
      "cell_type": "markdown",
      "metadata": {
        "id": "sLNQ6L-pipfz"
      },
      "source": [
        "##Instalando  dependencias"
      ]
    },
    {
      "cell_type": "code",
      "metadata": {
        "id": "HEe7035PZshu"
      },
      "source": [
        "!pip install pyspark\n",
        "!pip install gcsfs\n",
        "!pip install pandas\n"
      ],
      "execution_count": null,
      "outputs": []
    },
    {
      "cell_type": "markdown",
      "metadata": {
        "id": "gVf0cgZmq1Fh"
      },
      "source": [
        "##Importando dataframes, bibliotecas e abrindo Sparksession"
      ]
    },
    {
      "cell_type": "code",
      "metadata": {
        "id": "X16h-urOnkKs"
      },
      "source": [
        "from pyspark.sql import SparkSession\n",
        "from pyspark import SQLContext\n",
        "from google.cloud import storage\n",
        "from pyspark.sql.types import *\n",
        "from pyspark.sql.types import DateType\n",
        "\n",
        "import pyspark\n",
        "import pyspark.sql.functions as F\n",
        "import os\n",
        "import gcsfs\n",
        "import pandas as pd"
      ],
      "execution_count": 40,
      "outputs": []
    },
    {
      "cell_type": "markdown",
      "metadata": {
        "id": "A1_gZQqNnv_x"
      },
      "source": [
        "##Criando uma conexão Spark e configurando chave de serviço\n",
        "\n"
      ]
    },
    {
      "cell_type": "code",
      "metadata": {
        "id": "CqwU082-i67b"
      },
      "source": [
        "spark = SparkSession.builder\\\n",
        ".master('local')\\\n",
        ".appName('Projeto_Final')\\\n",
        ".config('spark.ui.enable', 'true')\\\n",
        ".config('spark.ui.port', '4050')\\\n",
        ".getOrCreate()\n",
        "\n",
        "spark\n",
        "\n",
        "serviceaccount = '/content/soulcode-projeto-final-4b88bea6e07a.json'\n",
        "os.environ[\"GOOGLE_APPLICATION_CREDENTIALS\"] = serviceaccount"
      ],
      "execution_count": 2,
      "outputs": []
    },
    {
      "cell_type": "markdown",
      "metadata": {
        "id": "-Kz2TqlxoZNL"
      },
      "source": [
        "## **EXTRAINDO INFORMAÇÕES E ANALISANDO DATAFRAMES**"
      ]
    },
    {
      "cell_type": "markdown",
      "metadata": {
        "id": "BZCGZwUaCnmU"
      },
      "source": [
        "Separar as planilhas e alterar o arquivo da planilha 6. Acrescentar planilha 7"
      ]
    },
    {
      "cell_type": "markdown",
      "metadata": {
        "id": "U_ZR2T5Rk3ey"
      },
      "source": [
        "df_ 1 - Planilha de despesas com segurança publica"
      ]
    },
    {
      "cell_type": "code",
      "metadata": {
        "id": "AwXrPDNdGjq7",
        "colab": {
          "base_uri": "https://localhost:8080/"
        },
        "outputId": "ca34e3cf-b6f3-46b4-fd33-8d76c2f5d0a1"
      },
      "source": [
        "file_path_1 = 'gs://data_lake_ingest_data/2_temp/temp_pandas_despesas_normalizado.csv'\n",
        "\n",
        "fs = gcsfs.GCSFileSystem(project='soulcode-projeto-final', token=serviceaccount)\n",
        "with fs.open(file_path_1):\n",
        "    data = pd.read_csv(file_path_1, sep=',', encoding='UTF-8', header=0)\n",
        "\n",
        "df_1 = spark.createDataFrame(data)\n",
        "df = df_1.createOrReplaceTempView('df_1')\n",
        "\n",
        "#df_1.printSchema()\n",
        "#df_1.dtypes\n",
        "\n",
        "df_1.show(5, truncate=False)\n"
      ],
      "execution_count": 9,
      "outputs": [
        {
          "output_type": "stream",
          "name": "stdout",
          "text": [
            "+--------+------------------+------------+------------------+------------+------------------+---------+------------------+\n",
            "|UF      |Despesas2016      |Despesas2017|Despesas2018      |Despesas2019|Despesas2020      |Variacao%|Previsao2021|Media|\n",
            "+--------+------------------+------------+------------------+------------+------------------+---------+------------------+\n",
            "|Acre    |498.535           |568.361     |627.351           |692.57      |493.75300000000004|8.5      |576.114           |\n",
            "|Amapá   |475.32300000000004|500.227     |489.228           |606.366     |752.252           |52.3     |564.6792          |\n",
            "|Amazonas|1604.7320000000002|1578.957    |1862.6689999999999|2108.46     |2101.447          |60.4     |1851.253          |\n",
            "|Pará    |2551.741          |2579.916    |2903.2            |2943.448    |2966.553          |58.0     |2788.9716         |\n",
            "|Rondônia|874.8739999999999 |895.868     |903.2539999999999 |853.971     |999.044           |-14.7    |905.4022          |\n",
            "+--------+------------------+------------+------------------+------------+------------------+---------+------------------+\n",
            "only showing top 5 rows\n",
            "\n"
          ]
        }
      ]
    },
    {
      "cell_type": "markdown",
      "metadata": {
        "id": "n9AuqMyjoZO6"
      },
      "source": [
        "df_2 - Numero de ocorrencias "
      ]
    },
    {
      "cell_type": "code",
      "metadata": {
        "colab": {
          "base_uri": "https://localhost:8080/"
        },
        "id": "BJ16Y6-NkISJ",
        "outputId": "3c7196d3-b8a7-4db5-b2e1-de3ded4cc0bc"
      },
      "source": [
        "file_path_2 = 'gs://data_lake_ingest_data/2_temp/temp_pandas_ocorrencias_normalizado.json'\n",
        "\n",
        "fs = gcsfs.GCSFileSystem(project='soulcode-projeto-final', token=serviceaccount)\n",
        "with fs.open(file_path_2):\n",
        "    data = pd.read_json(file_path_2, encoding='UTF-8')\n",
        "\n",
        "df_2 = spark.createDataFrame(data)\n",
        "df = df_2.createOrReplaceTempView('df_2')\n",
        "\n",
        "#df_2.printSchema()\n",
        "#df_2.dtypes\n",
        "\n",
        "df_2.show(5, truncate=False)\n"
      ],
      "execution_count": 10,
      "outputs": [
        {
          "output_type": "stream",
          "name": "stdout",
          "text": [
            "+----+-------------------------------+----+-------+-----------+\n",
            "|UF  |TipoCrime                      |Ano |Mes    |Ocorrencias|\n",
            "+----+-------------------------------+----+-------+-----------+\n",
            "|Acre|Estupro                        |2021|janeiro|39         |\n",
            "|Acre|Furto de veículo               |2021|janeiro|55         |\n",
            "|Acre|Homicídio doloso               |2021|janeiro|14         |\n",
            "|Acre|Lesão corporal seguida de morte|2021|janeiro|0          |\n",
            "|Acre|Roubo a instituição financeira |2021|janeiro|0          |\n",
            "+----+-------------------------------+----+-------+-----------+\n",
            "only showing top 5 rows\n",
            "\n"
          ]
        }
      ]
    },
    {
      "cell_type": "markdown",
      "metadata": {
        "id": "iQyrY-e3vD8_"
      },
      "source": [
        "df_3 - Tipo de Ocorrencias com sexo e numero de vitimas Brasil 2021"
      ]
    },
    {
      "cell_type": "code",
      "metadata": {
        "colab": {
          "base_uri": "https://localhost:8080/"
        },
        "id": "vpPWpQsDkTkI",
        "outputId": "a76d8d75-d81f-4bb5-c063-dda174e6a364"
      },
      "source": [
        "file_path_3 = 'gs://data_lake_ingest_data/2_temp/temp_pandas_vitimas_normalizado.json'\n",
        "\n",
        "fs = gcsfs.GCSFileSystem(project='soulcode-projeto-final', token=serviceaccount)\n",
        "with fs.open(file_path_3):\n",
        "    data = pd.read_json(file_path_3, encoding='UTF-8')\n",
        "\n",
        "df_3 = spark.createDataFrame(data)\n",
        "df = df_3.createOrReplaceTempView('df_3')\n",
        "\n",
        "#df_3.printSchema()\n",
        "#df_3.dtypes\n",
        "\n",
        "df_3.show(10, truncate=False)\n"
      ],
      "execution_count": 11,
      "outputs": [
        {
          "output_type": "stream",
          "name": "stdout",
          "text": [
            "+----+----------------+----+---------+----------+-------+\n",
            "|UF  |TipoCrime       |Ano |Mes      |SexoVitima|Vitimas|\n",
            "+----+----------------+----+---------+----------+-------+\n",
            "|Acre|Homicídio doloso|2021|janeiro  |Feminino  |1      |\n",
            "|Acre|Homicídio doloso|2021|janeiro  |Masculino |13     |\n",
            "|Acre|Homicídio doloso|2021|janeiro  |Sexo NI   |0      |\n",
            "|Acre|Homicídio doloso|2021|fevereiro|Feminino  |4      |\n",
            "|Acre|Homicídio doloso|2021|fevereiro|Masculino |12     |\n",
            "|Acre|Homicídio doloso|2021|fevereiro|Sexo NI   |0      |\n",
            "|Acre|Homicídio doloso|2021|março    |Feminino  |2      |\n",
            "|Acre|Homicídio doloso|2021|março    |Masculino |24     |\n",
            "|Acre|Homicídio doloso|2021|março    |Sexo NI   |0      |\n",
            "|Acre|Homicídio doloso|2021|abril    |Feminino  |2      |\n",
            "+----+----------------+----+---------+----------+-------+\n",
            "only showing top 10 rows\n",
            "\n"
          ]
        }
      ]
    },
    {
      "cell_type": "code",
      "metadata": {
        "colab": {
          "base_uri": "https://localhost:8080/"
        },
        "id": "ExksM52Hkc89",
        "outputId": "84385a54-ff93-4263-a87a-5dea1206056d"
      },
      "source": [
        "file_path_4 = 'gs://data_lake_ingest_data/2_temp/temp_pandas_ocorrencias_normalizado.json'\n",
        "\n",
        "fs = gcsfs.GCSFileSystem(project='soulcode-projeto-final', token=serviceaccount)\n",
        "with fs.open(file_path_4):\n",
        "    data = pd.read_json(file_path_4, encoding='UTF-8')\n",
        "\n",
        "df_4 = spark.createDataFrame(data)\n",
        "df = df_4.createOrReplaceTempView('df_4')\n",
        "\n",
        "#df_4.printSchema()\n",
        "#df_4.dtypes\n",
        "\n",
        "df_4.show(5, truncate=False)\n"
      ],
      "execution_count": 12,
      "outputs": [
        {
          "output_type": "stream",
          "name": "stdout",
          "text": [
            "+----+-------------------------------+----+-------+-----------+\n",
            "|UF  |TipoCrime                      |Ano |Mes    |Ocorrencias|\n",
            "+----+-------------------------------+----+-------+-----------+\n",
            "|Acre|Estupro                        |2021|janeiro|39         |\n",
            "|Acre|Furto de veículo               |2021|janeiro|55         |\n",
            "|Acre|Homicídio doloso               |2021|janeiro|14         |\n",
            "|Acre|Lesão corporal seguida de morte|2021|janeiro|0          |\n",
            "|Acre|Roubo a instituição financeira |2021|janeiro|0          |\n",
            "+----+-------------------------------+----+-------+-----------+\n",
            "only showing top 5 rows\n",
            "\n"
          ]
        }
      ]
    },
    {
      "cell_type": "markdown",
      "metadata": {
        "id": "jI4To6Dfym-B"
      },
      "source": [
        "df_5 - Ocorrencias vitimas por estado e tipo de ocorrencia"
      ]
    },
    {
      "cell_type": "code",
      "metadata": {
        "colab": {
          "base_uri": "https://localhost:8080/"
        },
        "id": "T3Sp74jykkYS",
        "outputId": "cfafb01f-14a0-4cdd-ad66-4108a7ccbfab"
      },
      "source": [
        "#ARQUIVO 5\n",
        "file_path_5 = 'gs://data_lake_ingest_data/2_temp/temp_pandas_ocorrencia_vitimas_porAnoEstado.csv'\n",
        "\n",
        "fs = gcsfs.GCSFileSystem(project='soulcode-projeto-final', token=serviceaccount)\n",
        "with fs.open(file_path_5):\n",
        "    data = pd.read_csv(file_path_5, sep=',', encoding='UTF-8')\n",
        "\n",
        "df_5 = spark.createDataFrame(data)\n",
        "df = df_5.createOrReplaceTempView('df_5')\n",
        "\n",
        "#df_5.printSchema()\n",
        "#df_5.dtypes\n",
        "\n",
        "df_5.show(5, truncate=False)\n"
      ],
      "execution_count": 13,
      "outputs": [
        {
          "output_type": "stream",
          "name": "stdout",
          "text": [
            "+----+----+-----------------------------------+-----------+-------+\n",
            "|UF  |Ano |TipoCrime                          |Ocorrencias|Vitimas|\n",
            "+----+----+-----------------------------------+-----------+-------+\n",
            "|Acre|2016|Homicídio doloso                   |425        |354    |\n",
            "|Acre|2017|Homicídio doloso                   |221        |232    |\n",
            "|Acre|2017|Lesão corporal seguida de morte    |0          |3      |\n",
            "|Acre|2017|Roubo seguido de morte (latrocínio)|10         |15     |\n",
            "|Acre|2018|Homicídio doloso                   |396        |394    |\n",
            "+----+----+-----------------------------------+-----------+-------+\n",
            "only showing top 5 rows\n",
            "\n"
          ]
        }
      ]
    },
    {
      "cell_type": "markdown",
      "metadata": {
        "id": "Vts2IeWSzAQ4"
      },
      "source": [
        "df-6 - Frequencia escolar Brasil anos de 2016 a 2019 por faixa de idade"
      ]
    },
    {
      "cell_type": "code",
      "metadata": {
        "colab": {
          "base_uri": "https://localhost:8080/"
        },
        "id": "Y-wI7X8nkqW_",
        "outputId": "8509bd1a-c557-4350-c052-fbe8cfb384ec"
      },
      "source": [
        "file_path_6 = 'gs://data_lake_ingest_data/1_input/Tabela_frequencia_escolar.xlsx'\n",
        "\n",
        "fs = gcsfs.GCSFileSystem(project='soulcode-projeto-final', token=serviceaccount)\n",
        "with fs.open(file_path_6):\n",
        "    data = pd.read_excel(file_path_6, header=0)\n",
        "\n",
        "df_6 = spark.createDataFrame(data)\n",
        "df = df_6.createOrReplaceTempView('df_6')\n",
        "\n",
        "#df_6.printSchema()\n",
        "#df_6.dtypes\n",
        "\n",
        "df_6.show(5, truncate=False)\n"
      ],
      "execution_count": 14,
      "outputs": [
        {
          "output_type": "stream",
          "name": "stdout",
          "text": [
            "+----------------------------------------------------------------+-------------------+-------------------+-------------------+-------------------+------------------+-------------------+-------------------+-------------------+-------------------+------------------+----------------------+----------------------+----------------------+----------------------+---------------------+\n",
            "|Grandes Regiões, Unidades da Federação e Municípios das Capitais|15 a 17 anos - 2019|15 a 17 anos - 2018|15 a 17 anos - 2017|15 a 17 anos - 2016|Media 15 a 17 anos|18 a 24 anos - 2019|18 a 24 anos - 2018|18 a 24 anos - 2017|18 a 24 anos - 2016|média 18 a 24 anos|25 anos ou mais - 2019|25 anos ou mais - 2018|25 anos ou mais - 2017|25 anos ou mais - 2016|média 25 anos ou mais|\n",
            "+----------------------------------------------------------------+-------------------+-------------------+-------------------+-------------------+------------------+-------------------+-------------------+-------------------+-------------------+------------------+----------------------+----------------------+----------------------+----------------------+---------------------+\n",
            "|Brasil                                                          |89.17198948374096  |88.2426144204458   |86.56451335197876  |87.5617260467917   |87.8852108257393  |32.41407932745226  |34.53417795470805  |33.360253247817255 |34.17581270855951  |33.62108080963427 |4.504817075471089     |5.675049480395514     |5.8222092845937174    |6.05481441288333      |5.514222563335913    |\n",
            "|Norte                                                           |88.74982729136596  |87.13363699314166  |86.18634784748102  |86.23343843334908  |87.07581264133444 |33.277336088584065 |30.55755225551167  |31.889367675874244 |31.40075605450034  |31.781253018617576|5.300311202284845     |4.738200441644607     |4.829205200490404     |6.316555051054046     |5.2960679738684755   |\n",
            "|Rondônia                                                        |88.5758890715434   |87.61083310627495  |88.09353317895633  |86.80829519027922  |87.77213763676347 |31.917363776805303 |36.46044648717471  |42.381697360736936 |39.412875441641646 |37.543095766589644|5.696628237780432     |6.806092080969176     |8.094231628524204     |10.102827665601428    |7.67494490321881     |\n",
            "|Porto Velho                                                     |88.95162805125744  |82.5532772565588   |84.18183233290323  |86.43959488451544  |85.53158313130872 |38.26167802729192  |33.024090303693306 |35.08011605454825  |39.44302117520716  |36.45222639018516 |7.482369141571613     |8.496009939035124     |7.956949796455643     |10.15315072431738     |8.52211990034494     |\n",
            "|Acre                                                            |84.98448999182288  |87.17335055657942  |86.65851673769289  |86.68539677641571  |86.37543851562772 |33.834860833327035 |38.86751169841704  |42.36043012159184  |42.89214761645621  |39.488737567448034|6.9339672958134075    |10.321757609195592    |9.98524514543419      |10.493120889846796    |9.433522735072497    |\n",
            "+----------------------------------------------------------------+-------------------+-------------------+-------------------+-------------------+------------------+-------------------+-------------------+-------------------+-------------------+------------------+----------------------+----------------------+----------------------+----------------------+---------------------+\n",
            "only showing top 5 rows\n",
            "\n"
          ]
        }
      ]
    },
    {
      "cell_type": "markdown",
      "metadata": {
        "id": "OlxgusTt7wh7"
      },
      "source": [
        "##Realizando algumas analises"
      ]
    },
    {
      "cell_type": "markdown",
      "metadata": {
        "id": "axlQ6L4f6kWu"
      },
      "source": [
        "Total de ocorrencias criminais por Estado (nos anos de 2016 a 2021) Está correto 2021??? De quando foi essa analise?"
      ]
    },
    {
      "cell_type": "code",
      "metadata": {
        "id": "7rxo5m-qR4bj",
        "colab": {
          "base_uri": "https://localhost:8080/"
        },
        "outputId": "fcedf8ec-4a4a-42b8-ba80-3e1aad74b511"
      },
      "source": [
        "spark.sql(\n",
        "'''\n",
        "SELECT UF, SUM(Ocorrencias) AS Total_Ocorrencias_por_estado\n",
        "FROM df_5\n",
        "GROUP BY UF\n",
        "ORDER BY UF ASC\n",
        "'''\n",
        ").show()\n"
      ],
      "execution_count": 15,
      "outputs": [
        {
          "output_type": "stream",
          "name": "stdout",
          "text": [
            "+-------------------+----------------------------+\n",
            "|                 UF|Total_Ocorrencias_por_estado|\n",
            "+-------------------+----------------------------+\n",
            "|               Acre|                        1776|\n",
            "|            Alagoas|                        7642|\n",
            "|              Amapá|                        1599|\n",
            "|           Amazonas|                        6098|\n",
            "|              Bahia|                       31016|\n",
            "|              Ceará|                       19895|\n",
            "|   Distrito Federal|                        2547|\n",
            "|     Espírito Santo|                        6549|\n",
            "|              Goiás|                       11116|\n",
            "|           Maranhão|                       10276|\n",
            "|        Mato Grosso|                        5299|\n",
            "| Mato Grosso do Sul|                        2762|\n",
            "|       Minas Gerais|                       17835|\n",
            "|             Paraná|                       10102|\n",
            "|            Paraíba|                        6411|\n",
            "|               Pará|                       17664|\n",
            "|         Pernambuco|                       21823|\n",
            "|              Piauí|                        3622|\n",
            "|Rio Grande do Norte|                        9203|\n",
            "|  Rio Grande do Sul|                       12397|\n",
            "+-------------------+----------------------------+\n",
            "only showing top 20 rows\n",
            "\n"
          ]
        }
      ]
    },
    {
      "cell_type": "markdown",
      "metadata": {
        "id": "t1ZWzcfo3TXP"
      },
      "source": [
        "Quantidade de vitimas do sexo feminino por tipo de crime"
      ]
    },
    {
      "cell_type": "code",
      "metadata": {
        "colab": {
          "base_uri": "https://localhost:8080/"
        },
        "id": "IfxY9irC3vaK",
        "outputId": "e8ba3909-a4d8-4cdd-9084-df8877374184"
      },
      "source": [
        "spark.sql(\n",
        "  \n",
        "'''\n",
        "SELECT TipoCrime,\n",
        "SUM(Vitimas) AS Feminino\n",
        "FROM df_3\n",
        "WHERE SexoVitima = 'Feminino'\n",
        "GROUP BY TipoCrime\n",
        "'''\n",
        "\n",
        ").show()"
      ],
      "execution_count": 16,
      "outputs": [
        {
          "output_type": "stream",
          "name": "stdout",
          "text": [
            "+--------------------+--------+\n",
            "|           TipoCrime|Feminino|\n",
            "+--------------------+--------+\n",
            "|Roubo seguido de ...|    1056|\n",
            "|    Homicídio doloso|   20834|\n",
            "|Lesão corporal se...|     527|\n",
            "+--------------------+--------+\n",
            "\n"
          ]
        }
      ]
    },
    {
      "cell_type": "markdown",
      "metadata": {
        "id": "DJ-SelFiW8md"
      },
      "source": [
        "Quantidade de vitimas do sexo maculino por tipo de crime"
      ]
    },
    {
      "cell_type": "code",
      "metadata": {
        "colab": {
          "base_uri": "https://localhost:8080/",
          "height": 624
        },
        "id": "LU2cKURxIdqf",
        "outputId": "38d7c176-6bda-4242-aefb-a705a520692c"
      },
      "source": [
        "spark.sql(\n",
        "'''\n",
        "SELECT TipoCrime,\n",
        "CASE WHEN SexoVitimas = 'Feminino', THEN SUM (Vitimas) AS Feminino;\n",
        "CASE WHEN SexoVitimas = 'Masculino', THEN SUM (Vitimas) AS Masculino;\n",
        "ELSE SUM (Vitimas) AS NI\n",
        "FROM df_3\n",
        "GROUP BY TipoCrime\n",
        "'''\n",
        ").show()"
      ],
      "execution_count": 41,
      "outputs": [
        {
          "output_type": "stream",
          "name": "stderr",
          "text": [
            "ERROR:root:An unexpected error occurred while tokenizing input\n",
            "The following traceback may be corrupted or invalid\n",
            "The error message is: ('EOF in multi-line string', (1, 0))\n",
            "\n"
          ]
        },
        {
          "output_type": "error",
          "ename": "ParseException",
          "evalue": "ignored",
          "traceback": [
            "\u001b[0;31m---------------------------------------------------------------------------\u001b[0m",
            "\u001b[0;31mParseException\u001b[0m                            Traceback (most recent call last)",
            "\u001b[0;32m<ipython-input-41-a3cf94c150b8>\u001b[0m in \u001b[0;36m<module>\u001b[0;34m()\u001b[0m\n\u001b[1;32m      7\u001b[0m \u001b[0mFROM\u001b[0m \u001b[0mdf_3\u001b[0m\u001b[0;34m\u001b[0m\u001b[0;34m\u001b[0m\u001b[0m\n\u001b[1;32m      8\u001b[0m \u001b[0mGROUP\u001b[0m \u001b[0mBY\u001b[0m \u001b[0mTipoCrime\u001b[0m\u001b[0;34m\u001b[0m\u001b[0;34m\u001b[0m\u001b[0m\n\u001b[0;32m----> 9\u001b[0;31m '''\n\u001b[0m\u001b[1;32m     10\u001b[0m ).show()\n",
            "\u001b[0;32m/usr/local/lib/python3.7/dist-packages/pyspark/sql/session.py\u001b[0m in \u001b[0;36msql\u001b[0;34m(self, sqlQuery)\u001b[0m\n\u001b[1;32m    721\u001b[0m         \u001b[0;34m[\u001b[0m\u001b[0mRow\u001b[0m\u001b[0;34m(\u001b[0m\u001b[0mf1\u001b[0m\u001b[0;34m=\u001b[0m\u001b[0;36m1\u001b[0m\u001b[0;34m,\u001b[0m \u001b[0mf2\u001b[0m\u001b[0;34m=\u001b[0m\u001b[0;34m'row1'\u001b[0m\u001b[0;34m)\u001b[0m\u001b[0;34m,\u001b[0m \u001b[0mRow\u001b[0m\u001b[0;34m(\u001b[0m\u001b[0mf1\u001b[0m\u001b[0;34m=\u001b[0m\u001b[0;36m2\u001b[0m\u001b[0;34m,\u001b[0m \u001b[0mf2\u001b[0m\u001b[0;34m=\u001b[0m\u001b[0;34m'row2'\u001b[0m\u001b[0;34m)\u001b[0m\u001b[0;34m,\u001b[0m \u001b[0mRow\u001b[0m\u001b[0;34m(\u001b[0m\u001b[0mf1\u001b[0m\u001b[0;34m=\u001b[0m\u001b[0;36m3\u001b[0m\u001b[0;34m,\u001b[0m \u001b[0mf2\u001b[0m\u001b[0;34m=\u001b[0m\u001b[0;34m'row3'\u001b[0m\u001b[0;34m)\u001b[0m\u001b[0;34m]\u001b[0m\u001b[0;34m\u001b[0m\u001b[0;34m\u001b[0m\u001b[0m\n\u001b[1;32m    722\u001b[0m         \"\"\"\n\u001b[0;32m--> 723\u001b[0;31m         \u001b[0;32mreturn\u001b[0m \u001b[0mDataFrame\u001b[0m\u001b[0;34m(\u001b[0m\u001b[0mself\u001b[0m\u001b[0;34m.\u001b[0m\u001b[0m_jsparkSession\u001b[0m\u001b[0;34m.\u001b[0m\u001b[0msql\u001b[0m\u001b[0;34m(\u001b[0m\u001b[0msqlQuery\u001b[0m\u001b[0;34m)\u001b[0m\u001b[0;34m,\u001b[0m \u001b[0mself\u001b[0m\u001b[0;34m.\u001b[0m\u001b[0m_wrapped\u001b[0m\u001b[0;34m)\u001b[0m\u001b[0;34m\u001b[0m\u001b[0;34m\u001b[0m\u001b[0m\n\u001b[0m\u001b[1;32m    724\u001b[0m \u001b[0;34m\u001b[0m\u001b[0m\n\u001b[1;32m    725\u001b[0m     \u001b[0;32mdef\u001b[0m \u001b[0mtable\u001b[0m\u001b[0;34m(\u001b[0m\u001b[0mself\u001b[0m\u001b[0;34m,\u001b[0m \u001b[0mtableName\u001b[0m\u001b[0;34m)\u001b[0m\u001b[0;34m:\u001b[0m\u001b[0;34m\u001b[0m\u001b[0;34m\u001b[0m\u001b[0m\n",
            "\u001b[0;32m/usr/local/lib/python3.7/dist-packages/py4j/java_gateway.py\u001b[0m in \u001b[0;36m__call__\u001b[0;34m(self, *args)\u001b[0m\n\u001b[1;32m   1308\u001b[0m         \u001b[0manswer\u001b[0m \u001b[0;34m=\u001b[0m \u001b[0mself\u001b[0m\u001b[0;34m.\u001b[0m\u001b[0mgateway_client\u001b[0m\u001b[0;34m.\u001b[0m\u001b[0msend_command\u001b[0m\u001b[0;34m(\u001b[0m\u001b[0mcommand\u001b[0m\u001b[0;34m)\u001b[0m\u001b[0;34m\u001b[0m\u001b[0;34m\u001b[0m\u001b[0m\n\u001b[1;32m   1309\u001b[0m         return_value = get_return_value(\n\u001b[0;32m-> 1310\u001b[0;31m             answer, self.gateway_client, self.target_id, self.name)\n\u001b[0m\u001b[1;32m   1311\u001b[0m \u001b[0;34m\u001b[0m\u001b[0m\n\u001b[1;32m   1312\u001b[0m         \u001b[0;32mfor\u001b[0m \u001b[0mtemp_arg\u001b[0m \u001b[0;32min\u001b[0m \u001b[0mtemp_args\u001b[0m\u001b[0;34m:\u001b[0m\u001b[0;34m\u001b[0m\u001b[0;34m\u001b[0m\u001b[0m\n",
            "\u001b[0;32m/usr/local/lib/python3.7/dist-packages/pyspark/sql/utils.py\u001b[0m in \u001b[0;36mdeco\u001b[0;34m(*a, **kw)\u001b[0m\n\u001b[1;32m    115\u001b[0m                 \u001b[0;31m# Hide where the exception came from that shows a non-Pythonic\u001b[0m\u001b[0;34m\u001b[0m\u001b[0;34m\u001b[0m\u001b[0;34m\u001b[0m\u001b[0m\n\u001b[1;32m    116\u001b[0m                 \u001b[0;31m# JVM exception message.\u001b[0m\u001b[0;34m\u001b[0m\u001b[0;34m\u001b[0m\u001b[0;34m\u001b[0m\u001b[0m\n\u001b[0;32m--> 117\u001b[0;31m                 \u001b[0;32mraise\u001b[0m \u001b[0mconverted\u001b[0m \u001b[0;32mfrom\u001b[0m \u001b[0;32mNone\u001b[0m\u001b[0;34m\u001b[0m\u001b[0;34m\u001b[0m\u001b[0m\n\u001b[0m\u001b[1;32m    118\u001b[0m             \u001b[0;32melse\u001b[0m\u001b[0;34m:\u001b[0m\u001b[0;34m\u001b[0m\u001b[0;34m\u001b[0m\u001b[0m\n\u001b[1;32m    119\u001b[0m                 \u001b[0;32mraise\u001b[0m\u001b[0;34m\u001b[0m\u001b[0;34m\u001b[0m\u001b[0m\n",
            "\u001b[0;31mParseException\u001b[0m: \nmismatched input 'SexoVitimas' expecting {<EOF>, ';'}(line 3, pos 10)\n\n== SQL ==\n\nSELECT TipoCrime,\nCASE WHEN SexoVitimas = 'Feminino', THEN SUM (Vitimas) AS Feminino;\n----------^^^\nCASE WHEN SexoVitimas = 'Masculino', THEN SUM (Vitimas) AS Masculino;\nELSE SUM (Vitimas) AS NI\nFROM df_3\nGROUP BY TipoCrime\n"
          ]
        }
      ]
    }
  ]
}