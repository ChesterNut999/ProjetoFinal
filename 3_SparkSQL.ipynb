{
  "nbformat": 4,
  "nbformat_minor": 0,
  "metadata": {
    "colab": {
      "name": "3 - SparkSQL",
      "provenance": [],
      "collapsed_sections": [
        "sLNQ6L-pipfz",
        "gVf0cgZmq1Fh",
        "A1_gZQqNnv_x",
        "-Kz2TqlxoZNL"
      ],
      "include_colab_link": true
    },
    "kernelspec": {
      "name": "python3",
      "display_name": "Python 3"
    },
    "language_info": {
      "name": "python"
    }
  },
  "cells": [
    {
      "cell_type": "markdown",
      "metadata": {
        "id": "view-in-github",
        "colab_type": "text"
      },
      "source": [
        "<a href=\"https://colab.research.google.com/github/MarianaDuartee/ProjetoFinal/blob/main/3_SparkSQL.ipynb\" target=\"_parent\"><img src=\"https://colab.research.google.com/assets/colab-badge.svg\" alt=\"Open In Colab\"/></a>"
      ]
    },
    {
      "cell_type": "markdown",
      "metadata": {
        "id": "sLNQ6L-pipfz"
      },
      "source": [
        "##Instalando  dependencias"
      ]
    },
    {
      "cell_type": "code",
      "metadata": {
        "id": "HEe7035PZshu"
      },
      "source": [
        "!pip install pyspark\n",
        "!pip install gcsfs\n",
        "!pip install pandas\n"
      ],
      "execution_count": null,
      "outputs": []
    },
    {
      "cell_type": "markdown",
      "metadata": {
        "id": "gVf0cgZmq1Fh"
      },
      "source": [
        "##Importando dataframes, bibliotecas e abrindo Sparksession"
      ]
    },
    {
      "cell_type": "code",
      "metadata": {
        "id": "X16h-urOnkKs"
      },
      "source": [
        "from pyspark.sql import SparkSession\n",
        "from pyspark import SQLContext\n",
        "from google.cloud import storage\n",
        "from pyspark.sql.types import *\n",
        "from pyspark.sql.types import DateType\n",
        "\n",
        "import pyspark\n",
        "import pyspark.sql.functions as F\n",
        "import os\n",
        "import gcsfs\n",
        "import pandas as pd"
      ],
      "execution_count": 2,
      "outputs": []
    },
    {
      "cell_type": "code",
      "metadata": {
        "id": "mF3TyPmfEgeh",
        "colab": {
          "base_uri": "https://localhost:8080/"
        },
        "outputId": "b524381f-aaa1-43f9-8f83-2ab9814d98c7"
      },
      "source": [
        "from google.colab import drive\n",
        "drive.mount('/content/drive')"
      ],
      "execution_count": 3,
      "outputs": [
        {
          "output_type": "stream",
          "name": "stdout",
          "text": [
            "Drive already mounted at /content/drive; to attempt to forcibly remount, call drive.mount(\"/content/drive\", force_remount=True).\n"
          ]
        }
      ]
    },
    {
      "cell_type": "markdown",
      "metadata": {
        "id": "A1_gZQqNnv_x"
      },
      "source": [
        "##Criando uma conexão Spark e configurando chave de serviço\n",
        "\n"
      ]
    },
    {
      "cell_type": "code",
      "metadata": {
        "id": "CqwU082-i67b"
      },
      "source": [
        "spark = SparkSession.builder\\\n",
        ".master('local')\\\n",
        ".appName('Projeto_Final')\\\n",
        ".config('spark.ui.enable', 'true')\\\n",
        ".config('spark.ui.port', '4050')\\\n",
        ".getOrCreate()\n",
        "\n",
        "spark\n",
        "\n",
        "serviceaccount = '/content/drive/MyDrive/SoulCode/Projeto Final/soulcode-projeto-final-4b88bea6e07a.json'\n",
        "os.environ[\"GOOGLE_APPLICATION_CREDENTIALS\"] = serviceaccount"
      ],
      "execution_count": 4,
      "outputs": []
    },
    {
      "cell_type": "markdown",
      "metadata": {
        "id": "-Kz2TqlxoZNL"
      },
      "source": [
        "## Dataframes exportados do PySpark"
      ]
    },
    {
      "cell_type": "markdown",
      "metadata": {
        "id": "BZCGZwUaCnmU"
      },
      "source": [
        "Separar as planilhas e alterar o arquivo da planilha 6. Acrescentar planilha 7"
      ]
    },
    {
      "cell_type": "markdown",
      "metadata": {
        "id": "U_ZR2T5Rk3ey"
      },
      "source": [
        "df_ 1 - Planilha de despesas com segurança publica"
      ]
    },
    {
      "cell_type": "code",
      "metadata": {
        "id": "AwXrPDNdGjq7",
        "colab": {
          "base_uri": "https://localhost:8080/"
        },
        "outputId": "b8b24439-c02c-420a-9b0a-9e75a21dbbef"
      },
      "source": [
        "file_path_1 = 'gs://data_lake_ingest_data/2_temp/temp_pandas_despesas_normalizado.csv'\n",
        "\n",
        "fs = gcsfs.GCSFileSystem(project='soulcode-projeto-final', token=serviceaccount)\n",
        "with fs.open(file_path_1):\n",
        "    data = pd.read_csv(file_path_1, sep=',', encoding='UTF-8', header=0)\n",
        "\n",
        "df_1 = spark.createDataFrame(data)\n",
        "df = df_1.createOrReplaceTempView('df_1')\n",
        "\n",
        "#df_1.printSchema()\n",
        "#df_1.dtypes\n",
        "\n",
        "df_1.show(5, truncate=False)\n"
      ],
      "execution_count": 5,
      "outputs": [
        {
          "output_type": "stream",
          "name": "stdout",
          "text": [
            "+--------+------------------+------------+------------------+------------+------------------+---------+------------------+\n",
            "|UF      |Despesas2016      |Despesas2017|Despesas2018      |Despesas2019|Despesas2020      |Variacao%|Previsao2021|Media|\n",
            "+--------+------------------+------------+------------------+------------+------------------+---------+------------------+\n",
            "|Acre    |498.535           |568.361     |627.351           |692.57      |493.75300000000004|8.5      |576.114           |\n",
            "|Amapá   |475.32300000000004|500.227     |489.228           |606.366     |752.252           |52.3     |564.6792          |\n",
            "|Amazonas|1604.7320000000002|1578.957    |1862.6689999999999|2108.46     |2101.447          |60.4     |1851.253          |\n",
            "|Pará    |2551.741          |2579.916    |2903.2            |2943.448    |2966.553          |58.0     |2788.9716         |\n",
            "|Rondônia|874.8739999999999 |895.868     |903.2539999999999 |853.971     |999.044           |-14.7    |905.4022          |\n",
            "+--------+------------------+------------+------------------+------------+------------------+---------+------------------+\n",
            "only showing top 5 rows\n",
            "\n"
          ]
        }
      ]
    },
    {
      "cell_type": "markdown",
      "metadata": {
        "id": "n9AuqMyjoZO6"
      },
      "source": [
        "df_2 - Numero de ocorrencias "
      ]
    },
    {
      "cell_type": "code",
      "metadata": {
        "colab": {
          "base_uri": "https://localhost:8080/"
        },
        "id": "BJ16Y6-NkISJ",
        "outputId": "409798f2-177a-4d5f-cf26-cba8dc91f992"
      },
      "source": [
        "file_path_2 = 'gs://data_lake_ingest_data/2_temp/temp_pandas_ocorrencias_normalizado.json'\n",
        "\n",
        "fs = gcsfs.GCSFileSystem(project='soulcode-projeto-final', token=serviceaccount)\n",
        "with fs.open(file_path_2):\n",
        "    data = pd.read_json(file_path_2, encoding='UTF-8')\n",
        "\n",
        "df_2 = spark.createDataFrame(data)\n",
        "df = df_2.createOrReplaceTempView('df_2')\n",
        "\n",
        "#df_2.printSchema()\n",
        "#df_2.dtypes\n",
        "\n",
        "df_2.show(5, truncate=False)\n"
      ],
      "execution_count": 6,
      "outputs": [
        {
          "output_type": "stream",
          "name": "stdout",
          "text": [
            "+----+-------------------------------+----+-------+-----------+\n",
            "|UF  |TipoCrime                      |Ano |Mes    |Ocorrencias|\n",
            "+----+-------------------------------+----+-------+-----------+\n",
            "|Acre|Estupro                        |2021|janeiro|39         |\n",
            "|Acre|Furto de veículo               |2021|janeiro|55         |\n",
            "|Acre|Homicídio doloso               |2021|janeiro|14         |\n",
            "|Acre|Lesão corporal seguida de morte|2021|janeiro|0          |\n",
            "|Acre|Roubo a instituição financeira |2021|janeiro|0          |\n",
            "+----+-------------------------------+----+-------+-----------+\n",
            "only showing top 5 rows\n",
            "\n"
          ]
        }
      ]
    },
    {
      "cell_type": "markdown",
      "metadata": {
        "id": "iQyrY-e3vD8_"
      },
      "source": [
        "df_3 - Tipo de Ocorrencias com sexo e numero de vitimas Brasil 2021"
      ]
    },
    {
      "cell_type": "code",
      "metadata": {
        "colab": {
          "base_uri": "https://localhost:8080/"
        },
        "id": "vpPWpQsDkTkI",
        "outputId": "e24de222-5233-470f-a374-937c9df76b96"
      },
      "source": [
        "file_path_3 = 'gs://data_lake_ingest_data/2_temp/temp_pandas_vitimas_normalizado.json'\n",
        "\n",
        "fs = gcsfs.GCSFileSystem(project='soulcode-projeto-final', token=serviceaccount)\n",
        "with fs.open(file_path_3):\n",
        "    data = pd.read_json(file_path_3, encoding='UTF-8')\n",
        "\n",
        "df_3 = spark.createDataFrame(data)\n",
        "df = df_3.createOrReplaceTempView('df_3')\n",
        "\n",
        "#df_3.printSchema()\n",
        "#df_3.dtypes\n",
        "\n",
        "df_3.show(10, truncate=False)\n"
      ],
      "execution_count": 7,
      "outputs": [
        {
          "output_type": "stream",
          "name": "stdout",
          "text": [
            "+----+----------------+----+---------+----------+-------+\n",
            "|UF  |TipoCrime       |Ano |Mes      |SexoVitima|Vitimas|\n",
            "+----+----------------+----+---------+----------+-------+\n",
            "|Acre|Homicídio doloso|2021|janeiro  |Feminino  |1      |\n",
            "|Acre|Homicídio doloso|2021|janeiro  |Masculino |13     |\n",
            "|Acre|Homicídio doloso|2021|janeiro  |Sexo NI   |0      |\n",
            "|Acre|Homicídio doloso|2021|fevereiro|Feminino  |4      |\n",
            "|Acre|Homicídio doloso|2021|fevereiro|Masculino |12     |\n",
            "|Acre|Homicídio doloso|2021|fevereiro|Sexo NI   |0      |\n",
            "|Acre|Homicídio doloso|2021|março    |Feminino  |2      |\n",
            "|Acre|Homicídio doloso|2021|março    |Masculino |24     |\n",
            "|Acre|Homicídio doloso|2021|março    |Sexo NI   |0      |\n",
            "|Acre|Homicídio doloso|2021|abril    |Feminino  |2      |\n",
            "+----+----------------+----+---------+----------+-------+\n",
            "only showing top 10 rows\n",
            "\n"
          ]
        }
      ]
    },
    {
      "cell_type": "code",
      "metadata": {
        "colab": {
          "base_uri": "https://localhost:8080/"
        },
        "id": "ExksM52Hkc89",
        "outputId": "c483ff9f-b042-45b4-8a33-e55578ba915d"
      },
      "source": [
        "file_path_4 = 'gs://data_lake_ingest_data/2_temp/temp_pandas_ocorrencias_normalizado.json'\n",
        "\n",
        "fs = gcsfs.GCSFileSystem(project='soulcode-projeto-final', token=serviceaccount)\n",
        "with fs.open(file_path_4):\n",
        "    data = pd.read_json(file_path_4, encoding='UTF-8')\n",
        "\n",
        "df_4 = spark.createDataFrame(data)\n",
        "df = df_4.createOrReplaceTempView('df_4')\n",
        "\n",
        "#df_4.printSchema()\n",
        "#df_4.dtypes\n",
        "\n",
        "df_4.show(5, truncate=False)\n"
      ],
      "execution_count": 8,
      "outputs": [
        {
          "output_type": "stream",
          "name": "stdout",
          "text": [
            "+----+-------------------------------+----+-------+-----------+\n",
            "|UF  |TipoCrime                      |Ano |Mes    |Ocorrencias|\n",
            "+----+-------------------------------+----+-------+-----------+\n",
            "|Acre|Estupro                        |2021|janeiro|39         |\n",
            "|Acre|Furto de veículo               |2021|janeiro|55         |\n",
            "|Acre|Homicídio doloso               |2021|janeiro|14         |\n",
            "|Acre|Lesão corporal seguida de morte|2021|janeiro|0          |\n",
            "|Acre|Roubo a instituição financeira |2021|janeiro|0          |\n",
            "+----+-------------------------------+----+-------+-----------+\n",
            "only showing top 5 rows\n",
            "\n"
          ]
        }
      ]
    },
    {
      "cell_type": "markdown",
      "metadata": {
        "id": "jI4To6Dfym-B"
      },
      "source": [
        "df_5 - Ocorrencias vitimas por estado e tipo de ocorrencia"
      ]
    },
    {
      "cell_type": "code",
      "metadata": {
        "colab": {
          "base_uri": "https://localhost:8080/"
        },
        "id": "T3Sp74jykkYS",
        "outputId": "2c02c2b1-174b-4fda-f849-bfbd0c9f99a4"
      },
      "source": [
        "#ARQUIVO 5\n",
        "file_path_5 = 'gs://data_lake_ingest_data/2_temp/temp_pandas_ocorrencia_vitimas_porAnoEstado.csv'\n",
        "\n",
        "fs = gcsfs.GCSFileSystem(project='soulcode-projeto-final', token=serviceaccount)\n",
        "with fs.open(file_path_5):\n",
        "    data = pd.read_csv(file_path_5, sep=',', encoding='UTF-8')\n",
        "\n",
        "df_5 = spark.createDataFrame(data)\n",
        "df = df_5.createOrReplaceTempView('df_5')\n",
        "\n",
        "#df_5.printSchema()\n",
        "#df_5.dtypes\n",
        "\n",
        "df_5.show(5, truncate=False)\n"
      ],
      "execution_count": 9,
      "outputs": [
        {
          "output_type": "stream",
          "name": "stdout",
          "text": [
            "+----+----+-----------------------------------+-----------+-------+\n",
            "|UF  |Ano |TipoCrime                          |Ocorrencias|Vitimas|\n",
            "+----+----+-----------------------------------+-----------+-------+\n",
            "|Acre|2016|Homicídio doloso                   |425        |354    |\n",
            "|Acre|2017|Homicídio doloso                   |221        |232    |\n",
            "|Acre|2017|Lesão corporal seguida de morte    |0          |3      |\n",
            "|Acre|2017|Roubo seguido de morte (latrocínio)|10         |15     |\n",
            "|Acre|2018|Homicídio doloso                   |396        |394    |\n",
            "+----+----+-----------------------------------+-----------+-------+\n",
            "only showing top 5 rows\n",
            "\n"
          ]
        }
      ]
    },
    {
      "cell_type": "markdown",
      "metadata": {
        "id": "Vts2IeWSzAQ4"
      },
      "source": [
        "df-6 - Frequencia escolar Brasil anos de 2016 a 2019 por faixa de idade"
      ]
    },
    {
      "cell_type": "code",
      "metadata": {
        "colab": {
          "base_uri": "https://localhost:8080/"
        },
        "id": "Y-wI7X8nkqW_",
        "outputId": "65609af6-a64d-46c5-8a0c-db892bd133b2"
      },
      "source": [
        "file_path_6 = 'gs://data_lake_ingest_data/2_temp/temp_pyspark_tabela_frequencia_escolar_normalizado.csv'\n",
        "\n",
        "fs = gcsfs.GCSFileSystem(project='soulcode-projeto-final', token=serviceaccount)\n",
        "with fs.open(file_path_6):\n",
        "    data = pd.read_csv(file_path_6, header=0)\n",
        "\n",
        "df_6 = spark.createDataFrame(data)\n",
        "df = df_6.createOrReplaceTempView('df_6')\n",
        "\n",
        "#df_6.printSchema()\n",
        "#df_6.dtypes\n",
        "\n",
        "df_6.show(5, truncate=False)\n"
      ],
      "execution_count": 10,
      "outputs": [
        {
          "output_type": "stream",
          "name": "stdout",
          "text": [
            "+----------+--------+-----------------------+-----------------------+--------------------------+\n",
            "|Unnamed: 0|UF      |Media_Freq_15_a_17_anos|Media_Freq_18_a_24_anos|Media_Freq_25_anos_ou_mais|\n",
            "+----------+--------+-----------------------+-----------------------+--------------------------+\n",
            "|0         |Acre    |86 %                   |39 %                   |9 %                       |\n",
            "|1         |Alagoas |85 %                   |35 %                   |4 %                       |\n",
            "|2         |Amapá   |88 %                   |42 %                   |7 %                       |\n",
            "|3         |Amazonas|90 %                   |39 %                   |7 %                       |\n",
            "|4         |Bahia   |90 %                   |43 %                   |7 %                       |\n",
            "+----------+--------+-----------------------+-----------------------+--------------------------+\n",
            "only showing top 5 rows\n",
            "\n"
          ]
        }
      ]
    },
    {
      "cell_type": "markdown",
      "metadata": {
        "id": "UyEEbUv7cQn6"
      },
      "source": [
        "df_7 Tabela de taxa de analfabetismo anos de 2016 a 2019\n"
      ]
    },
    {
      "cell_type": "code",
      "metadata": {
        "colab": {
          "base_uri": "https://localhost:8080/"
        },
        "id": "iewORYUhbvlU",
        "outputId": "ba835e93-df63-4811-ae6c-3e22e0f47a49"
      },
      "source": [
        "file_path_6 = 'gs://data_lake_ingest_data/2_temp/temp_pandas_taxa_analfabetismo_normalizado.csv'\n",
        "\n",
        "fs = gcsfs.GCSFileSystem(project='soulcode-projeto-final', token=serviceaccount)\n",
        "with fs.open(file_path_6):\n",
        "    data = pd.read_csv(file_path_6, header=0)\n",
        "\n",
        "df_7 = spark.createDataFrame(data)\n",
        "df = df_7.createOrReplaceTempView('df_7')\n",
        "\n",
        "#df_7.printSchema()\n",
        "#df_7.dtypes\n",
        "\n",
        "df_7.show(5, truncate=False)"
      ],
      "execution_count": 11,
      "outputs": [
        {
          "output_type": "stream",
          "name": "stdout",
          "text": [
            "+----------+--------+---------------+---------------------+---------------------+---------------------+---------------------+\n",
            "|Unnamed: 0|UF      |Grupo_idade    |TaxaAnalfabetismo2016|TaxaAnalfabetismo2017|TaxaAnalfabetismo2018|TaxaAnalfabetismo2019|\n",
            "+----------+--------+---------------+---------------------+---------------------+---------------------+---------------------+\n",
            "|0         |Rondônia|15 anos ou mais|6.6                  |7.2                  |6.5                  |6.4                  |\n",
            "|1         |Acre    |15 anos ou mais|13.1                 |12.1                 |12.1                 |11.7                 |\n",
            "|2         |Amazonas|15 anos ou mais|6.9                  |6.1                  |5.8                  |5.4                  |\n",
            "|3         |Roraima |15 anos ou mais|6.6                  |6.0                  |6.0                  |5.0                  |\n",
            "|4         |Pará    |15 anos ou mais|9.2                  |8.6                  |8.8                  |8.4                  |\n",
            "+----------+--------+---------------+---------------------+---------------------+---------------------+---------------------+\n",
            "only showing top 5 rows\n",
            "\n"
          ]
        }
      ]
    },
    {
      "cell_type": "markdown",
      "metadata": {
        "id": "OlxgusTt7wh7"
      },
      "source": [
        "##Realizando algumas analises no SparkSQL"
      ]
    },
    {
      "cell_type": "markdown",
      "metadata": {
        "id": "axlQ6L4f6kWu"
      },
      "source": [
        "Total de ocorrencias criminais por Estado (nos anos de 2016 a 2021) Está correto 2021??? De quando foi essa analise?"
      ]
    },
    {
      "cell_type": "code",
      "metadata": {
        "id": "7rxo5m-qR4bj",
        "colab": {
          "base_uri": "https://localhost:8080/"
        },
        "outputId": "d03b7f40-2535-4695-8e14-015bd9831637"
      },
      "source": [
        "spark.sql(\n",
        "'''\n",
        "SELECT UF, SUM(Ocorrencias) AS Total_Ocorrencias_por_estado\n",
        "FROM df_5\n",
        "GROUP BY UF\n",
        "ORDER BY UF ASC\n",
        "'''\n",
        ").show()\n"
      ],
      "execution_count": 13,
      "outputs": [
        {
          "output_type": "stream",
          "name": "stdout",
          "text": [
            "+-------------------+----------------------------+\n",
            "|                 UF|Total_Ocorrencias_por_estado|\n",
            "+-------------------+----------------------------+\n",
            "|               Acre|                        1776|\n",
            "|            Alagoas|                        7642|\n",
            "|              Amapá|                        1599|\n",
            "|           Amazonas|                        6098|\n",
            "|              Bahia|                       31016|\n",
            "|              Ceará|                       19895|\n",
            "|   Distrito Federal|                        2547|\n",
            "|     Espírito Santo|                        6549|\n",
            "|              Goiás|                       11116|\n",
            "|           Maranhão|                       10276|\n",
            "|        Mato Grosso|                        5299|\n",
            "| Mato Grosso do Sul|                        2762|\n",
            "|       Minas Gerais|                       17835|\n",
            "|             Paraná|                       10102|\n",
            "|            Paraíba|                        6411|\n",
            "|               Pará|                       17664|\n",
            "|         Pernambuco|                       21823|\n",
            "|              Piauí|                        3622|\n",
            "|Rio Grande do Norte|                        9203|\n",
            "|  Rio Grande do Sul|                       12397|\n",
            "+-------------------+----------------------------+\n",
            "only showing top 20 rows\n",
            "\n"
          ]
        }
      ]
    },
    {
      "cell_type": "markdown",
      "metadata": {
        "id": "t1ZWzcfo3TXP"
      },
      "source": [
        "Quantidade de vitimas do sexo feminino por tipo de crime"
      ]
    },
    {
      "cell_type": "code",
      "metadata": {
        "colab": {
          "base_uri": "https://localhost:8080/"
        },
        "id": "IfxY9irC3vaK",
        "outputId": "69fee361-5462-4b00-d59d-5f5f9b637c9a"
      },
      "source": [
        "spark.sql(\n",
        "  \n",
        "'''\n",
        "SELECT TipoCrime,\n",
        "COUNT (Vitimas) AS Feminino\n",
        "FROM df_3\n",
        "WHERE SexoVitima = 'Feminino'\n",
        "GROUP BY TipoCrime\n",
        "'''\n",
        "\n",
        ").show()"
      ],
      "execution_count": 14,
      "outputs": [
        {
          "output_type": "stream",
          "name": "stdout",
          "text": [
            "+--------------------+--------+\n",
            "|           TipoCrime|Feminino|\n",
            "+--------------------+--------+\n",
            "|Roubo seguido de ...|    1380|\n",
            "|    Homicídio doloso|    1715|\n",
            "|Lesão corporal se...|    1300|\n",
            "+--------------------+--------+\n",
            "\n"
          ]
        }
      ]
    },
    {
      "cell_type": "markdown",
      "metadata": {
        "id": "DJ-SelFiW8md"
      },
      "source": [
        "Quantidade de vitimas do sexo maculino por tipo de crime"
      ]
    },
    {
      "cell_type": "code",
      "metadata": {
        "id": "E8wX0QR8W-78",
        "colab": {
          "base_uri": "https://localhost:8080/"
        },
        "outputId": "b8bfee14-062b-401a-e343-99cc1ce103dd"
      },
      "source": [
        "spark.sql(\n",
        "  \n",
        "'''\n",
        "SELECT TipoCrime, \n",
        "COUNT (Vitimas) AS Masculino\n",
        "FROM df_3\n",
        "WHERE SexoVitima = 'Masculino'\n",
        "GROUP BY TipoCrime\n",
        "'''\n",
        "\n",
        ").show()"
      ],
      "execution_count": 15,
      "outputs": [
        {
          "output_type": "stream",
          "name": "stdout",
          "text": [
            "+--------------------+---------+\n",
            "|           TipoCrime|Masculino|\n",
            "+--------------------+---------+\n",
            "|Roubo seguido de ...|     1640|\n",
            "|    Homicídio doloso|     1746|\n",
            "|Lesão corporal se...|     1513|\n",
            "+--------------------+---------+\n",
            "\n"
          ]
        }
      ]
    },
    {
      "cell_type": "code",
      "metadata": {
        "id": "iKbToAWwKClu",
        "colab": {
          "base_uri": "https://localhost:8080/",
          "height": 623
        },
        "outputId": "72db706e-0b23-4f25-ec28-02453a80c619"
      },
      "source": [
        "spark.sql(\n",
        "'''\n",
        "SELECT TipoCrime,\n",
        "CASE WHEN SexoVitimas = 'Feminino', THEN SUM (Vitimas) AS Feminino\n",
        "CASE WHEN SexoVitimas = 'Masculino', THEN SUM (Vitimas) AS Masculino\n",
        "ELSE SUM (Vitimas) AS NI,\n",
        "FROM df_3\n",
        "GROUP BY TipoCrime\n",
        "'''\n",
        ").show()\n"
      ],
      "execution_count": 16,
      "outputs": [
        {
          "output_type": "stream",
          "name": "stderr",
          "text": [
            "ERROR:root:An unexpected error occurred while tokenizing input\n",
            "The following traceback may be corrupted or invalid\n",
            "The error message is: ('EOF in multi-line string', (1, 0))\n",
            "\n"
          ]
        },
        {
          "output_type": "error",
          "ename": "ParseException",
          "evalue": "ignored",
          "traceback": [
            "\u001b[0;31m---------------------------------------------------------------------------\u001b[0m",
            "\u001b[0;31mParseException\u001b[0m                            Traceback (most recent call last)",
            "\u001b[0;32m<ipython-input-16-3b7fd6901f63>\u001b[0m in \u001b[0;36m<module>\u001b[0;34m()\u001b[0m\n\u001b[1;32m      7\u001b[0m \u001b[0mFROM\u001b[0m \u001b[0mdf_3\u001b[0m\u001b[0;34m\u001b[0m\u001b[0;34m\u001b[0m\u001b[0m\n\u001b[1;32m      8\u001b[0m \u001b[0mGROUP\u001b[0m \u001b[0mBY\u001b[0m \u001b[0mTipoCrime\u001b[0m\u001b[0;34m\u001b[0m\u001b[0;34m\u001b[0m\u001b[0m\n\u001b[0;32m----> 9\u001b[0;31m '''\n\u001b[0m\u001b[1;32m     10\u001b[0m ).show()\n",
            "\u001b[0;32m/usr/local/lib/python3.7/dist-packages/pyspark/sql/session.py\u001b[0m in \u001b[0;36msql\u001b[0;34m(self, sqlQuery)\u001b[0m\n\u001b[1;32m    721\u001b[0m         \u001b[0;34m[\u001b[0m\u001b[0mRow\u001b[0m\u001b[0;34m(\u001b[0m\u001b[0mf1\u001b[0m\u001b[0;34m=\u001b[0m\u001b[0;36m1\u001b[0m\u001b[0;34m,\u001b[0m \u001b[0mf2\u001b[0m\u001b[0;34m=\u001b[0m\u001b[0;34m'row1'\u001b[0m\u001b[0;34m)\u001b[0m\u001b[0;34m,\u001b[0m \u001b[0mRow\u001b[0m\u001b[0;34m(\u001b[0m\u001b[0mf1\u001b[0m\u001b[0;34m=\u001b[0m\u001b[0;36m2\u001b[0m\u001b[0;34m,\u001b[0m \u001b[0mf2\u001b[0m\u001b[0;34m=\u001b[0m\u001b[0;34m'row2'\u001b[0m\u001b[0;34m)\u001b[0m\u001b[0;34m,\u001b[0m \u001b[0mRow\u001b[0m\u001b[0;34m(\u001b[0m\u001b[0mf1\u001b[0m\u001b[0;34m=\u001b[0m\u001b[0;36m3\u001b[0m\u001b[0;34m,\u001b[0m \u001b[0mf2\u001b[0m\u001b[0;34m=\u001b[0m\u001b[0;34m'row3'\u001b[0m\u001b[0;34m)\u001b[0m\u001b[0;34m]\u001b[0m\u001b[0;34m\u001b[0m\u001b[0;34m\u001b[0m\u001b[0m\n\u001b[1;32m    722\u001b[0m         \"\"\"\n\u001b[0;32m--> 723\u001b[0;31m         \u001b[0;32mreturn\u001b[0m \u001b[0mDataFrame\u001b[0m\u001b[0;34m(\u001b[0m\u001b[0mself\u001b[0m\u001b[0;34m.\u001b[0m\u001b[0m_jsparkSession\u001b[0m\u001b[0;34m.\u001b[0m\u001b[0msql\u001b[0m\u001b[0;34m(\u001b[0m\u001b[0msqlQuery\u001b[0m\u001b[0;34m)\u001b[0m\u001b[0;34m,\u001b[0m \u001b[0mself\u001b[0m\u001b[0;34m.\u001b[0m\u001b[0m_wrapped\u001b[0m\u001b[0;34m)\u001b[0m\u001b[0;34m\u001b[0m\u001b[0;34m\u001b[0m\u001b[0m\n\u001b[0m\u001b[1;32m    724\u001b[0m \u001b[0;34m\u001b[0m\u001b[0m\n\u001b[1;32m    725\u001b[0m     \u001b[0;32mdef\u001b[0m \u001b[0mtable\u001b[0m\u001b[0;34m(\u001b[0m\u001b[0mself\u001b[0m\u001b[0;34m,\u001b[0m \u001b[0mtableName\u001b[0m\u001b[0;34m)\u001b[0m\u001b[0;34m:\u001b[0m\u001b[0;34m\u001b[0m\u001b[0;34m\u001b[0m\u001b[0m\n",
            "\u001b[0;32m/usr/local/lib/python3.7/dist-packages/py4j/java_gateway.py\u001b[0m in \u001b[0;36m__call__\u001b[0;34m(self, *args)\u001b[0m\n\u001b[1;32m   1308\u001b[0m         \u001b[0manswer\u001b[0m \u001b[0;34m=\u001b[0m \u001b[0mself\u001b[0m\u001b[0;34m.\u001b[0m\u001b[0mgateway_client\u001b[0m\u001b[0;34m.\u001b[0m\u001b[0msend_command\u001b[0m\u001b[0;34m(\u001b[0m\u001b[0mcommand\u001b[0m\u001b[0;34m)\u001b[0m\u001b[0;34m\u001b[0m\u001b[0;34m\u001b[0m\u001b[0m\n\u001b[1;32m   1309\u001b[0m         return_value = get_return_value(\n\u001b[0;32m-> 1310\u001b[0;31m             answer, self.gateway_client, self.target_id, self.name)\n\u001b[0m\u001b[1;32m   1311\u001b[0m \u001b[0;34m\u001b[0m\u001b[0m\n\u001b[1;32m   1312\u001b[0m         \u001b[0;32mfor\u001b[0m \u001b[0mtemp_arg\u001b[0m \u001b[0;32min\u001b[0m \u001b[0mtemp_args\u001b[0m\u001b[0;34m:\u001b[0m\u001b[0;34m\u001b[0m\u001b[0;34m\u001b[0m\u001b[0m\n",
            "\u001b[0;32m/usr/local/lib/python3.7/dist-packages/pyspark/sql/utils.py\u001b[0m in \u001b[0;36mdeco\u001b[0;34m(*a, **kw)\u001b[0m\n\u001b[1;32m    115\u001b[0m                 \u001b[0;31m# Hide where the exception came from that shows a non-Pythonic\u001b[0m\u001b[0;34m\u001b[0m\u001b[0;34m\u001b[0m\u001b[0;34m\u001b[0m\u001b[0m\n\u001b[1;32m    116\u001b[0m                 \u001b[0;31m# JVM exception message.\u001b[0m\u001b[0;34m\u001b[0m\u001b[0;34m\u001b[0m\u001b[0;34m\u001b[0m\u001b[0m\n\u001b[0;32m--> 117\u001b[0;31m                 \u001b[0;32mraise\u001b[0m \u001b[0mconverted\u001b[0m \u001b[0;32mfrom\u001b[0m \u001b[0;32mNone\u001b[0m\u001b[0;34m\u001b[0m\u001b[0;34m\u001b[0m\u001b[0m\n\u001b[0m\u001b[1;32m    118\u001b[0m             \u001b[0;32melse\u001b[0m\u001b[0;34m:\u001b[0m\u001b[0;34m\u001b[0m\u001b[0;34m\u001b[0m\u001b[0m\n\u001b[1;32m    119\u001b[0m                 \u001b[0;32mraise\u001b[0m\u001b[0;34m\u001b[0m\u001b[0;34m\u001b[0m\u001b[0m\n",
            "\u001b[0;31mParseException\u001b[0m: \nmismatched input 'SexoVitimas' expecting {<EOF>, ';'}(line 3, pos 10)\n\n== SQL ==\n\nSELECT TipoCrime,\nCASE WHEN SexoVitimas = 'Feminino', THEN SUM (Vitimas) AS Feminino\n----------^^^\nCASE WHEN SexoVitimas = 'Masculino', THEN SUM (Vitimas) AS Masculino\nELSE SUM (Vitimas) AS NI,\nFROM df_3\nGROUP BY TipoCrime\n"
          ]
        }
      ]
    },
    {
      "cell_type": "markdown",
      "metadata": {
        "id": "B3YIsDrxJU4q"
      },
      "source": [
        "Somando a quantidade de vitimas por sexo e tipo de crime\n"
      ]
    },
    {
      "cell_type": "code",
      "metadata": {
        "colab": {
          "base_uri": "https://localhost:8080/"
        },
        "id": "V70fmKlmZ6yj",
        "outputId": "eb7c6276-8c52-4a83-8281-4760f0a00b8d"
      },
      "source": [
        "spark.sql(\n",
        "  \n",
        "'''\n",
        "SELECT TipoCrime, SexoVitima, SUM(Vitimas) AS SomaVitimas\n",
        "FROM df_3\n",
        "GROUP BY TipoCrime,SexoVitima\n",
        "ORDER BY TipoCrime\n",
        "'''\n",
        "\n",
        ").show(10)"
      ],
      "execution_count": 17,
      "outputs": [
        {
          "output_type": "stream",
          "name": "stdout",
          "text": [
            "+--------------------+----------+-----------+\n",
            "|           TipoCrime|SexoVitima|SomaVitimas|\n",
            "+--------------------+----------+-----------+\n",
            "|    Homicídio doloso| Masculino|     228612|\n",
            "|    Homicídio doloso|   Sexo NI|       8624|\n",
            "|    Homicídio doloso|  Feminino|      20834|\n",
            "|Lesão corporal se...|   Sexo NI|        305|\n",
            "|Lesão corporal se...|  Feminino|        527|\n",
            "|Lesão corporal se...| Masculino|       3663|\n",
            "|Roubo seguido de ...| Masculino|       8786|\n",
            "|Roubo seguido de ...|   Sexo NI|        457|\n",
            "|Roubo seguido de ...|  Feminino|       1056|\n",
            "+--------------------+----------+-----------+\n",
            "\n"
          ]
        }
      ]
    },
    {
      "cell_type": "markdown",
      "metadata": {
        "id": "yP8hvnOXJEA_"
      },
      "source": [
        "Comparando a quantidade de ocorrencias com taxa de analfabetismo\n",
        "\n",
        "\n"
      ]
    },
    {
      "cell_type": "code",
      "metadata": {
        "colab": {
          "base_uri": "https://localhost:8080/"
        },
        "id": "FogfxZWikL-l",
        "outputId": "4a68dc4d-92a0-4d66-a4a0-93a1a11aaade"
      },
      "source": [
        "spark.sql(\n",
        "'''\n",
        "SELECT  df_5.UF AS Estado, \n",
        "        df_5.TipoCrime AS TipoCrime, \n",
        "        df_5.Ocorrencias AS Ocorrencias, \n",
        "        df_7.TaxaAnalfabetismo2019 AS Anafalbetismo\n",
        "FROM df_5 \n",
        "INNER JOIN df_7 \n",
        "ON (df_5.UF = df_7.UF)\n",
        "WHERE df_5.Ano = 2019\n",
        "'''\n",
        ").show()"
      ],
      "execution_count": 18,
      "outputs": [
        {
          "output_type": "stream",
          "name": "stdout",
          "text": [
            "+----------------+--------------------+-----------+-------------+\n",
            "|          Estado|           TipoCrime|Ocorrencias|Anafalbetismo|\n",
            "+----------------+--------------------+-----------+-------------+\n",
            "|            Acre|    Homicídio doloso|        292|         11.7|\n",
            "|            Acre|Lesão corporal se...|          2|         11.7|\n",
            "|            Acre|Roubo seguido de ...|         14|         11.7|\n",
            "|         Alagoas|    Homicídio doloso|       1028|         17.1|\n",
            "|         Alagoas|Lesão corporal se...|          6|         17.1|\n",
            "|         Alagoas|Roubo seguido de ...|         17|         17.1|\n",
            "|           Amapá|    Homicídio doloso|        232|          5.5|\n",
            "|           Amapá|Lesão corporal se...|         23|          5.5|\n",
            "|           Amapá|Roubo seguido de ...|         15|          5.5|\n",
            "|        Amazonas|    Homicídio doloso|        984|          5.4|\n",
            "|        Amazonas|Lesão corporal se...|         23|          5.4|\n",
            "|        Amazonas|Roubo seguido de ...|         46|          5.4|\n",
            "|           Bahia|    Homicídio doloso|       4751|         12.9|\n",
            "|           Bahia|Lesão corporal se...|         74|         12.9|\n",
            "|           Bahia|Roubo seguido de ...|        139|         12.9|\n",
            "|           Ceará|    Homicídio doloso|       2087|         13.6|\n",
            "|           Ceará|Lesão corporal se...|         30|         13.6|\n",
            "|           Ceará|Roubo seguido de ...|         36|         13.6|\n",
            "|Distrito Federal|    Homicídio doloso|        372|          2.7|\n",
            "|Distrito Federal|Lesão corporal se...|          4|          2.7|\n",
            "+----------------+--------------------+-----------+-------------+\n",
            "only showing top 20 rows\n",
            "\n"
          ]
        }
      ]
    },
    {
      "cell_type": "markdown",
      "metadata": {
        "id": "awarcaKnMtOt"
      },
      "source": [
        "Comparando a quantidade de ocorrencias de 2019 com frequencia escolar com idade acima de 20 anos\n"
      ]
    },
    {
      "cell_type": "code",
      "metadata": {
        "id": "KW5B29lP18HV"
      },
      "source": [
        "spark.sql(\n",
        "'''\n",
        "SELECT  df_5.UF AS Estado, \n",
        "        df_5.TipoCrime AS TipoCrime, \n",
        "        df_5.Ocorrencias AS Ocorrencias, \n",
        "        df_6.Media_Freq_25_anos_ou_mais AS Freq_2016a2019\n",
        "FROM df_5 \n",
        "INNER JOIN df_6 \n",
        "ON (df_5.UF = df_6.UF)\n",
        "WHERE df_5.Ano = 2019\n",
        "'''\n",
        ").show()"
      ],
      "execution_count": null,
      "outputs": []
    },
    {
      "cell_type": "markdown",
      "metadata": {
        "id": "j30nNWArONib"
      },
      "source": [
        "Comparando o numero de ocorrencias com valor investido para segurança publica no ano de 2019"
      ]
    },
    {
      "cell_type": "code",
      "metadata": {
        "colab": {
          "base_uri": "https://localhost:8080/"
        },
        "id": "AfsXSuvAOS8e",
        "outputId": "15f75492-90af-4bdb-cfdf-838243d418ae"
      },
      "source": [
        "spark.sql(\n",
        "'''\n",
        "SELECT  df_5.UF AS Estado, \n",
        "        df_5.TipoCrime AS TipoCrime, \n",
        "        df_5.Ocorrencias AS Ocorrencias, \n",
        "        df_1.Despesas2019 AS Investimento\n",
        "FROM df_1 \n",
        "INNER JOIN df_5 \n",
        "ON (df_5.UF = df_1.UF)\n",
        "WHERE df_5.Ano = 2019\n",
        "'''\n",
        ").show()"
      ],
      "execution_count": 19,
      "outputs": [
        {
          "output_type": "stream",
          "name": "stdout",
          "text": [
            "+----------------+--------------------+-----------+------------------+\n",
            "|          Estado|           TipoCrime|Ocorrencias|      Investimento|\n",
            "+----------------+--------------------+-----------+------------------+\n",
            "|            Acre|    Homicídio doloso|        292|            692.57|\n",
            "|            Acre|Lesão corporal se...|          2|            692.57|\n",
            "|            Acre|Roubo seguido de ...|         14|            692.57|\n",
            "|         Alagoas|    Homicídio doloso|       1028|1159.1589999999999|\n",
            "|         Alagoas|Lesão corporal se...|          6|1159.1589999999999|\n",
            "|         Alagoas|Roubo seguido de ...|         17|1159.1589999999999|\n",
            "|           Amapá|    Homicídio doloso|        232|           606.366|\n",
            "|           Amapá|Lesão corporal se...|         23|           606.366|\n",
            "|           Amapá|Roubo seguido de ...|         15|           606.366|\n",
            "|        Amazonas|    Homicídio doloso|        984|           2108.46|\n",
            "|        Amazonas|Lesão corporal se...|         23|           2108.46|\n",
            "|        Amazonas|Roubo seguido de ...|         46|           2108.46|\n",
            "|           Bahia|    Homicídio doloso|       4751|          4682.403|\n",
            "|           Bahia|Lesão corporal se...|         74|          4682.403|\n",
            "|           Bahia|Roubo seguido de ...|        139|          4682.403|\n",
            "|           Ceará|    Homicídio doloso|       2087|           2842.36|\n",
            "|           Ceará|Lesão corporal se...|         30|           2842.36|\n",
            "|           Ceará|Roubo seguido de ...|         36|           2842.36|\n",
            "|Distrito Federal|    Homicídio doloso|        372|           931.987|\n",
            "|Distrito Federal|Lesão corporal se...|          4|           931.987|\n",
            "+----------------+--------------------+-----------+------------------+\n",
            "only showing top 20 rows\n",
            "\n"
          ]
        }
      ]
    },
    {
      "cell_type": "markdown",
      "metadata": {
        "id": "zKeXLGwAdyXM"
      },
      "source": [
        "Ranqueando a taxa de anafalbetismo por estado"
      ]
    },
    {
      "cell_type": "code",
      "metadata": {
        "colab": {
          "base_uri": "https://localhost:8080/",
          "height": 588
        },
        "id": "8K6PQ065TK8Q",
        "outputId": "363e57b3-590f-4b66-e99f-b34407885f38"
      },
      "source": [
        "spark.sql(\n",
        "'''\n",
        "SELECT UF, TaxaAnalfabetismo2019 AS 2019,\n",
        "RANK() OVER (ORDER BY TaxaAnalfabetismo2019 DESC) AS Rank\n",
        "FROM df_7\n",
        "ORDER BY UF\n",
        "'''\n",
        ").show()\n"
      ],
      "execution_count": 20,
      "outputs": [
        {
          "output_type": "stream",
          "name": "stderr",
          "text": [
            "ERROR:root:An unexpected error occurred while tokenizing input\n",
            "The following traceback may be corrupted or invalid\n",
            "The error message is: ('EOF in multi-line string', (1, 0))\n",
            "\n"
          ]
        },
        {
          "output_type": "error",
          "ename": "ParseException",
          "evalue": "ignored",
          "traceback": [
            "\u001b[0;31m---------------------------------------------------------------------------\u001b[0m",
            "\u001b[0;31mParseException\u001b[0m                            Traceback (most recent call last)",
            "\u001b[0;32m<ipython-input-20-81ca044d3af0>\u001b[0m in \u001b[0;36m<module>\u001b[0;34m()\u001b[0m\n\u001b[1;32m      5\u001b[0m \u001b[0mFROM\u001b[0m \u001b[0mdf_7\u001b[0m\u001b[0;34m\u001b[0m\u001b[0;34m\u001b[0m\u001b[0m\n\u001b[1;32m      6\u001b[0m \u001b[0mORDER\u001b[0m \u001b[0mBY\u001b[0m \u001b[0mUF\u001b[0m\u001b[0;34m\u001b[0m\u001b[0;34m\u001b[0m\u001b[0m\n\u001b[0;32m----> 7\u001b[0;31m '''\n\u001b[0m\u001b[1;32m      8\u001b[0m ).show()\n",
            "\u001b[0;32m/usr/local/lib/python3.7/dist-packages/pyspark/sql/session.py\u001b[0m in \u001b[0;36msql\u001b[0;34m(self, sqlQuery)\u001b[0m\n\u001b[1;32m    721\u001b[0m         \u001b[0;34m[\u001b[0m\u001b[0mRow\u001b[0m\u001b[0;34m(\u001b[0m\u001b[0mf1\u001b[0m\u001b[0;34m=\u001b[0m\u001b[0;36m1\u001b[0m\u001b[0;34m,\u001b[0m \u001b[0mf2\u001b[0m\u001b[0;34m=\u001b[0m\u001b[0;34m'row1'\u001b[0m\u001b[0;34m)\u001b[0m\u001b[0;34m,\u001b[0m \u001b[0mRow\u001b[0m\u001b[0;34m(\u001b[0m\u001b[0mf1\u001b[0m\u001b[0;34m=\u001b[0m\u001b[0;36m2\u001b[0m\u001b[0;34m,\u001b[0m \u001b[0mf2\u001b[0m\u001b[0;34m=\u001b[0m\u001b[0;34m'row2'\u001b[0m\u001b[0;34m)\u001b[0m\u001b[0;34m,\u001b[0m \u001b[0mRow\u001b[0m\u001b[0;34m(\u001b[0m\u001b[0mf1\u001b[0m\u001b[0;34m=\u001b[0m\u001b[0;36m3\u001b[0m\u001b[0;34m,\u001b[0m \u001b[0mf2\u001b[0m\u001b[0;34m=\u001b[0m\u001b[0;34m'row3'\u001b[0m\u001b[0;34m)\u001b[0m\u001b[0;34m]\u001b[0m\u001b[0;34m\u001b[0m\u001b[0;34m\u001b[0m\u001b[0m\n\u001b[1;32m    722\u001b[0m         \"\"\"\n\u001b[0;32m--> 723\u001b[0;31m         \u001b[0;32mreturn\u001b[0m \u001b[0mDataFrame\u001b[0m\u001b[0;34m(\u001b[0m\u001b[0mself\u001b[0m\u001b[0;34m.\u001b[0m\u001b[0m_jsparkSession\u001b[0m\u001b[0;34m.\u001b[0m\u001b[0msql\u001b[0m\u001b[0;34m(\u001b[0m\u001b[0msqlQuery\u001b[0m\u001b[0;34m)\u001b[0m\u001b[0;34m,\u001b[0m \u001b[0mself\u001b[0m\u001b[0;34m.\u001b[0m\u001b[0m_wrapped\u001b[0m\u001b[0;34m)\u001b[0m\u001b[0;34m\u001b[0m\u001b[0;34m\u001b[0m\u001b[0m\n\u001b[0m\u001b[1;32m    724\u001b[0m \u001b[0;34m\u001b[0m\u001b[0m\n\u001b[1;32m    725\u001b[0m     \u001b[0;32mdef\u001b[0m \u001b[0mtable\u001b[0m\u001b[0;34m(\u001b[0m\u001b[0mself\u001b[0m\u001b[0;34m,\u001b[0m \u001b[0mtableName\u001b[0m\u001b[0;34m)\u001b[0m\u001b[0;34m:\u001b[0m\u001b[0;34m\u001b[0m\u001b[0;34m\u001b[0m\u001b[0m\n",
            "\u001b[0;32m/usr/local/lib/python3.7/dist-packages/py4j/java_gateway.py\u001b[0m in \u001b[0;36m__call__\u001b[0;34m(self, *args)\u001b[0m\n\u001b[1;32m   1308\u001b[0m         \u001b[0manswer\u001b[0m \u001b[0;34m=\u001b[0m \u001b[0mself\u001b[0m\u001b[0;34m.\u001b[0m\u001b[0mgateway_client\u001b[0m\u001b[0;34m.\u001b[0m\u001b[0msend_command\u001b[0m\u001b[0;34m(\u001b[0m\u001b[0mcommand\u001b[0m\u001b[0;34m)\u001b[0m\u001b[0;34m\u001b[0m\u001b[0;34m\u001b[0m\u001b[0m\n\u001b[1;32m   1309\u001b[0m         return_value = get_return_value(\n\u001b[0;32m-> 1310\u001b[0;31m             answer, self.gateway_client, self.target_id, self.name)\n\u001b[0m\u001b[1;32m   1311\u001b[0m \u001b[0;34m\u001b[0m\u001b[0m\n\u001b[1;32m   1312\u001b[0m         \u001b[0;32mfor\u001b[0m \u001b[0mtemp_arg\u001b[0m \u001b[0;32min\u001b[0m \u001b[0mtemp_args\u001b[0m\u001b[0;34m:\u001b[0m\u001b[0;34m\u001b[0m\u001b[0;34m\u001b[0m\u001b[0m\n",
            "\u001b[0;32m/usr/local/lib/python3.7/dist-packages/pyspark/sql/utils.py\u001b[0m in \u001b[0;36mdeco\u001b[0;34m(*a, **kw)\u001b[0m\n\u001b[1;32m    115\u001b[0m                 \u001b[0;31m# Hide where the exception came from that shows a non-Pythonic\u001b[0m\u001b[0;34m\u001b[0m\u001b[0;34m\u001b[0m\u001b[0;34m\u001b[0m\u001b[0m\n\u001b[1;32m    116\u001b[0m                 \u001b[0;31m# JVM exception message.\u001b[0m\u001b[0;34m\u001b[0m\u001b[0;34m\u001b[0m\u001b[0;34m\u001b[0m\u001b[0m\n\u001b[0;32m--> 117\u001b[0;31m                 \u001b[0;32mraise\u001b[0m \u001b[0mconverted\u001b[0m \u001b[0;32mfrom\u001b[0m \u001b[0;32mNone\u001b[0m\u001b[0;34m\u001b[0m\u001b[0;34m\u001b[0m\u001b[0m\n\u001b[0m\u001b[1;32m    118\u001b[0m             \u001b[0;32melse\u001b[0m\u001b[0;34m:\u001b[0m\u001b[0;34m\u001b[0m\u001b[0;34m\u001b[0m\u001b[0m\n\u001b[1;32m    119\u001b[0m                 \u001b[0;32mraise\u001b[0m\u001b[0;34m\u001b[0m\u001b[0;34m\u001b[0m\u001b[0m\n",
            "\u001b[0;31mParseException\u001b[0m: \nmismatched input '2019' expecting {<EOF>, ';'}(line 2, pos 36)\n\n== SQL ==\n\nSELECT UF, TaxaAnalfabetismo2019 AS 2019,\n------------------------------------^^^\nRANK() OVER (ORDER BY TaxaAnalfabetismo2019 DESC) AS Rank\nFROM df_7\nORDER BY UF\n"
          ]
        }
      ]
    }
  ]
}