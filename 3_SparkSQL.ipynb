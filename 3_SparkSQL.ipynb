{
  "nbformat": 4,
  "nbformat_minor": 0,
  "metadata": {
    "colab": {
      "name": "3 - SparkSQL",
      "provenance": [],
      "collapsed_sections": [],
      "include_colab_link": true
    },
    "kernelspec": {
      "name": "python3",
      "display_name": "Python 3"
    },
    "language_info": {
      "name": "python"
    }
  },
  "cells": [
    {
      "cell_type": "markdown",
      "metadata": {
        "id": "view-in-github",
        "colab_type": "text"
      },
      "source": [
        "<a href=\"https://colab.research.google.com/github/MarianaDuartee/ProjetoFinal/blob/main/3_SparkSQL.ipynb\" target=\"_parent\"><img src=\"https://colab.research.google.com/assets/colab-badge.svg\" alt=\"Open In Colab\"/></a>"
      ]
    },
    {
      "cell_type": "markdown",
      "metadata": {
        "id": "sLNQ6L-pipfz"
      },
      "source": [
        "##Instalando  dependencias"
      ]
    },
    {
      "cell_type": "code",
      "metadata": {
        "id": "HEe7035PZshu"
      },
      "source": [
        "!pip install pyspark\n",
        "!pip install gcsfs\n",
        "!pip install pandas\n"
      ],
      "execution_count": null,
      "outputs": []
    },
    {
      "cell_type": "markdown",
      "metadata": {
        "id": "gVf0cgZmq1Fh"
      },
      "source": [
        "##Importando dataframes, bibliotecas e abrindo Sparksession"
      ]
    },
    {
      "cell_type": "code",
      "metadata": {
        "id": "X16h-urOnkKs"
      },
      "source": [
        "from pyspark.sql import SparkSession\n",
        "from pyspark import SQLContext\n",
        "from google.cloud import storage\n",
        "from pyspark.sql.types import *\n",
        "from pyspark.sql.types import DateType\n",
        "\n",
        "import pyspark\n",
        "import pyspark.sql.functions as F\n",
        "import os\n",
        "import gcsfs\n",
        "import pandas as pd"
      ],
      "execution_count": 3,
      "outputs": []
    },
    {
      "cell_type": "markdown",
      "metadata": {
        "id": "A1_gZQqNnv_x"
      },
      "source": [
        "##Criando uma conexão Spark e configurando chave de serviço\n",
        "\n"
      ]
    },
    {
      "cell_type": "code",
      "metadata": {
        "id": "CqwU082-i67b"
      },
      "source": [
        "spark = SparkSession.builder\\\n",
        ".master('local')\\\n",
        ".appName('Projeto_Final')\\\n",
        ".config('spark.ui.enable', 'true')\\\n",
        ".config('spark.ui.port', '4050')\\\n",
        ".getOrCreate()\n",
        "\n",
        "spark\n",
        "\n",
        "serviceaccount = '/content/soulcode-projeto-final-4b88bea6e07a.json'\n",
        "os.environ[\"GOOGLE_APPLICATION_CREDENTIALS\"] = serviceaccount"
      ],
      "execution_count": 4,
      "outputs": []
    },
    {
      "cell_type": "markdown",
      "metadata": {
        "id": "-Kz2TqlxoZNL"
      },
      "source": [
        "### **EXTRAINDO INFORMAÇÕES E ANALISANDO DATAFRAMES**"
      ]
    },
    {
      "cell_type": "markdown",
      "metadata": {
        "id": "BZCGZwUaCnmU"
      },
      "source": [
        "Separar as planilhas e alterar o arquivo da planilha 6. Acrescentar planilha 7"
      ]
    },
    {
      "cell_type": "code",
      "metadata": {
        "id": "AwXrPDNdGjq7",
        "colab": {
          "base_uri": "https://localhost:8080/"
        },
        "outputId": "db672f97-6a55-4261-c126-62446015edbd"
      },
      "source": [
        "# ARQUIVO 1\n",
        "file_path_1 = 'gs://data_lake_ingest_data/2_temp/temp_pandas_despesas_normalizado.csv'\n",
        "\n",
        "fs = gcsfs.GCSFileSystem(project='soulcode-projeto-final', token=serviceaccount)\n",
        "with fs.open(file_path_1):\n",
        "    data = pd.read_csv(file_path_1, sep=',', encoding='UTF-8', header=0)\n",
        "\n",
        "df_1 = spark.createDataFrame(data)\n",
        "df = df_1.createOrReplaceTempView('df_1')\n",
        "\n",
        "# --------------------------------------------\n",
        "\n",
        "#ARQUIVO 2\n",
        "file_path_2 = 'gs://data_lake_ingest_data/2_temp/temp_pandas_ocorrencias_normalizado.json'\n",
        "\n",
        "fs = gcsfs.GCSFileSystem(project='soulcode-projeto-final', token=serviceaccount)\n",
        "with fs.open(file_path_2):\n",
        "    data = pd.read_json(file_path_2, encoding='UTF-8')\n",
        "\n",
        "df_2 = spark.createDataFrame(data)\n",
        "df = df_2.createOrReplaceTempView('df_2')\n",
        "\n",
        "\n",
        "# --------------------------------------------\n",
        "\n",
        "#ARQUIVO 3\n",
        "file_path_3 = 'gs://data_lake_ingest_data/2_temp/temp_pandas_vitimas_normalizado.json'\n",
        "\n",
        "fs = gcsfs.GCSFileSystem(project='soulcode-projeto-final', token=serviceaccount)\n",
        "with fs.open(file_path_3):\n",
        "    data = pd.read_json(file_path_3, encoding='UTF-8')\n",
        "\n",
        "df_3 = spark.createDataFrame(data)\n",
        "df = df_3.createOrReplaceTempView('df_3')\n",
        "\n",
        "# --------------------------------------------\n",
        "\n",
        "#ARQUIVO 4\n",
        "file_path_4 = 'gs://data_lake_ingest_data/2_temp/temp_pandas_ocorrencias_normalizado.json'\n",
        "\n",
        "fs = gcsfs.GCSFileSystem(project='soulcode-projeto-final', token=serviceaccount)\n",
        "with fs.open(file_path_4):\n",
        "    data = pd.read_json(file_path_4, encoding='UTF-8')\n",
        "\n",
        "df_4 = spark.createDataFrame(data)\n",
        "df = df_4.createOrReplaceTempView('df_4')\n",
        "\n",
        "# --------------------------------------------\n",
        "\n",
        "#ARQUIVO 5\n",
        "file_path_5 = 'gs://data_lake_ingest_data/2_temp/temp_pandas_ocorrencia_vitimas_porAnoEstado.csv'\n",
        "\n",
        "fs = gcsfs.GCSFileSystem(project='soulcode-projeto-final', token=serviceaccount)\n",
        "with fs.open(file_path_5):\n",
        "    data = pd.read_csv(file_path_5, sep=',', encoding='UTF-8')\n",
        "\n",
        "df_5 = spark.createDataFrame(data)\n",
        "df = df_5.createOrReplaceTempView('df_5')\n",
        "\n",
        "# --------------------------------------------\n",
        "\n",
        "# ARQUIVO 6\n",
        "file_path_6 = 'gs://data_lake_ingest_data/1_input/Tabela_frequencia_escolar.xlsx'\n",
        "\n",
        "fs = gcsfs.GCSFileSystem(project='soulcode-projeto-final', token=serviceaccount)\n",
        "with fs.open(file_path_6):\n",
        "    data = pd.read_excel(file_path_6, header=0)\n",
        "\n",
        "df_6 = spark.createDataFrame(data)\n",
        "df = df_6.createOrReplaceTempView('df_6')\n",
        "\n",
        "# --------------------------------------------\n",
        "\n",
        "df_1.printSchema()\n",
        "df_1.dtypes\n",
        "\n",
        "df_2.printSchema()\n",
        "df_2.dtypes\n",
        "\n",
        "df_3.printSchema()\n",
        "df_3.dtypes\n",
        "\n",
        "df_4.printSchema()\n",
        "df_4.dtypes\n",
        "\n",
        "df_5.printSchema()\n",
        "df_5.dtypes\n",
        "\n",
        "\n"
      ],
      "execution_count": 7,
      "outputs": [
        {
          "output_type": "stream",
          "name": "stdout",
          "text": [
            "root\n",
            " |-- UF: string (nullable = true)\n",
            " |-- Despesas2016: double (nullable = true)\n",
            " |-- Despesas2017: double (nullable = true)\n",
            " |-- Despesas2018: double (nullable = true)\n",
            " |-- Despesas2019: double (nullable = true)\n",
            " |-- Despesas2020: double (nullable = true)\n",
            " |-- Variacao%: double (nullable = true)\n",
            " |-- Previsao2021|Media: double (nullable = true)\n",
            "\n",
            "root\n",
            " |-- UF: string (nullable = true)\n",
            " |-- TipoCrime: string (nullable = true)\n",
            " |-- Ano: long (nullable = true)\n",
            " |-- Mes: string (nullable = true)\n",
            " |-- Ocorrencias: long (nullable = true)\n",
            "\n",
            "root\n",
            " |-- UF: string (nullable = true)\n",
            " |-- TipoCrime: string (nullable = true)\n",
            " |-- Ano: long (nullable = true)\n",
            " |-- Mes: string (nullable = true)\n",
            " |-- SexoVitima: string (nullable = true)\n",
            " |-- Vitimas: long (nullable = true)\n",
            "\n",
            "root\n",
            " |-- UF: string (nullable = true)\n",
            " |-- TipoCrime: string (nullable = true)\n",
            " |-- Ano: long (nullable = true)\n",
            " |-- Mes: string (nullable = true)\n",
            " |-- Ocorrencias: long (nullable = true)\n",
            "\n",
            "root\n",
            " |-- UF: string (nullable = true)\n",
            " |-- Ano: long (nullable = true)\n",
            " |-- TipoCrime: string (nullable = true)\n",
            " |-- Ocorrencias: long (nullable = true)\n",
            " |-- Vitimas: long (nullable = true)\n",
            "\n"
          ]
        },
        {
          "output_type": "execute_result",
          "data": {
            "text/plain": [
              "[('UF', 'string'),\n",
              " ('Ano', 'bigint'),\n",
              " ('TipoCrime', 'string'),\n",
              " ('Ocorrencias', 'bigint'),\n",
              " ('Vitimas', 'bigint')]"
            ]
          },
          "metadata": {},
          "execution_count": 7
        }
      ]
    },
    {
      "cell_type": "markdown",
      "metadata": {
        "id": "S570k6D-1Br1"
      },
      "source": [
        "###VISUALIZANDO DAS DFs"
      ]
    },
    {
      "cell_type": "code",
      "metadata": {
        "colab": {
          "base_uri": "https://localhost:8080/"
        },
        "id": "FEtgVT340yti",
        "outputId": "1cee41c3-0592-467b-b496-19e7b52d354f"
      },
      "source": [
        "\n",
        "df_1.show(5, truncate=False)\n"
      ],
      "execution_count": 9,
      "outputs": [
        {
          "output_type": "stream",
          "name": "stdout",
          "text": [
            "+--------+------------------+------------+------------------+------------+------------------+---------+------------------+\n",
            "|UF      |Despesas2016      |Despesas2017|Despesas2018      |Despesas2019|Despesas2020      |Variacao%|Previsao2021|Media|\n",
            "+--------+------------------+------------+------------------+------------+------------------+---------+------------------+\n",
            "|Acre    |498.535           |568.361     |627.351           |692.57      |493.75300000000004|8.5      |576.114           |\n",
            "|Amapá   |475.32300000000004|500.227     |489.228           |606.366     |752.252           |52.3     |564.6792          |\n",
            "|Amazonas|1604.7320000000002|1578.957    |1862.6689999999999|2108.46     |2101.447          |60.4     |1851.253          |\n",
            "|Pará    |2551.741          |2579.916    |2903.2            |2943.448    |2966.553          |58.0     |2788.9716         |\n",
            "|Rondônia|874.8739999999999 |895.868     |903.2539999999999 |853.971     |999.044           |-14.7    |905.4022          |\n",
            "+--------+------------------+------------+------------------+------------+------------------+---------+------------------+\n",
            "only showing top 5 rows\n",
            "\n"
          ]
        }
      ]
    },
    {
      "cell_type": "code",
      "metadata": {
        "id": "LVUtrnEh03pk"
      },
      "source": [
        "df_2.show(1000, truncate=False)\n",
        "\n"
      ],
      "execution_count": null,
      "outputs": []
    },
    {
      "cell_type": "code",
      "metadata": {
        "colab": {
          "base_uri": "https://localhost:8080/"
        },
        "id": "6CMFlWbt05wa",
        "outputId": "9be61264-85e2-4e48-ede1-69bf2caf669b"
      },
      "source": [
        "df_3.show(5, truncate=False)\n"
      ],
      "execution_count": 11,
      "outputs": [
        {
          "output_type": "stream",
          "name": "stdout",
          "text": [
            "+----+----------------+----+---------+----------+-------+\n",
            "|UF  |TipoCrime       |Ano |Mes      |SexoVitima|Vitimas|\n",
            "+----+----------------+----+---------+----------+-------+\n",
            "|Acre|Homicídio doloso|2021|janeiro  |Feminino  |1      |\n",
            "|Acre|Homicídio doloso|2021|janeiro  |Masculino |13     |\n",
            "|Acre|Homicídio doloso|2021|janeiro  |Sexo NI   |0      |\n",
            "|Acre|Homicídio doloso|2021|fevereiro|Feminino  |4      |\n",
            "|Acre|Homicídio doloso|2021|fevereiro|Masculino |12     |\n",
            "+----+----------------+----+---------+----------+-------+\n",
            "only showing top 5 rows\n",
            "\n"
          ]
        }
      ]
    },
    {
      "cell_type": "code",
      "metadata": {
        "colab": {
          "base_uri": "https://localhost:8080/"
        },
        "id": "-UPw2UIP07u9",
        "outputId": "b6fa3b3c-b84e-4c7d-f8e9-fc534898ba84"
      },
      "source": [
        "df_4.show(5, truncate=False)\n"
      ],
      "execution_count": 12,
      "outputs": [
        {
          "output_type": "stream",
          "name": "stdout",
          "text": [
            "+----+-------------------------------+----+-------+-----------+\n",
            "|UF  |TipoCrime                      |Ano |Mes    |Ocorrencias|\n",
            "+----+-------------------------------+----+-------+-----------+\n",
            "|Acre|Estupro                        |2021|janeiro|39         |\n",
            "|Acre|Furto de veículo               |2021|janeiro|55         |\n",
            "|Acre|Homicídio doloso               |2021|janeiro|14         |\n",
            "|Acre|Lesão corporal seguida de morte|2021|janeiro|0          |\n",
            "|Acre|Roubo a instituição financeira |2021|janeiro|0          |\n",
            "+----+-------------------------------+----+-------+-----------+\n",
            "only showing top 5 rows\n",
            "\n"
          ]
        }
      ]
    },
    {
      "cell_type": "code",
      "metadata": {
        "colab": {
          "base_uri": "https://localhost:8080/"
        },
        "id": "slfTLD-U0-Av",
        "outputId": "f9bf0901-1d5a-43cc-c5b3-69c66d8abfa3"
      },
      "source": [
        "df_5.show(20, truncate=False)\n"
      ],
      "execution_count": 42,
      "outputs": [
        {
          "output_type": "stream",
          "name": "stdout",
          "text": [
            "+-------+----+-----------------------------------+-----------+-------+\n",
            "|UF     |Ano |TipoCrime                          |Ocorrencias|Vitimas|\n",
            "+-------+----+-----------------------------------+-----------+-------+\n",
            "|Acre   |2016|Homicídio doloso                   |425        |354    |\n",
            "|Acre   |2017|Homicídio doloso                   |221        |232    |\n",
            "|Acre   |2017|Lesão corporal seguida de morte    |0          |3      |\n",
            "|Acre   |2017|Roubo seguido de morte (latrocínio)|10         |15     |\n",
            "|Acre   |2018|Homicídio doloso                   |396        |394    |\n",
            "|Acre   |2018|Roubo seguido de morte (latrocínio)|20         |20     |\n",
            "|Acre   |2019|Homicídio doloso                   |292        |298    |\n",
            "|Acre   |2019|Lesão corporal seguida de morte    |2          |3      |\n",
            "|Acre   |2019|Roubo seguido de morte (latrocínio)|14         |12     |\n",
            "|Acre   |2020|Homicídio doloso                   |271        |273    |\n",
            "|Acre   |2020|Lesão corporal seguida de morte    |1          |1      |\n",
            "|Acre   |2020|Roubo seguido de morte (latrocínio)|11         |11     |\n",
            "|Acre   |2021|Homicídio doloso                   |108        |110    |\n",
            "|Acre   |2021|Lesão corporal seguida de morte    |1          |1      |\n",
            "|Acre   |2021|Roubo seguido de morte (latrocínio)|4          |4      |\n",
            "|Alagoas|2016|Homicídio doloso                   |1659       |1695   |\n",
            "|Alagoas|2016|Lesão corporal seguida de morte    |9          |9      |\n",
            "|Alagoas|2016|Roubo seguido de morte (latrocínio)|61         |61     |\n",
            "|Alagoas|2017|Homicídio doloso                   |1672       |1706   |\n",
            "|Alagoas|2017|Lesão corporal seguida de morte    |19         |19     |\n",
            "+-------+----+-----------------------------------+-----------+-------+\n",
            "only showing top 20 rows\n",
            "\n"
          ]
        }
      ]
    },
    {
      "cell_type": "code",
      "metadata": {
        "colab": {
          "base_uri": "https://localhost:8080/"
        },
        "id": "2FhWImgz1AOY",
        "outputId": "3d900e57-f1d8-4df8-de00-702e94c8ec0e"
      },
      "source": [
        "df_6.show(5, truncate=False)\n"
      ],
      "execution_count": 44,
      "outputs": [
        {
          "output_type": "stream",
          "name": "stdout",
          "text": [
            "+----------------------------------------------------------------+-------------------+-------------------+-------------------+-------------------+------------------+-------------------+-------------------+-------------------+-------------------+------------------+----------------------+----------------------+----------------------+----------------------+---------------------+\n",
            "|Grandes Regiões, Unidades da Federação e Municípios das Capitais|15 a 17 anos - 2019|15 a 17 anos - 2018|15 a 17 anos - 2017|15 a 17 anos - 2016|Media 15 a 17 anos|18 a 24 anos - 2019|18 a 24 anos - 2018|18 a 24 anos - 2017|18 a 24 anos - 2016|média 18 a 24 anos|25 anos ou mais - 2019|25 anos ou mais - 2018|25 anos ou mais - 2017|25 anos ou mais - 2016|média 25 anos ou mais|\n",
            "+----------------------------------------------------------------+-------------------+-------------------+-------------------+-------------------+------------------+-------------------+-------------------+-------------------+-------------------+------------------+----------------------+----------------------+----------------------+----------------------+---------------------+\n",
            "|Brasil                                                          |89.17198948374096  |88.2426144204458   |86.56451335197876  |87.5617260467917   |87.8852108257393  |32.41407932745226  |34.53417795470805  |33.360253247817255 |34.17581270855951  |33.62108080963427 |4.504817075471089     |5.675049480395514     |5.8222092845937174    |6.05481441288333      |5.514222563335913    |\n",
            "|Norte                                                           |88.74982729136596  |87.13363699314166  |86.18634784748102  |86.23343843334908  |87.07581264133444 |33.277336088584065 |30.55755225551167  |31.889367675874244 |31.40075605450034  |31.781253018617576|5.300311202284845     |4.738200441644607     |4.829205200490404     |6.316555051054046     |5.2960679738684755   |\n",
            "|Rondônia                                                        |88.5758890715434   |87.61083310627495  |88.09353317895633  |86.80829519027922  |87.77213763676347 |31.917363776805303 |36.46044648717471  |42.381697360736936 |39.412875441641646 |37.543095766589644|5.696628237780432     |6.806092080969176     |8.094231628524204     |10.102827665601428    |7.67494490321881     |\n",
            "|Porto Velho                                                     |88.95162805125744  |82.5532772565588   |84.18183233290323  |86.43959488451544  |85.53158313130872 |38.26167802729192  |33.024090303693306 |35.08011605454825  |39.44302117520716  |36.45222639018516 |7.482369141571613     |8.496009939035124     |7.956949796455643     |10.15315072431738     |8.52211990034494     |\n",
            "|Acre                                                            |84.98448999182288  |87.17335055657942  |86.65851673769289  |86.68539677641571  |86.37543851562772 |33.834860833327035 |38.86751169841704  |42.36043012159184  |42.89214761645621  |39.488737567448034|6.9339672958134075    |10.321757609195592    |9.98524514543419      |10.493120889846796    |9.433522735072497    |\n",
            "+----------------------------------------------------------------+-------------------+-------------------+-------------------+-------------------+------------------+-------------------+-------------------+-------------------+-------------------+------------------+----------------------+----------------------+----------------------+----------------------+---------------------+\n",
            "only showing top 5 rows\n",
            "\n"
          ]
        }
      ]
    },
    {
      "cell_type": "markdown",
      "metadata": {
        "id": "OlxgusTt7wh7"
      },
      "source": [
        "##Realizando algumas analises"
      ]
    },
    {
      "cell_type": "markdown",
      "metadata": {
        "id": "axlQ6L4f6kWu"
      },
      "source": [
        "###Total de ocorrencias criminais por Estado (nos anos de 2016 a 2021) Está correto 2021??? De quando foi essa analise?"
      ]
    },
    {
      "cell_type": "code",
      "metadata": {
        "id": "7rxo5m-qR4bj",
        "colab": {
          "base_uri": "https://localhost:8080/"
        },
        "outputId": "cdcd7020-84fa-4057-d499-32d7d40a2d4d"
      },
      "source": [
        "spark.sql(\n",
        "'''\n",
        "SELECT UF, SUM(Ocorrencias) AS Total_Ocorrencias_por_estado\n",
        "FROM df_5\n",
        "GROUP BY UF\n",
        "ORDER BY UF ASC\n",
        "'''\n",
        ").show()\n"
      ],
      "execution_count": 43,
      "outputs": [
        {
          "output_type": "stream",
          "name": "stdout",
          "text": [
            "+-------------------+----------------------------+\n",
            "|                 UF|Total_Ocorrencias_por_estado|\n",
            "+-------------------+----------------------------+\n",
            "|               Acre|                        1776|\n",
            "|            Alagoas|                        7642|\n",
            "|              Amapá|                        1599|\n",
            "|           Amazonas|                        6098|\n",
            "|              Bahia|                       31016|\n",
            "|              Ceará|                       19895|\n",
            "|   Distrito Federal|                        2547|\n",
            "|     Espírito Santo|                        6549|\n",
            "|              Goiás|                       11116|\n",
            "|           Maranhão|                       10276|\n",
            "|        Mato Grosso|                        5299|\n",
            "| Mato Grosso do Sul|                        2762|\n",
            "|       Minas Gerais|                       17835|\n",
            "|             Paraná|                       10102|\n",
            "|            Paraíba|                        6411|\n",
            "|               Pará|                       17664|\n",
            "|         Pernambuco|                       21823|\n",
            "|              Piauí|                        3622|\n",
            "|Rio Grande do Norte|                        9203|\n",
            "|  Rio Grande do Sul|                       12397|\n",
            "+-------------------+----------------------------+\n",
            "only showing top 20 rows\n",
            "\n"
          ]
        }
      ]
    }
  ]
}