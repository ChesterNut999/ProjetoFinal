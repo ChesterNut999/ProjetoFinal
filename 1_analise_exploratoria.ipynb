{
  "nbformat": 4,
  "nbformat_minor": 0,
  "metadata": {
    "colab": {
      "name": "1_analise_exploratoria.ipynb",
      "provenance": [],
      "collapsed_sections": [],
      "authorship_tag": "ABX9TyMJrdxqq+v1Ctu3mM+sMzlD",
      "include_colab_link": true
    },
    "kernelspec": {
      "name": "python3",
      "display_name": "Python 3"
    },
    "language_info": {
      "name": "python"
    }
  },
  "cells": [
    {
      "cell_type": "markdown",
      "metadata": {
        "id": "view-in-github",
        "colab_type": "text"
      },
      "source": [
        "<a href=\"https://colab.research.google.com/github/MarianaDuartee/ProjetoFinal/blob/main/1_analise_exploratoria.ipynb\" target=\"_parent\"><img src=\"https://colab.research.google.com/assets/colab-badge.svg\" alt=\"Open In Colab\"/></a>"
      ]
    },
    {
      "cell_type": "code",
      "metadata": {
        "id": "xa4Ug5MpmHgG"
      },
      "source": [
        "pip install fsspec"
      ],
      "execution_count": null,
      "outputs": []
    },
    {
      "cell_type": "code",
      "metadata": {
        "id": "HK-G3ULimMKK"
      },
      "source": [
        "pip install gcsfs"
      ],
      "execution_count": null,
      "outputs": []
    },
    {
      "cell_type": "code",
      "metadata": {
        "id": "D0rrcAVg7Njf",
        "colab": {
          "base_uri": "https://localhost:8080/",
          "height": 1000
        },
        "outputId": "5c29282e-79f9-4fcc-937c-ee035d846456"
      },
      "source": [
        "import pandas as pd\n",
        "import os\n",
        "from google.cloud import storage\n",
        "serviceaccount = '/content/soulcode-projeto-final-4b88bea6e07a.json'\n",
        "os.environ[\"GOOGLE_APPLICATION_CREDENTIALS\"] = serviceaccount\n",
        "\n",
        "df = pd.read_csv('gs://data_lake_ingest_data/2_temp/Ocorrencias_Vitimas_Frequencia',sep=',')\n",
        "df"
      ],
      "execution_count": null,
      "outputs": [
        {
          "output_type": "execute_result",
          "data": {
            "text/html": [
              "<div>\n",
              "<style scoped>\n",
              "    .dataframe tbody tr th:only-of-type {\n",
              "        vertical-align: middle;\n",
              "    }\n",
              "\n",
              "    .dataframe tbody tr th {\n",
              "        vertical-align: top;\n",
              "    }\n",
              "\n",
              "    .dataframe thead th {\n",
              "        text-align: right;\n",
              "    }\n",
              "</style>\n",
              "<table border=\"1\" class=\"dataframe\">\n",
              "  <thead>\n",
              "    <tr style=\"text-align: right;\">\n",
              "      <th></th>\n",
              "      <th>UF</th>\n",
              "      <th>TotalOcorrencias</th>\n",
              "      <th>TotalVitimas</th>\n",
              "      <th>Media_Freq_15_a_17_anos</th>\n",
              "      <th>Media_Freq_18_a_24_anos</th>\n",
              "      <th>Media_Freq_25_anos_ou_mais</th>\n",
              "    </tr>\n",
              "  </thead>\n",
              "  <tbody>\n",
              "    <tr>\n",
              "      <th>0</th>\n",
              "      <td>Acre</td>\n",
              "      <td>308</td>\n",
              "      <td>313</td>\n",
              "      <td>0.86</td>\n",
              "      <td>0.39</td>\n",
              "      <td>0.09</td>\n",
              "    </tr>\n",
              "    <tr>\n",
              "      <th>1</th>\n",
              "      <td>Alagoas</td>\n",
              "      <td>1051</td>\n",
              "      <td>1094</td>\n",
              "      <td>0.85</td>\n",
              "      <td>0.35</td>\n",
              "      <td>0.04</td>\n",
              "    </tr>\n",
              "    <tr>\n",
              "      <th>2</th>\n",
              "      <td>Amapá</td>\n",
              "      <td>270</td>\n",
              "      <td>273</td>\n",
              "      <td>0.88</td>\n",
              "      <td>0.42</td>\n",
              "      <td>0.07</td>\n",
              "    </tr>\n",
              "    <tr>\n",
              "      <th>3</th>\n",
              "      <td>Amazonas</td>\n",
              "      <td>1053</td>\n",
              "      <td>1064</td>\n",
              "      <td>0.90</td>\n",
              "      <td>0.39</td>\n",
              "      <td>0.07</td>\n",
              "    </tr>\n",
              "    <tr>\n",
              "      <th>4</th>\n",
              "      <td>Bahia</td>\n",
              "      <td>4964</td>\n",
              "      <td>5219</td>\n",
              "      <td>0.90</td>\n",
              "      <td>0.43</td>\n",
              "      <td>0.07</td>\n",
              "    </tr>\n",
              "    <tr>\n",
              "      <th>5</th>\n",
              "      <td>Ceará</td>\n",
              "      <td>2153</td>\n",
              "      <td>2257</td>\n",
              "      <td>0.88</td>\n",
              "      <td>0.33</td>\n",
              "      <td>0.05</td>\n",
              "    </tr>\n",
              "    <tr>\n",
              "      <th>6</th>\n",
              "      <td>Distrito Federal</td>\n",
              "      <td>400</td>\n",
              "      <td>410</td>\n",
              "      <td>0.91</td>\n",
              "      <td>0.44</td>\n",
              "      <td>0.06</td>\n",
              "    </tr>\n",
              "    <tr>\n",
              "      <th>7</th>\n",
              "      <td>Espírito Santo</td>\n",
              "      <td>974</td>\n",
              "      <td>1023</td>\n",
              "      <td>0.92</td>\n",
              "      <td>0.47</td>\n",
              "      <td>0.06</td>\n",
              "    </tr>\n",
              "    <tr>\n",
              "      <th>8</th>\n",
              "      <td>Goiás</td>\n",
              "      <td>1699</td>\n",
              "      <td>1756</td>\n",
              "      <td>0.87</td>\n",
              "      <td>0.39</td>\n",
              "      <td>0.05</td>\n",
              "    </tr>\n",
              "    <tr>\n",
              "      <th>9</th>\n",
              "      <td>Maranhão</td>\n",
              "      <td>1485</td>\n",
              "      <td>1483</td>\n",
              "      <td>0.87</td>\n",
              "      <td>0.35</td>\n",
              "      <td>0.06</td>\n",
              "    </tr>\n",
              "    <tr>\n",
              "      <th>10</th>\n",
              "      <td>Mato Grosso</td>\n",
              "      <td>834</td>\n",
              "      <td>865</td>\n",
              "      <td>0.90</td>\n",
              "      <td>0.39</td>\n",
              "      <td>0.07</td>\n",
              "    </tr>\n",
              "    <tr>\n",
              "      <th>11</th>\n",
              "      <td>Mato Grosso do Sul</td>\n",
              "      <td>432</td>\n",
              "      <td>493</td>\n",
              "      <td>0.90</td>\n",
              "      <td>0.39</td>\n",
              "      <td>0.06</td>\n",
              "    </tr>\n",
              "    <tr>\n",
              "      <th>12</th>\n",
              "      <td>Minas Gerais</td>\n",
              "      <td>2756</td>\n",
              "      <td>2833</td>\n",
              "      <td>0.92</td>\n",
              "      <td>0.37</td>\n",
              "      <td>0.06</td>\n",
              "    </tr>\n",
              "    <tr>\n",
              "      <th>13</th>\n",
              "      <td>Paraná</td>\n",
              "      <td>1815</td>\n",
              "      <td>1931</td>\n",
              "      <td>0.87</td>\n",
              "      <td>0.41</td>\n",
              "      <td>0.05</td>\n",
              "    </tr>\n",
              "    <tr>\n",
              "      <th>14</th>\n",
              "      <td>Paraíba</td>\n",
              "      <td>943</td>\n",
              "      <td>951</td>\n",
              "      <td>0.90</td>\n",
              "      <td>0.44</td>\n",
              "      <td>0.06</td>\n",
              "    </tr>\n",
              "    <tr>\n",
              "      <th>15</th>\n",
              "      <td>Pará</td>\n",
              "      <td>2695</td>\n",
              "      <td>2871</td>\n",
              "      <td>0.90</td>\n",
              "      <td>0.39</td>\n",
              "      <td>0.06</td>\n",
              "    </tr>\n",
              "    <tr>\n",
              "      <th>16</th>\n",
              "      <td>Pernambuco</td>\n",
              "      <td>3338</td>\n",
              "      <td>3464</td>\n",
              "      <td>0.88</td>\n",
              "      <td>0.33</td>\n",
              "      <td>0.05</td>\n",
              "    </tr>\n",
              "    <tr>\n",
              "      <th>17</th>\n",
              "      <td>Piauí</td>\n",
              "      <td>597</td>\n",
              "      <td>592</td>\n",
              "      <td>0.94</td>\n",
              "      <td>0.42</td>\n",
              "      <td>0.06</td>\n",
              "    </tr>\n",
              "    <tr>\n",
              "      <th>18</th>\n",
              "      <td>Rio Grande do Norte</td>\n",
              "      <td>1285</td>\n",
              "      <td>1342</td>\n",
              "      <td>0.92</td>\n",
              "      <td>0.41</td>\n",
              "      <td>0.05</td>\n",
              "    </tr>\n",
              "    <tr>\n",
              "      <th>19</th>\n",
              "      <td>Rio Grande do Sul</td>\n",
              "      <td>1790</td>\n",
              "      <td>1914</td>\n",
              "      <td>0.89</td>\n",
              "      <td>0.43</td>\n",
              "      <td>0.07</td>\n",
              "    </tr>\n",
              "    <tr>\n",
              "      <th>20</th>\n",
              "      <td>Rio de Janeiro</td>\n",
              "      <td>3816</td>\n",
              "      <td>4155</td>\n",
              "      <td>0.89</td>\n",
              "      <td>0.33</td>\n",
              "      <td>0.04</td>\n",
              "    </tr>\n",
              "    <tr>\n",
              "      <th>21</th>\n",
              "      <td>Rondônia</td>\n",
              "      <td>401</td>\n",
              "      <td>407</td>\n",
              "      <td>0.87</td>\n",
              "      <td>0.37</td>\n",
              "      <td>0.07</td>\n",
              "    </tr>\n",
              "    <tr>\n",
              "      <th>22</th>\n",
              "      <td>Roraima</td>\n",
              "      <td>224</td>\n",
              "      <td>199</td>\n",
              "      <td>0.90</td>\n",
              "      <td>0.34</td>\n",
              "      <td>0.08</td>\n",
              "    </tr>\n",
              "    <tr>\n",
              "      <th>23</th>\n",
              "      <td>Santa Catarina</td>\n",
              "      <td>699</td>\n",
              "      <td>737</td>\n",
              "      <td>0.92</td>\n",
              "      <td>0.44</td>\n",
              "      <td>0.06</td>\n",
              "    </tr>\n",
              "    <tr>\n",
              "      <th>24</th>\n",
              "      <td>Sergipe</td>\n",
              "      <td>809</td>\n",
              "      <td>830</td>\n",
              "      <td>0.91</td>\n",
              "      <td>0.41</td>\n",
              "      <td>0.05</td>\n",
              "    </tr>\n",
              "    <tr>\n",
              "      <th>25</th>\n",
              "      <td>São Paulo</td>\n",
              "      <td>3068</td>\n",
              "      <td>3200</td>\n",
              "      <td>0.86</td>\n",
              "      <td>0.34</td>\n",
              "      <td>0.04</td>\n",
              "    </tr>\n",
              "    <tr>\n",
              "      <th>26</th>\n",
              "      <td>Tocantins</td>\n",
              "      <td>326</td>\n",
              "      <td>381</td>\n",
              "      <td>0.91</td>\n",
              "      <td>0.40</td>\n",
              "      <td>0.07</td>\n",
              "    </tr>\n",
              "  </tbody>\n",
              "</table>\n",
              "</div>"
            ],
            "text/plain": [
              "                     UF  ...  Media_Freq_25_anos_ou_mais\n",
              "0                  Acre  ...                        0.09\n",
              "1               Alagoas  ...                        0.04\n",
              "2                 Amapá  ...                        0.07\n",
              "3              Amazonas  ...                        0.07\n",
              "4                 Bahia  ...                        0.07\n",
              "5                 Ceará  ...                        0.05\n",
              "6      Distrito Federal  ...                        0.06\n",
              "7        Espírito Santo  ...                        0.06\n",
              "8                 Goiás  ...                        0.05\n",
              "9              Maranhão  ...                        0.06\n",
              "10          Mato Grosso  ...                        0.07\n",
              "11   Mato Grosso do Sul  ...                        0.06\n",
              "12         Minas Gerais  ...                        0.06\n",
              "13               Paraná  ...                        0.05\n",
              "14              Paraíba  ...                        0.06\n",
              "15                 Pará  ...                        0.06\n",
              "16           Pernambuco  ...                        0.05\n",
              "17                Piauí  ...                        0.06\n",
              "18  Rio Grande do Norte  ...                        0.05\n",
              "19    Rio Grande do Sul  ...                        0.07\n",
              "20       Rio de Janeiro  ...                        0.04\n",
              "21             Rondônia  ...                        0.07\n",
              "22              Roraima  ...                        0.08\n",
              "23       Santa Catarina  ...                        0.06\n",
              "24              Sergipe  ...                        0.05\n",
              "25            São Paulo  ...                        0.04\n",
              "26            Tocantins  ...                        0.07\n",
              "\n",
              "[27 rows x 6 columns]"
            ]
          },
          "metadata": {},
          "execution_count": 5
        }
      ]
    },
    {
      "cell_type": "markdown",
      "metadata": {
        "id": "5i2VQzY48Z1j"
      },
      "source": [
        "Queremos investigar a relação entre o número de ocorrência com as frequências de pessoas que vão a alguma instituição de ensino"
      ]
    },
    {
      "cell_type": "code",
      "metadata": {
        "id": "8NDhq2-8mcla"
      },
      "source": [
        "import numpy as np\n",
        "from scipy import stats\n",
        "import matplotlib.pyplot as plt\n",
        "\n",
        "import seaborn; seaborn.set()\n",
        "import seaborn as sns\n",
        "\n",
        "\n",
        "%matplotlib inline"
      ],
      "execution_count": null,
      "outputs": []
    },
    {
      "cell_type": "code",
      "metadata": {
        "colab": {
          "base_uri": "https://localhost:8080/"
        },
        "id": "IvFnI9rSodCh",
        "outputId": "344b9934-bfc5-41f9-964e-aa1758eab978"
      },
      "source": [
        "df['TotalOcorrencias'].describe()"
      ],
      "execution_count": null,
      "outputs": [
        {
          "output_type": "execute_result",
          "data": {
            "text/plain": [
              "count      27.000000\n",
              "mean     1488.333333\n",
              "std      1236.662910\n",
              "min       224.000000\n",
              "25%       514.500000\n",
              "50%      1051.000000\n",
              "75%      1984.000000\n",
              "max      4964.000000\n",
              "Name: TotalOcorrencias, dtype: float64"
            ]
          },
          "metadata": {},
          "execution_count": 9
        }
      ]
    },
    {
      "cell_type": "code",
      "metadata": {
        "colab": {
          "base_uri": "https://localhost:8080/"
        },
        "id": "nDZ8rNfSokvS",
        "outputId": "95a4f47c-d6db-4d53-f6a9-8cea801fb282"
      },
      "source": [
        "df['Media_Freq_15_a_17_anos'].describe()"
      ],
      "execution_count": null,
      "outputs": [
        {
          "output_type": "execute_result",
          "data": {
            "text/plain": [
              "count    27.000000\n",
              "mean      0.893333\n",
              "std       0.022361\n",
              "min       0.850000\n",
              "25%       0.875000\n",
              "50%       0.900000\n",
              "75%       0.910000\n",
              "max       0.940000\n",
              "Name: Media_Freq_15_a_17_anos, dtype: float64"
            ]
          },
          "metadata": {},
          "execution_count": 10
        }
      ]
    },
    {
      "cell_type": "code",
      "metadata": {
        "colab": {
          "base_uri": "https://localhost:8080/",
          "height": 513
        },
        "id": "hTXUBo6hmzHd",
        "outputId": "ca086f14-0353-4edd-b91b-a7b3f98dc44d"
      },
      "source": [
        "corr = df.corr()\n",
        "#Plot Correlation Matrix using Matplotlib\n",
        "plt.figure(figsize=(7, 5))\n",
        "plt.imshow(corr, cmap='Blues', interpolation='none', aspect='auto')\n",
        "plt.colorbar()\n",
        "plt.xticks(range(len(corr)), corr.columns, rotation='vertical')\n",
        "plt.yticks(range(len(corr)), corr.columns);\n",
        "plt.suptitle('Correlation between variables', fontsize=15, fontweight='bold')\n",
        "plt.grid(False)\n",
        "plt.show()"
      ],
      "execution_count": null,
      "outputs": [
        {
          "output_type": "display_data",
          "data": {
            "image/png": "[encoded data removed]",
            "text/plain": [
              "<Figure size 504x360 with 2 Axes>"
            ]
          },
          "metadata": {
            "needs_background": "light"
          }
        }
      ]
    },
    {
      "cell_type": "markdown",
      "metadata": {
        "id": "U845fIn21iAb"
      },
      "source": [
        "*  ρ = 0,9 a 1 (positivo ou negativo): correlação muito forte;\n",
        "*  ρ = 0,7 a 09 (positivo ou negativo): correlação forte;\n",
        "*  ρ = 0,5 a 0,7 (positivo ou negativo): correlação moderada;\n",
        "*  ρ = 0,3 a 0,5 (positivo ou negativo): correlação fraca;\n",
        "*  ρ = 0 a 0,3 (positivo ou negativo): não possui correlação."
      ]
    },
    {
      "cell_type": "code",
      "metadata": {
        "colab": {
          "base_uri": "https://localhost:8080/",
          "height": 226
        },
        "id": "cRa4vHLznGXZ",
        "outputId": "68ae16e7-637f-4d96-ed35-7cc5eb2bc35c"
      },
      "source": [
        "df.corr(\"pearson\")"
      ],
      "execution_count": null,
      "outputs": [
        {
          "output_type": "execute_result",
          "data": {
            "text/html": [
              "<div>\n",
              "<style scoped>\n",
              "    .dataframe tbody tr th:only-of-type {\n",
              "        vertical-align: middle;\n",
              "    }\n",
              "\n",
              "    .dataframe tbody tr th {\n",
              "        vertical-align: top;\n",
              "    }\n",
              "\n",
              "    .dataframe thead th {\n",
              "        text-align: right;\n",
              "    }\n",
              "</style>\n",
              "<table border=\"1\" class=\"dataframe\">\n",
              "  <thead>\n",
              "    <tr style=\"text-align: right;\">\n",
              "      <th></th>\n",
              "      <th>TotalOcorrencias</th>\n",
              "      <th>TotalVitimas</th>\n",
              "      <th>Media_Freq_15_a_17_anos</th>\n",
              "      <th>Media_Freq_18_a_24_anos</th>\n",
              "      <th>Media_Freq_25_anos_ou_mais</th>\n",
              "    </tr>\n",
              "  </thead>\n",
              "  <tbody>\n",
              "    <tr>\n",
              "      <th>TotalOcorrencias</th>\n",
              "      <td>1.000000</td>\n",
              "      <td>0.999504</td>\n",
              "      <td>-0.138337</td>\n",
              "      <td>-0.309076</td>\n",
              "      <td>-0.410559</td>\n",
              "    </tr>\n",
              "    <tr>\n",
              "      <th>TotalVitimas</th>\n",
              "      <td>0.999504</td>\n",
              "      <td>1.000000</td>\n",
              "      <td>-0.136732</td>\n",
              "      <td>-0.306257</td>\n",
              "      <td>-0.413316</td>\n",
              "    </tr>\n",
              "    <tr>\n",
              "      <th>Media_Freq_15_a_17_anos</th>\n",
              "      <td>-0.138337</td>\n",
              "      <td>-0.136732</td>\n",
              "      <td>1.000000</td>\n",
              "      <td>0.529551</td>\n",
              "      <td>0.142278</td>\n",
              "    </tr>\n",
              "    <tr>\n",
              "      <th>Media_Freq_18_a_24_anos</th>\n",
              "      <td>-0.309076</td>\n",
              "      <td>-0.306257</td>\n",
              "      <td>0.529551</td>\n",
              "      <td>1.000000</td>\n",
              "      <td>0.292215</td>\n",
              "    </tr>\n",
              "    <tr>\n",
              "      <th>Media_Freq_25_anos_ou_mais</th>\n",
              "      <td>-0.410559</td>\n",
              "      <td>-0.413316</td>\n",
              "      <td>0.142278</td>\n",
              "      <td>0.292215</td>\n",
              "      <td>1.000000</td>\n",
              "    </tr>\n",
              "  </tbody>\n",
              "</table>\n",
              "</div>"
            ],
            "text/plain": [
              "                            TotalOcorrencias  ...  Media_Freq_25_anos_ou_mais\n",
              "TotalOcorrencias                    1.000000  ...                   -0.410559\n",
              "TotalVitimas                        0.999504  ...                   -0.413316\n",
              "Media_Freq_15_a_17_anos            -0.138337  ...                    0.142278\n",
              "Media_Freq_18_a_24_anos            -0.309076  ...                    0.292215\n",
              "Media_Freq_25_anos_ou_mais         -0.410559  ...                    1.000000\n",
              "\n",
              "[5 rows x 5 columns]"
            ]
          },
          "metadata": {},
          "execution_count": 12
        }
      ]
    },
    {
      "cell_type": "code",
      "metadata": {
        "colab": {
          "base_uri": "https://localhost:8080/",
          "height": 226
        },
        "id": "d6m7fb5B1WyJ",
        "outputId": "be2e3fe4-9762-4bcd-ca3b-2ae2e40772a6"
      },
      "source": [
        "df.corr(\"spearman\")"
      ],
      "execution_count": null,
      "outputs": [
        {
          "output_type": "execute_result",
          "data": {
            "text/html": [
              "<div>\n",
              "<style scoped>\n",
              "    .dataframe tbody tr th:only-of-type {\n",
              "        vertical-align: middle;\n",
              "    }\n",
              "\n",
              "    .dataframe tbody tr th {\n",
              "        vertical-align: top;\n",
              "    }\n",
              "\n",
              "    .dataframe thead th {\n",
              "        text-align: right;\n",
              "    }\n",
              "</style>\n",
              "<table border=\"1\" class=\"dataframe\">\n",
              "  <thead>\n",
              "    <tr style=\"text-align: right;\">\n",
              "      <th></th>\n",
              "      <th>TotalOcorrencias</th>\n",
              "      <th>TotalVitimas</th>\n",
              "      <th>Media_Freq_15_a_17_anos</th>\n",
              "      <th>Media_Freq_18_a_24_anos</th>\n",
              "      <th>Media_Freq_25_anos_ou_mais</th>\n",
              "    </tr>\n",
              "  </thead>\n",
              "  <tbody>\n",
              "    <tr>\n",
              "      <th>TotalOcorrencias</th>\n",
              "      <td>1.000000</td>\n",
              "      <td>0.998168</td>\n",
              "      <td>-0.183128</td>\n",
              "      <td>-0.310471</td>\n",
              "      <td>-0.549472</td>\n",
              "    </tr>\n",
              "    <tr>\n",
              "      <th>TotalVitimas</th>\n",
              "      <td>0.998168</td>\n",
              "      <td>1.000000</td>\n",
              "      <td>-0.188077</td>\n",
              "      <td>-0.301548</td>\n",
              "      <td>-0.567156</td>\n",
              "    </tr>\n",
              "    <tr>\n",
              "      <th>Media_Freq_15_a_17_anos</th>\n",
              "      <td>-0.183128</td>\n",
              "      <td>-0.188077</td>\n",
              "      <td>1.000000</td>\n",
              "      <td>0.534619</td>\n",
              "      <td>0.157288</td>\n",
              "    </tr>\n",
              "    <tr>\n",
              "      <th>Media_Freq_18_a_24_anos</th>\n",
              "      <td>-0.310471</td>\n",
              "      <td>-0.301548</td>\n",
              "      <td>0.534619</td>\n",
              "      <td>1.000000</td>\n",
              "      <td>0.287607</td>\n",
              "    </tr>\n",
              "    <tr>\n",
              "      <th>Media_Freq_25_anos_ou_mais</th>\n",
              "      <td>-0.549472</td>\n",
              "      <td>-0.567156</td>\n",
              "      <td>0.157288</td>\n",
              "      <td>0.287607</td>\n",
              "      <td>1.000000</td>\n",
              "    </tr>\n",
              "  </tbody>\n",
              "</table>\n",
              "</div>"
            ],
            "text/plain": [
              "                            TotalOcorrencias  ...  Media_Freq_25_anos_ou_mais\n",
              "TotalOcorrencias                    1.000000  ...                   -0.549472\n",
              "TotalVitimas                        0.998168  ...                   -0.567156\n",
              "Media_Freq_15_a_17_anos            -0.183128  ...                    0.157288\n",
              "Media_Freq_18_a_24_anos            -0.310471  ...                    0.287607\n",
              "Media_Freq_25_anos_ou_mais         -0.549472  ...                    1.000000\n",
              "\n",
              "[5 rows x 5 columns]"
            ]
          },
          "metadata": {},
          "execution_count": 13
        }
      ]
    },
    {
      "cell_type": "markdown",
      "metadata": {
        "id": "DnT7AGrI85lx"
      },
      "source": [
        "Concluimos que não há correlação entre as variáveis 'TotalOcorrencias' e 'Media_freq'"
      ]
    },
    {
      "cell_type": "markdown",
      "metadata": {
        "id": "Nmh13Ob-IvqJ"
      },
      "source": [
        "==================================================="
      ]
    },
    {
      "cell_type": "markdown",
      "metadata": {
        "id": "K-3ZUCJbG_n6"
      },
      "source": [
        "* Em 2018 foi sancionada a Lei nº 13.675/2018. Sistema Único de Segurança Pública (SUSP).\n",
        "\n",
        "* O SUSP garante a integração de dados, prevê políticas que melhorem a qualidade de vida dos agentes de segurança e o enfrentamento à criminalidade violenta, além de efetivar o repasse de recursos do Fundo Nacional de Segurança Pública destinados aos estados, ao Distrito Federal e aos municípios.\n",
        "\n",
        "* Através do uso de teste de hipótese vamos verificar se ouve alteração no número de ocorrência de crimes após a aplicação da lei"
      ]
    },
    {
      "cell_type": "code",
      "metadata": {
        "colab": {
          "base_uri": "https://localhost:8080/",
          "height": 424
        },
        "id": "LQwp63vv9IVJ",
        "outputId": "f990c7c0-fd9e-4466-bc4c-c4492e5d8920"
      },
      "source": [
        "serviceaccount = '/content/soulcode-projeto-final-4b88bea6e07a.json'\n",
        "os.environ[\"GOOGLE_APPLICATION_CREDENTIALS\"] = serviceaccount\n",
        "\n",
        "df_2 = pd.read_json('gs://data_lake_ingest_data/2_temp/temp_pandas_ocorrencias_normalizado.json')\n",
        "df_2"
      ],
      "execution_count": null,
      "outputs": [
        {
          "output_type": "execute_result",
          "data": {
            "text/html": [
              "<div>\n",
              "<style scoped>\n",
              "    .dataframe tbody tr th:only-of-type {\n",
              "        vertical-align: middle;\n",
              "    }\n",
              "\n",
              "    .dataframe tbody tr th {\n",
              "        vertical-align: top;\n",
              "    }\n",
              "\n",
              "    .dataframe thead th {\n",
              "        text-align: right;\n",
              "    }\n",
              "</style>\n",
              "<table border=\"1\" class=\"dataframe\">\n",
              "  <thead>\n",
              "    <tr style=\"text-align: right;\">\n",
              "      <th></th>\n",
              "      <th>UF</th>\n",
              "      <th>TipoCrime</th>\n",
              "      <th>Ano</th>\n",
              "      <th>Mes</th>\n",
              "      <th>Ocorrencias</th>\n",
              "    </tr>\n",
              "  </thead>\n",
              "  <tbody>\n",
              "    <tr>\n",
              "      <th>0</th>\n",
              "      <td>Acre</td>\n",
              "      <td>Estupro</td>\n",
              "      <td>2021</td>\n",
              "      <td>janeiro</td>\n",
              "      <td>39</td>\n",
              "    </tr>\n",
              "    <tr>\n",
              "      <th>1</th>\n",
              "      <td>Acre</td>\n",
              "      <td>Furto de veículo</td>\n",
              "      <td>2021</td>\n",
              "      <td>janeiro</td>\n",
              "      <td>55</td>\n",
              "    </tr>\n",
              "    <tr>\n",
              "      <th>2</th>\n",
              "      <td>Acre</td>\n",
              "      <td>Homicídio doloso</td>\n",
              "      <td>2021</td>\n",
              "      <td>janeiro</td>\n",
              "      <td>14</td>\n",
              "    </tr>\n",
              "    <tr>\n",
              "      <th>3</th>\n",
              "      <td>Acre</td>\n",
              "      <td>Lesão corporal seguida de morte</td>\n",
              "      <td>2021</td>\n",
              "      <td>janeiro</td>\n",
              "      <td>0</td>\n",
              "    </tr>\n",
              "    <tr>\n",
              "      <th>4</th>\n",
              "      <td>Acre</td>\n",
              "      <td>Roubo a instituição financeira</td>\n",
              "      <td>2021</td>\n",
              "      <td>janeiro</td>\n",
              "      <td>0</td>\n",
              "    </tr>\n",
              "    <tr>\n",
              "      <th>...</th>\n",
              "      <td>...</td>\n",
              "      <td>...</td>\n",
              "      <td>...</td>\n",
              "      <td>...</td>\n",
              "      <td>...</td>\n",
              "    </tr>\n",
              "    <tr>\n",
              "      <th>15890</th>\n",
              "      <td>Tocantins</td>\n",
              "      <td>Roubo a instituição financeira</td>\n",
              "      <td>2016</td>\n",
              "      <td>dezembro</td>\n",
              "      <td>0</td>\n",
              "    </tr>\n",
              "    <tr>\n",
              "      <th>15891</th>\n",
              "      <td>Tocantins</td>\n",
              "      <td>Roubo de carga</td>\n",
              "      <td>2016</td>\n",
              "      <td>dezembro</td>\n",
              "      <td>1</td>\n",
              "    </tr>\n",
              "    <tr>\n",
              "      <th>15892</th>\n",
              "      <td>Tocantins</td>\n",
              "      <td>Roubo de veículo</td>\n",
              "      <td>2016</td>\n",
              "      <td>dezembro</td>\n",
              "      <td>63</td>\n",
              "    </tr>\n",
              "    <tr>\n",
              "      <th>15893</th>\n",
              "      <td>Tocantins</td>\n",
              "      <td>Roubo seguido de morte (latrocínio)</td>\n",
              "      <td>2016</td>\n",
              "      <td>dezembro</td>\n",
              "      <td>3</td>\n",
              "    </tr>\n",
              "    <tr>\n",
              "      <th>15894</th>\n",
              "      <td>Tocantins</td>\n",
              "      <td>Tentativa de homicídio</td>\n",
              "      <td>2016</td>\n",
              "      <td>dezembro</td>\n",
              "      <td>14</td>\n",
              "    </tr>\n",
              "  </tbody>\n",
              "</table>\n",
              "<p>15895 rows × 5 columns</p>\n",
              "</div>"
            ],
            "text/plain": [
              "              UF                            TipoCrime  ...       Mes Ocorrencias\n",
              "0           Acre                              Estupro  ...   janeiro          39\n",
              "1           Acre                     Furto de veículo  ...   janeiro          55\n",
              "2           Acre                     Homicídio doloso  ...   janeiro          14\n",
              "3           Acre      Lesão corporal seguida de morte  ...   janeiro           0\n",
              "4           Acre       Roubo a instituição financeira  ...   janeiro           0\n",
              "...          ...                                  ...  ...       ...         ...\n",
              "15890  Tocantins       Roubo a instituição financeira  ...  dezembro           0\n",
              "15891  Tocantins                       Roubo de carga  ...  dezembro           1\n",
              "15892  Tocantins                     Roubo de veículo  ...  dezembro          63\n",
              "15893  Tocantins  Roubo seguido de morte (latrocínio)  ...  dezembro           3\n",
              "15894  Tocantins               Tentativa de homicídio  ...  dezembro          14\n",
              "\n",
              "[15895 rows x 5 columns]"
            ]
          },
          "metadata": {},
          "execution_count": 24
        }
      ]
    },
    {
      "cell_type": "code",
      "metadata": {
        "colab": {
          "base_uri": "https://localhost:8080/"
        },
        "id": "9E9NNcHjP9do",
        "outputId": "79483a1c-b786-436f-f7a6-ccc7aad1e37f"
      },
      "source": [
        "df_2['Mes'].unique()"
      ],
      "execution_count": null,
      "outputs": [
        {
          "output_type": "execute_result",
          "data": {
            "text/plain": [
              "array(['janeiro', 'fevereiro', 'março', 'abril', 'maio', 'junho', 'julho',\n",
              "       'agosto', 'setembro', 'outubro', 'novembro', 'dezembro'],\n",
              "      dtype=object)"
            ]
          },
          "metadata": {},
          "execution_count": 62
        }
      ]
    },
    {
      "cell_type": "code",
      "metadata": {
        "id": "0XA_3nlPGof-"
      },
      "source": [
        "ocorrencia_antes = df_2.loc[(df_2['Ano'] < 2018)]"
      ],
      "execution_count": null,
      "outputs": []
    },
    {
      "cell_type": "code",
      "metadata": {
        "id": "5qmOz0pIPR7e"
      },
      "source": [
        "mes_antes = df_2.Mes.isin(['janeiro', 'fevereiro', 'março', 'abril', 'maio'])"
      ],
      "execution_count": null,
      "outputs": []
    },
    {
      "cell_type": "code",
      "metadata": {
        "id": "Cia1XSlIK7UM"
      },
      "source": [
        "ano_2018 = df_2.Ano == 2018"
      ],
      "execution_count": null,
      "outputs": []
    },
    {
      "cell_type": "code",
      "metadata": {
        "id": "2__5KPD4OPCP"
      },
      "source": [
        "ocrr_2018_antes = df_2.loc[ano_2018 & mes_antes]"
      ],
      "execution_count": null,
      "outputs": []
    },
    {
      "cell_type": "code",
      "metadata": {
        "colab": {
          "base_uri": "https://localhost:8080/",
          "height": 424
        },
        "id": "LsMkD_sWP5fY",
        "outputId": "372fe490-9e16-4d16-aa08-02173f76e8f2"
      },
      "source": [
        "ocrr_2018_antes"
      ],
      "execution_count": null,
      "outputs": [
        {
          "output_type": "execute_result",
          "data": {
            "text/html": [
              "<div>\n",
              "<style scoped>\n",
              "    .dataframe tbody tr th:only-of-type {\n",
              "        vertical-align: middle;\n",
              "    }\n",
              "\n",
              "    .dataframe tbody tr th {\n",
              "        vertical-align: top;\n",
              "    }\n",
              "\n",
              "    .dataframe thead th {\n",
              "        text-align: right;\n",
              "    }\n",
              "</style>\n",
              "<table border=\"1\" class=\"dataframe\">\n",
              "  <thead>\n",
              "    <tr style=\"text-align: right;\">\n",
              "      <th></th>\n",
              "      <th>UF</th>\n",
              "      <th>TipoCrime</th>\n",
              "      <th>Ano</th>\n",
              "      <th>Mes</th>\n",
              "      <th>Ocorrencias</th>\n",
              "    </tr>\n",
              "  </thead>\n",
              "  <tbody>\n",
              "    <tr>\n",
              "      <th>7208</th>\n",
              "      <td>Acre</td>\n",
              "      <td>Estupro</td>\n",
              "      <td>2018</td>\n",
              "      <td>janeiro</td>\n",
              "      <td>14</td>\n",
              "    </tr>\n",
              "    <tr>\n",
              "      <th>7209</th>\n",
              "      <td>Acre</td>\n",
              "      <td>Furto de veículo</td>\n",
              "      <td>2018</td>\n",
              "      <td>janeiro</td>\n",
              "      <td>74</td>\n",
              "    </tr>\n",
              "    <tr>\n",
              "      <th>7210</th>\n",
              "      <td>Acre</td>\n",
              "      <td>Homicídio doloso</td>\n",
              "      <td>2018</td>\n",
              "      <td>janeiro</td>\n",
              "      <td>51</td>\n",
              "    </tr>\n",
              "    <tr>\n",
              "      <th>7211</th>\n",
              "      <td>Acre</td>\n",
              "      <td>Lesão corporal seguida de morte</td>\n",
              "      <td>2018</td>\n",
              "      <td>janeiro</td>\n",
              "      <td>0</td>\n",
              "    </tr>\n",
              "    <tr>\n",
              "      <th>7212</th>\n",
              "      <td>Acre</td>\n",
              "      <td>Roubo a instituição financeira</td>\n",
              "      <td>2018</td>\n",
              "      <td>janeiro</td>\n",
              "      <td>1</td>\n",
              "    </tr>\n",
              "    <tr>\n",
              "      <th>...</th>\n",
              "      <td>...</td>\n",
              "      <td>...</td>\n",
              "      <td>...</td>\n",
              "      <td>...</td>\n",
              "      <td>...</td>\n",
              "    </tr>\n",
              "    <tr>\n",
              "      <th>10050</th>\n",
              "      <td>Tocantins</td>\n",
              "      <td>Roubo a instituição financeira</td>\n",
              "      <td>2018</td>\n",
              "      <td>maio</td>\n",
              "      <td>1</td>\n",
              "    </tr>\n",
              "    <tr>\n",
              "      <th>10051</th>\n",
              "      <td>Tocantins</td>\n",
              "      <td>Roubo de carga</td>\n",
              "      <td>2018</td>\n",
              "      <td>maio</td>\n",
              "      <td>0</td>\n",
              "    </tr>\n",
              "    <tr>\n",
              "      <th>10052</th>\n",
              "      <td>Tocantins</td>\n",
              "      <td>Roubo de veículo</td>\n",
              "      <td>2018</td>\n",
              "      <td>maio</td>\n",
              "      <td>85</td>\n",
              "    </tr>\n",
              "    <tr>\n",
              "      <th>10053</th>\n",
              "      <td>Tocantins</td>\n",
              "      <td>Roubo seguido de morte (latrocínio)</td>\n",
              "      <td>2018</td>\n",
              "      <td>maio</td>\n",
              "      <td>1</td>\n",
              "    </tr>\n",
              "    <tr>\n",
              "      <th>10054</th>\n",
              "      <td>Tocantins</td>\n",
              "      <td>Tentativa de homicídio</td>\n",
              "      <td>2018</td>\n",
              "      <td>maio</td>\n",
              "      <td>29</td>\n",
              "    </tr>\n",
              "  </tbody>\n",
              "</table>\n",
              "<p>1211 rows × 5 columns</p>\n",
              "</div>"
            ],
            "text/plain": [
              "              UF                            TipoCrime  ...      Mes Ocorrencias\n",
              "7208        Acre                              Estupro  ...  janeiro          14\n",
              "7209        Acre                     Furto de veículo  ...  janeiro          74\n",
              "7210        Acre                     Homicídio doloso  ...  janeiro          51\n",
              "7211        Acre      Lesão corporal seguida de morte  ...  janeiro           0\n",
              "7212        Acre       Roubo a instituição financeira  ...  janeiro           1\n",
              "...          ...                                  ...  ...      ...         ...\n",
              "10050  Tocantins       Roubo a instituição financeira  ...     maio           1\n",
              "10051  Tocantins                       Roubo de carga  ...     maio           0\n",
              "10052  Tocantins                     Roubo de veículo  ...     maio          85\n",
              "10053  Tocantins  Roubo seguido de morte (latrocínio)  ...     maio           1\n",
              "10054  Tocantins               Tentativa de homicídio  ...     maio          29\n",
              "\n",
              "[1211 rows x 5 columns]"
            ]
          },
          "metadata": {},
          "execution_count": 66
        }
      ]
    },
    {
      "cell_type": "code",
      "metadata": {
        "id": "9JVZ2IUjJxw4"
      },
      "source": [
        "ocrr_antes_merge = pd.concat([ocrr_2018_antes, ocorrencia_antes])"
      ],
      "execution_count": null,
      "outputs": []
    },
    {
      "cell_type": "code",
      "metadata": {
        "colab": {
          "base_uri": "https://localhost:8080/",
          "height": 424
        },
        "id": "4oXDJuuYJyeq",
        "outputId": "4b1132cb-fb67-4bcb-d205-071b77d6bf92"
      },
      "source": [
        "ocrr_antes_merge"
      ],
      "execution_count": null,
      "outputs": [
        {
          "output_type": "execute_result",
          "data": {
            "text/html": [
              "<div>\n",
              "<style scoped>\n",
              "    .dataframe tbody tr th:only-of-type {\n",
              "        vertical-align: middle;\n",
              "    }\n",
              "\n",
              "    .dataframe tbody tr th {\n",
              "        vertical-align: top;\n",
              "    }\n",
              "\n",
              "    .dataframe thead th {\n",
              "        text-align: right;\n",
              "    }\n",
              "</style>\n",
              "<table border=\"1\" class=\"dataframe\">\n",
              "  <thead>\n",
              "    <tr style=\"text-align: right;\">\n",
              "      <th></th>\n",
              "      <th>UF</th>\n",
              "      <th>TipoCrime</th>\n",
              "      <th>Ano</th>\n",
              "      <th>Mes</th>\n",
              "      <th>Ocorrencias</th>\n",
              "    </tr>\n",
              "  </thead>\n",
              "  <tbody>\n",
              "    <tr>\n",
              "      <th>7208</th>\n",
              "      <td>Acre</td>\n",
              "      <td>Estupro</td>\n",
              "      <td>2018</td>\n",
              "      <td>janeiro</td>\n",
              "      <td>14</td>\n",
              "    </tr>\n",
              "    <tr>\n",
              "      <th>7209</th>\n",
              "      <td>Acre</td>\n",
              "      <td>Furto de veículo</td>\n",
              "      <td>2018</td>\n",
              "      <td>janeiro</td>\n",
              "      <td>74</td>\n",
              "    </tr>\n",
              "    <tr>\n",
              "      <th>7210</th>\n",
              "      <td>Acre</td>\n",
              "      <td>Homicídio doloso</td>\n",
              "      <td>2018</td>\n",
              "      <td>janeiro</td>\n",
              "      <td>51</td>\n",
              "    </tr>\n",
              "    <tr>\n",
              "      <th>7211</th>\n",
              "      <td>Acre</td>\n",
              "      <td>Lesão corporal seguida de morte</td>\n",
              "      <td>2018</td>\n",
              "      <td>janeiro</td>\n",
              "      <td>0</td>\n",
              "    </tr>\n",
              "    <tr>\n",
              "      <th>7212</th>\n",
              "      <td>Acre</td>\n",
              "      <td>Roubo a instituição financeira</td>\n",
              "      <td>2018</td>\n",
              "      <td>janeiro</td>\n",
              "      <td>1</td>\n",
              "    </tr>\n",
              "    <tr>\n",
              "      <th>...</th>\n",
              "      <td>...</td>\n",
              "      <td>...</td>\n",
              "      <td>...</td>\n",
              "      <td>...</td>\n",
              "      <td>...</td>\n",
              "    </tr>\n",
              "    <tr>\n",
              "      <th>15890</th>\n",
              "      <td>Tocantins</td>\n",
              "      <td>Roubo a instituição financeira</td>\n",
              "      <td>2016</td>\n",
              "      <td>dezembro</td>\n",
              "      <td>0</td>\n",
              "    </tr>\n",
              "    <tr>\n",
              "      <th>15891</th>\n",
              "      <td>Tocantins</td>\n",
              "      <td>Roubo de carga</td>\n",
              "      <td>2016</td>\n",
              "      <td>dezembro</td>\n",
              "      <td>1</td>\n",
              "    </tr>\n",
              "    <tr>\n",
              "      <th>15892</th>\n",
              "      <td>Tocantins</td>\n",
              "      <td>Roubo de veículo</td>\n",
              "      <td>2016</td>\n",
              "      <td>dezembro</td>\n",
              "      <td>63</td>\n",
              "    </tr>\n",
              "    <tr>\n",
              "      <th>15893</th>\n",
              "      <td>Tocantins</td>\n",
              "      <td>Roubo seguido de morte (latrocínio)</td>\n",
              "      <td>2016</td>\n",
              "      <td>dezembro</td>\n",
              "      <td>3</td>\n",
              "    </tr>\n",
              "    <tr>\n",
              "      <th>15894</th>\n",
              "      <td>Tocantins</td>\n",
              "      <td>Tentativa de homicídio</td>\n",
              "      <td>2016</td>\n",
              "      <td>dezembro</td>\n",
              "      <td>14</td>\n",
              "    </tr>\n",
              "  </tbody>\n",
              "</table>\n",
              "<p>6988 rows × 5 columns</p>\n",
              "</div>"
            ],
            "text/plain": [
              "              UF                            TipoCrime  ...       Mes Ocorrencias\n",
              "7208        Acre                              Estupro  ...   janeiro          14\n",
              "7209        Acre                     Furto de veículo  ...   janeiro          74\n",
              "7210        Acre                     Homicídio doloso  ...   janeiro          51\n",
              "7211        Acre      Lesão corporal seguida de morte  ...   janeiro           0\n",
              "7212        Acre       Roubo a instituição financeira  ...   janeiro           1\n",
              "...          ...                                  ...  ...       ...         ...\n",
              "15890  Tocantins       Roubo a instituição financeira  ...  dezembro           0\n",
              "15891  Tocantins                       Roubo de carga  ...  dezembro           1\n",
              "15892  Tocantins                     Roubo de veículo  ...  dezembro          63\n",
              "15893  Tocantins  Roubo seguido de morte (latrocínio)  ...  dezembro           3\n",
              "15894  Tocantins               Tentativa de homicídio  ...  dezembro          14\n",
              "\n",
              "[6988 rows x 5 columns]"
            ]
          },
          "metadata": {},
          "execution_count": 68
        }
      ]
    },
    {
      "cell_type": "code",
      "metadata": {
        "id": "mv1s9BrNLjlB"
      },
      "source": [
        "ocrr_depois = df_2.loc[(df_2['Ano'] > 2018)]"
      ],
      "execution_count": null,
      "outputs": []
    },
    {
      "cell_type": "code",
      "metadata": {
        "id": "loe6s--tRb3F"
      },
      "source": [
        "mes_depois = df_2.Mes.isin(['julho','agosto', 'setembro', 'outubro', 'novembro', 'dezembro'])"
      ],
      "execution_count": null,
      "outputs": []
    },
    {
      "cell_type": "code",
      "metadata": {
        "id": "grv16lBvRmQb"
      },
      "source": [
        "ocrr_2018_depois = df_2.loc[ano_2018 & mes_depois]"
      ],
      "execution_count": null,
      "outputs": []
    },
    {
      "cell_type": "code",
      "metadata": {
        "id": "8fi9pJXIRusA"
      },
      "source": [
        "ocrr_depois_merge = pd.concat([ocrr_2018_depois, ocrr_depois])"
      ],
      "execution_count": null,
      "outputs": []
    },
    {
      "cell_type": "code",
      "metadata": {
        "colab": {
          "base_uri": "https://localhost:8080/",
          "height": 424
        },
        "id": "9tzCJK7TR1L8",
        "outputId": "d2ad2744-7599-4257-8236-a40692a29e4c"
      },
      "source": [
        "ocrr_depois_merge"
      ],
      "execution_count": null,
      "outputs": [
        {
          "output_type": "execute_result",
          "data": {
            "text/html": [
              "<div>\n",
              "<style scoped>\n",
              "    .dataframe tbody tr th:only-of-type {\n",
              "        vertical-align: middle;\n",
              "    }\n",
              "\n",
              "    .dataframe tbody tr th {\n",
              "        vertical-align: top;\n",
              "    }\n",
              "\n",
              "    .dataframe thead th {\n",
              "        text-align: right;\n",
              "    }\n",
              "</style>\n",
              "<table border=\"1\" class=\"dataframe\">\n",
              "  <thead>\n",
              "    <tr style=\"text-align: right;\">\n",
              "      <th></th>\n",
              "      <th>UF</th>\n",
              "      <th>TipoCrime</th>\n",
              "      <th>Ano</th>\n",
              "      <th>Mes</th>\n",
              "      <th>Ocorrencias</th>\n",
              "    </tr>\n",
              "  </thead>\n",
              "  <tbody>\n",
              "    <tr>\n",
              "      <th>7262</th>\n",
              "      <td>Acre</td>\n",
              "      <td>Estupro</td>\n",
              "      <td>2018</td>\n",
              "      <td>julho</td>\n",
              "      <td>16</td>\n",
              "    </tr>\n",
              "    <tr>\n",
              "      <th>7263</th>\n",
              "      <td>Acre</td>\n",
              "      <td>Furto de veículo</td>\n",
              "      <td>2018</td>\n",
              "      <td>julho</td>\n",
              "      <td>56</td>\n",
              "    </tr>\n",
              "    <tr>\n",
              "      <th>7264</th>\n",
              "      <td>Acre</td>\n",
              "      <td>Homicídio doloso</td>\n",
              "      <td>2018</td>\n",
              "      <td>julho</td>\n",
              "      <td>51</td>\n",
              "    </tr>\n",
              "    <tr>\n",
              "      <th>7265</th>\n",
              "      <td>Acre</td>\n",
              "      <td>Lesão corporal seguida de morte</td>\n",
              "      <td>2018</td>\n",
              "      <td>julho</td>\n",
              "      <td>0</td>\n",
              "    </tr>\n",
              "    <tr>\n",
              "      <th>7266</th>\n",
              "      <td>Acre</td>\n",
              "      <td>Roubo a instituição financeira</td>\n",
              "      <td>2018</td>\n",
              "      <td>julho</td>\n",
              "      <td>0</td>\n",
              "    </tr>\n",
              "    <tr>\n",
              "      <th>...</th>\n",
              "      <td>...</td>\n",
              "      <td>...</td>\n",
              "      <td>...</td>\n",
              "      <td>...</td>\n",
              "      <td>...</td>\n",
              "    </tr>\n",
              "    <tr>\n",
              "      <th>7203</th>\n",
              "      <td>Tocantins</td>\n",
              "      <td>Roubo a instituição financeira</td>\n",
              "      <td>2019</td>\n",
              "      <td>dezembro</td>\n",
              "      <td>0</td>\n",
              "    </tr>\n",
              "    <tr>\n",
              "      <th>7204</th>\n",
              "      <td>Tocantins</td>\n",
              "      <td>Roubo de carga</td>\n",
              "      <td>2019</td>\n",
              "      <td>dezembro</td>\n",
              "      <td>0</td>\n",
              "    </tr>\n",
              "    <tr>\n",
              "      <th>7205</th>\n",
              "      <td>Tocantins</td>\n",
              "      <td>Roubo de veículo</td>\n",
              "      <td>2019</td>\n",
              "      <td>dezembro</td>\n",
              "      <td>51</td>\n",
              "    </tr>\n",
              "    <tr>\n",
              "      <th>7206</th>\n",
              "      <td>Tocantins</td>\n",
              "      <td>Roubo seguido de morte (latrocínio)</td>\n",
              "      <td>2019</td>\n",
              "      <td>dezembro</td>\n",
              "      <td>0</td>\n",
              "    </tr>\n",
              "    <tr>\n",
              "      <th>7207</th>\n",
              "      <td>Tocantins</td>\n",
              "      <td>Tentativa de homicídio</td>\n",
              "      <td>2019</td>\n",
              "      <td>dezembro</td>\n",
              "      <td>43</td>\n",
              "    </tr>\n",
              "  </tbody>\n",
              "</table>\n",
              "<p>8665 rows × 5 columns</p>\n",
              "</div>"
            ],
            "text/plain": [
              "             UF                            TipoCrime  ...       Mes Ocorrencias\n",
              "7262       Acre                              Estupro  ...     julho          16\n",
              "7263       Acre                     Furto de veículo  ...     julho          56\n",
              "7264       Acre                     Homicídio doloso  ...     julho          51\n",
              "7265       Acre      Lesão corporal seguida de morte  ...     julho           0\n",
              "7266       Acre       Roubo a instituição financeira  ...     julho           0\n",
              "...         ...                                  ...  ...       ...         ...\n",
              "7203  Tocantins       Roubo a instituição financeira  ...  dezembro           0\n",
              "7204  Tocantins                       Roubo de carga  ...  dezembro           0\n",
              "7205  Tocantins                     Roubo de veículo  ...  dezembro          51\n",
              "7206  Tocantins  Roubo seguido de morte (latrocínio)  ...  dezembro           0\n",
              "7207  Tocantins               Tentativa de homicídio  ...  dezembro          43\n",
              "\n",
              "[8665 rows x 5 columns]"
            ]
          },
          "metadata": {},
          "execution_count": 73
        }
      ]
    },
    {
      "cell_type": "code",
      "metadata": {
        "colab": {
          "base_uri": "https://localhost:8080/",
          "height": 424
        },
        "id": "w5-Q9ZmyUbmc",
        "outputId": "aaa6975f-776d-4de0-e2d8-fd4c68b06328"
      },
      "source": [
        "def estrati_estado (data,uf):\n",
        "  estado = data.UF.isin([uf])\n",
        "  return estado\n",
        "\n",
        "df_2.loc[estrati_estado(df_2,'Acre')]"
      ],
      "execution_count": null,
      "outputs": [
        {
          "output_type": "execute_result",
          "data": {
            "text/html": [
              "<div>\n",
              "<style scoped>\n",
              "    .dataframe tbody tr th:only-of-type {\n",
              "        vertical-align: middle;\n",
              "    }\n",
              "\n",
              "    .dataframe tbody tr th {\n",
              "        vertical-align: top;\n",
              "    }\n",
              "\n",
              "    .dataframe thead th {\n",
              "        text-align: right;\n",
              "    }\n",
              "</style>\n",
              "<table border=\"1\" class=\"dataframe\">\n",
              "  <thead>\n",
              "    <tr style=\"text-align: right;\">\n",
              "      <th></th>\n",
              "      <th>UF</th>\n",
              "      <th>TipoCrime</th>\n",
              "      <th>Ano</th>\n",
              "      <th>Mes</th>\n",
              "      <th>Ocorrencias</th>\n",
              "    </tr>\n",
              "  </thead>\n",
              "  <tbody>\n",
              "    <tr>\n",
              "      <th>0</th>\n",
              "      <td>Acre</td>\n",
              "      <td>Estupro</td>\n",
              "      <td>2021</td>\n",
              "      <td>janeiro</td>\n",
              "      <td>39</td>\n",
              "    </tr>\n",
              "    <tr>\n",
              "      <th>1</th>\n",
              "      <td>Acre</td>\n",
              "      <td>Furto de veículo</td>\n",
              "      <td>2021</td>\n",
              "      <td>janeiro</td>\n",
              "      <td>55</td>\n",
              "    </tr>\n",
              "    <tr>\n",
              "      <th>2</th>\n",
              "      <td>Acre</td>\n",
              "      <td>Homicídio doloso</td>\n",
              "      <td>2021</td>\n",
              "      <td>janeiro</td>\n",
              "      <td>14</td>\n",
              "    </tr>\n",
              "    <tr>\n",
              "      <th>3</th>\n",
              "      <td>Acre</td>\n",
              "      <td>Lesão corporal seguida de morte</td>\n",
              "      <td>2021</td>\n",
              "      <td>janeiro</td>\n",
              "      <td>0</td>\n",
              "    </tr>\n",
              "    <tr>\n",
              "      <th>4</th>\n",
              "      <td>Acre</td>\n",
              "      <td>Roubo a instituição financeira</td>\n",
              "      <td>2021</td>\n",
              "      <td>janeiro</td>\n",
              "      <td>0</td>\n",
              "    </tr>\n",
              "    <tr>\n",
              "      <th>...</th>\n",
              "      <td>...</td>\n",
              "      <td>...</td>\n",
              "      <td>...</td>\n",
              "      <td>...</td>\n",
              "      <td>...</td>\n",
              "    </tr>\n",
              "    <tr>\n",
              "      <th>13114</th>\n",
              "      <td>Acre</td>\n",
              "      <td>Roubo a instituição financeira</td>\n",
              "      <td>2016</td>\n",
              "      <td>dezembro</td>\n",
              "      <td>0</td>\n",
              "    </tr>\n",
              "    <tr>\n",
              "      <th>13115</th>\n",
              "      <td>Acre</td>\n",
              "      <td>Roubo de carga</td>\n",
              "      <td>2016</td>\n",
              "      <td>dezembro</td>\n",
              "      <td>0</td>\n",
              "    </tr>\n",
              "    <tr>\n",
              "      <th>13116</th>\n",
              "      <td>Acre</td>\n",
              "      <td>Roubo de veículo</td>\n",
              "      <td>2016</td>\n",
              "      <td>dezembro</td>\n",
              "      <td>0</td>\n",
              "    </tr>\n",
              "    <tr>\n",
              "      <th>13117</th>\n",
              "      <td>Acre</td>\n",
              "      <td>Roubo seguido de morte (latrocínio)</td>\n",
              "      <td>2016</td>\n",
              "      <td>dezembro</td>\n",
              "      <td>4</td>\n",
              "    </tr>\n",
              "    <tr>\n",
              "      <th>13118</th>\n",
              "      <td>Acre</td>\n",
              "      <td>Tentativa de homicídio</td>\n",
              "      <td>2016</td>\n",
              "      <td>dezembro</td>\n",
              "      <td>0</td>\n",
              "    </tr>\n",
              "  </tbody>\n",
              "</table>\n",
              "<p>589 rows × 5 columns</p>\n",
              "</div>"
            ],
            "text/plain": [
              "         UF                            TipoCrime   Ano       Mes  Ocorrencias\n",
              "0      Acre                              Estupro  2021   janeiro           39\n",
              "1      Acre                     Furto de veículo  2021   janeiro           55\n",
              "2      Acre                     Homicídio doloso  2021   janeiro           14\n",
              "3      Acre      Lesão corporal seguida de morte  2021   janeiro            0\n",
              "4      Acre       Roubo a instituição financeira  2021   janeiro            0\n",
              "...     ...                                  ...   ...       ...          ...\n",
              "13114  Acre       Roubo a instituição financeira  2016  dezembro            0\n",
              "13115  Acre                       Roubo de carga  2016  dezembro            0\n",
              "13116  Acre                     Roubo de veículo  2016  dezembro            0\n",
              "13117  Acre  Roubo seguido de morte (latrocínio)  2016  dezembro            4\n",
              "13118  Acre               Tentativa de homicídio  2016  dezembro            0\n",
              "\n",
              "[589 rows x 5 columns]"
            ]
          },
          "metadata": {},
          "execution_count": 90
        }
      ]
    },
    {
      "cell_type": "code",
      "metadata": {
        "colab": {
          "base_uri": "https://localhost:8080/"
        },
        "id": "KQglb03yWred",
        "outputId": "48b8a756-23d6-4a58-fa02-b47bcd1fd22d"
      },
      "source": [
        "df_2['UF'].unique()"
      ],
      "execution_count": null,
      "outputs": [
        {
          "output_type": "execute_result",
          "data": {
            "text/plain": [
              "array(['Acre', 'Alagoas', 'Amapá', 'Amazonas', 'Bahia', 'Ceará',\n",
              "       'Distrito Federal', 'Espírito Santo', 'Goiás', 'Maranhão',\n",
              "       'Mato Grosso', 'Mato Grosso do Sul', 'Minas Gerais', 'Pará',\n",
              "       'Paraíba', 'Paraná', 'Pernambuco', 'Piauí', 'Rio de Janeiro',\n",
              "       'Rio Grande do Norte', 'Rio Grande do Sul', 'Rondônia', 'Roraima',\n",
              "       'Santa Catarina', 'São Paulo', 'Sergipe', 'Tocantins'],\n",
              "      dtype=object)"
            ]
          },
          "metadata": {},
          "execution_count": 93
        }
      ]
    },
    {
      "cell_type": "code",
      "metadata": {
        "colab": {
          "base_uri": "https://localhost:8080/"
        },
        "id": "MpJyrd0lR1eg",
        "outputId": "620ee9d5-572b-437a-f602-05f92a3120d1"
      },
      "source": [
        "ocrr_antes_merge['Ocorrencias'].describe()"
      ],
      "execution_count": null,
      "outputs": [
        {
          "output_type": "execute_result",
          "data": {
            "text/plain": [
              "count    6988.000000\n",
              "mean      245.585289\n",
              "std       787.168099\n",
              "min         0.000000\n",
              "25%         3.000000\n",
              "50%        36.000000\n",
              "75%       205.250000\n",
              "max      9872.000000\n",
              "Name: Ocorrencias, dtype: float64"
            ]
          },
          "metadata": {},
          "execution_count": 74
        }
      ]
    },
    {
      "cell_type": "code",
      "metadata": {
        "colab": {
          "base_uri": "https://localhost:8080/"
        },
        "id": "woJlBc-gSDV3",
        "outputId": "713049cf-0bae-4d58-b035-afe308828b69"
      },
      "source": [
        "ocrr_depois_merge['Ocorrencias'].describe()"
      ],
      "execution_count": null,
      "outputs": [
        {
          "output_type": "execute_result",
          "data": {
            "text/plain": [
              "count    8665.000000\n",
              "mean      176.696942\n",
              "std       557.436760\n",
              "min         0.000000\n",
              "25%         2.000000\n",
              "50%        32.000000\n",
              "75%       156.000000\n",
              "max      8558.000000\n",
              "Name: Ocorrencias, dtype: float64"
            ]
          },
          "metadata": {},
          "execution_count": 76
        }
      ]
    },
    {
      "cell_type": "code",
      "metadata": {
        "colab": {
          "base_uri": "https://localhost:8080/",
          "height": 285
        },
        "id": "xK_UBwUGSElj",
        "outputId": "e8985bee-e4c3-4a44-ea92-450821482a45"
      },
      "source": [
        "ocrr_antes_merge[ocrr_antes_merge['Ocorrencias'] > 0]['Ocorrencias'].plot(kind='box')"
      ],
      "execution_count": null,
      "outputs": [
        {
          "output_type": "execute_result",
          "data": {
            "text/plain": [
              "<matplotlib.axes._subplots.AxesSubplot at 0x7f0968441790>"
            ]
          },
          "metadata": {},
          "execution_count": 80
        },
        {
          "output_type": "display_data",
          "data": {
            "image/png": "[encoded data removed]",
            "text/plain": [
              "<Figure size 432x288 with 1 Axes>"
            ]
          },
          "metadata": {
            "needs_background": "light"
          }
        }
      ]
    },
    {
      "cell_type": "code",
      "metadata": {
        "colab": {
          "base_uri": "https://localhost:8080/",
          "height": 285
        },
        "id": "f9h9YAYGSg2I",
        "outputId": "87d47f7b-0fb6-48d0-c123-69c4e11b0b96"
      },
      "source": [
        "ocrr_depois_merge[ocrr_depois_merge['Ocorrencias'] > 0]['Ocorrencias'].plot(kind='box')"
      ],
      "execution_count": null,
      "outputs": [
        {
          "output_type": "execute_result",
          "data": {
            "text/plain": [
              "<matplotlib.axes._subplots.AxesSubplot at 0x7f09694aba90>"
            ]
          },
          "metadata": {},
          "execution_count": 81
        },
        {
          "output_type": "display_data",
          "data": {
            "image/png": "[encoded data removed]",
            "text/plain": [
              "<Figure size 432x288 with 1 Axes>"
            ]
          },
          "metadata": {
            "needs_background": "light"
          }
        }
      ]
    },
    {
      "cell_type": "markdown",
      "metadata": {
        "id": "JAz5MTY7SvC5"
      },
      "source": [
        "\n",
        "\n",
        "*   H0: O número de ocorrências não diminuiu depois da Lei\n",
        "*   H1: O número de ocorrências diminuiu depois da Lei\n",
        "\n"
      ]
    },
    {
      "cell_type": "code",
      "metadata": {
        "id": "KWXUXpuzWxn4"
      },
      "source": [
        "arr_estados = ['Acre', 'Alagoas', 'Amapá', 'Amazonas', 'Bahia', 'Ceará',\n",
        "       'Distrito Federal', 'Espírito Santo', 'Goiás', 'Maranhão',\n",
        "       'Mato Grosso', 'Mato Grosso do Sul', 'Minas Gerais', 'Pará',\n",
        "       'Paraíba', 'Paraná', 'Pernambuco', 'Piauí', 'Rio de Janeiro',\n",
        "       'Rio Grande do Norte', 'Rio Grande do Sul', 'Rondônia', 'Roraima',\n",
        "       'Santa Catarina', 'São Paulo', 'Sergipe', 'Tocantins']"
      ],
      "execution_count": null,
      "outputs": []
    },
    {
      "cell_type": "code",
      "metadata": {
        "id": "jf_G4NtYWWC0"
      },
      "source": [
        "ocrr_antes_merge_estado = ocrr_antes_merge.loc[estrati_estado(ocrr_antes_merge,'Acre')]"
      ],
      "execution_count": null,
      "outputs": []
    },
    {
      "cell_type": "code",
      "metadata": {
        "colab": {
          "base_uri": "https://localhost:8080/"
        },
        "id": "dz4LDTMzSo2B",
        "outputId": "626310ba-1d1e-4c00-e3ad-85e186b31c74"
      },
      "source": [
        "stats.shapiro(ocrr_antes_merge_estado['Ocorrencias'].dropna())\n"
      ],
      "execution_count": null,
      "outputs": [
        {
          "output_type": "execute_result",
          "data": {
            "text/plain": [
              "(0.5282872915267944, 6.478121439591874e-26)"
            ]
          },
          "metadata": {},
          "execution_count": 92
        }
      ]
    },
    {
      "cell_type": "code",
      "metadata": {
        "colab": {
          "base_uri": "https://localhost:8080/"
        },
        "id": "hI5Bix0EWlt5",
        "outputId": "7fce9ca7-d15d-4f14-a201-4f9b8558e6c3"
      },
      "source": [
        "for i in arr_estados:\n",
        "  ocrr_antes_merge_estado = ocrr_antes_merge.loc[estrati_estado(ocrr_antes_merge,i)]\n",
        "  print(\"Estado\", i)\n",
        "  print(stats.shapiro(ocrr_antes_merge_estado['Ocorrencias'].dropna()))\n",
        "  print(\"---------------\")"
      ],
      "execution_count": null,
      "outputs": [
        {
          "output_type": "stream",
          "name": "stdout",
          "text": [
            "Estado Acre\n",
            "(0.5282872915267944, 6.478121439591874e-26)\n",
            "---------------\n",
            "Estado Alagoas\n",
            "(0.7521891593933105, 1.6109986079384357e-19)\n",
            "---------------\n",
            "Estado Amapá\n",
            "(0.8688415884971619, 2.7050239760802175e-13)\n",
            "---------------\n",
            "Estado Amazonas\n",
            "(0.737622857093811, 4.772337441650572e-20)\n",
            "---------------\n",
            "Estado Bahia\n",
            "(0.7716934680938721, 8.956005467276217e-19)\n",
            "---------------\n",
            "Estado Ceará\n",
            "(0.7511661648750305, 1.4765219170511293e-19)\n",
            "---------------\n",
            "Estado Distrito Federal\n",
            "(0.6631547212600708, 1.8969428954374824e-22)\n",
            "---------------\n",
            "Estado Espírito Santo\n",
            "(0.7840126752853394, 2.801203303838363e-18)\n",
            "---------------\n",
            "Estado Goiás\n",
            "(0.6874921321868896, 1.0326891524875308e-21)\n",
            "---------------\n",
            "Estado Maranhão\n",
            "(0.8173143267631531, 7.92212842559104e-17)\n",
            "---------------\n",
            "Estado Mato Grosso\n",
            "(0.8510528206825256, 3.80460264258909e-15)\n",
            "---------------\n",
            "Estado Mato Grosso do Sul\n",
            "(0.7344422340393066, 3.68380459091744e-20)\n",
            "---------------\n",
            "Estado Minas Gerais\n",
            "(0.6824480295181274, 7.210243199785817e-22)\n",
            "---------------\n",
            "Estado Pará\n",
            "(0.8349704742431641, 5.598071453348009e-16)\n",
            "---------------\n",
            "Estado Paraíba\n",
            "(0.5568087100982666, 2.975189150560079e-25)\n",
            "---------------\n",
            "Estado Paraná\n",
            "(0.7290772199630737, 2.1607357344577887e-19)\n",
            "---------------\n",
            "Estado Pernambuco\n",
            "(0.7014870643615723, 2.8648726008145713e-21)\n",
            "---------------\n",
            "Estado Piauí\n",
            "(0.738937258720398, 5.3149262413373035e-20)\n",
            "---------------\n",
            "Estado Rio de Janeiro\n",
            "(0.646938681602478, 6.455951820262273e-23)\n",
            "---------------\n",
            "Estado Rio Grande do Norte\n",
            "(0.579453706741333, 1.054878410312152e-24)\n",
            "---------------\n",
            "Estado Rio Grande do Sul\n",
            "(0.7264834642410278, 1.9467728028178184e-20)\n",
            "---------------\n",
            "Estado Rondônia\n",
            "(0.7820079922676086, 2.3193112468172736e-18)\n",
            "---------------\n",
            "Estado Roraima\n",
            "(0.7496362924575806, 1.2967307212445195e-19)\n",
            "---------------\n",
            "Estado Santa Catarina\n",
            "(0.5751089453697205, 8.241157893286309e-25)\n",
            "---------------\n",
            "Estado São Paulo\n",
            "(0.6470118761062622, 1.4088357783118331e-22)\n",
            "---------------\n",
            "Estado Sergipe\n",
            "(0.7634874582290649, 4.296499661704426e-19)\n",
            "---------------\n",
            "Estado Tocantins\n",
            "(0.7882506847381592, 4.19300044531753e-18)\n",
            "---------------\n"
          ]
        }
      ]
    },
    {
      "cell_type": "code",
      "metadata": {
        "colab": {
          "base_uri": "https://localhost:8080/"
        },
        "id": "l247tkcmTKTZ",
        "outputId": "ccbb9e71-ac80-413d-b1de-5bda87e8edae"
      },
      "source": [
        "stats.shapiro(ocrr_depois_merge['Ocorrencias'].dropna())"
      ],
      "execution_count": null,
      "outputs": [
        {
          "output_type": "stream",
          "name": "stderr",
          "text": [
            "/usr/local/lib/python3.7/dist-packages/scipy/stats/morestats.py:1676: UserWarning: p-value may not be accurate for N > 5000.\n",
            "  warnings.warn(\"p-value may not be accurate for N > 5000.\")\n"
          ]
        },
        {
          "output_type": "execute_result",
          "data": {
            "text/plain": [
              "(0.2907981276512146, 0.0)"
            ]
          },
          "metadata": {},
          "execution_count": 83
        }
      ]
    },
    {
      "cell_type": "code",
      "metadata": {
        "colab": {
          "base_uri": "https://localhost:8080/",
          "height": 342
        },
        "id": "TBAacLrYTYRw",
        "outputId": "a386db9d-47ad-4820-8262-7e86d8511a59"
      },
      "source": [
        "ocrr_antes_merge_estado.plot.scatter(x='Ano',y='Ocorrencias')"
      ],
      "execution_count": null,
      "outputs": [
        {
          "output_type": "stream",
          "name": "stderr",
          "text": [
            "*c* argument looks like a single numeric RGB or RGBA sequence, which should be avoided as value-mapping will have precedence in case its length matches with *x* & *y*.  Please use the *color* keyword-argument or provide a 2-D array with a single row if you intend to specify the same RGB or RGBA value for all points.\n"
          ]
        },
        {
          "output_type": "execute_result",
          "data": {
            "text/plain": [
              "<matplotlib.axes._subplots.AxesSubplot at 0x7f09665647d0>"
            ]
          },
          "metadata": {},
          "execution_count": 100
        },
        {
          "output_type": "display_data",
          "data": {
            "image/png": "[encoded data removed]",
            "text/plain": [
              "<Figure size 432x288 with 1 Axes>"
            ]
          },
          "metadata": {
            "needs_background": "light"
          }
        }
      ]
    },
    {
      "cell_type": "code",
      "metadata": {
        "colab": {
          "base_uri": "https://localhost:8080/"
        },
        "id": "S4UsrKysT4fD",
        "outputId": "749357f0-af77-441c-a412-0226c072fd2f"
      },
      "source": [
        "for i in arr_estados:\n",
        "  ocrr_depois_merge_estado = ocrr_depois_merge.loc[estrati_estado(ocrr_depois_merge,i)]\n",
        "  print(\"Estado\", i)\n",
        "  print(stats.shapiro(ocrr_depois_merge_estado['Ocorrencias'].dropna()))\n",
        "  print(\"---------------\")"
      ],
      "execution_count": null,
      "outputs": [
        {
          "output_type": "stream",
          "name": "stdout",
          "text": [
            "Estado Acre\n",
            "(0.7537997364997864, 1.6787293277949497e-21)\n",
            "---------------\n",
            "Estado Alagoas\n",
            "(0.8020013570785522, 1.8449423457685658e-19)\n",
            "---------------\n",
            "Estado Amapá\n",
            "(0.8068486452102661, 1.2296218683408221e-18)\n",
            "---------------\n",
            "Estado Amazonas\n",
            "(0.8062971234321594, 2.2181287565309856e-19)\n",
            "---------------\n",
            "Estado Bahia\n",
            "(0.7988641262054443, 9.912675905598622e-20)\n",
            "---------------\n",
            "Estado Ceará\n",
            "(0.7779566049575806, 1.1519944058221414e-20)\n",
            "---------------\n",
            "Estado Distrito Federal\n",
            "(0.6780170202255249, 2.1890708681874877e-24)\n",
            "---------------\n",
            "Estado Espírito Santo\n",
            "(0.7883585095405579, 3.2950975576771406e-20)\n",
            "---------------\n",
            "Estado Goiás\n",
            "(0.6909681558609009, 6.3456736411056254e-24)\n",
            "---------------\n",
            "Estado Maranhão\n",
            "(0.8404558897018433, 1.24351600041036e-17)\n",
            "---------------\n",
            "Estado Mato Grosso\n",
            "(0.8639353513717651, 2.901437510134517e-16)\n",
            "---------------\n",
            "Estado Mato Grosso do Sul\n",
            "(0.7191389799118042, 5.581796749613868e-23)\n",
            "---------------\n",
            "Estado Minas Gerais\n",
            "(0.6218401193618774, 4.2434402732160756e-26)\n",
            "---------------\n",
            "Estado Pará\n",
            "(0.857109785079956, 1.1179434652415835e-16)\n",
            "---------------\n",
            "Estado Paraíba\n",
            "(0.7062315940856934, 2.2811897848503092e-23)\n",
            "---------------\n",
            "Estado Paraná\n",
            "(0.7112637162208557, 3.1622732630570887e-23)\n",
            "---------------\n",
            "Estado Pernambuco\n",
            "(0.7728670835494995, 6.981636206701267e-21)\n",
            "---------------\n",
            "Estado Piauí\n",
            "(0.6971551179885864, 9.47440958718251e-24)\n",
            "---------------\n",
            "Estado Rio de Janeiro\n",
            "(0.6764799356460571, 1.951795510178075e-24)\n",
            "---------------\n",
            "Estado Rio Grande do Norte\n",
            "(0.5647364854812622, 7.250481439272562e-27)\n",
            "---------------\n",
            "Estado Rio Grande do Sul\n",
            "(0.7689020037651062, 4.7538526206787825e-21)\n",
            "---------------\n",
            "Estado Rondônia\n",
            "(0.7606411576271057, 1.0787603257189285e-20)\n",
            "---------------\n",
            "Estado Roraima\n",
            "(0.8007566928863525, 1.2143158733825057e-19)\n",
            "---------------\n",
            "Estado Santa Catarina\n",
            "(0.6026448011398315, 1.3346708381299144e-26)\n",
            "---------------\n",
            "Estado São Paulo\n",
            "(0.6470514535903931, 2.344255733373985e-25)\n",
            "---------------\n",
            "Estado Sergipe\n",
            "(0.742901086807251, 4.636267058874005e-22)\n",
            "---------------\n",
            "Estado Tocantins\n",
            "(0.7798505425453186, 1.8648764291788134e-20)\n",
            "---------------\n"
          ]
        }
      ]
    },
    {
      "cell_type": "code",
      "metadata": {
        "id": "8NY5RLNtXjk2"
      },
      "source": [
        ""
      ],
      "execution_count": null,
      "outputs": []
    }
  ]
}