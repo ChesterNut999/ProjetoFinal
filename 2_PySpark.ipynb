{
  "nbformat": 4,
  "nbformat_minor": 0,
  "metadata": {
    "colab": {
      "name": "2_PySpark",
      "provenance": [],
      "collapsed_sections": [
        "wox7CNOGJGrF",
        "QVW92KejMHoY",
        "E7EKwiUaOZ7N",
        "lsZ927gDOKDx",
        "iE5ise9dksK1",
        "Z-SnL3GEesv8"
      ],
      "include_colab_link": true
    },
    "kernelspec": {
      "display_name": "Python 3",
      "name": "python3"
    }
  },
  "cells": [
    {
      "cell_type": "markdown",
      "metadata": {
        "id": "view-in-github",
        "colab_type": "text"
      },
      "source": [
        "<a href=\"https://colab.research.google.com/github/MarianaDuartee/ProjetoFinal/blob/main/2_PySpark.ipynb\" target=\"_parent\"><img src=\"https://colab.research.google.com/assets/colab-badge.svg\" alt=\"Open In Colab\"/></a>"
      ]
    },
    {
      "cell_type": "markdown",
      "metadata": {
        "id": "wox7CNOGJGrF"
      },
      "source": [
        "### INSTALANDO DEPENDECIAS"
      ]
    },
    {
      "cell_type": "code",
      "metadata": {
        "id": "AG4awT5LJEmS",
        "colab": {
          "base_uri": "https://localhost:8080/"
        },
        "outputId": "d575bd44-23b8-4820-ef33-bd93388a6ab8"
      },
      "source": [
        "!pip install pyspark\n",
        "!pip install gcsfs\n",
        "!pip install pandas"
      ],
      "execution_count": 9,
      "outputs": [
        {
          "output_type": "stream",
          "name": "stdout",
          "text": [
            "Requirement already satisfied: pyspark in /usr/local/lib/python3.7/dist-packages (3.2.0)\n",
            "Requirement already satisfied: py4j==0.10.9.2 in /usr/local/lib/python3.7/dist-packages (from pyspark) (0.10.9.2)\n",
            "Requirement already satisfied: gcsfs in /usr/local/lib/python3.7/dist-packages (2021.11.0)\n",
            "Requirement already satisfied: google-auth>=1.2 in /usr/local/lib/python3.7/dist-packages (from gcsfs) (1.35.0)\n",
            "Requirement already satisfied: decorator>4.1.2 in /usr/local/lib/python3.7/dist-packages (from gcsfs) (4.4.2)\n",
            "Requirement already satisfied: fsspec==2021.11.0 in /usr/local/lib/python3.7/dist-packages (from gcsfs) (2021.11.0)\n",
            "Requirement already satisfied: google-auth-oauthlib in /usr/local/lib/python3.7/dist-packages (from gcsfs) (0.4.6)\n",
            "Requirement already satisfied: google-cloud-storage in /usr/local/lib/python3.7/dist-packages (from gcsfs) (1.18.1)\n",
            "Requirement already satisfied: aiohttp in /usr/local/lib/python3.7/dist-packages (from gcsfs) (3.8.1)\n",
            "Requirement already satisfied: requests in /usr/local/lib/python3.7/dist-packages (from gcsfs) (2.23.0)\n",
            "Requirement already satisfied: setuptools>=40.3.0 in /usr/local/lib/python3.7/dist-packages (from google-auth>=1.2->gcsfs) (57.4.0)\n",
            "Requirement already satisfied: cachetools<5.0,>=2.0.0 in /usr/local/lib/python3.7/dist-packages (from google-auth>=1.2->gcsfs) (4.2.4)\n",
            "Requirement already satisfied: pyasn1-modules>=0.2.1 in /usr/local/lib/python3.7/dist-packages (from google-auth>=1.2->gcsfs) (0.2.8)\n",
            "Requirement already satisfied: six>=1.9.0 in /usr/local/lib/python3.7/dist-packages (from google-auth>=1.2->gcsfs) (1.15.0)\n",
            "Requirement already satisfied: rsa<5,>=3.1.4 in /usr/local/lib/python3.7/dist-packages (from google-auth>=1.2->gcsfs) (4.7.2)\n",
            "Requirement already satisfied: pyasn1<0.5.0,>=0.4.6 in /usr/local/lib/python3.7/dist-packages (from pyasn1-modules>=0.2.1->google-auth>=1.2->gcsfs) (0.4.8)\n",
            "Requirement already satisfied: async-timeout<5.0,>=4.0.0a3 in /usr/local/lib/python3.7/dist-packages (from aiohttp->gcsfs) (4.0.1)\n",
            "Requirement already satisfied: multidict<7.0,>=4.5 in /usr/local/lib/python3.7/dist-packages (from aiohttp->gcsfs) (5.2.0)\n",
            "Requirement already satisfied: yarl<2.0,>=1.0 in /usr/local/lib/python3.7/dist-packages (from aiohttp->gcsfs) (1.7.2)\n",
            "Requirement already satisfied: typing-extensions>=3.7.4 in /usr/local/lib/python3.7/dist-packages (from aiohttp->gcsfs) (3.10.0.2)\n",
            "Requirement already satisfied: frozenlist>=1.1.1 in /usr/local/lib/python3.7/dist-packages (from aiohttp->gcsfs) (1.2.0)\n",
            "Requirement already satisfied: attrs>=17.3.0 in /usr/local/lib/python3.7/dist-packages (from aiohttp->gcsfs) (21.2.0)\n",
            "Requirement already satisfied: charset-normalizer<3.0,>=2.0 in /usr/local/lib/python3.7/dist-packages (from aiohttp->gcsfs) (2.0.7)\n",
            "Requirement already satisfied: aiosignal>=1.1.2 in /usr/local/lib/python3.7/dist-packages (from aiohttp->gcsfs) (1.2.0)\n",
            "Requirement already satisfied: asynctest==0.13.0 in /usr/local/lib/python3.7/dist-packages (from aiohttp->gcsfs) (0.13.0)\n",
            "Requirement already satisfied: idna>=2.0 in /usr/local/lib/python3.7/dist-packages (from yarl<2.0,>=1.0->aiohttp->gcsfs) (2.10)\n",
            "Requirement already satisfied: requests-oauthlib>=0.7.0 in /usr/local/lib/python3.7/dist-packages (from google-auth-oauthlib->gcsfs) (1.3.0)\n",
            "Requirement already satisfied: oauthlib>=3.0.0 in /usr/local/lib/python3.7/dist-packages (from requests-oauthlib>=0.7.0->google-auth-oauthlib->gcsfs) (3.1.1)\n",
            "Requirement already satisfied: chardet<4,>=3.0.2 in /usr/local/lib/python3.7/dist-packages (from requests->gcsfs) (3.0.4)\n",
            "Requirement already satisfied: urllib3!=1.25.0,!=1.25.1,<1.26,>=1.21.1 in /usr/local/lib/python3.7/dist-packages (from requests->gcsfs) (1.24.3)\n",
            "Requirement already satisfied: certifi>=2017.4.17 in /usr/local/lib/python3.7/dist-packages (from requests->gcsfs) (2021.10.8)\n",
            "Requirement already satisfied: google-cloud-core<2.0dev,>=1.0.0 in /usr/local/lib/python3.7/dist-packages (from google-cloud-storage->gcsfs) (1.0.3)\n",
            "Requirement already satisfied: google-resumable-media<0.5.0dev,>=0.3.1 in /usr/local/lib/python3.7/dist-packages (from google-cloud-storage->gcsfs) (0.4.1)\n",
            "Requirement already satisfied: google-api-core<2.0.0dev,>=1.14.0 in /usr/local/lib/python3.7/dist-packages (from google-cloud-core<2.0dev,>=1.0.0->google-cloud-storage->gcsfs) (1.26.3)\n",
            "Requirement already satisfied: packaging>=14.3 in /usr/local/lib/python3.7/dist-packages (from google-api-core<2.0.0dev,>=1.14.0->google-cloud-core<2.0dev,>=1.0.0->google-cloud-storage->gcsfs) (21.3)\n",
            "Requirement already satisfied: protobuf>=3.12.0 in /usr/local/lib/python3.7/dist-packages (from google-api-core<2.0.0dev,>=1.14.0->google-cloud-core<2.0dev,>=1.0.0->google-cloud-storage->gcsfs) (3.17.3)\n",
            "Requirement already satisfied: pytz in /usr/local/lib/python3.7/dist-packages (from google-api-core<2.0.0dev,>=1.14.0->google-cloud-core<2.0dev,>=1.0.0->google-cloud-storage->gcsfs) (2018.9)\n",
            "Requirement already satisfied: googleapis-common-protos<2.0dev,>=1.6.0 in /usr/local/lib/python3.7/dist-packages (from google-api-core<2.0.0dev,>=1.14.0->google-cloud-core<2.0dev,>=1.0.0->google-cloud-storage->gcsfs) (1.53.0)\n",
            "Requirement already satisfied: pyparsing!=3.0.5,>=2.0.2 in /usr/local/lib/python3.7/dist-packages (from packaging>=14.3->google-api-core<2.0.0dev,>=1.14.0->google-cloud-core<2.0dev,>=1.0.0->google-cloud-storage->gcsfs) (3.0.6)\n",
            "Requirement already satisfied: pandas in /usr/local/lib/python3.7/dist-packages (1.1.5)\n",
            "Requirement already satisfied: pytz>=2017.2 in /usr/local/lib/python3.7/dist-packages (from pandas) (2018.9)\n",
            "Requirement already satisfied: numpy>=1.15.4 in /usr/local/lib/python3.7/dist-packages (from pandas) (1.19.5)\n",
            "Requirement already satisfied: python-dateutil>=2.7.3 in /usr/local/lib/python3.7/dist-packages (from pandas) (2.8.2)\n",
            "Requirement already satisfied: six>=1.5 in /usr/local/lib/python3.7/dist-packages (from python-dateutil>=2.7.3->pandas) (1.15.0)\n"
          ]
        }
      ]
    },
    {
      "cell_type": "markdown",
      "metadata": {
        "id": "QVW92KejMHoY"
      },
      "source": [
        "### IMPORTANDO BIBLIOTECAS, ABRINDO SPARKSESSION E CONFIGURANDO CHAVE DE SERVIÇO"
      ]
    },
    {
      "cell_type": "code",
      "metadata": {
        "id": "WA3IQkKCL2sI"
      },
      "source": [
        "from pyspark.sql import SparkSession\n",
        "from pyspark import SQLContext\n",
        "from google.cloud import storage\n",
        "from pyspark.sql.types import *\n",
        "from pyspark.sql.types import DateType\n",
        "from pyspark.sql import Window\n",
        "\n",
        "import pyspark\n",
        "import pyspark.sql.functions as F\n",
        "import os\n",
        "import gcsfs\n",
        "import pandas as pd"
      ],
      "execution_count": 10,
      "outputs": []
    },
    {
      "cell_type": "code",
      "metadata": {
        "id": "gO9olZPDMpxb"
      },
      "source": [
        "spark = SparkSession.builder\\\n",
        ".master('local')\\\n",
        ".appName('Projeto_Final')\\\n",
        ".config('spark.ui.enable', 'true')\\\n",
        ".config('spark.ui.port', '4050')\\\n",
        ".getOrCreate()\n",
        "\n",
        "spark\n",
        "\n",
        "serviceaccount = '/content/soulcode-projeto-final-4b88bea6e07a.json'\n",
        "os.environ[\"GOOGLE_APPLICATION_CREDENTIALS\"] = serviceaccount"
      ],
      "execution_count": 11,
      "outputs": []
    },
    {
      "cell_type": "markdown",
      "metadata": {
        "id": "E7EKwiUaOZ7N"
      },
      "source": [
        "### IMPORTANDO, EXTRAINDO INFORMAÇÕES E ANALISANDO DATAFRAMES"
      ]
    },
    {
      "cell_type": "code",
      "metadata": {
        "id": "zjEFDl68OhtS",
        "colab": {
          "base_uri": "https://localhost:8080/"
        },
        "outputId": "8618bcb8-b3e4-48cc-e806-972ff03088f2"
      },
      "source": [
        "'''https://acervolima.com/como-converter-pandas-para-pyspark-dataframe/'''\n",
        "\n",
        "# ARQUIVO 1\n",
        "file_path_1 = 'gs://data_lake_ingest_data/2_temp/temp_pandas_despesas_normalizado.csv'\n",
        "\n",
        "fs = gcsfs.GCSFileSystem(project='soulcode-projeto-final', token=serviceaccount)\n",
        "with fs.open(file_path_1):\n",
        "    data = pd.read_csv(file_path_1, sep=',', encoding='UTF-8', header=0)\n",
        "\n",
        "df_1 = spark.createDataFrame(data)\n",
        "\n",
        "# --------------------------------------------\n",
        "\n",
        "#ARQUIVO 2\n",
        "file_path_2 = 'gs://data_lake_ingest_data/2_temp/temp_pandas_ocorrencias_normalizado.json'\n",
        "\n",
        "fs = gcsfs.GCSFileSystem(project='soulcode-projeto-final', token=serviceaccount)\n",
        "with fs.open(file_path_2):\n",
        "    data = pd.read_json(file_path_2, encoding='UTF-8')\n",
        "\n",
        "df_2 = spark.createDataFrame(data)\n",
        "\n",
        "# --------------------------------------------\n",
        "\n",
        "#ARQUIVO 3\n",
        "file_path_3 = 'gs://data_lake_ingest_data/2_temp/temp_pandas_vitimas_normalizado.json'\n",
        "\n",
        "fs = gcsfs.GCSFileSystem(project='soulcode-projeto-final', token=serviceaccount)\n",
        "with fs.open(file_path_3):\n",
        "    data = pd.read_json(file_path_3, encoding='UTF-8')\n",
        "\n",
        "df_3 = spark.createDataFrame(data)\n",
        "\n",
        "# --------------------------------------------\n",
        "\n",
        "#ARQUIVO 4\n",
        "file_path_4 = 'gs://data_lake_ingest_data/2_temp/temp_pandas_ocorrencias_normalizado.json'\n",
        "\n",
        "fs = gcsfs.GCSFileSystem(project='soulcode-projeto-final', token=serviceaccount)\n",
        "with fs.open(file_path_4):\n",
        "    data = pd.read_json(file_path_4, encoding='UTF-8')\n",
        "\n",
        "df_4 = spark.createDataFrame(data)\n",
        "\n",
        "# --------------------------------------------\n",
        "\n",
        "#ARQUIVO 5\n",
        "file_path_5 = 'gs://data_lake_ingest_data/2_temp/temp_pandas_ocorrencia_vitimas_porAnoEstado.csv'\n",
        "\n",
        "fs = gcsfs.GCSFileSystem(project='soulcode-projeto-final', token=serviceaccount)\n",
        "with fs.open(file_path_5):\n",
        "    data = pd.read_csv(file_path_5, sep=',', encoding='UTF-8')\n",
        "\n",
        "df_5 = spark.createDataFrame(data)\n",
        "\n",
        "# --------------------------------------------\n",
        "\n",
        "# ARQUIVO 6\n",
        "file_path_6 = 'gs://data_lake_ingest_data/1_input/Tabela_frequencia_escolar.xlsx'\n",
        "\n",
        "fs = gcsfs.GCSFileSystem(project='soulcode-projeto-final', token=serviceaccount)\n",
        "with fs.open(file_path_6):\n",
        "    data = pd.read_excel(file_path_6, header=0)\n",
        "\n",
        "df_6 = spark.createDataFrame(data)\n",
        "\n",
        "# --------------------------------------------\n",
        "\n",
        "# ARQUIVO 7\n",
        "file_path_7 = 'gs://data_lake_ingest_data/2_temp/temp_pandas_taxa_analfabetismo_normalizado.csv'\n",
        "\n",
        "fs = gcsfs.GCSFileSystem(project='soulcode-projeto-final', token=serviceaccount)\n",
        "with fs.open(file_path_7):\n",
        "    data = pd.read_csv(file_path_7, header=0)\n",
        "\n",
        "df_7 = spark.createDataFrame(data)\n",
        "\n",
        "# --------------------------------------------\n",
        "\n",
        "df_1.printSchema()\n",
        "df_1.show(5, truncate=False)\n",
        "df_1.dtypes\n",
        "\n",
        "df_2.printSchema()\n",
        "df_2.show(5, truncate=False)\n",
        "df_2.dtypes\n",
        "\n",
        "df_3.printSchema()\n",
        "df_3.show(5, truncate=False)\n",
        "df_3.dtypes\n",
        "\n",
        "df_4.printSchema()\n",
        "df_4.show(5, truncate=False)\n",
        "df_4.dtypes\n",
        "\n",
        "df_5.printSchema()\n",
        "df_5.show(5, truncate=False)\n",
        "df_5.dtypes\n",
        "\n",
        "df_6.printSchema()\n",
        "df_6.show(5, truncate=False)\n",
        "df_6.dtypes\n",
        "\n",
        "df_7.printSchema()\n",
        "df_7.show(5, truncate=False)\n",
        "df_7.dtypes"
      ],
      "execution_count": 13,
      "outputs": [
        {
          "output_type": "stream",
          "name": "stdout",
          "text": [
            "root\n",
            " |-- UF: string (nullable = true)\n",
            " |-- Despesas2016: double (nullable = true)\n",
            " |-- Despesas2017: double (nullable = true)\n",
            " |-- Despesas2018: double (nullable = true)\n",
            " |-- Despesas2019: double (nullable = true)\n",
            " |-- Despesas2020: double (nullable = true)\n",
            " |-- Variacao%: double (nullable = true)\n",
            " |-- Previsao2021|Media: double (nullable = true)\n",
            "\n",
            "+--------+------------------+------------+------------------+------------+------------------+---------+------------------+\n",
            "|UF      |Despesas2016      |Despesas2017|Despesas2018      |Despesas2019|Despesas2020      |Variacao%|Previsao2021|Media|\n",
            "+--------+------------------+------------+------------------+------------+------------------+---------+------------------+\n",
            "|Acre    |498.535           |568.361     |627.351           |692.57      |493.75300000000004|8.5      |576.114           |\n",
            "|Amapá   |475.32300000000004|500.227     |489.228           |606.366     |752.252           |52.3     |564.6792          |\n",
            "|Amazonas|1604.7320000000002|1578.957    |1862.6689999999999|2108.46     |2101.447          |60.4     |1851.253          |\n",
            "|Pará    |2551.741          |2579.916    |2903.2            |2943.448    |2966.553          |58.0     |2788.9716         |\n",
            "|Rondônia|874.8739999999999 |895.868     |903.2539999999999 |853.971     |999.044           |-14.7    |905.4022          |\n",
            "+--------+------------------+------------+------------------+------------+------------------+---------+------------------+\n",
            "only showing top 5 rows\n",
            "\n",
            "root\n",
            " |-- UF: string (nullable = true)\n",
            " |-- TipoCrime: string (nullable = true)\n",
            " |-- Ano: long (nullable = true)\n",
            " |-- Mes: string (nullable = true)\n",
            " |-- Ocorrencias: long (nullable = true)\n",
            "\n",
            "+----+-------------------------------+----+-------+-----------+\n",
            "|UF  |TipoCrime                      |Ano |Mes    |Ocorrencias|\n",
            "+----+-------------------------------+----+-------+-----------+\n",
            "|Acre|Estupro                        |2021|janeiro|39         |\n",
            "|Acre|Furto de veículo               |2021|janeiro|55         |\n",
            "|Acre|Homicídio doloso               |2021|janeiro|14         |\n",
            "|Acre|Lesão corporal seguida de morte|2021|janeiro|0          |\n",
            "|Acre|Roubo a instituição financeira |2021|janeiro|0          |\n",
            "+----+-------------------------------+----+-------+-----------+\n",
            "only showing top 5 rows\n",
            "\n",
            "root\n",
            " |-- UF: string (nullable = true)\n",
            " |-- TipoCrime: string (nullable = true)\n",
            " |-- Ano: long (nullable = true)\n",
            " |-- Mes: string (nullable = true)\n",
            " |-- SexoVitima: string (nullable = true)\n",
            " |-- Vitimas: long (nullable = true)\n",
            "\n",
            "+----+----------------+----+---------+----------+-------+\n",
            "|UF  |TipoCrime       |Ano |Mes      |SexoVitima|Vitimas|\n",
            "+----+----------------+----+---------+----------+-------+\n",
            "|Acre|Homicídio doloso|2021|janeiro  |Feminino  |1      |\n",
            "|Acre|Homicídio doloso|2021|janeiro  |Masculino |13     |\n",
            "|Acre|Homicídio doloso|2021|janeiro  |Sexo NI   |0      |\n",
            "|Acre|Homicídio doloso|2021|fevereiro|Feminino  |4      |\n",
            "|Acre|Homicídio doloso|2021|fevereiro|Masculino |12     |\n",
            "+----+----------------+----+---------+----------+-------+\n",
            "only showing top 5 rows\n",
            "\n",
            "root\n",
            " |-- UF: string (nullable = true)\n",
            " |-- TipoCrime: string (nullable = true)\n",
            " |-- Ano: long (nullable = true)\n",
            " |-- Mes: string (nullable = true)\n",
            " |-- Ocorrencias: long (nullable = true)\n",
            "\n",
            "+----+-------------------------------+----+-------+-----------+\n",
            "|UF  |TipoCrime                      |Ano |Mes    |Ocorrencias|\n",
            "+----+-------------------------------+----+-------+-----------+\n",
            "|Acre|Estupro                        |2021|janeiro|39         |\n",
            "|Acre|Furto de veículo               |2021|janeiro|55         |\n",
            "|Acre|Homicídio doloso               |2021|janeiro|14         |\n",
            "|Acre|Lesão corporal seguida de morte|2021|janeiro|0          |\n",
            "|Acre|Roubo a instituição financeira |2021|janeiro|0          |\n",
            "+----+-------------------------------+----+-------+-----------+\n",
            "only showing top 5 rows\n",
            "\n",
            "root\n",
            " |-- UF: string (nullable = true)\n",
            " |-- Ano: long (nullable = true)\n",
            " |-- TipoCrime: string (nullable = true)\n",
            " |-- Ocorrencias: long (nullable = true)\n",
            " |-- Vitimas: long (nullable = true)\n",
            "\n",
            "+----+----+-----------------------------------+-----------+-------+\n",
            "|UF  |Ano |TipoCrime                          |Ocorrencias|Vitimas|\n",
            "+----+----+-----------------------------------+-----------+-------+\n",
            "|Acre|2016|Homicídio doloso                   |425        |354    |\n",
            "|Acre|2017|Homicídio doloso                   |221        |232    |\n",
            "|Acre|2017|Lesão corporal seguida de morte    |0          |3      |\n",
            "|Acre|2017|Roubo seguido de morte (latrocínio)|10         |15     |\n",
            "|Acre|2018|Homicídio doloso                   |396        |394    |\n",
            "+----+----+-----------------------------------+-----------+-------+\n",
            "only showing top 5 rows\n",
            "\n",
            "root\n",
            " |-- Grandes Regiões, Unidades da Federação e Municípios das Capitais: string (nullable = true)\n",
            " |-- 15 a 17 anos - 2019: double (nullable = true)\n",
            " |-- 15 a 17 anos - 2018: double (nullable = true)\n",
            " |-- 15 a 17 anos - 2017: double (nullable = true)\n",
            " |-- 15 a 17 anos - 2016: double (nullable = true)\n",
            " |-- Media 15 a 17 anos: double (nullable = true)\n",
            " |-- 18 a 24 anos - 2019: double (nullable = true)\n",
            " |-- 18 a 24 anos - 2018: double (nullable = true)\n",
            " |-- 18 a 24 anos - 2017: double (nullable = true)\n",
            " |-- 18 a 24 anos - 2016: double (nullable = true)\n",
            " |-- média 18 a 24 anos: double (nullable = true)\n",
            " |-- 25 anos ou mais - 2019: double (nullable = true)\n",
            " |-- 25 anos ou mais - 2018: double (nullable = true)\n",
            " |-- 25 anos ou mais - 2017: double (nullable = true)\n",
            " |-- 25 anos ou mais - 2016: double (nullable = true)\n",
            " |-- média 25 anos ou mais: double (nullable = true)\n",
            "\n",
            "+----------------------------------------------------------------+-------------------+-------------------+-------------------+-------------------+------------------+-------------------+-------------------+-------------------+-------------------+------------------+----------------------+----------------------+----------------------+----------------------+---------------------+\n",
            "|Grandes Regiões, Unidades da Federação e Municípios das Capitais|15 a 17 anos - 2019|15 a 17 anos - 2018|15 a 17 anos - 2017|15 a 17 anos - 2016|Media 15 a 17 anos|18 a 24 anos - 2019|18 a 24 anos - 2018|18 a 24 anos - 2017|18 a 24 anos - 2016|média 18 a 24 anos|25 anos ou mais - 2019|25 anos ou mais - 2018|25 anos ou mais - 2017|25 anos ou mais - 2016|média 25 anos ou mais|\n",
            "+----------------------------------------------------------------+-------------------+-------------------+-------------------+-------------------+------------------+-------------------+-------------------+-------------------+-------------------+------------------+----------------------+----------------------+----------------------+----------------------+---------------------+\n",
            "|Brasil                                                          |89.17198948374096  |88.2426144204458   |86.56451335197876  |87.5617260467917   |87.8852108257393  |32.41407932745226  |34.53417795470805  |33.360253247817255 |34.17581270855951  |33.62108080963427 |4.504817075471089     |5.675049480395514     |5.8222092845937174    |6.05481441288333      |5.514222563335913    |\n",
            "|Norte                                                           |88.74982729136596  |87.13363699314166  |86.18634784748102  |86.23343843334908  |87.07581264133444 |33.277336088584065 |30.55755225551167  |31.889367675874244 |31.40075605450034  |31.781253018617576|5.300311202284845     |4.738200441644607     |4.829205200490404     |6.316555051054046     |5.2960679738684755   |\n",
            "|Rondônia                                                        |88.5758890715434   |87.61083310627495  |88.09353317895633  |86.80829519027922  |87.77213763676347 |31.917363776805303 |36.46044648717471  |42.381697360736936 |39.412875441641646 |37.543095766589644|5.696628237780432     |6.806092080969176     |8.094231628524204     |10.102827665601428    |7.67494490321881     |\n",
            "|Porto Velho                                                     |88.95162805125744  |82.5532772565588   |84.18183233290323  |86.43959488451544  |85.53158313130872 |38.26167802729192  |33.024090303693306 |35.08011605454825  |39.44302117520716  |36.45222639018516 |7.482369141571613     |8.496009939035124     |7.956949796455643     |10.15315072431738     |8.52211990034494     |\n",
            "|Acre                                                            |84.98448999182288  |87.17335055657942  |86.65851673769289  |86.68539677641571  |86.37543851562772 |33.834860833327035 |38.86751169841704  |42.36043012159184  |42.89214761645621  |39.488737567448034|6.9339672958134075    |10.321757609195592    |9.98524514543419      |10.493120889846796    |9.433522735072497    |\n",
            "+----------------------------------------------------------------+-------------------+-------------------+-------------------+-------------------+------------------+-------------------+-------------------+-------------------+-------------------+------------------+----------------------+----------------------+----------------------+----------------------+---------------------+\n",
            "only showing top 5 rows\n",
            "\n",
            "root\n",
            " |-- Unnamed: 0: long (nullable = true)\n",
            " |-- UF: string (nullable = true)\n",
            " |-- Grupo_idade: string (nullable = true)\n",
            " |-- TaxaAnalfabetismo2016: double (nullable = true)\n",
            " |-- TaxaAnalfabetismo2017: double (nullable = true)\n",
            " |-- TaxaAnalfabetismo2018: double (nullable = true)\n",
            " |-- TaxaAnalfabetismo2019: double (nullable = true)\n",
            "\n",
            "+----------+--------+---------------+---------------------+---------------------+---------------------+---------------------+\n",
            "|Unnamed: 0|UF      |Grupo_idade    |TaxaAnalfabetismo2016|TaxaAnalfabetismo2017|TaxaAnalfabetismo2018|TaxaAnalfabetismo2019|\n",
            "+----------+--------+---------------+---------------------+---------------------+---------------------+---------------------+\n",
            "|0         |Rondônia|15 anos ou mais|6.6                  |7.2                  |6.5                  |6.4                  |\n",
            "|1         |Acre    |15 anos ou mais|13.1                 |12.1                 |12.1                 |11.7                 |\n",
            "|2         |Amazonas|15 anos ou mais|6.9                  |6.1                  |5.8                  |5.4                  |\n",
            "|3         |Roraima |15 anos ou mais|6.6                  |6.0                  |6.0                  |5.0                  |\n",
            "|4         |Pará    |15 anos ou mais|9.2                  |8.6                  |8.8                  |8.4                  |\n",
            "+----------+--------+---------------+---------------------+---------------------+---------------------+---------------------+\n",
            "only showing top 5 rows\n",
            "\n"
          ]
        },
        {
          "output_type": "execute_result",
          "data": {
            "text/plain": [
              "[('Unnamed: 0', 'bigint'),\n",
              " ('UF', 'string'),\n",
              " ('Grupo_idade', 'string'),\n",
              " ('TaxaAnalfabetismo2016', 'double'),\n",
              " ('TaxaAnalfabetismo2017', 'double'),\n",
              " ('TaxaAnalfabetismo2018', 'double'),\n",
              " ('TaxaAnalfabetismo2019', 'double')]"
            ]
          },
          "metadata": {},
          "execution_count": 13
        }
      ]
    },
    {
      "cell_type": "markdown",
      "metadata": {
        "id": "lsZ927gDOKDx"
      },
      "source": [
        "### NORMALIZANDO DATAFRAMES\n"
      ]
    },
    {
      "cell_type": "code",
      "metadata": {
        "id": "bAPe60SHVbP6",
        "colab": {
          "base_uri": "https://localhost:8080/"
        },
        "outputId": "83a169f7-d93e-4277-a7b6-013a495857c0"
      },
      "source": [
        "# DATAFRAME 1\n",
        "df_1 = df_1.drop('Estimativa_2021', 'Previsao2021Media')\n",
        "df_1 = df_1.drop('Estimativa_2021', 'Previsao2021Media')\n",
        "df_1 = df_1.withColumnRenamed('Media Anual', 'Estimativa_Despesa_2021')\n",
        "df_1 = df_1.withColumnRenamed('Previsao2021|Media', 'Previsao2021_Media')\n",
        "\n",
        "df_1.withColumn(\"Despesas2017\", F.round(df_1.Despesas2016.cast(FloatType()), 3))\n",
        "df_1.withColumn(\"Despesas2017\", F.round(df_1.Despesas2017.cast(FloatType()), 3))\n",
        "df_1.withColumn(\"Despesas2018\", F.round(df_1.Despesas2018.cast(FloatType()), 3))\n",
        "df_1.withColumn(\"Despesas2019\", F.round(df_1.Despesas2019.cast(FloatType()), 3))\n",
        "df_1.withColumn(\"Despesas2020\", F.round(df_1.Despesas2020.cast(FloatType()), 3))\n",
        "df_1.withColumn(\"Previsao2021_Media\", F.round(df_1.Previsao2021_Media.cast(FloatType()), 3))\n",
        "\n",
        "df_1.show()\n",
        "df_1.dtypes"
      ],
      "execution_count": 14,
      "outputs": [
        {
          "output_type": "stream",
          "name": "stdout",
          "text": [
            "+-------------------+------------------+------------------+------------------+------------------+------------------+---------+------------------+\n",
            "|                 UF|      Despesas2016|      Despesas2017|      Despesas2018|      Despesas2019|      Despesas2020|Variacao%|Previsao2021_Media|\n",
            "+-------------------+------------------+------------------+------------------+------------------+------------------+---------+------------------+\n",
            "|               Acre|           498.535|           568.361|           627.351|            692.57|493.75300000000004|      8.5|           576.114|\n",
            "|              Amapá|475.32300000000004|           500.227|           489.228|           606.366|           752.252|     52.3|          564.6792|\n",
            "|           Amazonas|1604.7320000000002|          1578.957|1862.6689999999999|           2108.46|          2101.447|     60.4|          1851.253|\n",
            "|               Pará|          2551.741|          2579.916|            2903.2|          2943.448|          2966.553|     58.0|         2788.9716|\n",
            "|           Rondônia| 874.8739999999999|           895.868| 903.2539999999999|           853.971|           999.044|    -14.7|          905.4022|\n",
            "|            Roraima|           408.934|           440.124|405.44599999999997|           288.198|391.17800000000005|     65.8|           386.776|\n",
            "|          Tocantins|           839.882| 898.6519999999999|           939.627|           1119.19|          1059.726|     24.6|          971.4154|\n",
            "|            Alagoas|          1196.641|           1244.52|          1251.229|1159.1589999999999|          1354.986|     17.1|1241.3070000000002|\n",
            "|              Bahia| 4760.590999999999|          4569.076|          4601.027|          4682.403|          4321.663|      3.9|          4586.952|\n",
            "|              Ceará|          2188.315|          2400.235|2763.3390000000004|           2842.36|          3045.583|     95.0|         2647.9664|\n",
            "|           Maranhão|1593.4720000000002|1764.7879999999998|          1980.318|           2003.66|          1954.384|     69.0|         1859.3244|\n",
            "|            Paraíba|           1286.81|1295.2069999999999|1352.9720000000002|           1386.24|          1417.592|     37.1|         1347.7642|\n",
            "|         Pernambuco|          2657.598|2807.8740000000003|          2971.232|          2985.145|          2880.151|    -10.1|            2860.4|\n",
            "|              Piauí|           804.429|           792.977|             799.0|           893.296|           785.832|    102.3|          815.1068|\n",
            "|Rio Grande do Norte|          1215.257|           983.317|          1045.736|          1203.684|          1038.218|      9.7|         1097.2424|\n",
            "|            Sergipe|            942.15| 938.5010000000001|           956.072|           989.128|           956.784|    -12.9| 956.5269999999999|\n",
            "|              Goiás|           3455.91|          3084.744|3643.1609999999996|           3839.27|          3191.756|     50.1|3442.9682000000007|\n",
            "|        Mato Grosso|          2085.541|          2118.651|          2204.075|          2486.876|           2577.01|     49.0|         2294.4306|\n",
            "| Mato Grosso do Sul|          1459.525|1487.2220000000002|          1233.864|          1259.369|          1240.098|    -12.8|1336.0156000000004|\n",
            "|   Distrito Federal|           812.247| 909.7919999999999| 905.0060000000001|           931.987|           976.513|     92.4| 907.1089999999999|\n",
            "+-------------------+------------------+------------------+------------------+------------------+------------------+---------+------------------+\n",
            "only showing top 20 rows\n",
            "\n"
          ]
        },
        {
          "output_type": "execute_result",
          "data": {
            "text/plain": [
              "[('UF', 'string'),\n",
              " ('Despesas2016', 'double'),\n",
              " ('Despesas2017', 'double'),\n",
              " ('Despesas2018', 'double'),\n",
              " ('Despesas2019', 'double'),\n",
              " ('Despesas2020', 'double'),\n",
              " ('Variacao%', 'double'),\n",
              " ('Previsao2021_Media', 'double')]"
            ]
          },
          "metadata": {},
          "execution_count": 14
        }
      ]
    },
    {
      "cell_type": "code",
      "metadata": {
        "id": "lE_1C9nSVbZ3"
      },
      "source": [
        "# DATAFRAME 2\n",
        "df_2.show(truncate=False)"
      ],
      "execution_count": null,
      "outputs": []
    },
    {
      "cell_type": "code",
      "metadata": {
        "id": "3-JOP6bFk4dD"
      },
      "source": [
        "# DATAFRAME 3\n",
        "df_3.show(truncate=False)"
      ],
      "execution_count": null,
      "outputs": []
    },
    {
      "cell_type": "code",
      "metadata": {
        "id": "Yy0-IwUZVhRt"
      },
      "source": [
        "# DATAFRAME 4\n",
        "df_4.show(truncate=False)"
      ],
      "execution_count": null,
      "outputs": []
    },
    {
      "cell_type": "code",
      "metadata": {
        "id": "hyg9dNdroayn"
      },
      "source": [
        "# DATAFRAME 5\n",
        "df_5.show(truncate=False)"
      ],
      "execution_count": null,
      "outputs": []
    },
    {
      "cell_type": "code",
      "metadata": {
        "id": "jfQ55azXerU3"
      },
      "source": [
        "# DATAFRAME 6\n",
        "\n",
        "# DROPANDO COLUNAS\n",
        "df_6 = df_6.drop('15 a 17 anos - 2019', \n",
        "                 '15 a 17 anos - 2018',\n",
        "                 '15 a 17 anos - 2017',\n",
        "                 '15 a 17 anos - 2016',\n",
        "                 '18 a 24 anos - 2019',\n",
        "                 '18 a 24 anos - 2018',\n",
        "                 '18 a 24 anos - 2017',\n",
        "                 '18 a 24 anos - 2016',\n",
        "                 '25 anos ou mais - 2019',\n",
        "                 '25 anos ou mais - 2018',\n",
        "                 '25 anos ou mais - 2017',\n",
        "                 '25 anos ou mais - 2016')\n",
        "\n",
        "# RENOMEANDO COLUNAS FAIXA DE IDADE\n",
        "df_6 = df_6.withColumnRenamed('Grandes Regiões, Unidades da Federação e Municípios das Capitais', 'UF')\n",
        "df_6 = df_6.withColumnRenamed('Media 15 a 17 anos', 'Media_Freq_15_a_17_anos')\n",
        "df_6 = df_6.withColumnRenamed('média 18 a 24 anos', 'Media_Freq_18_a_24_anos')\n",
        "df_6 = df_6.withColumnRenamed('média 25 anos ou mais', 'Media_Freq_25_anos_ou_mais')\n",
        "\n",
        "# FILTRO PARA REMOVER REGIÕES E CAPITAIS\n",
        "df_6 = df_6.filter((df_6.UF != \"Brasil\") & \n",
        "            (df_6.UF != \"Norte\") & \n",
        "            (df_6.UF != \"Nordeste\") &\n",
        "            (df_6.UF != \"Sudeste\") & \n",
        "            (df_6.UF != \"Sul\") &\n",
        "            (df_6.UF != \"Centro-Oeste\") &\n",
        "            (df_6.UF != \"Porto Velho\") &\n",
        "            (df_6.UF != \"Rio Branco\") &\n",
        "            (df_6.UF != \"Manaus\") &\n",
        "            (df_6.UF != \"Boa Vista\") &\n",
        "            (df_6.UF != \"Macapá\") &\n",
        "            (df_6.UF != \"Palmas\") &\n",
        "            (df_6.UF != \"São Luiz\") &\n",
        "            (df_6.UF != \"Teresina\") &\n",
        "            (df_6.UF != \"Fortaleza\") &\n",
        "            (df_6.UF != \"Natal\") &\n",
        "            (df_6.UF != \"joão Pessoa\") &\n",
        "            (df_6.UF != \"Recife\") &\n",
        "            (df_6.UF != \"Maceió\") &\n",
        "            (df_6.UF != \"Aracaju\") &\n",
        "            (df_6.UF != \"Salvador\") &\n",
        "            (df_6.UF != \"Belo Horizonte\") &\n",
        "            (df_6.UF != \"Vitória\") &\n",
        "            (df_6.UF != \"Curitiba\") &\n",
        "            (df_6.UF != \"Florianópolis\") &\n",
        "            (df_6.UF != \"Porto Alegre\") &\n",
        "            (df_6.UF != \"Campo Grande\") &\n",
        "            (df_6.UF != \"Cuiabá\") &\n",
        "            (df_6.UF != \"Goiânia\") &\n",
        "            (df_6.UF != \"Brasilia\"))\\\n",
        "            .orderBy('UF', ascending=True)\n",
        "\n",
        "# # INCREMENTANDO TAXA DE EVASÃO\n",
        "# df_6 = df_6.withColumn('Evasao_11_a_14_anos', (df_5.Freq_11_a_14_anos - 100)) \n",
        "# df_6 = df_6.withColumn('Evasao_15_a_17_anos', (df_5.Freq_11_a_14_anos - 100))\n",
        "# df_6 = df_6.withColumn('Evasao_18_a_24_anos', (df_5.Freq_11_a_14_anos - 100))\n",
        "# df_6 = df_6.withColumn('Evasao_25_anos_ou_mais', (df_5.Freq_11_a_14_anos - 100))\n",
        "\n",
        "# CONVERTENDO VALORES EM PORCENTAGEM\n",
        "'''https://stackoverflow.com/questions/60673912/how-to-convert-number-into-percentage'''\n",
        "\n",
        "df_6 = df_6\\\n",
        ".withColumn(\"Media_Freq_15_a_17_anos\", F.concat((F.col(\"Media_Freq_15_a_17_anos\") * 1).cast(\"int\"), F.lit(' %')))\\\n",
        ".withColumn(\"Media_Freq_18_a_24_anos\", F.concat((F.col(\"Media_Freq_18_a_24_anos\") * 1).cast(\"int\"), F.lit(' %')))\\\n",
        ".withColumn(\"Media_Freq_25_anos_ou_mais\", F.concat((F.col(\"Media_Freq_25_anos_ou_mais\") * 1).cast(\"int\"), F.lit(' %')))\n",
        "# .withColumn(\"Media_Freq_Escolar\", F.concat((F.col(\"Media_Freq_Escolar\") * 1).cast(\"int\"), F.lit(' %')))\\\n",
        "# .withColumn(\"Evasao_11_a_14_anos\", F.concat((F.col(\"Evasao_11_a_14_anos\") * 1).cast(\"int\"), F.lit(' %')))\\\n",
        "# .withColumn(\"Evasao_15_a_17_anos\", F.concat((F.col(\"Evasao_15_a_17_anos\") * 1).cast(\"int\"), F.lit(' %')))\\\n",
        "# .withColumn(\"Evasao_18_a_24_anos\", F.concat((F.col(\"Evasao_18_a_24_anos\") * 1).cast(\"int\"), F.lit(' %')))\\\n",
        "# .withColumn(\"Evasao_25_anos_ou_mais\", F.concat((F.col(\"Evasao_25_anos_ou_mais\") * 1).cast(\"int\"), F.lit(' %')))\n",
        "\n",
        "# AJUSTANDO EXIBIÇÃO DO DATAFRAME\n",
        "df_6 = df_6.select('UF', \n",
        "                   'Media_Freq_15_a_17_anos', \n",
        "                #    'Evasao_11_a_14_anos',\n",
        "                   'Media_Freq_18_a_24_anos',\n",
        "                #    'Evasao_15_a_17_anos',\n",
        "                   'Media_Freq_25_anos_ou_mais',\n",
        "                #    'Evasao_18_a_24_anos',\n",
        "                #    'Freq_25_anos_ou_mais',\n",
        "                #    'Evasao_25_anos_ou_mais',\n",
        "                #    'Media_Freq_Escolar'\n",
        "               )\n"
      ],
      "execution_count": 15,
      "outputs": []
    },
    {
      "cell_type": "code",
      "metadata": {
        "id": "rU5Gz3ShKsoA"
      },
      "source": [
        "# TRANSFORMARDO DATAFRAME PYSPAK EM PANDAS\n",
        "'''https://sparkbyexamples.com/pyspark/convert-pyspark-dataframe-to-pandas/'''\n",
        "\n",
        "df_6 = df_6.toPandas()\n",
        "df_6.to_csv('temp_pyspark_tabela_frequencia_escolar_normalizado.csv')\n",
        "\n",
        "BUCKET_NAME= \"data_lake_ingest_data\"\n",
        "storage_client = storage.Client()\n",
        "bucket = storage_client.get_bucket(BUCKET_NAME)\n",
        "\n",
        "fileout = \"2_temp/temp_pyspark_tabela_frequencia_escolar_normalizado.csv\"\n",
        "destination_blob = bucket.blob(fileout)\n",
        "destination_blob.upload_from_filename('/content/temp_pyspark_tabela_frequencia_escolar_normalizado.csv')"
      ],
      "execution_count": null,
      "outputs": []
    },
    {
      "cell_type": "code",
      "metadata": {
        "id": "S4Flsf5qzGHp",
        "colab": {
          "base_uri": "https://localhost:8080/"
        },
        "outputId": "bb231746-a0a3-403c-f544-ff2265bb255f"
      },
      "source": [
        "# DATAFRAME 7\n",
        "df_7 = df_7.drop('Grupo_idade')\n",
        "df_7 = df_7.drop('Unnamed: 0')\n",
        "\n",
        "df_7 = df_7\\\n",
        ".withColumn(\"TaxaAnalfabetismo2016\", F.concat((F.col(\"TaxaAnalfabetismo2016\") * 1).cast(\"int\"), F.lit(' %')))\\\n",
        ".withColumn(\"TaxaAnalfabetismo2017\", F.concat((F.col(\"TaxaAnalfabetismo2017\") * 1).cast(\"int\"), F.lit(' %')))\\\n",
        ".withColumn(\"TaxaAnalfabetismo2018\", F.concat((F.col(\"TaxaAnalfabetismo2018\") * 1).cast(\"int\"), F.lit(' %')))\\\n",
        ".withColumn(\"TaxaAnalfabetismo2019\", F.concat((F.col(\"TaxaAnalfabetismo2019\") * 1).cast(\"int\"), F.lit(' %')))\n",
        "\n",
        "df_7.show()"
      ],
      "execution_count": 16,
      "outputs": [
        {
          "output_type": "stream",
          "name": "stdout",
          "text": [
            "+-------------------+---------------------+---------------------+---------------------+---------------------+\n",
            "|                 UF|TaxaAnalfabetismo2016|TaxaAnalfabetismo2017|TaxaAnalfabetismo2018|TaxaAnalfabetismo2019|\n",
            "+-------------------+---------------------+---------------------+---------------------+---------------------+\n",
            "|           Rondônia|                  6 %|                  7 %|                  6 %|                  6 %|\n",
            "|               Acre|                 13 %|                 12 %|                 12 %|                 11 %|\n",
            "|           Amazonas|                  6 %|                  6 %|                  5 %|                  5 %|\n",
            "|            Roraima|                  6 %|                  6 %|                  6 %|                  5 %|\n",
            "|               Pará|                  9 %|                  8 %|                  8 %|                  8 %|\n",
            "|              Amapá|                  5 %|                  5 %|                  6 %|                  5 %|\n",
            "|          Tocantins|                 10 %|                 10 %|                 10 %|                  9 %|\n",
            "|           Maranhão|                 16 %|                 16 %|                 16 %|                 15 %|\n",
            "|              Piauí|                 17 %|                 16 %|                 16 %|                 16 %|\n",
            "|              Ceará|                 15 %|                 14 %|                 13 %|                 13 %|\n",
            "|Rio Grande do Norte|                 14 %|                 13 %|                 12 %|                 13 %|\n",
            "|            Paraíba|                 16 %|                 16 %|                 16 %|                 16 %|\n",
            "|         Pernambuco|                 12 %|                 13 %|                 11 %|                 11 %|\n",
            "|            Alagoas|                 19 %|                 18 %|                 17 %|                 17 %|\n",
            "|            Sergipe|                 14 %|                 14 %|                 13 %|                 13 %|\n",
            "|              Bahia|                 13 %|                 12 %|                 12 %|                 12 %|\n",
            "|       Minas Gerais|                  6 %|                  6 %|                  5 %|                  5 %|\n",
            "|     Espírito Santo|                  6 %|                  5 %|                  5 %|                  5 %|\n",
            "|     Rio de Janeiro|                  2 %|                  2 %|                  2 %|                  2 %|\n",
            "|          São Paulo|                  2 %|                  2 %|                  2 %|                  2 %|\n",
            "+-------------------+---------------------+---------------------+---------------------+---------------------+\n",
            "only showing top 20 rows\n",
            "\n"
          ]
        }
      ]
    },
    {
      "cell_type": "markdown",
      "metadata": {
        "id": "iE5ise9dksK1"
      },
      "source": [
        "### AGREGANDO DADOS"
      ]
    },
    {
      "cell_type": "markdown",
      "metadata": {
        "id": "JRgp83un6vCr"
      },
      "source": [
        ""
      ]
    },
    {
      "cell_type": "code",
      "metadata": {
        "id": "w2bgQFezOJDR"
      },
      "source": [
        "# VISUALIZAR DATAFRAMES TRATADOS\n",
        "\n",
        "df_1.show(5, truncate=False)\n",
        "df_2.show(5, truncate=False)\n",
        "df_3.show(5, truncate=False)\n",
        "df_4.show(5, truncate=False)\n",
        "df_5.show(5, truncate=False)\n",
        "df_6.show(5, truncate=False)\n",
        "df_7.show(5, truncate=False)"
      ],
      "execution_count": null,
      "outputs": []
    },
    {
      "cell_type": "code",
      "metadata": {
        "id": "vsswAo5erQl-"
      },
      "source": [
        "# AGREGAÇÃO 1\n",
        "\n",
        "#AGRUPANDO VALORES DOS DATAFRAMES\n",
        "df_ins2 = df_2.groupBy('UF').sum('Ocorrencias').orderBy('UF')\n",
        "df_ins2.show(50, truncate=False)\n",
        "\n",
        "df_ins3 = df_3.groupBy('UF').sum('Vitimas').orderBy('UF')\n",
        "df_ins3.show(50, truncate=False)\n",
        "\n",
        "# ------------------------------------------------------------\n",
        "\n",
        "# JOIN 1\n",
        "# AGREGA OS VALORES TOTAIS DE OCORRENCIAS E VITIMAS\n",
        "\n",
        "df_join_1 = df_ins2.join(df_ins3, on=['UF'], how='inner')\\\n",
        ".select('UF', 'sum(Ocorrencias)', 'sum(Vitimas)')\\\n",
        ".orderBy(F.asc('UF'))\n",
        "\n",
        "df_join_1.show(50, False)\n",
        "\n",
        "# ------------------------------------------------------------\n",
        "\n",
        "# JOIN 2\n",
        "# AGREGA OS VALORES TOTAIS DE OCORRENCIAS, VITIMAS, MEDIA DE FREQ ESCOLAR\n",
        "\n",
        "df_join_1 = df_join_1.join(df_6, on=['UF'], how='inner')\\\n",
        ".select('UF', 'sum(Ocorrencias)', 'sum(Vitimas)', 'Media_Freq_25_anos_ou_mais')\\\n",
        ".orderBy('UF', ascending=True)\n",
        "\n",
        "df_join_1.show(50, False)\n",
        "\n",
        "# ------------------------------------------------------------\n",
        "\n",
        "# JOIN 3\n",
        "# AGREGA OS VALORES TOTAIS DE DESPESAS GOVERNAMENTAIS, OCORRENCIAS, VITIMAS, MEDIA DE FREQ. ESCOLAR\n",
        "\n",
        "df_join_1 = df_join_1.join(df_1, on=['UF'], how='inner')\\\n",
        ".select('UF', 'Despesas2020', 'sum(Ocorrencias)', 'sum(Vitimas)', 'Media_Freq_25_anos_ou_mais')\\\n",
        ".orderBy(F.asc('UF'))\n",
        "\n",
        "df_join_1\\\n",
        ".orderBy(\"Despesas2020\", ascending=False)\\\n",
        ".show(50, False)\n",
        "\n",
        "df_join_3.dtypes\n",
        "\n",
        "# ------------------------------------------------------------\n",
        "\n",
        "df_join_1 = df_join_1.toPandas()\n",
        "df_join_1.to_csv('temp_pyspark_agg_1_General_Data.csv')\n",
        "\n",
        "BUCKET_NAME= \"data_lake_ingest_data\"\n",
        "storage_client = storage.Client()\n",
        "bucket = storage_client.get_bucket(BUCKET_NAME)\n",
        "\n",
        "fileout = \"2_temp/temp_pyspark_agg_1_General_Data.csv\"\n",
        "destination_blob = bucket.blob(fileout)\n",
        "destination_blob.upload_from_filename('/content/temp_pyspark_agg_1_General_Data.csv')"
      ],
      "execution_count": null,
      "outputs": []
    },
    {
      "cell_type": "code",
      "metadata": {
        "id": "TofPZBof0Npu"
      },
      "source": [
        "# AGREGAÇÃO 2\n",
        "\n",
        "# JOIN 1\n",
        "# AGREGA OS VALORES TOTAIS DE OCORRENCIAS E VITIMAS POR ESTADO \n",
        "\n",
        "# ------------------------------------------------------------\n",
        "\n",
        "df_join_1 = df_6.join(df_7, on=['UF'], how='inner')\\\n",
        ".select('UF', 'Media_Freq_15_a_17_anos', 'Media_Freq_18_a_24_anos', 'Media_Freq_25_anos_ou_mais', \n",
        "        'TaxaAnalfabetismo2016', 'TaxaAnalfabetismo2017', 'TaxaAnalfabetismo2018', 'TaxaAnalfabetismo2019')\\\n",
        ".orderBy(F.asc('UF'))\\\n",
        "\n",
        "# ------------------------------------------------------------\n",
        "\n",
        "df_join_1 = df_join_1.toPandas()\n",
        "df_join_1.to_csv('temp_pyspark_agg_2_Freq_Escolar_Taxa_Analfa.csv')\n",
        "\n",
        "BUCKET_NAME= \"data_lake_ingest_data\"\n",
        "storage_client = storage.Client()\n",
        "bucket = storage_client.get_bucket(BUCKET_NAME)\n",
        "\n",
        "fileout = \"2_temp/temp_pyspark_agg_2_Freq_Escolar_Taxa_Analfa.csv\"\n",
        "destination_blob = bucket.blob(fileout)\n",
        "destination_blob.upload_from_filename('/content/temp_pyspark_agg_2_Freq_Escolar_Taxa_Analfa.csv')"
      ],
      "execution_count": null,
      "outputs": []
    },
    {
      "cell_type": "code",
      "metadata": {
        "id": "aWfPjmVJkZTR"
      },
      "source": [
        "# AGREGAÇÃO 3\n",
        "\n",
        "# AGRUPANDO VALORES DOS DATAFRAMES\n",
        "df_agg_1 = df_2.filter(df_2.Ano == 2020)\\\n",
        ".groupBy('UF').sum('Ocorrencias').alias('Ocorrencias_2020').orderBy('UF')\n",
        "\n",
        "df_agg_1.show()\n",
        "\n",
        "# ------------------------------------------------------------\n",
        "\n",
        "df_agg_2 = df_3.filter(df_3.Ano == 2020)\\\n",
        ".groupBy('UF').sum('Vitimas').alias('Vitimas_2020').orderBy('UF')\n",
        "\n",
        "df_agg_2.show()\n",
        "\n",
        "# ------------------------------------------------------------\n",
        "\n",
        "# AGREGANDO OS VALORES PELO ANO DE 2020\n",
        "\n",
        "df_join_1 = df_agg_1.join(df_agg_2, on=['UF'], how='inner')\\\n",
        ".select('UF', 'sum(Ocorrencias)', 'sum(Vitimas)')\\\n",
        ".orderBy('UF', ascending=True)\n",
        "\n",
        "df_join_1.show()\n",
        "\n",
        "# ------------------------------------------------------------\n",
        "\n",
        "df_join_2 = df_1.select('UF', 'Despesas2020')\n",
        "\n",
        "df_join_1 = df_join_1.join(df_join_2, on=['UF'], how='inner')\\\n",
        ".select('UF', \n",
        "        'sum(Ocorrencias)', \n",
        "        'sum(Vitimas)', \n",
        "        'Despesas2020')\n",
        "\n",
        "df_join_1 = df_join_1\\\n",
        ".withColumnRenamed('sum(Ocorrencias)', 'Ocorrencias_2020')\\\n",
        ".withColumnRenamed('sum(Vitimas)', 'Vitimas_2020')\\\n",
        ".withColumnRenamed('Despesas2020', 'Despesas_Gov_2020')\\\n",
        "\n",
        "df_join_1.show()\n",
        "\n",
        "# ------------------------------------------------------------\n",
        "\n",
        "df_join_1 = df_join_1.toPandas()\n",
        "df_join_1.to_csv('temp_pyspark_agg_3_general_data_2020.csv')\n",
        "\n",
        "BUCKET_NAME= \"data_lake_ingest_data\"\n",
        "storage_client = storage.Client()\n",
        "bucket = storage_client.get_bucket(BUCKET_NAME)\n",
        "\n",
        "fileout = \"2_temp/temp_pyspark_agg_3_general_data_2020.csv\"\n",
        "destination_blob = bucket.blob(fileout)\n",
        "destination_blob.upload_from_filename('/content/temp_pyspark_agg_3_general_data_2020.csv')"
      ],
      "execution_count": null,
      "outputs": []
    },
    {
      "cell_type": "markdown",
      "metadata": {
        "id": "Z-SnL3GEesv8"
      },
      "source": [
        "### TEST FUNCTIONS"
      ]
    },
    {
      "cell_type": "code",
      "metadata": {
        "id": "lpk-tMEv6sP7",
        "colab": {
          "base_uri": "https://localhost:8080/"
        },
        "outputId": "c41a0cf2-6586-4556-976a-9dc79e24b792"
      },
      "source": [
        "# RANKING\n",
        "\n",
        "w0 = Window.partitionBy(F.col('TipoCrime')).orderBy('UF')\n",
        "\n",
        "df_2.withColumn('Ranking', F.row_number().over(w0))\\\n",
        ".select('Ranking', 'UF', 'TipoCrime')\\\n",
        ".show()"
      ],
      "execution_count": 17,
      "outputs": [
        {
          "output_type": "stream",
          "name": "stdout",
          "text": [
            "+-------+----+---------+\n",
            "|Ranking|  UF|TipoCrime|\n",
            "+-------+----+---------+\n",
            "|      1|Acre|  Estupro|\n",
            "|      2|Acre|  Estupro|\n",
            "|      3|Acre|  Estupro|\n",
            "|      4|Acre|  Estupro|\n",
            "|      5|Acre|  Estupro|\n",
            "|      6|Acre|  Estupro|\n",
            "|      7|Acre|  Estupro|\n",
            "|      8|Acre|  Estupro|\n",
            "|      9|Acre|  Estupro|\n",
            "|     10|Acre|  Estupro|\n",
            "|     11|Acre|  Estupro|\n",
            "|     12|Acre|  Estupro|\n",
            "|     13|Acre|  Estupro|\n",
            "|     14|Acre|  Estupro|\n",
            "|     15|Acre|  Estupro|\n",
            "|     16|Acre|  Estupro|\n",
            "|     17|Acre|  Estupro|\n",
            "|     18|Acre|  Estupro|\n",
            "|     19|Acre|  Estupro|\n",
            "|     20|Acre|  Estupro|\n",
            "+-------+----+---------+\n",
            "only showing top 20 rows\n",
            "\n"
          ]
        }
      ]
    },
    {
      "cell_type": "code",
      "metadata": {
        "id": "7ySur1R_FzeF",
        "colab": {
          "base_uri": "https://localhost:8080/"
        },
        "outputId": "5ab6081b-14bd-494b-9292-fa60adbe3a07"
      },
      "source": [
        "# STRUCTTYPE E UNION BY NAME\n",
        "\n",
        "esquema = (StructType([\n",
        "        StructField('UF', StringType(), True),\n",
        "        StructField('TipoCrime', StringType(), True),\n",
        "        StructField('Ano', IntegerType(), True),\n",
        "        StructField('Mes', IntegerType(), True),\n",
        "        StructField('Ocorrencias', IntegerType(), True)\n",
        "    ])\n",
        ")\n",
        "\n",
        "df = spark.createDataFrame(data='', schema=esquema)\n",
        "df.printSchema()\n",
        "\n",
        "df.unionByName(df_2).show()"
      ],
      "execution_count": 18,
      "outputs": [
        {
          "output_type": "stream",
          "name": "stdout",
          "text": [
            "root\n",
            " |-- UF: string (nullable = true)\n",
            " |-- TipoCrime: string (nullable = true)\n",
            " |-- Ano: integer (nullable = true)\n",
            " |-- Mes: integer (nullable = true)\n",
            " |-- Ocorrencias: integer (nullable = true)\n",
            "\n",
            "+----+--------------------+----+---------+-----------+\n",
            "|  UF|           TipoCrime| Ano|      Mes|Ocorrencias|\n",
            "+----+--------------------+----+---------+-----------+\n",
            "|Acre|             Estupro|2021|  janeiro|         39|\n",
            "|Acre|    Furto de veículo|2021|  janeiro|         55|\n",
            "|Acre|    Homicídio doloso|2021|  janeiro|         14|\n",
            "|Acre|Lesão corporal se...|2021|  janeiro|          0|\n",
            "|Acre|Roubo a instituiç...|2021|  janeiro|          0|\n",
            "|Acre|      Roubo de carga|2021|  janeiro|          0|\n",
            "|Acre|    Roubo de veículo|2021|  janeiro|         99|\n",
            "|Acre|Roubo seguido de ...|2021|  janeiro|          1|\n",
            "|Acre|Tentativa de homi...|2021|  janeiro|         10|\n",
            "|Acre|             Estupro|2021|fevereiro|         23|\n",
            "|Acre|    Furto de veículo|2021|fevereiro|         49|\n",
            "|Acre|    Homicídio doloso|2021|fevereiro|         14|\n",
            "|Acre|Lesão corporal se...|2021|fevereiro|          0|\n",
            "|Acre|Roubo a instituiç...|2021|fevereiro|          0|\n",
            "|Acre|      Roubo de carga|2021|fevereiro|          0|\n",
            "|Acre|    Roubo de veículo|2021|fevereiro|         89|\n",
            "|Acre|Roubo seguido de ...|2021|fevereiro|          1|\n",
            "|Acre|Tentativa de homi...|2021|fevereiro|         20|\n",
            "|Acre|             Estupro|2021|    março|         19|\n",
            "|Acre|    Furto de veículo|2021|    março|         48|\n",
            "+----+--------------------+----+---------+-----------+\n",
            "only showing top 20 rows\n",
            "\n"
          ]
        }
      ]
    },
    {
      "cell_type": "code",
      "metadata": {
        "id": "cyui-5cpTgOT",
        "colab": {
          "base_uri": "https://localhost:8080/"
        },
        "outputId": "c9cf8931-c009-4f1e-d787-cff2fcc82f51"
      },
      "source": [
        "# HEADER COM LISTAS\n",
        "\n",
        "file_path_1 = 'gs://data_lake_ingest_data/2_temp/temp_pandas_despesas_normalizado.csv'\n",
        "\n",
        "fs = gcsfs.GCSFileSystem(project='soulcode-projeto-final', token=serviceaccount)\n",
        "with fs.open(file_path_1):\n",
        "    data = pd.read_csv(file_path_1,\n",
        "                       sep=',', \n",
        "                       encoding='UTF-8')\n",
        "\n",
        "esquema=['UF', 'Despesas2016', 'Despesas2017', 'Despesas2018', 'Despesas2019', 'Despesas2020', 'Variacao%', 'Previsao2021_Media']\n",
        "\n",
        "df_1 = spark.createDataFrame(data, schema=esquema)\n",
        "\n",
        "# --------------------------------------------\n",
        "    \n",
        "df_1.show()"
      ],
      "execution_count": 19,
      "outputs": [
        {
          "output_type": "stream",
          "name": "stdout",
          "text": [
            "+-------------------+------------------+------------------+------------------+------------------+------------------+---------+------------------+\n",
            "|                 UF|      Despesas2016|      Despesas2017|      Despesas2018|      Despesas2019|      Despesas2020|Variacao%|Previsao2021_Media|\n",
            "+-------------------+------------------+------------------+------------------+------------------+------------------+---------+------------------+\n",
            "|               Acre|           498.535|           568.361|           627.351|            692.57|493.75300000000004|      8.5|           576.114|\n",
            "|              Amapá|475.32300000000004|           500.227|           489.228|           606.366|           752.252|     52.3|          564.6792|\n",
            "|           Amazonas|1604.7320000000002|          1578.957|1862.6689999999999|           2108.46|          2101.447|     60.4|          1851.253|\n",
            "|               Pará|          2551.741|          2579.916|            2903.2|          2943.448|          2966.553|     58.0|         2788.9716|\n",
            "|           Rondônia| 874.8739999999999|           895.868| 903.2539999999999|           853.971|           999.044|    -14.7|          905.4022|\n",
            "|            Roraima|           408.934|           440.124|405.44599999999997|           288.198|391.17800000000005|     65.8|           386.776|\n",
            "|          Tocantins|           839.882| 898.6519999999999|           939.627|           1119.19|          1059.726|     24.6|          971.4154|\n",
            "|            Alagoas|          1196.641|           1244.52|          1251.229|1159.1589999999999|          1354.986|     17.1|1241.3070000000002|\n",
            "|              Bahia| 4760.590999999999|          4569.076|          4601.027|          4682.403|          4321.663|      3.9|          4586.952|\n",
            "|              Ceará|          2188.315|          2400.235|2763.3390000000004|           2842.36|          3045.583|     95.0|         2647.9664|\n",
            "|           Maranhão|1593.4720000000002|1764.7879999999998|          1980.318|           2003.66|          1954.384|     69.0|         1859.3244|\n",
            "|            Paraíba|           1286.81|1295.2069999999999|1352.9720000000002|           1386.24|          1417.592|     37.1|         1347.7642|\n",
            "|         Pernambuco|          2657.598|2807.8740000000003|          2971.232|          2985.145|          2880.151|    -10.1|            2860.4|\n",
            "|              Piauí|           804.429|           792.977|             799.0|           893.296|           785.832|    102.3|          815.1068|\n",
            "|Rio Grande do Norte|          1215.257|           983.317|          1045.736|          1203.684|          1038.218|      9.7|         1097.2424|\n",
            "|            Sergipe|            942.15| 938.5010000000001|           956.072|           989.128|           956.784|    -12.9| 956.5269999999999|\n",
            "|              Goiás|           3455.91|          3084.744|3643.1609999999996|           3839.27|          3191.756|     50.1|3442.9682000000007|\n",
            "|        Mato Grosso|          2085.541|          2118.651|          2204.075|          2486.876|           2577.01|     49.0|         2294.4306|\n",
            "| Mato Grosso do Sul|          1459.525|1487.2220000000002|          1233.864|          1259.369|          1240.098|    -12.8|1336.0156000000004|\n",
            "|   Distrito Federal|           812.247| 909.7919999999999| 905.0060000000001|           931.987|           976.513|     92.4| 907.1089999999999|\n",
            "+-------------------+------------------+------------------+------------------+------------------+------------------+---------+------------------+\n",
            "only showing top 20 rows\n",
            "\n"
          ]
        }
      ]
    }
  ]
}