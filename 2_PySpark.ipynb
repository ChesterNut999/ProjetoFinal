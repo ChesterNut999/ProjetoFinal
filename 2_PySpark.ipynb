{
  "nbformat": 4,
  "nbformat_minor": 0,
  "metadata": {
    "colab": {
      "name": "2_PySpark",
      "provenance": [],
      "collapsed_sections": [
        "wox7CNOGJGrF",
        "QVW92KejMHoY",
        "E7EKwiUaOZ7N",
        "Z-SnL3GEesv8"
      ],
      "include_colab_link": true
    },
    "kernelspec": {
      "display_name": "Python 3",
      "name": "python3"
    }
  },
  "cells": [
    {
      "cell_type": "markdown",
      "metadata": {
        "id": "view-in-github",
        "colab_type": "text"
      },
      "source": [
        "<a href=\"https://colab.research.google.com/github/MarianaDuartee/ProjetoFinal/blob/main/2_PySpark.ipynb\" target=\"_parent\"><img src=\"https://colab.research.google.com/assets/colab-badge.svg\" alt=\"Open In Colab\"/></a>"
      ]
    },
    {
      "cell_type": "markdown",
      "metadata": {
        "id": "wox7CNOGJGrF"
      },
      "source": [
        "### INSTALANDO DEPENDECIAS"
      ]
    },
    {
      "cell_type": "code",
      "metadata": {
        "id": "AG4awT5LJEmS"
      },
      "source": [
        "!pip install pyspark\n",
        "!pip install gcsfs\n",
        "!pip install pandas\n",
        "!pip install pandera"
      ],
      "execution_count": null,
      "outputs": []
    },
    {
      "cell_type": "markdown",
      "metadata": {
        "id": "QVW92KejMHoY"
      },
      "source": [
        "### IMPORTANDO BIBLIOTECAS, ABRINDO SPARKSESSION E CONFIGURANDO CHAVE DE SERVIÇO"
      ]
    },
    {
      "cell_type": "code",
      "metadata": {
        "id": "WA3IQkKCL2sI"
      },
      "source": [
        "from pyspark.sql import SparkSession\n",
        "from pyspark import SQLContext\n",
        "from google.cloud import storage\n",
        "from pyspark.sql.types import *\n",
        "from pyspark.sql.types import DateType\n",
        "from pyspark.sql import Window\n",
        "\n",
        "import pyspark\n",
        "import pyspark.sql.functions as F\n",
        "import os\n",
        "import gcsfs\n",
        "import pandas as pd\n",
        "import pandera as pa"
      ],
      "execution_count": 197,
      "outputs": []
    },
    {
      "cell_type": "code",
      "metadata": {
        "colab": {
          "base_uri": "https://localhost:8080/",
          "height": 222
        },
        "id": "gO9olZPDMpxb",
        "outputId": "32f9dda9-68db-479b-90d8-ed4f2bd1a80c"
      },
      "source": [
        "spark = SparkSession.builder\\\n",
        ".master('local')\\\n",
        ".appName('Projeto_Final')\\\n",
        ".config('spark.ui.enable', 'true')\\\n",
        ".config('spark.ui.port', '4050')\\\n",
        ".getOrCreate()\n",
        "\n",
        "spark\n",
        "\n",
        "serviceaccount = '/content/soulcode-projeto-final-4b88bea6e07a.json'\n",
        "os.environ[\"GOOGLE_APPLICATION_CREDENTIALS\"] = serviceaccount\n",
        "\n",
        "spark"
      ],
      "execution_count": 198,
      "outputs": [
        {
          "output_type": "execute_result",
          "data": {
            "text/html": [
              "\n",
              "            <div>\n",
              "                <p><b>SparkSession - in-memory</b></p>\n",
              "                \n",
              "        <div>\n",
              "            <p><b>SparkContext</b></p>\n",
              "\n",
              "            <p><a href=\"http://a5be46d980a8:4050\">Spark UI</a></p>\n",
              "\n",
              "            <dl>\n",
              "              <dt>Version</dt>\n",
              "                <dd><code>v3.2.0</code></dd>\n",
              "              <dt>Master</dt>\n",
              "                <dd><code>local</code></dd>\n",
              "              <dt>AppName</dt>\n",
              "                <dd><code>Projeto_Final</code></dd>\n",
              "            </dl>\n",
              "        </div>\n",
              "        \n",
              "            </div>\n",
              "        "
            ],
            "text/plain": [
              "<pyspark.sql.session.SparkSession at 0x7fba87203e90>"
            ]
          },
          "metadata": {},
          "execution_count": 198
        }
      ]
    },
    {
      "cell_type": "markdown",
      "metadata": {
        "id": "E7EKwiUaOZ7N"
      },
      "source": [
        "### IMPORTANDO, VALIDANDO, EXTRAINDO INFORMAÇÕES E ANALISANDO DATAFRAMES"
      ]
    },
    {
      "cell_type": "markdown",
      "metadata": {
        "id": "UVyVPmLFa9DR"
      },
      "source": [
        "DATAFRAME 1"
      ]
    },
    {
      "cell_type": "code",
      "metadata": {
        "id": "t4GbGTFTbBWl"
      },
      "source": [
        "'''https://acervolima.com/como-converter-pandas-para-pyspark-dataframe/'''\n",
        "\n",
        "# ARQUIVO 1 - Lendo e validando importanção\n",
        "file_path_1 = 'gs://data_lake_ingest_data/2_temp/temp_pandas_despesas_normalizado.csv'\n",
        "\n",
        "fs = gcsfs.GCSFileSystem(project='soulcode-projeto-final', token=serviceaccount)\n",
        "with fs.open(file_path_1):\n",
        "    data = pd.read_csv(file_path_1, sep=',', encoding='UTF-8', header=0, index_col=False)\n",
        "\n",
        "    # Validando esquema, coluna e tipo de dado\n",
        "    schema = pa.DataFrameSchema(columns={\"UF\": pa.Column(str, pa.Check(str)),\n",
        "                                         \"Despesas2016\": pa.Column(float, pa.Check(lambda s: s > 100.000), nullable=True),\n",
        "                                         \"Despesas2017\": pa.Column(float, pa.Check(lambda s: s > 100.000), nullable=True),\n",
        "                                         \"Despesas2018\": pa.Column(float, pa.Check(lambda s: s > 100.000), nullable=True),\n",
        "                                         \"Despesas2019\": pa.Column(float, pa.Check(lambda s: s > 100.000), nullable=True),\n",
        "                                         \"Despesas2020\": pa.Column(float, pa.Check(lambda s: s > 100.000), nullable=True),\n",
        "                                         \"Variacao%\": pa.Column(float, pa.Check(lambda s: s != 0), nullable=True),\n",
        "                                         \"Previsao2021|Media\": pa.Column(float, pa.Check(lambda s: s > 100.000), nullable=True)                               \n",
        "                                         })\n",
        "    \n",
        "    schema.validate(data)\n",
        "\n",
        "df_1 = spark.createDataFrame(data)"
      ],
      "execution_count": 213,
      "outputs": []
    },
    {
      "cell_type": "markdown",
      "metadata": {
        "id": "UIE2jX8tbCx8"
      },
      "source": [
        "DATAFRAME 2"
      ]
    },
    {
      "cell_type": "code",
      "metadata": {
        "id": "JL-EyhYxbEmw"
      },
      "source": [
        "file_path_2 = 'gs://data_lake_ingest_data/2_temp/temp_pandas_ocorrencias_normalizado.json'\n",
        "\n",
        "fs = gcsfs.GCSFileSystem(project='soulcode-projeto-final', token=serviceaccount)\n",
        "with fs.open(file_path_2):\n",
        "    data = pd.read_json(file_path_2, encoding='UTF-8')\n",
        "\n",
        "# Validando esquema, coluna e tipo de dado\n",
        "    schema = pa.DataFrameSchema(columns={\"UF\": pa.Column(str, pa.Check(str)),\n",
        "                                         \"TipoCrime\": pa.Column(str, pa.Check(str), nullable=True),\n",
        "                                         \"Ano\": pa.Column(int, pa.Check(lambda s: s >= 2015), nullable=True),\n",
        "                                         \"Mes\": pa.Column(str, pa.Check(str), nullable=True),\n",
        "                                         \"Ocorrencias\": pa.Column(int, pa.Check(lambda s: s >= 0), nullable=True),                          \n",
        "                                         })\n",
        "    \n",
        "    schema.validate(data)\n",
        "    \n",
        "df_2 = spark.createDataFrame(data)"
      ],
      "execution_count": 214,
      "outputs": []
    },
    {
      "cell_type": "markdown",
      "metadata": {
        "id": "dLz_ne7HbJm3"
      },
      "source": [
        "DATAFRAME 3"
      ]
    },
    {
      "cell_type": "code",
      "metadata": {
        "id": "4AGa-r1ObPX6"
      },
      "source": [
        "file_path_3 = 'gs://data_lake_ingest_data/2_temp/temp_pandas_vitimas_normalizado.json'\n",
        "\n",
        "fs = gcsfs.GCSFileSystem(project='soulcode-projeto-final', token=serviceaccount)\n",
        "with fs.open(file_path_3):\n",
        "    data = pd.read_json(file_path_3, encoding='UTF-8')\n",
        "\n",
        "    # Validando esquema, coluna e tipo de dado\n",
        "    schema = pa.DataFrameSchema(columns={\"UF\": pa.Column(str, pa.Check(str)),\n",
        "                                     \"TipoCrime\": pa.Column(str, pa.Check(str), nullable=True),\n",
        "                                     \"Ano\": pa.Column(int, pa.Check(lambda s: s >= 2015), nullable=True),\n",
        "                                     \"Mes\": pa.Column(str, pa.Check(str), nullable=True),\n",
        "                                     \"SexoVitima\": pa.Column(str, pa.Check(str), nullable=True),\n",
        "                                     \"Vitimas\": pa.Column(int, pa.Check(lambda s: s >= 0), nullable=True),                      \n",
        "                                    })\n",
        "    \n",
        "    schema.validate(data)\n",
        "\n",
        "df_3 = spark.createDataFrame(data)"
      ],
      "execution_count": 215,
      "outputs": []
    },
    {
      "cell_type": "markdown",
      "metadata": {
        "id": "09FIUn_5bR23"
      },
      "source": [
        "DATAFRAME 5"
      ]
    },
    {
      "cell_type": "code",
      "metadata": {
        "id": "E7btSKU-bVGq"
      },
      "source": [
        "file_path_5 = 'gs://data_lake_ingest_data/2_temp/temp_pandas_ocorrencia_vitimas_porAnoEstado.csv'\n",
        "\n",
        "fs = gcsfs.GCSFileSystem(project='soulcode-projeto-final', token=serviceaccount)\n",
        "with fs.open(file_path_5):\n",
        "    data = pd.read_csv(file_path_5, sep=',', encoding='UTF-8')\n",
        "\n",
        "    # Validando esquema, coluna e tipo de dado\n",
        "    schema = pa.DataFrameSchema(columns={\"UF\": pa.Column(str, pa.Check(str)),\n",
        "                                         \"Ano\": pa.Column(int, pa.Check(lambda s: s >= 2015), nullable=True),\n",
        "                                         \"TipoCrime\": pa.Column(str, pa.Check(str), nullable=True),\n",
        "                                         \"Ocorrencias\": pa.Column(int, pa.Check(lambda s: s >= 0), nullable=True),\n",
        "                                         \"Vitimas\": pa.Column(int, pa.Check(lambda s: s >= 0), nullable=True),                      \n",
        "                                        })\n",
        "    \n",
        "    schema.validate(data)\n",
        "\n",
        "df_5 = spark.createDataFrame(data)"
      ],
      "execution_count": 216,
      "outputs": []
    },
    {
      "cell_type": "markdown",
      "metadata": {
        "id": "yLIPZ0zNbYbq"
      },
      "source": [
        "DATAFRAME 6"
      ]
    },
    {
      "cell_type": "code",
      "metadata": {
        "id": "fG9GtHhibbu6"
      },
      "source": [
        "file_path_6 = 'gs://data_lake_ingest_data/1_input/Tabela_frequencia_escolar.xlsx'\n",
        "\n",
        "fs = gcsfs.GCSFileSystem(project='soulcode-projeto-final', token=serviceaccount)\n",
        "with fs.open(file_path_6):\n",
        "    data = pd.read_excel(file_path_6, header=0)\n",
        "\n",
        "    # Validando esquema, coluna e tipo de dado\n",
        "    schema = pa.DataFrameSchema(columns={\"Grandes Regiões, Unidades da Federação e Municípios das Capitais\": pa.Column(str, pa.Check(str)),\n",
        "                                         \"15 a 17 anos - 2019\": pa.Column(float, pa.Check(lambda s: s <= 100.0), nullable=True),\n",
        "                                         \"15 a 17 anos - 2018\": pa.Column(float, pa.Check(lambda s: s <= 100.0), nullable=True),\n",
        "                                         \"15 a 17 anos - 2017\": pa.Column(float, pa.Check(lambda s: s <= 100.0), nullable=True),\n",
        "                                         \"15 a 17 anos - 2016\": pa.Column(float, pa.Check(lambda s: s <= 100.0), nullable=True),                      \n",
        "                                         \"Media 15 a 17 anos\": pa.Column(float, pa.Check(lambda s: s <= 100.0), nullable=True),\n",
        "                                         \"18 a 24 anos - 2019\": pa.Column(float, pa.Check(lambda s: s <= 100.0), nullable=True),\n",
        "                                         \"18 a 24 anos - 2018\": pa.Column(float, pa.Check(lambda s: s <= 100.0), nullable=True),\n",
        "                                         \"18 a 24 anos - 2017\": pa.Column(float, pa.Check(lambda s: s <= 100.0), nullable=True),\n",
        "                                         \"18 a 24 anos - 2016\": pa.Column(float, pa.Check(lambda s: s <= 100.0), nullable=True),\n",
        "                                         \"média 18 a 24 anos\": pa.Column(float, pa.Check(lambda s: s <= 100.0), nullable=True),\n",
        "                                         \"25 anos ou mais - 2019\": pa.Column(float, pa.Check(lambda s: s <= 100.0), nullable=True),\n",
        "                                         \"25 anos ou mais - 2018\": pa.Column(float, pa.Check(lambda s: s <= 100.0), nullable=True),\n",
        "                                         \"25 anos ou mais - 2017\": pa.Column(float, pa.Check(lambda s: s <= 100.0), nullable=True),\n",
        "                                         \"25 anos ou mais - 2016\":  pa.Column(float, pa.Check(lambda s: s <= 100.0), nullable=True),\n",
        "                                         \"média 25 anos ou mais\": pa.Column(float, pa.Check(lambda s: s <= 100.0), nullable=True)\n",
        "                                        })\n",
        "    \n",
        "    schema.validate(data)\n",
        "    \n",
        "df_6 = spark.createDataFrame(data)"
      ],
      "execution_count": 217,
      "outputs": []
    },
    {
      "cell_type": "markdown",
      "metadata": {
        "id": "q41tilhLbcwu"
      },
      "source": [
        "DATAFRAME 7"
      ]
    },
    {
      "cell_type": "code",
      "metadata": {
        "id": "zDjuvk6qbeVR"
      },
      "source": [
        "file_path_7 = 'gs://data_lake_ingest_data/2_temp/temp_pandas_taxa_analfabetismo_normalizado.csv'\n",
        "\n",
        "fs = gcsfs.GCSFileSystem(project='soulcode-projeto-final', token=serviceaccount)\n",
        "with fs.open(file_path_7):\n",
        "    data = pd.read_csv(file_path_7, header=0)\n",
        "\n",
        "    # Validando esquema, coluna e tipo de dado\n",
        "    schema = pa.DataFrameSchema(columns={\"Unnamed: 0\": pa.Column(int, pa.Check(lambda s: s >= 0)),\n",
        "                                         \"UF\": pa.Column(str, pa.Check(str), nullable=True),\n",
        "                                         \"Grupo_idade\": pa.Column(str, pa.Check(str), nullable=True),\n",
        "                                         \"TaxaAnalfabetismo2016\": pa.Column(float, pa.Check(lambda s: s <= 100.0), nullable=True),\n",
        "                                         \"TaxaAnalfabetismo2017\": pa.Column(float, pa.Check(lambda s: s <= 100.0), nullable=True),                      \n",
        "                                         \"TaxaAnalfabetismo2018\": pa.Column(float, pa.Check(lambda s: s <= 100.0), nullable=True),\n",
        "                                         \"TaxaAnalfabetismo2019\": pa.Column(float, pa.Check(lambda s: s <= 100.0), nullable=True),\n",
        "                                        })\n",
        "    \n",
        "    schema.validate(data)\n",
        "\n",
        "df_7 = spark.createDataFrame(data)"
      ],
      "execution_count": 218,
      "outputs": []
    },
    {
      "cell_type": "markdown",
      "metadata": {
        "id": "-uOiI-y-biXg"
      },
      "source": [
        "ANALISANDO DATAFRAMES"
      ]
    },
    {
      "cell_type": "code",
      "metadata": {
        "colab": {
          "base_uri": "https://localhost:8080/"
        },
        "id": "zjEFDl68OhtS",
        "outputId": "01b9e4b7-19c3-486d-fbc0-74abe8404be8"
      },
      "source": [
        "df_1.printSchema()\n",
        "df_1.show(5, truncate=False)\n",
        "df_1.dtypes\n",
        "\n",
        "df_2.printSchema()\n",
        "df_2.show(5, truncate=False)\n",
        "df_2.dtypes\n",
        "\n",
        "df_3.printSchema()\n",
        "df_3.show(5, truncate=False)\n",
        "df_3.dtypes\n",
        "\n",
        "df_5.printSchema()\n",
        "df_5.show(5, truncate=False)\n",
        "df_5.dtypes\n",
        "\n",
        "df_6.printSchema()\n",
        "df_6.show(5, truncate=False)\n",
        "df_6.dtypes\n",
        "\n",
        "df_7.printSchema()\n",
        "df_7.show(5, truncate=False)\n",
        "df_7.dtypes"
      ],
      "execution_count": 219,
      "outputs": [
        {
          "output_type": "stream",
          "name": "stdout",
          "text": [
            "root\n",
            " |-- UF: string (nullable = true)\n",
            " |-- Despesas2016: double (nullable = true)\n",
            " |-- Despesas2017: double (nullable = true)\n",
            " |-- Despesas2018: double (nullable = true)\n",
            " |-- Despesas2019: double (nullable = true)\n",
            " |-- Despesas2020: double (nullable = true)\n",
            " |-- Variacao%: double (nullable = true)\n",
            " |-- Previsao2021|Media: double (nullable = true)\n",
            "\n",
            "+--------+------------------+------------+------------------+------------+------------------+---------+------------------+\n",
            "|UF      |Despesas2016      |Despesas2017|Despesas2018      |Despesas2019|Despesas2020      |Variacao%|Previsao2021|Media|\n",
            "+--------+------------------+------------+------------------+------------+------------------+---------+------------------+\n",
            "|Acre    |498.535           |568.361     |627.351           |692.57      |493.75300000000004|8.5      |576.114           |\n",
            "|Amapá   |475.32300000000004|500.227     |489.228           |606.366     |752.252           |52.3     |564.6792          |\n",
            "|Amazonas|1604.7320000000002|1578.957    |1862.6689999999999|2108.46     |2101.447          |60.4     |1851.253          |\n",
            "|Pará    |2551.741          |2579.916    |2903.2            |2943.448    |2966.553          |58.0     |2788.9716         |\n",
            "|Rondônia|874.8739999999999 |895.868     |903.2539999999999 |853.971     |999.044           |-14.7    |905.4022          |\n",
            "+--------+------------------+------------+------------------+------------+------------------+---------+------------------+\n",
            "only showing top 5 rows\n",
            "\n",
            "root\n",
            " |-- UF: string (nullable = true)\n",
            " |-- TipoCrime: string (nullable = true)\n",
            " |-- Ano: long (nullable = true)\n",
            " |-- Mes: string (nullable = true)\n",
            " |-- Ocorrencias: long (nullable = true)\n",
            "\n",
            "+----+-------------------------------+----+-------+-----------+\n",
            "|UF  |TipoCrime                      |Ano |Mes    |Ocorrencias|\n",
            "+----+-------------------------------+----+-------+-----------+\n",
            "|Acre|Estupro                        |2021|janeiro|39         |\n",
            "|Acre|Furto de veículo               |2021|janeiro|55         |\n",
            "|Acre|Homicídio doloso               |2021|janeiro|14         |\n",
            "|Acre|Lesão corporal seguida de morte|2021|janeiro|0          |\n",
            "|Acre|Roubo a instituição financeira |2021|janeiro|0          |\n",
            "+----+-------------------------------+----+-------+-----------+\n",
            "only showing top 5 rows\n",
            "\n",
            "root\n",
            " |-- UF: string (nullable = true)\n",
            " |-- TipoCrime: string (nullable = true)\n",
            " |-- Ano: long (nullable = true)\n",
            " |-- Mes: string (nullable = true)\n",
            " |-- SexoVitima: string (nullable = true)\n",
            " |-- Vitimas: long (nullable = true)\n",
            "\n",
            "+----+----------------+----+---------+----------+-------+\n",
            "|UF  |TipoCrime       |Ano |Mes      |SexoVitima|Vitimas|\n",
            "+----+----------------+----+---------+----------+-------+\n",
            "|Acre|Homicídio doloso|2021|janeiro  |Feminino  |1      |\n",
            "|Acre|Homicídio doloso|2021|janeiro  |Masculino |13     |\n",
            "|Acre|Homicídio doloso|2021|janeiro  |Sexo NI   |0      |\n",
            "|Acre|Homicídio doloso|2021|fevereiro|Feminino  |4      |\n",
            "|Acre|Homicídio doloso|2021|fevereiro|Masculino |12     |\n",
            "+----+----------------+----+---------+----------+-------+\n",
            "only showing top 5 rows\n",
            "\n",
            "root\n",
            " |-- UF: string (nullable = true)\n",
            " |-- Ano: long (nullable = true)\n",
            " |-- TipoCrime: string (nullable = true)\n",
            " |-- Ocorrencias: long (nullable = true)\n",
            " |-- Vitimas: long (nullable = true)\n",
            "\n",
            "+----+----+-----------------------------------+-----------+-------+\n",
            "|UF  |Ano |TipoCrime                          |Ocorrencias|Vitimas|\n",
            "+----+----+-----------------------------------+-----------+-------+\n",
            "|Acre|2016|Homicídio doloso                   |425        |354    |\n",
            "|Acre|2017|Homicídio doloso                   |221        |232    |\n",
            "|Acre|2017|Lesão corporal seguida de morte    |0          |3      |\n",
            "|Acre|2017|Roubo seguido de morte (latrocínio)|10         |15     |\n",
            "|Acre|2018|Homicídio doloso                   |396        |394    |\n",
            "+----+----+-----------------------------------+-----------+-------+\n",
            "only showing top 5 rows\n",
            "\n",
            "root\n",
            " |-- Grandes Regiões, Unidades da Federação e Municípios das Capitais: string (nullable = true)\n",
            " |-- 15 a 17 anos - 2019: double (nullable = true)\n",
            " |-- 15 a 17 anos - 2018: double (nullable = true)\n",
            " |-- 15 a 17 anos - 2017: double (nullable = true)\n",
            " |-- 15 a 17 anos - 2016: double (nullable = true)\n",
            " |-- Media 15 a 17 anos: double (nullable = true)\n",
            " |-- 18 a 24 anos - 2019: double (nullable = true)\n",
            " |-- 18 a 24 anos - 2018: double (nullable = true)\n",
            " |-- 18 a 24 anos - 2017: double (nullable = true)\n",
            " |-- 18 a 24 anos - 2016: double (nullable = true)\n",
            " |-- média 18 a 24 anos: double (nullable = true)\n",
            " |-- 25 anos ou mais - 2019: double (nullable = true)\n",
            " |-- 25 anos ou mais - 2018: double (nullable = true)\n",
            " |-- 25 anos ou mais - 2017: double (nullable = true)\n",
            " |-- 25 anos ou mais - 2016: double (nullable = true)\n",
            " |-- média 25 anos ou mais: double (nullable = true)\n",
            "\n",
            "+----------------------------------------------------------------+-------------------+-------------------+-------------------+-------------------+------------------+-------------------+-------------------+-------------------+-------------------+------------------+----------------------+----------------------+----------------------+----------------------+---------------------+\n",
            "|Grandes Regiões, Unidades da Federação e Municípios das Capitais|15 a 17 anos - 2019|15 a 17 anos - 2018|15 a 17 anos - 2017|15 a 17 anos - 2016|Media 15 a 17 anos|18 a 24 anos - 2019|18 a 24 anos - 2018|18 a 24 anos - 2017|18 a 24 anos - 2016|média 18 a 24 anos|25 anos ou mais - 2019|25 anos ou mais - 2018|25 anos ou mais - 2017|25 anos ou mais - 2016|média 25 anos ou mais|\n",
            "+----------------------------------------------------------------+-------------------+-------------------+-------------------+-------------------+------------------+-------------------+-------------------+-------------------+-------------------+------------------+----------------------+----------------------+----------------------+----------------------+---------------------+\n",
            "|Brasil                                                          |89.17198948374096  |88.2426144204458   |86.56451335197876  |87.5617260467917   |87.8852108257393  |32.41407932745226  |34.53417795470805  |33.360253247817255 |34.17581270855951  |33.62108080963427 |4.504817075471089     |5.675049480395514     |5.8222092845937174    |6.05481441288333      |5.514222563335913    |\n",
            "|Norte                                                           |88.74982729136596  |87.13363699314166  |86.18634784748102  |86.23343843334908  |87.07581264133444 |33.277336088584065 |30.55755225551167  |31.889367675874244 |31.40075605450034  |31.781253018617576|5.300311202284845     |4.738200441644607     |4.829205200490404     |6.316555051054046     |5.2960679738684755   |\n",
            "|Rondônia                                                        |88.5758890715434   |87.61083310627495  |88.09353317895633  |86.80829519027922  |87.77213763676347 |31.917363776805303 |36.46044648717471  |42.381697360736936 |39.412875441641646 |37.543095766589644|5.696628237780432     |6.806092080969176     |8.094231628524204     |10.102827665601428    |7.67494490321881     |\n",
            "|Porto Velho                                                     |88.95162805125744  |82.5532772565588   |84.18183233290323  |86.43959488451544  |85.53158313130872 |38.26167802729192  |33.024090303693306 |35.08011605454825  |39.44302117520716  |36.45222639018516 |7.482369141571613     |8.496009939035124     |7.956949796455643     |10.15315072431738     |8.52211990034494     |\n",
            "|Acre                                                            |84.98448999182288  |87.17335055657942  |86.65851673769289  |86.68539677641571  |86.37543851562772 |33.834860833327035 |38.86751169841704  |42.36043012159184  |42.89214761645621  |39.488737567448034|6.9339672958134075    |10.321757609195592    |9.98524514543419      |10.493120889846796    |9.433522735072497    |\n",
            "+----------------------------------------------------------------+-------------------+-------------------+-------------------+-------------------+------------------+-------------------+-------------------+-------------------+-------------------+------------------+----------------------+----------------------+----------------------+----------------------+---------------------+\n",
            "only showing top 5 rows\n",
            "\n",
            "root\n",
            " |-- Unnamed: 0: long (nullable = true)\n",
            " |-- UF: string (nullable = true)\n",
            " |-- Grupo_idade: string (nullable = true)\n",
            " |-- TaxaAnalfabetismo2016: double (nullable = true)\n",
            " |-- TaxaAnalfabetismo2017: double (nullable = true)\n",
            " |-- TaxaAnalfabetismo2018: double (nullable = true)\n",
            " |-- TaxaAnalfabetismo2019: double (nullable = true)\n",
            "\n",
            "+----------+--------+---------------+---------------------+---------------------+---------------------+---------------------+\n",
            "|Unnamed: 0|UF      |Grupo_idade    |TaxaAnalfabetismo2016|TaxaAnalfabetismo2017|TaxaAnalfabetismo2018|TaxaAnalfabetismo2019|\n",
            "+----------+--------+---------------+---------------------+---------------------+---------------------+---------------------+\n",
            "|0         |Rondônia|15 anos ou mais|6.6                  |7.2                  |6.5                  |6.4                  |\n",
            "|1         |Acre    |15 anos ou mais|13.1                 |12.1                 |12.1                 |11.7                 |\n",
            "|2         |Amazonas|15 anos ou mais|6.9                  |6.1                  |5.8                  |5.4                  |\n",
            "|3         |Roraima |15 anos ou mais|6.6                  |6.0                  |6.0                  |5.0                  |\n",
            "|4         |Pará    |15 anos ou mais|9.2                  |8.6                  |8.8                  |8.4                  |\n",
            "+----------+--------+---------------+---------------------+---------------------+---------------------+---------------------+\n",
            "only showing top 5 rows\n",
            "\n"
          ]
        },
        {
          "output_type": "execute_result",
          "data": {
            "text/plain": [
              "[('Unnamed: 0', 'bigint'),\n",
              " ('UF', 'string'),\n",
              " ('Grupo_idade', 'string'),\n",
              " ('TaxaAnalfabetismo2016', 'double'),\n",
              " ('TaxaAnalfabetismo2017', 'double'),\n",
              " ('TaxaAnalfabetismo2018', 'double'),\n",
              " ('TaxaAnalfabetismo2019', 'double')]"
            ]
          },
          "metadata": {},
          "execution_count": 219
        }
      ]
    },
    {
      "cell_type": "markdown",
      "metadata": {
        "id": "lsZ927gDOKDx"
      },
      "source": [
        "### NORMALIZANDO DATAFRAMES\n"
      ]
    },
    {
      "cell_type": "markdown",
      "metadata": {
        "id": "dLjq07hvfqKL"
      },
      "source": [
        "DATAFRAME 1"
      ]
    },
    {
      "cell_type": "code",
      "metadata": {
        "colab": {
          "base_uri": "https://localhost:8080/"
        },
        "id": "bAPe60SHVbP6",
        "outputId": "10ef77fb-f099-4dab-fbf7-f973252b2857"
      },
      "source": [
        "df_1 = df_1.drop('Estimativa_2021', 'Previsao2021Media')\n",
        "df_1 = df_1.drop('Estimativa_2021', 'Previsao2021Media')\n",
        "df_1 = df_1.withColumnRenamed('Media Anual', 'Estimativa_Despesa_2021')\n",
        "df_1 = df_1.withColumnRenamed('Previsao2021|Media', 'Previsao2021_Media')\n",
        "\n",
        "df_1.withColumn(\"Despesas2017\", F.round(df_1.Despesas2016.cast(FloatType()), 3))\n",
        "df_1.withColumn(\"Despesas2017\", F.round(df_1.Despesas2017.cast(FloatType()), 3))\n",
        "df_1.withColumn(\"Despesas2018\", F.round(df_1.Despesas2018.cast(FloatType()), 3))\n",
        "df_1.withColumn(\"Despesas2019\", F.round(df_1.Despesas2019.cast(FloatType()), 3))\n",
        "df_1.withColumn(\"Despesas2020\", F.round(df_1.Despesas2020.cast(FloatType()), 3))\n",
        "df_1.withColumn(\"Previsao2021_Media\", F.round(df_1.Previsao2021_Media.cast(FloatType()), 3))\n",
        "\n",
        "df_1.show()\n",
        "df_1.dtypes"
      ],
      "execution_count": 220,
      "outputs": [
        {
          "output_type": "stream",
          "name": "stdout",
          "text": [
            "+-------------------+------------------+------------------+------------------+------------------+------------------+---------+------------------+\n",
            "|                 UF|      Despesas2016|      Despesas2017|      Despesas2018|      Despesas2019|      Despesas2020|Variacao%|Previsao2021_Media|\n",
            "+-------------------+------------------+------------------+------------------+------------------+------------------+---------+------------------+\n",
            "|               Acre|           498.535|           568.361|           627.351|            692.57|493.75300000000004|      8.5|           576.114|\n",
            "|              Amapá|475.32300000000004|           500.227|           489.228|           606.366|           752.252|     52.3|          564.6792|\n",
            "|           Amazonas|1604.7320000000002|          1578.957|1862.6689999999999|           2108.46|          2101.447|     60.4|          1851.253|\n",
            "|               Pará|          2551.741|          2579.916|            2903.2|          2943.448|          2966.553|     58.0|         2788.9716|\n",
            "|           Rondônia| 874.8739999999999|           895.868| 903.2539999999999|           853.971|           999.044|    -14.7|          905.4022|\n",
            "|            Roraima|           408.934|           440.124|405.44599999999997|           288.198|391.17800000000005|     65.8|           386.776|\n",
            "|          Tocantins|           839.882| 898.6519999999999|           939.627|           1119.19|          1059.726|     24.6|          971.4154|\n",
            "|            Alagoas|          1196.641|           1244.52|          1251.229|1159.1589999999999|          1354.986|     17.1|1241.3070000000002|\n",
            "|              Bahia| 4760.590999999999|          4569.076|          4601.027|          4682.403|          4321.663|      3.9|          4586.952|\n",
            "|              Ceará|          2188.315|          2400.235|2763.3390000000004|           2842.36|          3045.583|     95.0|         2647.9664|\n",
            "|           Maranhão|1593.4720000000002|1764.7879999999998|          1980.318|           2003.66|          1954.384|     69.0|         1859.3244|\n",
            "|            Paraíba|           1286.81|1295.2069999999999|1352.9720000000002|           1386.24|          1417.592|     37.1|         1347.7642|\n",
            "|         Pernambuco|          2657.598|2807.8740000000003|          2971.232|          2985.145|          2880.151|    -10.1|            2860.4|\n",
            "|              Piauí|           804.429|           792.977|             799.0|           893.296|           785.832|    102.3|          815.1068|\n",
            "|Rio Grande do Norte|          1215.257|           983.317|          1045.736|          1203.684|          1038.218|      9.7|         1097.2424|\n",
            "|            Sergipe|            942.15| 938.5010000000001|           956.072|           989.128|           956.784|    -12.9| 956.5269999999999|\n",
            "|              Goiás|           3455.91|          3084.744|3643.1609999999996|           3839.27|          3191.756|     50.1|3442.9682000000007|\n",
            "|        Mato Grosso|          2085.541|          2118.651|          2204.075|          2486.876|           2577.01|     49.0|         2294.4306|\n",
            "| Mato Grosso do Sul|          1459.525|1487.2220000000002|          1233.864|          1259.369|          1240.098|    -12.8|1336.0156000000004|\n",
            "|   Distrito Federal|           812.247| 909.7919999999999| 905.0060000000001|           931.987|           976.513|     92.4| 907.1089999999999|\n",
            "+-------------------+------------------+------------------+------------------+------------------+------------------+---------+------------------+\n",
            "only showing top 20 rows\n",
            "\n"
          ]
        },
        {
          "output_type": "execute_result",
          "data": {
            "text/plain": [
              "[('UF', 'string'),\n",
              " ('Despesas2016', 'double'),\n",
              " ('Despesas2017', 'double'),\n",
              " ('Despesas2018', 'double'),\n",
              " ('Despesas2019', 'double'),\n",
              " ('Despesas2020', 'double'),\n",
              " ('Variacao%', 'double'),\n",
              " ('Previsao2021_Media', 'double')]"
            ]
          },
          "metadata": {},
          "execution_count": 220
        }
      ]
    },
    {
      "cell_type": "markdown",
      "metadata": {
        "id": "5V-KKecgfw6R"
      },
      "source": [
        "DATAFRAME 6"
      ]
    },
    {
      "cell_type": "code",
      "metadata": {
        "colab": {
          "base_uri": "https://localhost:8080/"
        },
        "id": "jfQ55azXerU3",
        "outputId": "2047f72a-e4c2-4ce3-ea6d-aa6659a85cfd"
      },
      "source": [
        "# DROPANDO COLUNAS\n",
        "df_6 = df_6.drop('15 a 17 anos - 2019', \n",
        "                 '15 a 17 anos - 2018',\n",
        "                 '15 a 17 anos - 2017',\n",
        "                 '15 a 17 anos - 2016',\n",
        "                 '18 a 24 anos - 2019',\n",
        "                 '18 a 24 anos - 2018',\n",
        "                 '18 a 24 anos - 2017',\n",
        "                 '18 a 24 anos - 2016',\n",
        "                 '25 anos ou mais - 2019',\n",
        "                 '25 anos ou mais - 2018',\n",
        "                 '25 anos ou mais - 2017',\n",
        "                 '25 anos ou mais - 2016')\n",
        "\n",
        "# RENOMEANDO COLUNAS FAIXA DE IDADE\n",
        "df_6 = df_6.withColumnRenamed('Grandes Regiões, Unidades da Federação e Municípios das Capitais', 'UF')\n",
        "df_6 = df_6.withColumnRenamed('Media 15 a 17 anos', 'Media_Freq_15_a_17_anos')\n",
        "df_6 = df_6.withColumnRenamed('média 18 a 24 anos', 'Media_Freq_18_a_24_anos')\n",
        "df_6 = df_6.withColumnRenamed('média 25 anos ou mais', 'Media_Freq_25_anos_ou_mais')\n",
        "\n",
        "# df_6.show(1000, truncate=False)\n",
        "\n",
        "# FILTRO PARA REMOVER REGIÕES E CAPITAIS\n",
        "df_6 = df_6.filter(\n",
        "            (df_6.UF != \"Brasil\") & \n",
        "            (df_6.UF != \"Norte\") & \n",
        "            (df_6.UF != \"Nordeste\") &\n",
        "            (df_6.UF != \"Sudeste\") & \n",
        "            (df_6.UF != \"Sul\") &\n",
        "            (df_6.UF != \"Centro-Oeste\") &\n",
        "            (df_6.UF != \"Porto Velho\") &\n",
        "            (df_6.UF != \"Rio Branco\") &\n",
        "            (df_6.UF != \"Manaus\") &\n",
        "            (df_6.UF != \"Boa Vista\") &\n",
        "            (df_6.UF != \"Macapá\") &\n",
        "            (df_6.UF != \"Palmas\") &\n",
        "            (df_6.UF != \"São Luiz\") &\n",
        "            (df_6.UF != \"Teresina\") &\n",
        "            (df_6.UF != \"Fortaleza\") &\n",
        "            (df_6.UF != \"Natal\") &\n",
        "            (df_6.UF != \"joão Pessoa\") &\n",
        "            (df_6.UF != \"Recife\") &\n",
        "            (df_6.UF != \"Maceió\") &\n",
        "            (df_6.UF != \"Aracaju\") &\n",
        "            (df_6.UF != \"Salvador\") &\n",
        "            (df_6.UF != \"Belo Horizonte\") &\n",
        "            (df_6.UF != \"Vitória\") &\n",
        "            (df_6.UF != \"Curitiba\") &\n",
        "            (df_6.UF != \"Florianópolis\") &\n",
        "            (df_6.UF != \"Porto Alegre\") &\n",
        "            (df_6.UF != \"Campo Grande\") &\n",
        "            (df_6.UF != \"Cuiabá\") &\n",
        "            (df_6.UF != \"Goiânia\") &\n",
        "            (df_6.UF != \"Brasilia\") &\n",
        "            (df_6.Media_Freq_15_a_17_anos != 89.58849285882357) & # Rio de Janeiro\n",
        "            (df_6.Media_Freq_15_a_17_anos != 86.56596333926969) # São Paulo\n",
        "            )\\\n",
        "            .orderBy('UF', ascending=True)\n",
        "\n",
        "# # INCREMENTANDO TAXA DE EVASÃO\n",
        "# df_6 = df_6.withColumn('Evasao_11_a_14_anos', (df_5.Freq_11_a_14_anos - 100)) \n",
        "# df_6 = df_6.withColumn('Evasao_15_a_17_anos', (df_5.Freq_11_a_14_anos - 100))\n",
        "# df_6 = df_6.withColumn('Evasao_18_a_24_anos', (df_5.Freq_11_a_14_anos - 100))\n",
        "# df_6 = df_6.withColumn('Evasao_25_anos_ou_mais', (df_5.Freq_11_a_14_anos - 100))\n",
        "\n",
        "# CONVERTENDO VALORES EM PORCENTAGEM\n",
        "'''https://stackoverflow.com/questions/60673912/how-to-convert-number-into-percentage'''\n",
        "\n",
        "df_6 = df_6\\\n",
        ".withColumn(\"Media_Freq_15_a_17_anos\", F.concat((F.col(\"Media_Freq_15_a_17_anos\") * 1).cast(\"int\"), F.lit(' %')))\\\n",
        ".withColumn(\"Media_Freq_18_a_24_anos\", F.concat((F.col(\"Media_Freq_18_a_24_anos\") * 1).cast(\"int\"), F.lit(' %')))\\\n",
        ".withColumn(\"Media_Freq_25_anos_ou_mais\", F.concat((F.col(\"Media_Freq_25_anos_ou_mais\") * 1).cast(\"int\"), F.lit(' %')))\n",
        "# .withColumn(\"Media_Freq_Escolar\", F.concat((F.col(\"Media_Freq_Escolar\") * 1).cast(\"int\"), F.lit(' %')))\\\n",
        "# .withColumn(\"Evasao_11_a_14_anos\", F.concat((F.col(\"Evasao_11_a_14_anos\") * 1).cast(\"int\"), F.lit(' %')))\\\n",
        "# .withColumn(\"Evasao_15_a_17_anos\", F.concat((F.col(\"Evasao_15_a_17_anos\") * 1).cast(\"int\"), F.lit(' %')))\\\n",
        "# .withColumn(\"Evasao_18_a_24_anos\", F.concat((F.col(\"Evasao_18_a_24_anos\") * 1).cast(\"int\"), F.lit(' %')))\\\n",
        "# .withColumn(\"Evasao_25_anos_ou_mais\", F.concat((F.col(\"Evasao_25_anos_ou_mais\") * 1).cast(\"int\"), F.lit(' %')))\n",
        "\n",
        "# AJUSTANDO EXIBIÇÃO DO DATAFRAME\n",
        "df_6 = df_6.select('UF', \n",
        "                   'Media_Freq_15_a_17_anos', \n",
        "                #    'Evasao_11_a_14_anos',\n",
        "                   'Media_Freq_18_a_24_anos',\n",
        "                #    'Evasao_15_a_17_anos',\n",
        "                   'Media_Freq_25_anos_ou_mais',\n",
        "                #    'Evasao_18_a_24_anos',\n",
        "                #    'Freq_25_anos_ou_mais',\n",
        "                #    'Evasao_25_anos_ou_mais',\n",
        "                #    'Media_Freq_Escolar'\n",
        "               )\n",
        "\n",
        "df_6.show(1000)"
      ],
      "execution_count": 221,
      "outputs": [
        {
          "output_type": "stream",
          "name": "stdout",
          "text": [
            "+-------------------+-----------------------+-----------------------+--------------------------+\n",
            "|                 UF|Media_Freq_15_a_17_anos|Media_Freq_18_a_24_anos|Media_Freq_25_anos_ou_mais|\n",
            "+-------------------+-----------------------+-----------------------+--------------------------+\n",
            "|               Acre|                   86 %|                   39 %|                       9 %|\n",
            "|            Alagoas|                   85 %|                   35 %|                       4 %|\n",
            "|              Amapá|                   88 %|                   42 %|                       7 %|\n",
            "|           Amazonas|                   90 %|                   39 %|                       7 %|\n",
            "|              Bahia|                   90 %|                   43 %|                       7 %|\n",
            "|              Belém|                   89 %|                   40 %|                       6 %|\n",
            "|           Brasília|                   91 %|                   44 %|                       6 %|\n",
            "|              Ceará|                   88 %|                   33 %|                       5 %|\n",
            "|   Distrito Federal|                   91 %|                   44 %|                       6 %|\n",
            "|     Espírito Santo|                   92 %|                   47 %|                       6 %|\n",
            "|              Goiás|                   87 %|                   39 %|                       5 %|\n",
            "|        João Pessoa|                   84 %|                   32 %|                       4 %|\n",
            "|           Maranhão|                   87 %|                   35 %|                       6 %|\n",
            "|        Mato Grosso|                   90 %|                   39 %|                       7 %|\n",
            "| Mato Grosso do Sul|                   90 %|                   39 %|                       6 %|\n",
            "|       Minas Gerais|                   92 %|                   37 %|                       6 %|\n",
            "|             Paraná|                   87 %|                   41 %|                       5 %|\n",
            "|            Paraíba|                   90 %|                   44 %|                       6 %|\n",
            "|               Pará|                   90 %|                   39 %|                       6 %|\n",
            "|         Pernambuco|                   88 %|                   33 %|                       5 %|\n",
            "|              Piauí|                   94 %|                   42 %|                       6 %|\n",
            "|Rio Grande do Norte|                   92 %|                   41 %|                       5 %|\n",
            "|  Rio Grande do Sul|                   89 %|                   43 %|                       7 %|\n",
            "|     Rio de Janeiro|                   93 %|                   40 %|                       4 %|\n",
            "|           Rondônia|                   87 %|                   37 %|                       7 %|\n",
            "|            Roraima|                   90 %|                   34 %|                       8 %|\n",
            "|     Santa Catarina|                   92 %|                   44 %|                       6 %|\n",
            "|            Sergipe|                   91 %|                   41 %|                       5 %|\n",
            "|           São Luís|                   89 %|                   37 %|                       5 %|\n",
            "|          São Paulo|                   88 %|                   34 %|                       4 %|\n",
            "|          Tocantins|                   91 %|                   40 %|                       7 %|\n",
            "+-------------------+-----------------------+-----------------------+--------------------------+\n",
            "\n"
          ]
        }
      ]
    },
    {
      "cell_type": "markdown",
      "metadata": {
        "id": "SEWvGtHlf3eZ"
      },
      "source": [
        "DATAFRAME 7"
      ]
    },
    {
      "cell_type": "code",
      "metadata": {
        "colab": {
          "base_uri": "https://localhost:8080/"
        },
        "id": "S4Flsf5qzGHp",
        "outputId": "991fcb35-89e1-4fb4-ab8d-82e0bbf2ca86"
      },
      "source": [
        "# DATAFRAME 7\n",
        "df_7 = df_7.drop('Grupo_idade')\n",
        "df_7 = df_7.drop('Unnamed: 0')\n",
        "\n",
        "df_7 = df_7\\\n",
        ".withColumn(\"TaxaAnalfabetismo2016\", F.concat((F.col(\"TaxaAnalfabetismo2016\") * 1).cast(\"int\"), F.lit(' %')))\\\n",
        ".withColumn(\"TaxaAnalfabetismo2017\", F.concat((F.col(\"TaxaAnalfabetismo2017\") * 1).cast(\"int\"), F.lit(' %')))\\\n",
        ".withColumn(\"TaxaAnalfabetismo2018\", F.concat((F.col(\"TaxaAnalfabetismo2018\") * 1).cast(\"int\"), F.lit(' %')))\\\n",
        ".withColumn(\"TaxaAnalfabetismo2019\", F.concat((F.col(\"TaxaAnalfabetismo2019\") * 1).cast(\"int\"), F.lit(' %')))\n",
        "\n",
        "df_7.show()"
      ],
      "execution_count": 222,
      "outputs": [
        {
          "output_type": "stream",
          "name": "stdout",
          "text": [
            "+-------------------+---------------------+---------------------+---------------------+---------------------+\n",
            "|                 UF|TaxaAnalfabetismo2016|TaxaAnalfabetismo2017|TaxaAnalfabetismo2018|TaxaAnalfabetismo2019|\n",
            "+-------------------+---------------------+---------------------+---------------------+---------------------+\n",
            "|           Rondônia|                  6 %|                  7 %|                  6 %|                  6 %|\n",
            "|               Acre|                 13 %|                 12 %|                 12 %|                 11 %|\n",
            "|           Amazonas|                  6 %|                  6 %|                  5 %|                  5 %|\n",
            "|            Roraima|                  6 %|                  6 %|                  6 %|                  5 %|\n",
            "|               Pará|                  9 %|                  8 %|                  8 %|                  8 %|\n",
            "|              Amapá|                  5 %|                  5 %|                  6 %|                  5 %|\n",
            "|          Tocantins|                 10 %|                 10 %|                 10 %|                  9 %|\n",
            "|           Maranhão|                 16 %|                 16 %|                 16 %|                 15 %|\n",
            "|              Piauí|                 17 %|                 16 %|                 16 %|                 16 %|\n",
            "|              Ceará|                 15 %|                 14 %|                 13 %|                 13 %|\n",
            "|Rio Grande do Norte|                 14 %|                 13 %|                 12 %|                 13 %|\n",
            "|            Paraíba|                 16 %|                 16 %|                 16 %|                 16 %|\n",
            "|         Pernambuco|                 12 %|                 13 %|                 11 %|                 11 %|\n",
            "|            Alagoas|                 19 %|                 18 %|                 17 %|                 17 %|\n",
            "|            Sergipe|                 14 %|                 14 %|                 13 %|                 13 %|\n",
            "|              Bahia|                 13 %|                 12 %|                 12 %|                 12 %|\n",
            "|       Minas Gerais|                  6 %|                  6 %|                  5 %|                  5 %|\n",
            "|     Espírito Santo|                  6 %|                  5 %|                  5 %|                  5 %|\n",
            "|     Rio de Janeiro|                  2 %|                  2 %|                  2 %|                  2 %|\n",
            "|          São Paulo|                  2 %|                  2 %|                  2 %|                  2 %|\n",
            "+-------------------+---------------------+---------------------+---------------------+---------------------+\n",
            "only showing top 20 rows\n",
            "\n"
          ]
        }
      ]
    },
    {
      "cell_type": "markdown",
      "metadata": {
        "id": "Z-SnL3GEesv8"
      },
      "source": [
        "### CONSULTAS / AGREGANDO DADOS"
      ]
    },
    {
      "cell_type": "code",
      "metadata": {
        "colab": {
          "base_uri": "https://localhost:8080/"
        },
        "id": "w2bgQFezOJDR",
        "outputId": "f6a66e3e-8188-4e38-e23d-6d9f6641f7a6"
      },
      "source": [
        "# VISUALIZAR DATAFRAMES TRATADOS\n",
        "\n",
        "df_1.show(5, truncate=False)\n",
        "df_2.show(5, truncate=False)\n",
        "df_3.show(5, truncate=False)\n",
        "df_5.show(5, truncate=False)\n",
        "df_6.show(5, truncate=False)\n",
        "df_7.show(5, truncate=False)"
      ],
      "execution_count": 223,
      "outputs": [
        {
          "output_type": "stream",
          "name": "stdout",
          "text": [
            "+--------+------------------+------------+------------------+------------+------------------+---------+------------------+\n",
            "|UF      |Despesas2016      |Despesas2017|Despesas2018      |Despesas2019|Despesas2020      |Variacao%|Previsao2021_Media|\n",
            "+--------+------------------+------------+------------------+------------+------------------+---------+------------------+\n",
            "|Acre    |498.535           |568.361     |627.351           |692.57      |493.75300000000004|8.5      |576.114           |\n",
            "|Amapá   |475.32300000000004|500.227     |489.228           |606.366     |752.252           |52.3     |564.6792          |\n",
            "|Amazonas|1604.7320000000002|1578.957    |1862.6689999999999|2108.46     |2101.447          |60.4     |1851.253          |\n",
            "|Pará    |2551.741          |2579.916    |2903.2            |2943.448    |2966.553          |58.0     |2788.9716         |\n",
            "|Rondônia|874.8739999999999 |895.868     |903.2539999999999 |853.971     |999.044           |-14.7    |905.4022          |\n",
            "+--------+------------------+------------+------------------+------------+------------------+---------+------------------+\n",
            "only showing top 5 rows\n",
            "\n",
            "+----+-------------------------------+----+-------+-----------+\n",
            "|UF  |TipoCrime                      |Ano |Mes    |Ocorrencias|\n",
            "+----+-------------------------------+----+-------+-----------+\n",
            "|Acre|Estupro                        |2021|janeiro|39         |\n",
            "|Acre|Furto de veículo               |2021|janeiro|55         |\n",
            "|Acre|Homicídio doloso               |2021|janeiro|14         |\n",
            "|Acre|Lesão corporal seguida de morte|2021|janeiro|0          |\n",
            "|Acre|Roubo a instituição financeira |2021|janeiro|0          |\n",
            "+----+-------------------------------+----+-------+-----------+\n",
            "only showing top 5 rows\n",
            "\n",
            "+----+----------------+----+---------+----------+-------+\n",
            "|UF  |TipoCrime       |Ano |Mes      |SexoVitima|Vitimas|\n",
            "+----+----------------+----+---------+----------+-------+\n",
            "|Acre|Homicídio doloso|2021|janeiro  |Feminino  |1      |\n",
            "|Acre|Homicídio doloso|2021|janeiro  |Masculino |13     |\n",
            "|Acre|Homicídio doloso|2021|janeiro  |Sexo NI   |0      |\n",
            "|Acre|Homicídio doloso|2021|fevereiro|Feminino  |4      |\n",
            "|Acre|Homicídio doloso|2021|fevereiro|Masculino |12     |\n",
            "+----+----------------+----+---------+----------+-------+\n",
            "only showing top 5 rows\n",
            "\n",
            "+----+----+-----------------------------------+-----------+-------+\n",
            "|UF  |Ano |TipoCrime                          |Ocorrencias|Vitimas|\n",
            "+----+----+-----------------------------------+-----------+-------+\n",
            "|Acre|2016|Homicídio doloso                   |425        |354    |\n",
            "|Acre|2017|Homicídio doloso                   |221        |232    |\n",
            "|Acre|2017|Lesão corporal seguida de morte    |0          |3      |\n",
            "|Acre|2017|Roubo seguido de morte (latrocínio)|10         |15     |\n",
            "|Acre|2018|Homicídio doloso                   |396        |394    |\n",
            "+----+----+-----------------------------------+-----------+-------+\n",
            "only showing top 5 rows\n",
            "\n",
            "+--------+-----------------------+-----------------------+--------------------------+\n",
            "|UF      |Media_Freq_15_a_17_anos|Media_Freq_18_a_24_anos|Media_Freq_25_anos_ou_mais|\n",
            "+--------+-----------------------+-----------------------+--------------------------+\n",
            "|Acre    |86 %                   |39 %                   |9 %                       |\n",
            "|Alagoas |85 %                   |35 %                   |4 %                       |\n",
            "|Amapá   |88 %                   |42 %                   |7 %                       |\n",
            "|Amazonas|90 %                   |39 %                   |7 %                       |\n",
            "|Bahia   |90 %                   |43 %                   |7 %                       |\n",
            "+--------+-----------------------+-----------------------+--------------------------+\n",
            "only showing top 5 rows\n",
            "\n",
            "+--------+---------------------+---------------------+---------------------+---------------------+\n",
            "|UF      |TaxaAnalfabetismo2016|TaxaAnalfabetismo2017|TaxaAnalfabetismo2018|TaxaAnalfabetismo2019|\n",
            "+--------+---------------------+---------------------+---------------------+---------------------+\n",
            "|Rondônia|6 %                  |7 %                  |6 %                  |6 %                  |\n",
            "|Acre    |13 %                 |12 %                 |12 %                 |11 %                 |\n",
            "|Amazonas|6 %                  |6 %                  |5 %                  |5 %                  |\n",
            "|Roraima |6 %                  |6 %                  |6 %                  |5 %                  |\n",
            "|Pará    |9 %                  |8 %                  |8 %                  |8 %                  |\n",
            "+--------+---------------------+---------------------+---------------------+---------------------+\n",
            "only showing top 5 rows\n",
            "\n"
          ]
        }
      ]
    },
    {
      "cell_type": "markdown",
      "metadata": {
        "id": "nHFqf-0VAulA"
      },
      "source": [
        "JOINS"
      ]
    },
    {
      "cell_type": "code",
      "metadata": {
        "colab": {
          "base_uri": "https://localhost:8080/"
        },
        "id": "vsswAo5erQl-",
        "outputId": "be1e69b3-c83c-454a-de38-cb860496e13f"
      },
      "source": [
        "# AGREGAÇÃO 1\n",
        "\n",
        "#AGRUPANDO VALORES DOS DATAFRAMES\n",
        "df_ins2 = df_2.groupBy('UF').sum('Ocorrencias').orderBy('UF')\n",
        "df_ins2.show(50, truncate=False)\n",
        "\n",
        "df_ins3 = df_3.groupBy('UF').sum('Vitimas').orderBy('UF')\n",
        "df_ins3.show(50, truncate=False)\n",
        "\n",
        "# ------------------------------------------------------------\n",
        "\n",
        "# JOIN 1\n",
        "# AGREGA OS VALORES TOTAIS DE OCORRENCIAS E VITIMAS\n",
        "\n",
        "df_join_1 = df_ins2.join(df_ins3, on=['UF'], how='inner')\\\n",
        ".select('UF', 'sum(Ocorrencias)', 'sum(Vitimas)')\\\n",
        ".orderBy(F.asc('UF'))\n",
        "\n",
        "df_join_1.show(50, False)\n",
        "\n",
        "# ------------------------------------------------------------\n",
        "\n",
        "# JOIN 2\n",
        "# AGREGA OS VALORES TOTAIS DE OCORRENCIAS, VITIMAS, MEDIA DE FREQ ESCOLAR\n",
        "\n",
        "df_join_2 = df_join_1.join(df_6, on=['UF'], how='inner')\\\n",
        ".select('UF', 'sum(Ocorrencias)', 'sum(Vitimas)', 'Media_Freq_25_anos_ou_mais')\\\n",
        ".orderBy('UF', ascending=True)\n",
        "\n",
        "df_join_2.show(50, False)\n",
        "\n",
        "# ------------------------------------------------------------\n",
        "\n",
        "# JOIN 3\n",
        "# AGREGA OS VALORES TOTAIS DE DESPESAS GOVERNAMENTAIS, OCORRENCIAS, VITIMAS, MEDIA DE FREQ. ESCOLAR\n",
        "\n",
        "df_join_3 = df_join_2.join(df_1, on=['UF'], how='inner')\\\n",
        ".select('UF', 'Despesas2020', 'sum(Ocorrencias)', 'sum(Vitimas)', 'Media_Freq_25_anos_ou_mais')\\\n",
        ".orderBy(F.asc('UF'))\n",
        "\n",
        "df_join_3\\\n",
        ".orderBy(\"Despesas2020\", ascending=False)\\\n",
        ".show(50, False)\n",
        "\n",
        "df_join_3.dtypes"
      ],
      "execution_count": 224,
      "outputs": [
        {
          "output_type": "stream",
          "name": "stdout",
          "text": [
            "+-------------------+----------------+\n",
            "|UF                 |sum(Ocorrencias)|\n",
            "+-------------------+----------------+\n",
            "|Acre               |10569           |\n",
            "|Alagoas            |36240           |\n",
            "|Amapá              |9594            |\n",
            "|Amazonas           |42023           |\n",
            "|Bahia              |159173          |\n",
            "|Ceará              |109815          |\n",
            "|Distrito Federal   |60852           |\n",
            "|Espírito Santo     |71950           |\n",
            "|Goiás              |124737          |\n",
            "|Maranhão           |59384           |\n",
            "|Mato Grosso        |46055           |\n",
            "|Mato Grosso do Sul |38831           |\n",
            "|Minas Gerais       |216193          |\n",
            "|Paraná             |182637          |\n",
            "|Paraíba            |23523           |\n",
            "|Pará               |94224           |\n",
            "|Pernambuco         |161713          |\n",
            "|Piauí              |45802           |\n",
            "|Rio Grande do Norte|50289           |\n",
            "|Rio Grande do Sul  |208516          |\n",
            "|Rio de Janeiro     |422633          |\n",
            "|Rondônia           |33431           |\n",
            "|Roraima            |10191           |\n",
            "|Santa Catarina     |87944           |\n",
            "|Sergipe            |30428           |\n",
            "|São Paulo          |943818          |\n",
            "|Tocantins          |20532           |\n",
            "+-------------------+----------------+\n",
            "\n",
            "+-------------------+------------+\n",
            "|UF                 |sum(Vitimas)|\n",
            "+-------------------+------------+\n",
            "|Acre               |1731        |\n",
            "|Alagoas            |7800        |\n",
            "|Amapá              |1662        |\n",
            "|Amazonas           |6342        |\n",
            "|Bahia              |32769       |\n",
            "|Ceará              |20942       |\n",
            "|Distrito Federal   |2797        |\n",
            "|Espírito Santo     |6613        |\n",
            "|Goiás              |11286       |\n",
            "|Maranhão           |10281       |\n",
            "|Mato Grosso        |5332        |\n",
            "|Mato Grosso do Sul |2987        |\n",
            "|Minas Gerais       |18494       |\n",
            "|Paraná             |12076       |\n",
            "|Paraíba            |6499        |\n",
            "|Pará               |18439       |\n",
            "|Pernambuco         |22856       |\n",
            "|Piauí              |3617        |\n",
            "|Rio Grande do Norte|9258        |\n",
            "|Rio Grande do Sul  |13273       |\n",
            "|Rio de Janeiro     |25739       |\n",
            "|Rondônia           |2620        |\n",
            "|Roraima            |1228        |\n",
            "|Santa Catarina     |4689        |\n",
            "|Sergipe            |5431        |\n",
            "|São Paulo          |15909       |\n",
            "|Tocantins          |2194        |\n",
            "+-------------------+------------+\n",
            "\n",
            "+-------------------+----------------+------------+\n",
            "|UF                 |sum(Ocorrencias)|sum(Vitimas)|\n",
            "+-------------------+----------------+------------+\n",
            "|Acre               |10569           |1731        |\n",
            "|Alagoas            |36240           |7800        |\n",
            "|Amapá              |9594            |1662        |\n",
            "|Amazonas           |42023           |6342        |\n",
            "|Bahia              |159173          |32769       |\n",
            "|Ceará              |109815          |20942       |\n",
            "|Distrito Federal   |60852           |2797        |\n",
            "|Espírito Santo     |71950           |6613        |\n",
            "|Goiás              |124737          |11286       |\n",
            "|Maranhão           |59384           |10281       |\n",
            "|Mato Grosso        |46055           |5332        |\n",
            "|Mato Grosso do Sul |38831           |2987        |\n",
            "|Minas Gerais       |216193          |18494       |\n",
            "|Paraná             |182637          |12076       |\n",
            "|Paraíba            |23523           |6499        |\n",
            "|Pará               |94224           |18439       |\n",
            "|Pernambuco         |161713          |22856       |\n",
            "|Piauí              |45802           |3617        |\n",
            "|Rio Grande do Norte|50289           |9258        |\n",
            "|Rio Grande do Sul  |208516          |13273       |\n",
            "|Rio de Janeiro     |422633          |25739       |\n",
            "|Rondônia           |33431           |2620        |\n",
            "|Roraima            |10191           |1228        |\n",
            "|Santa Catarina     |87944           |4689        |\n",
            "|Sergipe            |30428           |5431        |\n",
            "|São Paulo          |943818          |15909       |\n",
            "|Tocantins          |20532           |2194        |\n",
            "+-------------------+----------------+------------+\n",
            "\n",
            "+-------------------+----------------+------------+--------------------------+\n",
            "|UF                 |sum(Ocorrencias)|sum(Vitimas)|Media_Freq_25_anos_ou_mais|\n",
            "+-------------------+----------------+------------+--------------------------+\n",
            "|Acre               |10569           |1731        |9 %                       |\n",
            "|Alagoas            |36240           |7800        |4 %                       |\n",
            "|Amapá              |9594            |1662        |7 %                       |\n",
            "|Amazonas           |42023           |6342        |7 %                       |\n",
            "|Bahia              |159173          |32769       |7 %                       |\n",
            "|Ceará              |109815          |20942       |5 %                       |\n",
            "|Distrito Federal   |60852           |2797        |6 %                       |\n",
            "|Espírito Santo     |71950           |6613        |6 %                       |\n",
            "|Goiás              |124737          |11286       |5 %                       |\n",
            "|Maranhão           |59384           |10281       |6 %                       |\n",
            "|Mato Grosso        |46055           |5332        |7 %                       |\n",
            "|Mato Grosso do Sul |38831           |2987        |6 %                       |\n",
            "|Minas Gerais       |216193          |18494       |6 %                       |\n",
            "|Paraná             |182637          |12076       |5 %                       |\n",
            "|Paraíba            |23523           |6499        |6 %                       |\n",
            "|Pará               |94224           |18439       |6 %                       |\n",
            "|Pernambuco         |161713          |22856       |5 %                       |\n",
            "|Piauí              |45802           |3617        |6 %                       |\n",
            "|Rio Grande do Norte|50289           |9258        |5 %                       |\n",
            "|Rio Grande do Sul  |208516          |13273       |7 %                       |\n",
            "|Rio de Janeiro     |422633          |25739       |4 %                       |\n",
            "|Rondônia           |33431           |2620        |7 %                       |\n",
            "|Roraima            |10191           |1228        |8 %                       |\n",
            "|Santa Catarina     |87944           |4689        |6 %                       |\n",
            "|Sergipe            |30428           |5431        |5 %                       |\n",
            "|São Paulo          |943818          |15909       |4 %                       |\n",
            "|Tocantins          |20532           |2194        |7 %                       |\n",
            "+-------------------+----------------+------------+--------------------------+\n",
            "\n",
            "+-------------------+------------------+----------------+------------+--------------------------+\n",
            "|UF                 |Despesas2020      |sum(Ocorrencias)|sum(Vitimas)|Media_Freq_25_anos_ou_mais|\n",
            "+-------------------+------------------+----------------+------------+--------------------------+\n",
            "|São Paulo          |11935.652         |943818          |15909       |4 %                       |\n",
            "|Rio de Janeiro     |9450.563          |422633          |25739       |4 %                       |\n",
            "|Minas Gerais       |8987.254          |216193          |18494       |6 %                       |\n",
            "|Rio Grande do Sul  |5530.741999999999 |208516          |13273       |7 %                       |\n",
            "|Bahia              |4321.663          |159173          |32769       |7 %                       |\n",
            "|Paraná             |3687.002          |182637          |12076       |5 %                       |\n",
            "|Goiás              |3191.756          |124737          |11286       |5 %                       |\n",
            "|Ceará              |3045.583          |109815          |20942       |5 %                       |\n",
            "|Pará               |2966.553          |94224           |18439       |6 %                       |\n",
            "|Pernambuco         |2880.151          |161713          |22856       |5 %                       |\n",
            "|Mato Grosso        |2577.01           |46055           |5332        |7 %                       |\n",
            "|Santa Catarina     |2406.364          |87944           |4689        |6 %                       |\n",
            "|Amazonas           |2101.447          |42023           |6342        |7 %                       |\n",
            "|Maranhão           |1954.384          |59384           |10281       |6 %                       |\n",
            "|Paraíba            |1417.592          |23523           |6499        |6 %                       |\n",
            "|Espírito Santo     |1408.398          |71950           |6613        |6 %                       |\n",
            "|Alagoas            |1354.986          |36240           |7800        |4 %                       |\n",
            "|Mato Grosso do Sul |1240.098          |38831           |2987        |6 %                       |\n",
            "|Tocantins          |1059.726          |20532           |2194        |7 %                       |\n",
            "|Rio Grande do Norte|1038.218          |50289           |9258        |5 %                       |\n",
            "|Rondônia           |999.044           |33431           |2620        |7 %                       |\n",
            "|Distrito Federal   |976.513           |60852           |2797        |6 %                       |\n",
            "|Sergipe            |956.784           |30428           |5431        |5 %                       |\n",
            "|Piauí              |785.832           |45802           |3617        |6 %                       |\n",
            "|Amapá              |752.252           |9594            |1662        |7 %                       |\n",
            "|Acre               |493.75300000000004|10569           |1731        |9 %                       |\n",
            "|Roraima            |391.17800000000005|10191           |1228        |8 %                       |\n",
            "+-------------------+------------------+----------------+------------+--------------------------+\n",
            "\n"
          ]
        },
        {
          "output_type": "execute_result",
          "data": {
            "text/plain": [
              "[('UF', 'string'),\n",
              " ('Despesas2020', 'double'),\n",
              " ('sum(Ocorrencias)', 'bigint'),\n",
              " ('sum(Vitimas)', 'bigint'),\n",
              " ('Media_Freq_25_anos_ou_mais', 'string')]"
            ]
          },
          "metadata": {},
          "execution_count": 224
        }
      ]
    },
    {
      "cell_type": "code",
      "metadata": {
        "colab": {
          "base_uri": "https://localhost:8080/"
        },
        "id": "TofPZBof0Npu",
        "outputId": "2273fe45-5e0b-4554-9d05-949f3e8c13af"
      },
      "source": [
        "# AGREGAÇÃO 2\n",
        "\n",
        "# JOIN 2\n",
        "# AGREGA OS VALORES TOTAIS DE OCORRENCIAS E VITIMAS POR ESTADO \n",
        "\n",
        "# ------------------------------------------------------------\n",
        "\n",
        "df_join_4 = df_6.join(df_7, on=['UF'], how='inner')\\\n",
        ".select('UF', \n",
        "        'Media_Freq_15_a_17_anos', \n",
        "        'Media_Freq_18_a_24_anos', \n",
        "        'Media_Freq_25_anos_ou_mais', \n",
        "        'TaxaAnalfabetismo2016', \n",
        "        'TaxaAnalfabetismo2017', \n",
        "        'TaxaAnalfabetismo2018', \n",
        "        'TaxaAnalfabetismo2019')\\\n",
        ".orderBy(F.asc('UF'))\n",
        "\n",
        "df_join_4.show()"
      ],
      "execution_count": 225,
      "outputs": [
        {
          "output_type": "stream",
          "name": "stdout",
          "text": [
            "+-------------------+-----------------------+-----------------------+--------------------------+---------------------+---------------------+---------------------+---------------------+\n",
            "|                 UF|Media_Freq_15_a_17_anos|Media_Freq_18_a_24_anos|Media_Freq_25_anos_ou_mais|TaxaAnalfabetismo2016|TaxaAnalfabetismo2017|TaxaAnalfabetismo2018|TaxaAnalfabetismo2019|\n",
            "+-------------------+-----------------------+-----------------------+--------------------------+---------------------+---------------------+---------------------+---------------------+\n",
            "|               Acre|                   86 %|                   39 %|                       9 %|                 13 %|                 12 %|                 12 %|                 11 %|\n",
            "|            Alagoas|                   85 %|                   35 %|                       4 %|                 19 %|                 18 %|                 17 %|                 17 %|\n",
            "|              Amapá|                   88 %|                   42 %|                       7 %|                  5 %|                  5 %|                  6 %|                  5 %|\n",
            "|           Amazonas|                   90 %|                   39 %|                       7 %|                  6 %|                  6 %|                  5 %|                  5 %|\n",
            "|              Bahia|                   90 %|                   43 %|                       7 %|                 13 %|                 12 %|                 12 %|                 12 %|\n",
            "|              Ceará|                   88 %|                   33 %|                       5 %|                 15 %|                 14 %|                 13 %|                 13 %|\n",
            "|   Distrito Federal|                   91 %|                   44 %|                       6 %|                  2 %|                  2 %|                  3 %|                  2 %|\n",
            "|     Espírito Santo|                   92 %|                   47 %|                       6 %|                  6 %|                  5 %|                  5 %|                  5 %|\n",
            "|              Goiás|                   87 %|                   39 %|                       5 %|                  6 %|                  5 %|                  5 %|                  5 %|\n",
            "|           Maranhão|                   87 %|                   35 %|                       6 %|                 16 %|                 16 %|                 16 %|                 15 %|\n",
            "|        Mato Grosso|                   90 %|                   39 %|                       7 %|                  6 %|                  6 %|                  7 %|                  6 %|\n",
            "| Mato Grosso do Sul|                   90 %|                   39 %|                       6 %|                  6 %|                  5 %|                  5 %|                  5 %|\n",
            "|       Minas Gerais|                   92 %|                   37 %|                       6 %|                  6 %|                  6 %|                  5 %|                  5 %|\n",
            "|             Paraná|                   87 %|                   41 %|                       5 %|                  4 %|                  4 %|                  5 %|                  4 %|\n",
            "|            Paraíba|                   90 %|                   44 %|                       6 %|                 16 %|                 16 %|                 16 %|                 16 %|\n",
            "|               Pará|                   90 %|                   39 %|                       6 %|                  9 %|                  8 %|                  8 %|                  8 %|\n",
            "|         Pernambuco|                   88 %|                   33 %|                       5 %|                 12 %|                 13 %|                 11 %|                 11 %|\n",
            "|              Piauí|                   94 %|                   42 %|                       6 %|                 17 %|                 16 %|                 16 %|                 16 %|\n",
            "|Rio Grande do Norte|                   92 %|                   41 %|                       5 %|                 14 %|                 13 %|                 12 %|                 13 %|\n",
            "|  Rio Grande do Sul|                   89 %|                   43 %|                       7 %|                  3 %|                  3 %|                  3 %|                  2 %|\n",
            "+-------------------+-----------------------+-----------------------+--------------------------+---------------------+---------------------+---------------------+---------------------+\n",
            "only showing top 20 rows\n",
            "\n"
          ]
        }
      ]
    },
    {
      "cell_type": "code",
      "metadata": {
        "colab": {
          "base_uri": "https://localhost:8080/"
        },
        "id": "aWfPjmVJkZTR",
        "outputId": "66d109e9-6660-48b6-a3d9-c9a06bf78df3"
      },
      "source": [
        "# AGREGAÇÃO 3\n",
        "\n",
        "# AGRUPANDO VALORES DOS DATAFRAMES\n",
        "df_agg_1 = df_2.filter(df_2.Ano == 2020)\\\n",
        ".groupBy('UF').sum('Ocorrencias').alias('Ocorrencias_2020').orderBy('UF')\n",
        "\n",
        "df_agg_1.show()\n",
        "\n",
        "# ------------------------------------------------------------\n",
        "\n",
        "df_agg_2 = df_3.filter(df_3.Ano == 2020)\\\n",
        ".groupBy('UF').sum('Vitimas').alias('Vitimas_2020').orderBy('UF')\n",
        "\n",
        "df_agg_2.show()\n",
        "\n",
        "# ------------------------------------------------------------\n",
        "\n",
        "# AGREGANDO OS VALORES PELO ANO DE 2020\n",
        "\n",
        "df_join_5 = df_agg_1.join(df_agg_2, on=['UF'], how='inner')\\\n",
        ".select('UF', 'sum(Ocorrencias)', 'sum(Vitimas)')\\\n",
        ".orderBy('UF', ascending=True)\n",
        "\n",
        "df_join_5.show()\n",
        "\n",
        "# ------------------------------------------------------------\n",
        "\n",
        "df_join_2 = df_1.select('UF', 'Despesas2020')\n",
        "\n",
        "df_join_5 = df_join_5.join(df_join_2, on=['UF'], how='inner')\\\n",
        ".select('UF', \n",
        "        'sum(Ocorrencias)', \n",
        "        'sum(Vitimas)', \n",
        "        'Despesas2020')\n",
        "\n",
        "df_join_5 = df_join_5\\\n",
        ".withColumnRenamed('sum(Ocorrencias)', 'Ocorrencias_2020')\\\n",
        ".withColumnRenamed('sum(Vitimas)', 'Vitimas_2020')\\\n",
        ".withColumnRenamed('Despesas2020', 'Despesas_Gov_2020')\\\n",
        "\n",
        "df_join_5.show()"
      ],
      "execution_count": 226,
      "outputs": [
        {
          "output_type": "stream",
          "name": "stdout",
          "text": [
            "+-------------------+----------------+\n",
            "|                 UF|sum(Ocorrencias)|\n",
            "+-------------------+----------------+\n",
            "|               Acre|            1850|\n",
            "|            Alagoas|            5404|\n",
            "|              Amapá|             860|\n",
            "|           Amazonas|            5717|\n",
            "|              Bahia|           24392|\n",
            "|              Ceará|           19402|\n",
            "|   Distrito Federal|            8269|\n",
            "|     Espírito Santo|           13224|\n",
            "|              Goiás|           11868|\n",
            "|           Maranhão|            8356|\n",
            "|        Mato Grosso|            6466|\n",
            "| Mato Grosso do Sul|            5937|\n",
            "|       Minas Gerais|           27002|\n",
            "|             Paraná|           24872|\n",
            "|            Paraíba|            4822|\n",
            "|               Pará|           11824|\n",
            "|         Pernambuco|           23832|\n",
            "|              Piauí|            8015|\n",
            "|Rio Grande do Norte|            7976|\n",
            "|  Rio Grande do Sul|           25810|\n",
            "+-------------------+----------------+\n",
            "only showing top 20 rows\n",
            "\n",
            "+-------------------+------------+\n",
            "|                 UF|sum(Vitimas)|\n",
            "+-------------------+------------+\n",
            "|               Acre|         285|\n",
            "|            Alagoas|        1237|\n",
            "|              Amapá|         253|\n",
            "|           Amazonas|         985|\n",
            "|              Bahia|        5535|\n",
            "|              Ceará|        4039|\n",
            "|   Distrito Federal|         390|\n",
            "|     Espírito Santo|        1156|\n",
            "|              Goiás|        1574|\n",
            "|           Maranhão|        1950|\n",
            "|        Mato Grosso|         859|\n",
            "| Mato Grosso do Sul|         488|\n",
            "|       Minas Gerais|        2695|\n",
            "|             Paraná|        2090|\n",
            "|            Paraíba|        1159|\n",
            "|               Pará|        2333|\n",
            "|         Pernambuco|        3686|\n",
            "|              Piauí|         708|\n",
            "|Rio Grande do Norte|        1386|\n",
            "|  Rio Grande do Sul|        1906|\n",
            "+-------------------+------------+\n",
            "only showing top 20 rows\n",
            "\n",
            "+-------------------+----------------+------------+\n",
            "|                 UF|sum(Ocorrencias)|sum(Vitimas)|\n",
            "+-------------------+----------------+------------+\n",
            "|               Acre|            1850|         285|\n",
            "|            Alagoas|            5404|        1237|\n",
            "|              Amapá|             860|         253|\n",
            "|           Amazonas|            5717|         985|\n",
            "|              Bahia|           24392|        5535|\n",
            "|              Ceará|           19402|        4039|\n",
            "|   Distrito Federal|            8269|         390|\n",
            "|     Espírito Santo|           13224|        1156|\n",
            "|              Goiás|           11868|        1574|\n",
            "|           Maranhão|            8356|        1950|\n",
            "|        Mato Grosso|            6466|         859|\n",
            "| Mato Grosso do Sul|            5937|         488|\n",
            "|       Minas Gerais|           27002|        2695|\n",
            "|             Paraná|           24872|        2090|\n",
            "|            Paraíba|            4822|        1159|\n",
            "|               Pará|           11824|        2333|\n",
            "|         Pernambuco|           23832|        3686|\n",
            "|              Piauí|            8015|         708|\n",
            "|Rio Grande do Norte|            7976|        1386|\n",
            "|  Rio Grande do Sul|           25810|        1906|\n",
            "+-------------------+----------------+------------+\n",
            "only showing top 20 rows\n",
            "\n",
            "+-------------------+----------------+------------+------------------+\n",
            "|                 UF|Ocorrencias_2020|Vitimas_2020| Despesas_Gov_2020|\n",
            "+-------------------+----------------+------------+------------------+\n",
            "|               Acre|            1850|         285|493.75300000000004|\n",
            "|            Alagoas|            5404|        1237|          1354.986|\n",
            "|              Amapá|             860|         253|           752.252|\n",
            "|           Amazonas|            5717|         985|          2101.447|\n",
            "|              Bahia|           24392|        5535|          4321.663|\n",
            "|              Ceará|           19402|        4039|          3045.583|\n",
            "|   Distrito Federal|            8269|         390|           976.513|\n",
            "|     Espírito Santo|           13224|        1156|          1408.398|\n",
            "|              Goiás|           11868|        1574|          3191.756|\n",
            "|           Maranhão|            8356|        1950|          1954.384|\n",
            "|        Mato Grosso|            6466|         859|           2577.01|\n",
            "| Mato Grosso do Sul|            5937|         488|          1240.098|\n",
            "|       Minas Gerais|           27002|        2695|          8987.254|\n",
            "|             Paraná|           24872|        2090|          3687.002|\n",
            "|            Paraíba|            4822|        1159|          1417.592|\n",
            "|               Pará|           11824|        2333|          2966.553|\n",
            "|         Pernambuco|           23832|        3686|          2880.151|\n",
            "|              Piauí|            8015|         708|           785.832|\n",
            "|Rio Grande do Norte|            7976|        1386|          1038.218|\n",
            "|  Rio Grande do Sul|           25810|        1906| 5530.741999999999|\n",
            "+-------------------+----------------+------------+------------------+\n",
            "only showing top 20 rows\n",
            "\n"
          ]
        }
      ]
    },
    {
      "cell_type": "markdown",
      "metadata": {
        "id": "8894hv-Gpfam"
      },
      "source": [
        "WINDOW FUNCTIONS RANKING"
      ]
    },
    {
      "cell_type": "code",
      "metadata": {
        "colab": {
          "base_uri": "https://localhost:8080/"
        },
        "id": "lpk-tMEv6sP7",
        "outputId": "02b27ed0-1c4d-4fa9-f248-d75b0a608291"
      },
      "source": [
        "# ANALISANDO AS OCORRENCIAS DO ESTADO SP EM 2019\n",
        "\n",
        "df_2_consulta = df_2.groupby('UF', 'TipoCrime', 'Ano')\\\n",
        ".sum('Ocorrencias')\\\n",
        ".filter(\n",
        "    (df_2.UF == \"São Paulo\") & \n",
        "    (df_2.Ano == 2019))\\\n",
        ".orderBy('TipoCrime')\n",
        "\n",
        "# --------------------------------------------\n",
        "\n",
        "# RANKING DAS OCORRENCIAS\n",
        "w0 = Window.partitionBy(F.col('UF')).orderBy(F.desc('sum(Ocorrencias)'))\n",
        "\n",
        "df_2_consulta.withColumn('Ranking', F.row_number().over(w0))\\\n",
        ".show(truncate=False)"
      ],
      "execution_count": 227,
      "outputs": [
        {
          "output_type": "stream",
          "name": "stdout",
          "text": [
            "+---------+-----------------------------------+----+----------------+-------+\n",
            "|UF       |TipoCrime                          |Ano |sum(Ocorrencias)|Ranking|\n",
            "+---------+-----------------------------------+----+----------------+-------+\n",
            "|São Paulo|Furto de veículo                   |2019|84099           |1      |\n",
            "|São Paulo|Roubo de veículo                   |2019|46513           |2      |\n",
            "|São Paulo|Estupro                            |2019|11614           |3      |\n",
            "|São Paulo|Roubo de carga                     |2019|7325            |4      |\n",
            "|São Paulo|Tentativa de homicídio             |2019|3390            |5      |\n",
            "|São Paulo|Homicídio doloso                   |2019|2778            |6      |\n",
            "|São Paulo|Roubo seguido de morte (latrocínio)|2019|191             |7      |\n",
            "|São Paulo|Lesão corporal seguida de morte    |2019|99              |8      |\n",
            "|São Paulo|Roubo a instituição financeira     |2019|21              |9      |\n",
            "+---------+-----------------------------------+----+----------------+-------+\n",
            "\n"
          ]
        }
      ]
    },
    {
      "cell_type": "markdown",
      "metadata": {
        "id": "lYSQUkOqpkkm"
      },
      "source": [
        "STRUCT TYPE | UNION BY NAME"
      ]
    },
    {
      "cell_type": "code",
      "metadata": {
        "colab": {
          "base_uri": "https://localhost:8080/"
        },
        "id": "7ySur1R_FzeF",
        "outputId": "13359b69-c85a-4bd9-a13f-b06d10edf7fa"
      },
      "source": [
        "# CRIANDO DATAFRAME VAZIO\n",
        "\n",
        "esquema = (StructType([\n",
        "        StructField('UF', StringType(), True),\n",
        "        StructField('TipoCrime', StringType(), True),\n",
        "        StructField('Ano', IntegerType(), True),\n",
        "        StructField('Mes', StringType(), True),\n",
        "        StructField('SexoVitima', StringType(), True),\n",
        "        StructField('Vitimas', IntegerType(), True)\n",
        "    ])\n",
        ")\n",
        "\n",
        "df_3_consulta = spark.createDataFrame(data='', schema=esquema)\n",
        "df_3_consulta.printSchema()\n",
        "df_3_consulta.show()\n",
        "\n",
        "# UNINDO DF\n",
        "\n",
        "df_3_consulta.unionByName(df_3)\\\n",
        ".orderBy('Ano', ascending=False)\\\n",
        ".show(5, truncate=False)\n",
        "\n",
        "# --------------------------------------------\n",
        "\n",
        "# EXIBINDO AS QTD. DE VITIMAS DE CRIMES DO ESTADO RJ EM 2020 POR SEXO\n",
        "\n",
        "df_3_consulta = df_3.groupby('UF', 'TipoCrime', 'Ano', 'SexoVitima')\\\n",
        ".sum('Vitimas')\\\n",
        ".filter(\n",
        "    (df_3.UF == \"Rio de Janeiro\") &\n",
        "    (df_3.Ano == 2020) &\n",
        "    (df_3.SexoVitima == \"Feminino\"))\\\n",
        ".orderBy('TipoCrime')\n",
        "\n",
        "df_3_consulta.show(truncate=False)\n",
        "\n",
        "df_3_consulta = df_3.groupby('UF', 'TipoCrime', 'Ano', 'SexoVitima')\\\n",
        ".sum('Vitimas')\\\n",
        ".filter(\n",
        "    (df_3.UF == \"Rio de Janeiro\") &\n",
        "    (df_3.Ano == 2020) &\n",
        "    (df_3.SexoVitima == \"Masculino\"))\\\n",
        ".orderBy('TipoCrime')\n",
        "\n",
        "df_3_consulta.show(truncate=False)\n",
        "\n",
        "df_3_consulta = df_3.groupby('UF', 'TipoCrime', 'Ano', 'SexoVitima')\\\n",
        ".sum('Vitimas')\\\n",
        ".filter(\n",
        "    (df_3.UF == \"Rio de Janeiro\") &\n",
        "    (df_3.Ano == 2020) &\n",
        "    (df_3.SexoVitima == \"Sexo NI\"))\\\n",
        ".orderBy('TipoCrime')\n",
        "\n",
        "df_3_consulta.show(truncate=False)"
      ],
      "execution_count": 228,
      "outputs": [
        {
          "output_type": "stream",
          "name": "stdout",
          "text": [
            "root\n",
            " |-- UF: string (nullable = true)\n",
            " |-- TipoCrime: string (nullable = true)\n",
            " |-- Ano: integer (nullable = true)\n",
            " |-- Mes: string (nullable = true)\n",
            " |-- SexoVitima: string (nullable = true)\n",
            " |-- Vitimas: integer (nullable = true)\n",
            "\n",
            "+---+---------+---+---+----------+-------+\n",
            "| UF|TipoCrime|Ano|Mes|SexoVitima|Vitimas|\n",
            "+---+---------+---+---+----------+-------+\n",
            "+---+---------+---+---+----------+-------+\n",
            "\n",
            "+----+----------------+----+---------+----------+-------+\n",
            "|UF  |TipoCrime       |Ano |Mes      |SexoVitima|Vitimas|\n",
            "+----+----------------+----+---------+----------+-------+\n",
            "|Acre|Homicídio doloso|2021|janeiro  |Feminino  |1      |\n",
            "|Acre|Homicídio doloso|2021|janeiro  |Masculino |13     |\n",
            "|Acre|Homicídio doloso|2021|janeiro  |Sexo NI   |0      |\n",
            "|Acre|Homicídio doloso|2021|fevereiro|Feminino  |4      |\n",
            "|Acre|Homicídio doloso|2021|fevereiro|Masculino |12     |\n",
            "+----+----------------+----+---------+----------+-------+\n",
            "only showing top 5 rows\n",
            "\n",
            "+--------------+-----------------------------------+----+----------+------------+\n",
            "|UF            |TipoCrime                          |Ano |SexoVitima|sum(Vitimas)|\n",
            "+--------------+-----------------------------------+----+----------+------------+\n",
            "|Rio de Janeiro|Homicídio doloso                   |2020|Feminino  |274         |\n",
            "|Rio de Janeiro|Lesão corporal seguida de morte    |2020|Feminino  |6           |\n",
            "|Rio de Janeiro|Roubo seguido de morte (latrocínio)|2020|Feminino  |6           |\n",
            "+--------------+-----------------------------------+----+----------+------------+\n",
            "\n",
            "+--------------+-----------------------------------+----+----------+------------+\n",
            "|UF            |TipoCrime                          |Ano |SexoVitima|sum(Vitimas)|\n",
            "+--------------+-----------------------------------+----+----------+------------+\n",
            "|Rio de Janeiro|Homicídio doloso                   |2020|Masculino |3076        |\n",
            "|Rio de Janeiro|Lesão corporal seguida de morte    |2020|Masculino |25          |\n",
            "|Rio de Janeiro|Roubo seguido de morte (latrocínio)|2020|Masculino |80          |\n",
            "+--------------+-----------------------------------+----+----------+------------+\n",
            "\n",
            "+--------------+-----------------------------------+----+----------+------------+\n",
            "|UF            |TipoCrime                          |Ano |SexoVitima|sum(Vitimas)|\n",
            "+--------------+-----------------------------------+----+----------+------------+\n",
            "|Rio de Janeiro|Homicídio doloso                   |2020|Sexo NI   |182         |\n",
            "|Rio de Janeiro|Lesão corporal seguida de morte    |2020|Sexo NI   |0           |\n",
            "|Rio de Janeiro|Roubo seguido de morte (latrocínio)|2020|Sexo NI   |0           |\n",
            "+--------------+-----------------------------------+----+----------+------------+\n",
            "\n"
          ]
        }
      ]
    },
    {
      "cell_type": "markdown",
      "metadata": {
        "id": "JZQVT_sss3Rf"
      },
      "source": [
        "HEADER | AGGREGATE | SUM"
      ]
    },
    {
      "cell_type": "code",
      "metadata": {
        "colab": {
          "base_uri": "https://localhost:8080/"
        },
        "id": "cyui-5cpTgOT",
        "outputId": "bbd42657-4668-499e-c331-1cfdb3b621ca"
      },
      "source": [
        "# ALTERANDO CABEÇALHO\n",
        "\n",
        "file_path_1 = 'gs://data_lake_ingest_data/2_temp/temp_pandas_despesas_normalizado.csv'\n",
        "\n",
        "fs = gcsfs.GCSFileSystem(project='soulcode-projeto-final', token=serviceaccount)\n",
        "with fs.open(file_path_1):\n",
        "    data = pd.read_csv(file_path_1,\n",
        "                       sep=',', \n",
        "                       encoding='UTF-8')\n",
        "\n",
        "esquema=['UF', \n",
        "         'Desp_2016', \n",
        "         'Desp_2017', \n",
        "         'Desp_2018', \n",
        "         'Desp_2019', \n",
        "         'Desp_2020', \n",
        "         'Variacao_%', \n",
        "         'Previsao_2021_Media']\n",
        "\n",
        "df_1_consulta = spark.createDataFrame(data, schema=esquema)\n",
        "\n",
        "df_1_consulta.show(5, truncate=False)\n",
        "\n",
        "# --------------------------------------------\n",
        "\n",
        "# AGREGANDO O TOTAL DE DESPESAS GOVERNAMENTAIS DO PARANA REFERENTES AOS ULTIMOS 3 ANOS\n",
        "\n",
        "df_1_consulta.select('UF', 'Desp_2018', 'Desp_2019', 'Desp_2020')\\\n",
        ".filter((df_1_consulta.UF == 'Paraná'))\\\n",
        ".groupBy('UF', 'Desp_2018', 'Desp_2019', 'Desp_2020')\\\n",
        ".agg(F.sum(df_1_consulta.Desp_2018 + \n",
        "           df_1_consulta.Desp_2019 + \n",
        "           df_1_consulta.Desp_2020).alias('PR_Despesas_Totais_Milhoes'))\\\n",
        ".show()"
      ],
      "execution_count": 229,
      "outputs": [
        {
          "output_type": "stream",
          "name": "stdout",
          "text": [
            "+--------+------------------+---------+------------------+---------+------------------+----------+-------------------+\n",
            "|UF      |Desp_2016         |Desp_2017|Desp_2018         |Desp_2019|Desp_2020         |Variacao_%|Previsao_2021_Media|\n",
            "+--------+------------------+---------+------------------+---------+------------------+----------+-------------------+\n",
            "|Acre    |498.535           |568.361  |627.351           |692.57   |493.75300000000004|8.5       |576.114            |\n",
            "|Amapá   |475.32300000000004|500.227  |489.228           |606.366  |752.252           |52.3      |564.6792           |\n",
            "|Amazonas|1604.7320000000002|1578.957 |1862.6689999999999|2108.46  |2101.447          |60.4      |1851.253           |\n",
            "|Pará    |2551.741          |2579.916 |2903.2            |2943.448 |2966.553          |58.0      |2788.9716          |\n",
            "|Rondônia|874.8739999999999 |895.868  |903.2539999999999 |853.971  |999.044           |-14.7     |905.4022           |\n",
            "+--------+------------------+---------+------------------+---------+------------------+----------+-------------------+\n",
            "only showing top 5 rows\n",
            "\n",
            "+------+---------+---------+---------+--------------------------+\n",
            "|    UF|Desp_2018|Desp_2019|Desp_2020|PR_Despesas_Totais_Milhoes|\n",
            "+------+---------+---------+---------+--------------------------+\n",
            "|Paraná| 4159.687| 3986.055| 3687.002|                 11832.744|\n",
            "+------+---------+---------+---------+--------------------------+\n",
            "\n"
          ]
        }
      ]
    },
    {
      "cell_type": "markdown",
      "metadata": {
        "id": "DeID-8LSEBLn"
      },
      "source": [
        "FILTERS"
      ]
    },
    {
      "cell_type": "code",
      "metadata": {
        "colab": {
          "base_uri": "https://localhost:8080/"
        },
        "id": "UdnQjVNVDTjd",
        "outputId": "15feb462-888e-47b7-a4e4-c7bf5b0e83cc"
      },
      "source": [
        "# FILTRANDO INTERVALOS\n",
        "\n",
        "# IGUAL A 90% E MAIOR QUE 20 %\n",
        "df_6.filter(\n",
        "    (df_6.Media_Freq_15_a_17_anos == '90 %') & \n",
        "    (df_6.Media_Freq_15_a_17_anos > '20 %'))\\\n",
        ".select('UF', 'Media_Freq_15_a_17_anos')\\\n",
        ".orderBy(F.desc('Media_Freq_15_a_17_anos'))\\\n",
        ".show(5, truncate=False)\n",
        "\n",
        "# IGUAL E MENOR A 40 % OU IGUAL E MAIOR QUE 20 %\n",
        "df_6.filter(\n",
        "    (df_6.Media_Freq_18_a_24_anos <= '40 %') |\n",
        "    (df_6.Media_Freq_18_a_24_anos >= '20 %'))\\\n",
        ".select('UF', 'Media_Freq_18_a_24_anos')\\\n",
        ".orderBy(F.desc('Media_Freq_18_a_24_anos'))\\\n",
        ".show(5, truncate=False)\n",
        "\n",
        "# IGUAL E MENOR QUE 20 % OU MAIOR QUE 8 %\n",
        "df_6.filter(\n",
        "    (df_6.Media_Freq_25_anos_ou_mais <= '20 %') |\n",
        "    (df_6.Media_Freq_25_anos_ou_mais > '8 %'))\\\n",
        ".select('UF', 'Media_Freq_25_anos_ou_mais')\\\n",
        ".orderBy(F.desc('Media_Freq_25_anos_ou_mais'))\\\n",
        ".show(5, truncate=False)"
      ],
      "execution_count": 230,
      "outputs": [
        {
          "output_type": "stream",
          "name": "stdout",
          "text": [
            "+--------+-----------------------+\n",
            "|UF      |Media_Freq_15_a_17_anos|\n",
            "+--------+-----------------------+\n",
            "|Amazonas|90 %                   |\n",
            "|Roraima |90 %                   |\n",
            "|Pará    |90 %                   |\n",
            "|Paraíba |90 %                   |\n",
            "|Bahia   |90 %                   |\n",
            "+--------+-----------------------+\n",
            "only showing top 5 rows\n",
            "\n",
            "+----------------+-----------------------+\n",
            "|UF              |Media_Freq_18_a_24_anos|\n",
            "+----------------+-----------------------+\n",
            "|Espírito Santo  |47 %                   |\n",
            "|Distrito Federal|44 %                   |\n",
            "|Paraíba         |44 %                   |\n",
            "|Brasília        |44 %                   |\n",
            "|Santa Catarina  |44 %                   |\n",
            "+----------------+-----------------------+\n",
            "only showing top 5 rows\n",
            "\n",
            "+----+--------------------------+\n",
            "|UF  |Media_Freq_25_anos_ou_mais|\n",
            "+----+--------------------------+\n",
            "|Acre|9 %                       |\n",
            "+----+--------------------------+\n",
            "\n"
          ]
        }
      ]
    },
    {
      "cell_type": "markdown",
      "metadata": {
        "id": "Zk-3mAb5hp6o"
      },
      "source": [
        "### EXPORTANDO DATAFRAMES"
      ]
    },
    {
      "cell_type": "markdown",
      "metadata": {
        "id": "G7dTr_PIh-__"
      },
      "source": [
        "DATAFRAME 3"
      ]
    },
    {
      "cell_type": "code",
      "metadata": {
        "id": "08dEuHD7hWZj"
      },
      "source": [
        "# TRANSFORMARDO DATAFRAME PYSPAK EM PANDAS\n",
        "df_3 = df_3.toPandas()\n",
        "df_3.to_csv('temp_pyspark_tabela_vitimas_sexo.csv')\n",
        "\n",
        "BUCKET_NAME= \"data_lake_ingest_data\"\n",
        "storage_client = storage.Client()\n",
        "bucket = storage_client.get_bucket(BUCKET_NAME)\n",
        "\n",
        "fileout = \"2_temp/temp_pyspark_tabela_vitimas_sexo.csv\"\n",
        "destination_blob = bucket.blob(fileout)\n",
        "destination_blob.upload_from_filename('/content/temp_pyspark_tabela_vitimas_sexo.csv')"
      ],
      "execution_count": 231,
      "outputs": []
    },
    {
      "cell_type": "markdown",
      "metadata": {
        "id": "PHuM1fvQiTTd"
      },
      "source": [
        "DATAFRAME 6"
      ]
    },
    {
      "cell_type": "code",
      "metadata": {
        "id": "jwYiwX7siSPl"
      },
      "source": [
        "# TRANSFORMARDO DATAFRAME PYSPAK EM PANDAS\n",
        "df_6 = df_6.toPandas()\n",
        "df_6.to_csv('temp_pyspark_tabela_frequencia_escolar_normalizado.csv')\n",
        "\n",
        "BUCKET_NAME= \"data_lake_ingest_data\"\n",
        "storage_client = storage.Client()\n",
        "bucket = storage_client.get_bucket(BUCKET_NAME)\n",
        "\n",
        "fileout = \"2_temp/temp_pyspark_tabela_frequencia_escolar_normalizado.csv\"\n",
        "destination_blob = bucket.blob(fileout)\n",
        "destination_blob.upload_from_filename('/content/temp_pyspark_tabela_frequencia_escolar_normalizado.csv')"
      ],
      "execution_count": 232,
      "outputs": []
    },
    {
      "cell_type": "markdown",
      "metadata": {
        "id": "L169p36gifZV"
      },
      "source": [
        "DATAFRAME 7"
      ]
    },
    {
      "cell_type": "code",
      "metadata": {
        "id": "_upJye6Lieu7"
      },
      "source": [
        "# TRANSFORMARDO DATAFRAME PYSPAK EM PANDAS\n",
        "df_7 = df_7.toPandas()\n",
        "df_7.to_csv('temp_pyspark_tabela_TaxaAnalfabetismo_normalizado.csv')\n",
        "\n",
        "BUCKET_NAME= \"data_lake_ingest_data\"\n",
        "storage_client = storage.Client()\n",
        "bucket = storage_client.get_bucket(BUCKET_NAME)\n",
        "\n",
        "fileout = \"2_temp/temp_pyspark_tabela_TaxaAnalfabetismo_normalizado.csv\"\n",
        "destination_blob = bucket.blob(fileout)\n",
        "destination_blob.upload_from_filename('/content/temp_pyspark_tabela_TaxaAnalfabetismo_normalizado.csv')"
      ],
      "execution_count": 233,
      "outputs": []
    },
    {
      "cell_type": "markdown",
      "metadata": {
        "id": "fAegpIHvioLe"
      },
      "source": [
        "JOINT AGREGAÇÃO 1"
      ]
    },
    {
      "cell_type": "code",
      "metadata": {
        "id": "m1TtKyZkipo4"
      },
      "source": [
        "# TRANSFORMARDO DATAFRAME PYSPAK EM PANDAS\n",
        "df_join_1 = df_join_1.toPandas()\n",
        "df_join_1.to_csv('temp_pyspark_agg_1_General_Data.csv')\n",
        "\n",
        "BUCKET_NAME= \"data_lake_ingest_data\"\n",
        "storage_client = storage.Client()\n",
        "bucket = storage_client.get_bucket(BUCKET_NAME)\n",
        "\n",
        "fileout = \"2_temp/temp_pyspark_agg_1_General_Data.csv\"\n",
        "destination_blob = bucket.blob(fileout)\n",
        "destination_blob.upload_from_filename('/content/temp_pyspark_agg_1_General_Data.csv')"
      ],
      "execution_count": 234,
      "outputs": []
    },
    {
      "cell_type": "markdown",
      "metadata": {
        "id": "dz2889XdiqDt"
      },
      "source": [
        "JOIN AGREGAÇÃO 2"
      ]
    },
    {
      "cell_type": "code",
      "metadata": {
        "id": "wYM5a6rPirXq"
      },
      "source": [
        "# TRANSFORMARDO DATAFRAME PYSPAK EM PANDAS\n",
        "df_join_4 = df_join_4.toPandas()\n",
        "df_join_4.to_csv('temp_pyspark_agg_2_Freq_Escolar_Taxa_Analfa.csv')\n",
        "\n",
        "BUCKET_NAME= \"data_lake_ingest_data\"\n",
        "storage_client = storage.Client()\n",
        "bucket = storage_client.get_bucket(BUCKET_NAME)\n",
        "\n",
        "fileout = \"2_temp/temp_pyspark_agg_2_Freq_Escolar_Taxa_Analfa.csv\"\n",
        "destination_blob = bucket.blob(fileout)\n",
        "destination_blob.upload_from_filename('/content/temp_pyspark_agg_2_Freq_Escolar_Taxa_Analfa.csv')"
      ],
      "execution_count": 235,
      "outputs": []
    },
    {
      "cell_type": "markdown",
      "metadata": {
        "id": "uojErZpTiAo7"
      },
      "source": [
        "JOIN AGREGAÇÃO 3"
      ]
    },
    {
      "cell_type": "code",
      "metadata": {
        "id": "7HoZBjiRiCz2"
      },
      "source": [
        "# TRANSFORMARDO DATAFRAME PYSPAK EM PANDAS\n",
        "df_join_5 = df_join_5.toPandas()\n",
        "df_join_5.to_csv('temp_pyspark_agg_3_general_data_2020.csv')\n",
        "\n",
        "BUCKET_NAME= \"data_lake_ingest_data\"\n",
        "storage_client = storage.Client()\n",
        "bucket = storage_client.get_bucket(BUCKET_NAME)\n",
        "\n",
        "fileout = \"2_temp/temp_pyspark_agg_3_general_data_2020.csv\"\n",
        "destination_blob = bucket.blob(fileout)\n",
        "destination_blob.upload_from_filename('/content/temp_pyspark_agg_3_general_data_2020.csv')"
      ],
      "execution_count": 236,
      "outputs": []
    }
  ]
}