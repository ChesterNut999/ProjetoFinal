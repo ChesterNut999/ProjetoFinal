{
  "nbformat": 4,
  "nbformat_minor": 0,
  "metadata": {
    "colab": {
      "name": "ProjetoFinalPandas.ipynb",
      "provenance": [],
      "collapsed_sections": [],
      "include_colab_link": true
    },
    "kernelspec": {
      "name": "python3",
      "display_name": "Python 3"
    },
    "language_info": {
      "name": "python"
    }
  },
  "cells": [
    {
      "cell_type": "markdown",
      "metadata": {
        "id": "view-in-github",
        "colab_type": "text"
      },
      "source": [
        "<a href=\"https://colab.research.google.com/github/MarianaDuartee/ProjetoFinal/blob/main/ProjetoFinalPandas.ipynb\" target=\"_parent\"><img src=\"https://colab.research.google.com/assets/colab-badge.svg\" alt=\"Open In Colab\"/></a>"
      ]
    },
    {
      "cell_type": "code",
      "metadata": {
        "colab": {
          "base_uri": "https://localhost:8080/"
        },
        "id": "jQ-jsG3UI6Pc",
        "outputId": "cfa768ea-3f10-4fe0-d204-9e218e49dec2"
      },
      "source": [
        "pip install gcsfs"
      ],
      "execution_count": null,
      "outputs": [
        {
          "output_type": "stream",
          "name": "stdout",
          "text": [
            "Requirement already satisfied: gcsfs in /usr/local/lib/python3.7/dist-packages (2021.11.0)\n",
            "Requirement already satisfied: decorator>4.1.2 in /usr/local/lib/python3.7/dist-packages (from gcsfs) (4.4.2)\n",
            "Requirement already satisfied: google-auth-oauthlib in /usr/local/lib/python3.7/dist-packages (from gcsfs) (0.4.6)\n",
            "Requirement already satisfied: fsspec==2021.11.0 in /usr/local/lib/python3.7/dist-packages (from gcsfs) (2021.11.0)\n",
            "Requirement already satisfied: google-auth>=1.2 in /usr/local/lib/python3.7/dist-packages (from gcsfs) (1.35.0)\n",
            "Requirement already satisfied: requests in /usr/local/lib/python3.7/dist-packages (from gcsfs) (2.23.0)\n",
            "Requirement already satisfied: google-cloud-storage in /usr/local/lib/python3.7/dist-packages (from gcsfs) (1.18.1)\n",
            "Requirement already satisfied: aiohttp in /usr/local/lib/python3.7/dist-packages (from gcsfs) (3.8.1)\n",
            "Requirement already satisfied: cachetools<5.0,>=2.0.0 in /usr/local/lib/python3.7/dist-packages (from google-auth>=1.2->gcsfs) (4.2.4)\n",
            "Requirement already satisfied: rsa<5,>=3.1.4 in /usr/local/lib/python3.7/dist-packages (from google-auth>=1.2->gcsfs) (4.7.2)\n",
            "Requirement already satisfied: setuptools>=40.3.0 in /usr/local/lib/python3.7/dist-packages (from google-auth>=1.2->gcsfs) (57.4.0)\n",
            "Requirement already satisfied: six>=1.9.0 in /usr/local/lib/python3.7/dist-packages (from google-auth>=1.2->gcsfs) (1.15.0)\n",
            "Requirement already satisfied: pyasn1-modules>=0.2.1 in /usr/local/lib/python3.7/dist-packages (from google-auth>=1.2->gcsfs) (0.2.8)\n",
            "Requirement already satisfied: pyasn1<0.5.0,>=0.4.6 in /usr/local/lib/python3.7/dist-packages (from pyasn1-modules>=0.2.1->google-auth>=1.2->gcsfs) (0.4.8)\n",
            "Requirement already satisfied: multidict<7.0,>=4.5 in /usr/local/lib/python3.7/dist-packages (from aiohttp->gcsfs) (5.2.0)\n",
            "Requirement already satisfied: asynctest==0.13.0 in /usr/local/lib/python3.7/dist-packages (from aiohttp->gcsfs) (0.13.0)\n",
            "Requirement already satisfied: frozenlist>=1.1.1 in /usr/local/lib/python3.7/dist-packages (from aiohttp->gcsfs) (1.2.0)\n",
            "Requirement already satisfied: typing-extensions>=3.7.4 in /usr/local/lib/python3.7/dist-packages (from aiohttp->gcsfs) (3.10.0.2)\n",
            "Requirement already satisfied: attrs>=17.3.0 in /usr/local/lib/python3.7/dist-packages (from aiohttp->gcsfs) (21.2.0)\n",
            "Requirement already satisfied: charset-normalizer<3.0,>=2.0 in /usr/local/lib/python3.7/dist-packages (from aiohttp->gcsfs) (2.0.7)\n",
            "Requirement already satisfied: async-timeout<5.0,>=4.0.0a3 in /usr/local/lib/python3.7/dist-packages (from aiohttp->gcsfs) (4.0.1)\n",
            "Requirement already satisfied: aiosignal>=1.1.2 in /usr/local/lib/python3.7/dist-packages (from aiohttp->gcsfs) (1.2.0)\n",
            "Requirement already satisfied: yarl<2.0,>=1.0 in /usr/local/lib/python3.7/dist-packages (from aiohttp->gcsfs) (1.7.2)\n",
            "Requirement already satisfied: idna>=2.0 in /usr/local/lib/python3.7/dist-packages (from yarl<2.0,>=1.0->aiohttp->gcsfs) (2.10)\n",
            "Requirement already satisfied: requests-oauthlib>=0.7.0 in /usr/local/lib/python3.7/dist-packages (from google-auth-oauthlib->gcsfs) (1.3.0)\n",
            "Requirement already satisfied: oauthlib>=3.0.0 in /usr/local/lib/python3.7/dist-packages (from requests-oauthlib>=0.7.0->google-auth-oauthlib->gcsfs) (3.1.1)\n",
            "Requirement already satisfied: urllib3!=1.25.0,!=1.25.1,<1.26,>=1.21.1 in /usr/local/lib/python3.7/dist-packages (from requests->gcsfs) (1.24.3)\n",
            "Requirement already satisfied: chardet<4,>=3.0.2 in /usr/local/lib/python3.7/dist-packages (from requests->gcsfs) (3.0.4)\n",
            "Requirement already satisfied: certifi>=2017.4.17 in /usr/local/lib/python3.7/dist-packages (from requests->gcsfs) (2021.10.8)\n",
            "Requirement already satisfied: google-resumable-media<0.5.0dev,>=0.3.1 in /usr/local/lib/python3.7/dist-packages (from google-cloud-storage->gcsfs) (0.4.1)\n",
            "Requirement already satisfied: google-cloud-core<2.0dev,>=1.0.0 in /usr/local/lib/python3.7/dist-packages (from google-cloud-storage->gcsfs) (1.0.3)\n",
            "Requirement already satisfied: google-api-core<2.0.0dev,>=1.14.0 in /usr/local/lib/python3.7/dist-packages (from google-cloud-core<2.0dev,>=1.0.0->google-cloud-storage->gcsfs) (1.26.3)\n",
            "Requirement already satisfied: pytz in /usr/local/lib/python3.7/dist-packages (from google-api-core<2.0.0dev,>=1.14.0->google-cloud-core<2.0dev,>=1.0.0->google-cloud-storage->gcsfs) (2018.9)\n",
            "Requirement already satisfied: protobuf>=3.12.0 in /usr/local/lib/python3.7/dist-packages (from google-api-core<2.0.0dev,>=1.14.0->google-cloud-core<2.0dev,>=1.0.0->google-cloud-storage->gcsfs) (3.17.3)\n",
            "Requirement already satisfied: packaging>=14.3 in /usr/local/lib/python3.7/dist-packages (from google-api-core<2.0.0dev,>=1.14.0->google-cloud-core<2.0dev,>=1.0.0->google-cloud-storage->gcsfs) (21.2)\n",
            "Requirement already satisfied: googleapis-common-protos<2.0dev,>=1.6.0 in /usr/local/lib/python3.7/dist-packages (from google-api-core<2.0.0dev,>=1.14.0->google-cloud-core<2.0dev,>=1.0.0->google-cloud-storage->gcsfs) (1.53.0)\n",
            "Requirement already satisfied: pyparsing<3,>=2.0.2 in /usr/local/lib/python3.7/dist-packages (from packaging>=14.3->google-api-core<2.0.0dev,>=1.14.0->google-cloud-core<2.0dev,>=1.0.0->google-cloud-storage->gcsfs) (2.4.7)\n"
          ]
        }
      ]
    },
    {
      "cell_type": "code",
      "metadata": {
        "id": "KCjxuDPr8JNR"
      },
      "source": [
        "import pandas as pd"
      ],
      "execution_count": null,
      "outputs": []
    },
    {
      "cell_type": "markdown",
      "metadata": {
        "id": "mX3dQBCSDRkX"
      },
      "source": [
        "# Evolução de despesas"
      ]
    },
    {
      "cell_type": "code",
      "metadata": {
        "id": "82xblN6pS8ZD"
      },
      "source": [
        "import os\n",
        "from google.cloud import storage\n",
        "serviceaccount = '/content/soulcode-projeto-final-4b88bea6e07a.json'\n",
        "os.environ[\"GOOGLE_APPLICATION_CREDENTIALS\"] = serviceaccount\n",
        "df = pd.read_csv('gs://data_lake_ingest_data/1_input/EvolucaoDespesas.csv',sep=';')\n",
        "df\n",
        "    \n"
      ],
      "execution_count": null,
      "outputs": []
    },
    {
      "cell_type": "code",
      "metadata": {
        "id": "uza2EIrb85aq"
      },
      "source": [
        "df.head()"
      ],
      "execution_count": null,
      "outputs": []
    },
    {
      "cell_type": "code",
      "metadata": {
        "id": "kk22XyoOLsCi"
      },
      "source": [
        "df.tail()"
      ],
      "execution_count": null,
      "outputs": []
    },
    {
      "cell_type": "code",
      "metadata": {
        "id": "53FAkKH09Cv2"
      },
      "source": [
        "df.dtypes"
      ],
      "execution_count": null,
      "outputs": []
    },
    {
      "cell_type": "code",
      "metadata": {
        "id": "IV0lfsC-0iZn"
      },
      "source": [
        "df_back = df.copy()\n",
        "df_back"
      ],
      "execution_count": null,
      "outputs": []
    },
    {
      "cell_type": "code",
      "metadata": {
        "id": "ZlefTwyKDXfF"
      },
      "source": [
        "df.rename(columns={'Regiões e UF': 'UF'},inplace=True)"
      ],
      "execution_count": null,
      "outputs": []
    },
    {
      "cell_type": "code",
      "metadata": {
        "id": "l6VNcUGpMRim"
      },
      "source": [
        "df"
      ],
      "execution_count": null,
      "outputs": []
    },
    {
      "cell_type": "code",
      "metadata": {
        "id": "dGm4iGcYM4GK"
      },
      "source": [
        "df.drop(columns=[\"2011\", \"2012\",\"2013\",\"2014\"],inplace=True)\n",
        "df"
      ],
      "execution_count": null,
      "outputs": []
    },
    {
      "cell_type": "code",
      "metadata": {
        "id": "zUNbV0ZMhZtw"
      },
      "source": [
        "df.isnull().sum()"
      ],
      "execution_count": null,
      "outputs": []
    },
    {
      "cell_type": "code",
      "metadata": {
        "id": "nWPePH1-h4iU"
      },
      "source": [
        "df.isna().sum()"
      ],
      "execution_count": null,
      "outputs": []
    },
    {
      "cell_type": "code",
      "metadata": {
        "id": "Gk8GbBc2hfzE"
      },
      "source": [
        "pd.unique(df['UF'])"
      ],
      "execution_count": null,
      "outputs": []
    },
    {
      "cell_type": "code",
      "metadata": {
        "id": "G9awxzJnhol-"
      },
      "source": [
        "pd.unique(df['2015'])"
      ],
      "execution_count": null,
      "outputs": []
    },
    {
      "cell_type": "code",
      "metadata": {
        "id": "wKkexKdLhrMg"
      },
      "source": [
        "pd.unique(df['2016'])"
      ],
      "execution_count": null,
      "outputs": []
    },
    {
      "cell_type": "code",
      "metadata": {
        "id": "ChEJ6FFyhtIK"
      },
      "source": [
        "pd.unique(df['2017'])"
      ],
      "execution_count": null,
      "outputs": []
    },
    {
      "cell_type": "code",
      "metadata": {
        "id": "Ttf0FQpEhvAB"
      },
      "source": [
        "pd.unique(df['2018'])"
      ],
      "execution_count": null,
      "outputs": []
    },
    {
      "cell_type": "code",
      "metadata": {
        "id": "FkLuJFPqhwrq"
      },
      "source": [
        "pd.unique(df['2019'])"
      ],
      "execution_count": null,
      "outputs": []
    },
    {
      "cell_type": "code",
      "metadata": {
        "id": "ktoNXsFthyaw"
      },
      "source": [
        "pd.unique(df['2020'])"
      ],
      "execution_count": null,
      "outputs": []
    },
    {
      "cell_type": "code",
      "metadata": {
        "colab": {
          "base_uri": "https://localhost:8080/"
        },
        "id": "mePxzZWX1Cjt",
        "outputId": "1040e48d-58ef-4acb-d36e-ebce5a101a03"
      },
      "source": [
        "df.count()"
      ],
      "execution_count": null,
      "outputs": [
        {
          "output_type": "execute_result",
          "data": {
            "text/plain": [
              "UF      27\n",
              "2015    27\n",
              "2016    27\n",
              "2017    27\n",
              "2018    27\n",
              "2019    27\n",
              "2020    27\n",
              "dtype: int64"
            ]
          },
          "metadata": {},
          "execution_count": 155
        }
      ]
    },
    {
      "cell_type": "code",
      "metadata": {
        "id": "WsvYM7DC1V0K"
      },
      "source": [
        "df.groupby(['UF']).sum()"
      ],
      "execution_count": null,
      "outputs": []
    },
    {
      "cell_type": "code",
      "metadata": {
        "colab": {
          "base_uri": "https://localhost:8080/"
        },
        "id": "KuvbsCA04Ipb",
        "outputId": "1c1d8feb-be5c-467a-83f3-e1cf58e0671b"
      },
      "source": [
        ""
      ],
      "execution_count": null,
      "outputs": [
        {
          "output_type": "execute_result",
          "data": {
            "text/plain": [
              "2015    2.929605e+09\n",
              "2016    2.861849e+09\n",
              "2017    2.869783e+09\n",
              "2018    2.936372e+09\n",
              "2019    2.955162e+09\n",
              "2020    2.885574e+09\n",
              "dtype: float64"
            ]
          },
          "metadata": {},
          "execution_count": 191
        }
      ]
    },
    {
      "cell_type": "markdown",
      "metadata": {
        "id": "fP0cQuDpDJ6A"
      },
      "source": [
        "#Ocorrências JSON"
      ]
    },
    {
      "cell_type": "code",
      "metadata": {
        "colab": {
          "base_uri": "https://localhost:8080/",
          "height": 424
        },
        "id": "zMLL1AxG9Kti",
        "outputId": "c5b3a4e4-3a86-42da-fb1d-49c5ccdbb1d5"
      },
      "source": [
        "import os\n",
        "from google.cloud import storage\n",
        "serviceaccount = '/content/soulcode-projeto-final-4b88bea6e07a.json'\n",
        "os.environ[\"GOOGLE_APPLICATION_CREDENTIALS\"] = serviceaccount\n",
        "df1 = pd.read_json('gs://data_lake_ingest_data/1_input/OcorrenciasUF.json')\n",
        "df1\n",
        "   "
      ],
      "execution_count": null,
      "outputs": [
        {
          "output_type": "execute_result",
          "data": {
            "text/html": [
              "<div>\n",
              "<style scoped>\n",
              "    .dataframe tbody tr th:only-of-type {\n",
              "        vertical-align: middle;\n",
              "    }\n",
              "\n",
              "    .dataframe tbody tr th {\n",
              "        vertical-align: top;\n",
              "    }\n",
              "\n",
              "    .dataframe thead th {\n",
              "        text-align: right;\n",
              "    }\n",
              "</style>\n",
              "<table border=\"1\" class=\"dataframe\">\n",
              "  <thead>\n",
              "    <tr style=\"text-align: right;\">\n",
              "      <th></th>\n",
              "      <th>UF</th>\n",
              "      <th>Tipo Crime</th>\n",
              "      <th>Ano</th>\n",
              "      <th>Mês</th>\n",
              "      <th>Ocorrências</th>\n",
              "    </tr>\n",
              "  </thead>\n",
              "  <tbody>\n",
              "    <tr>\n",
              "      <th>0</th>\n",
              "      <td>Acre</td>\n",
              "      <td>Estupro</td>\n",
              "      <td>2021</td>\n",
              "      <td>janeiro</td>\n",
              "      <td>39</td>\n",
              "    </tr>\n",
              "    <tr>\n",
              "      <th>1</th>\n",
              "      <td>Acre</td>\n",
              "      <td>Furto de veículo</td>\n",
              "      <td>2021</td>\n",
              "      <td>janeiro</td>\n",
              "      <td>55</td>\n",
              "    </tr>\n",
              "    <tr>\n",
              "      <th>2</th>\n",
              "      <td>Acre</td>\n",
              "      <td>Homicídio doloso</td>\n",
              "      <td>2021</td>\n",
              "      <td>janeiro</td>\n",
              "      <td>14</td>\n",
              "    </tr>\n",
              "    <tr>\n",
              "      <th>3</th>\n",
              "      <td>Acre</td>\n",
              "      <td>Lesão corporal seguida de morte</td>\n",
              "      <td>2021</td>\n",
              "      <td>janeiro</td>\n",
              "      <td>0</td>\n",
              "    </tr>\n",
              "    <tr>\n",
              "      <th>4</th>\n",
              "      <td>Acre</td>\n",
              "      <td>Roubo a instituição financeira</td>\n",
              "      <td>2021</td>\n",
              "      <td>janeiro</td>\n",
              "      <td>0</td>\n",
              "    </tr>\n",
              "    <tr>\n",
              "      <th>...</th>\n",
              "      <td>...</td>\n",
              "      <td>...</td>\n",
              "      <td>...</td>\n",
              "      <td>...</td>\n",
              "      <td>...</td>\n",
              "    </tr>\n",
              "    <tr>\n",
              "      <th>18769</th>\n",
              "      <td>Tocantins</td>\n",
              "      <td>Roubo a instituição financeira</td>\n",
              "      <td>2015</td>\n",
              "      <td>dezembro</td>\n",
              "      <td>6</td>\n",
              "    </tr>\n",
              "    <tr>\n",
              "      <th>18770</th>\n",
              "      <td>Tocantins</td>\n",
              "      <td>Roubo de carga</td>\n",
              "      <td>2015</td>\n",
              "      <td>dezembro</td>\n",
              "      <td>1</td>\n",
              "    </tr>\n",
              "    <tr>\n",
              "      <th>18771</th>\n",
              "      <td>Tocantins</td>\n",
              "      <td>Roubo de veículo</td>\n",
              "      <td>2015</td>\n",
              "      <td>dezembro</td>\n",
              "      <td>55</td>\n",
              "    </tr>\n",
              "    <tr>\n",
              "      <th>18772</th>\n",
              "      <td>Tocantins</td>\n",
              "      <td>Roubo seguido de morte (latrocínio)</td>\n",
              "      <td>2015</td>\n",
              "      <td>dezembro</td>\n",
              "      <td>2</td>\n",
              "    </tr>\n",
              "    <tr>\n",
              "      <th>18773</th>\n",
              "      <td>Tocantins</td>\n",
              "      <td>Tentativa de homicídio</td>\n",
              "      <td>2015</td>\n",
              "      <td>dezembro</td>\n",
              "      <td>42</td>\n",
              "    </tr>\n",
              "  </tbody>\n",
              "</table>\n",
              "<p>18774 rows × 5 columns</p>\n",
              "</div>"
            ],
            "text/plain": [
              "              UF                           Tipo Crime  ...       Mês Ocorrências\n",
              "0           Acre                              Estupro  ...   janeiro          39\n",
              "1           Acre                     Furto de veículo  ...   janeiro          55\n",
              "2           Acre                     Homicídio doloso  ...   janeiro          14\n",
              "3           Acre      Lesão corporal seguida de morte  ...   janeiro           0\n",
              "4           Acre       Roubo a instituição financeira  ...   janeiro           0\n",
              "...          ...                                  ...  ...       ...         ...\n",
              "18769  Tocantins       Roubo a instituição financeira  ...  dezembro           6\n",
              "18770  Tocantins                       Roubo de carga  ...  dezembro           1\n",
              "18771  Tocantins                     Roubo de veículo  ...  dezembro          55\n",
              "18772  Tocantins  Roubo seguido de morte (latrocínio)  ...  dezembro           2\n",
              "18773  Tocantins               Tentativa de homicídio  ...  dezembro          42\n",
              "\n",
              "[18774 rows x 5 columns]"
            ]
          },
          "metadata": {},
          "execution_count": 124
        }
      ]
    },
    {
      "cell_type": "code",
      "metadata": {
        "colab": {
          "base_uri": "https://localhost:8080/",
          "height": 206
        },
        "id": "UPCwQeP2-QoF",
        "outputId": "04b16d83-1834-4828-a4c1-c97ff270fb35"
      },
      "source": [
        "df1.head()"
      ],
      "execution_count": null,
      "outputs": [
        {
          "output_type": "execute_result",
          "data": {
            "text/html": [
              "<div>\n",
              "<style scoped>\n",
              "    .dataframe tbody tr th:only-of-type {\n",
              "        vertical-align: middle;\n",
              "    }\n",
              "\n",
              "    .dataframe tbody tr th {\n",
              "        vertical-align: top;\n",
              "    }\n",
              "\n",
              "    .dataframe thead th {\n",
              "        text-align: right;\n",
              "    }\n",
              "</style>\n",
              "<table border=\"1\" class=\"dataframe\">\n",
              "  <thead>\n",
              "    <tr style=\"text-align: right;\">\n",
              "      <th></th>\n",
              "      <th>UF</th>\n",
              "      <th>Tipo Crime</th>\n",
              "      <th>Ano</th>\n",
              "      <th>Mês</th>\n",
              "      <th>Ocorrências</th>\n",
              "    </tr>\n",
              "  </thead>\n",
              "  <tbody>\n",
              "    <tr>\n",
              "      <th>0</th>\n",
              "      <td>Acre</td>\n",
              "      <td>Estupro</td>\n",
              "      <td>2021</td>\n",
              "      <td>janeiro</td>\n",
              "      <td>39</td>\n",
              "    </tr>\n",
              "    <tr>\n",
              "      <th>1</th>\n",
              "      <td>Acre</td>\n",
              "      <td>Furto de veículo</td>\n",
              "      <td>2021</td>\n",
              "      <td>janeiro</td>\n",
              "      <td>55</td>\n",
              "    </tr>\n",
              "    <tr>\n",
              "      <th>2</th>\n",
              "      <td>Acre</td>\n",
              "      <td>Homicídio doloso</td>\n",
              "      <td>2021</td>\n",
              "      <td>janeiro</td>\n",
              "      <td>14</td>\n",
              "    </tr>\n",
              "    <tr>\n",
              "      <th>3</th>\n",
              "      <td>Acre</td>\n",
              "      <td>Lesão corporal seguida de morte</td>\n",
              "      <td>2021</td>\n",
              "      <td>janeiro</td>\n",
              "      <td>0</td>\n",
              "    </tr>\n",
              "    <tr>\n",
              "      <th>4</th>\n",
              "      <td>Acre</td>\n",
              "      <td>Roubo a instituição financeira</td>\n",
              "      <td>2021</td>\n",
              "      <td>janeiro</td>\n",
              "      <td>0</td>\n",
              "    </tr>\n",
              "  </tbody>\n",
              "</table>\n",
              "</div>"
            ],
            "text/plain": [
              "     UF                       Tipo Crime   Ano      Mês  Ocorrências\n",
              "0  Acre                          Estupro  2021  janeiro           39\n",
              "1  Acre                 Furto de veículo  2021  janeiro           55\n",
              "2  Acre                 Homicídio doloso  2021  janeiro           14\n",
              "3  Acre  Lesão corporal seguida de morte  2021  janeiro            0\n",
              "4  Acre   Roubo a instituição financeira  2021  janeiro            0"
            ]
          },
          "metadata": {},
          "execution_count": 125
        }
      ]
    },
    {
      "cell_type": "code",
      "metadata": {
        "id": "1-95sdo5-Rz6",
        "colab": {
          "base_uri": "https://localhost:8080/",
          "height": 206
        },
        "outputId": "7e0ce637-a4cc-48fb-fc7c-3eb6cbdcadc7"
      },
      "source": [
        "df1.tail()"
      ],
      "execution_count": null,
      "outputs": [
        {
          "output_type": "execute_result",
          "data": {
            "text/html": [
              "<div>\n",
              "<style scoped>\n",
              "    .dataframe tbody tr th:only-of-type {\n",
              "        vertical-align: middle;\n",
              "    }\n",
              "\n",
              "    .dataframe tbody tr th {\n",
              "        vertical-align: top;\n",
              "    }\n",
              "\n",
              "    .dataframe thead th {\n",
              "        text-align: right;\n",
              "    }\n",
              "</style>\n",
              "<table border=\"1\" class=\"dataframe\">\n",
              "  <thead>\n",
              "    <tr style=\"text-align: right;\">\n",
              "      <th></th>\n",
              "      <th>UF</th>\n",
              "      <th>Tipo Crime</th>\n",
              "      <th>Ano</th>\n",
              "      <th>Mês</th>\n",
              "      <th>Ocorrências</th>\n",
              "    </tr>\n",
              "  </thead>\n",
              "  <tbody>\n",
              "    <tr>\n",
              "      <th>18769</th>\n",
              "      <td>Tocantins</td>\n",
              "      <td>Roubo a instituição financeira</td>\n",
              "      <td>2015</td>\n",
              "      <td>dezembro</td>\n",
              "      <td>6</td>\n",
              "    </tr>\n",
              "    <tr>\n",
              "      <th>18770</th>\n",
              "      <td>Tocantins</td>\n",
              "      <td>Roubo de carga</td>\n",
              "      <td>2015</td>\n",
              "      <td>dezembro</td>\n",
              "      <td>1</td>\n",
              "    </tr>\n",
              "    <tr>\n",
              "      <th>18771</th>\n",
              "      <td>Tocantins</td>\n",
              "      <td>Roubo de veículo</td>\n",
              "      <td>2015</td>\n",
              "      <td>dezembro</td>\n",
              "      <td>55</td>\n",
              "    </tr>\n",
              "    <tr>\n",
              "      <th>18772</th>\n",
              "      <td>Tocantins</td>\n",
              "      <td>Roubo seguido de morte (latrocínio)</td>\n",
              "      <td>2015</td>\n",
              "      <td>dezembro</td>\n",
              "      <td>2</td>\n",
              "    </tr>\n",
              "    <tr>\n",
              "      <th>18773</th>\n",
              "      <td>Tocantins</td>\n",
              "      <td>Tentativa de homicídio</td>\n",
              "      <td>2015</td>\n",
              "      <td>dezembro</td>\n",
              "      <td>42</td>\n",
              "    </tr>\n",
              "  </tbody>\n",
              "</table>\n",
              "</div>"
            ],
            "text/plain": [
              "              UF                           Tipo Crime  ...       Mês Ocorrências\n",
              "18769  Tocantins       Roubo a instituição financeira  ...  dezembro           6\n",
              "18770  Tocantins                       Roubo de carga  ...  dezembro           1\n",
              "18771  Tocantins                     Roubo de veículo  ...  dezembro          55\n",
              "18772  Tocantins  Roubo seguido de morte (latrocínio)  ...  dezembro           2\n",
              "18773  Tocantins               Tentativa de homicídio  ...  dezembro          42\n",
              "\n",
              "[5 rows x 5 columns]"
            ]
          },
          "metadata": {},
          "execution_count": 126
        }
      ]
    },
    {
      "cell_type": "code",
      "metadata": {
        "colab": {
          "base_uri": "https://localhost:8080/"
        },
        "id": "7EDKcOJCjS4O",
        "outputId": "6cec2650-cc34-4ef5-9415-2e21af23b19c"
      },
      "source": [
        "df1.dtypes"
      ],
      "execution_count": null,
      "outputs": [
        {
          "output_type": "execute_result",
          "data": {
            "text/plain": [
              "UF             object\n",
              "Tipo Crime     object\n",
              "Ano             int64\n",
              "Mês            object\n",
              "Ocorrências     int64\n",
              "dtype: object"
            ]
          },
          "metadata": {},
          "execution_count": 127
        }
      ]
    },
    {
      "cell_type": "code",
      "metadata": {
        "colab": {
          "base_uri": "https://localhost:8080/"
        },
        "id": "8Lr13E4vjXYW",
        "outputId": "1f5c271e-c9b3-4a10-a5d9-7fef82042381"
      },
      "source": [
        "df1.isnull().sum()"
      ],
      "execution_count": null,
      "outputs": [
        {
          "output_type": "execute_result",
          "data": {
            "text/plain": [
              "UF             0\n",
              "Tipo Crime     0\n",
              "Ano            0\n",
              "Mês            0\n",
              "Ocorrências    0\n",
              "dtype: int64"
            ]
          },
          "metadata": {},
          "execution_count": 128
        }
      ]
    },
    {
      "cell_type": "code",
      "metadata": {
        "colab": {
          "base_uri": "https://localhost:8080/"
        },
        "id": "Ygqzafd2ja0l",
        "outputId": "b06d045a-6649-4050-9fef-1bd25bb45594"
      },
      "source": [
        "df1.isna().sum()"
      ],
      "execution_count": null,
      "outputs": [
        {
          "output_type": "execute_result",
          "data": {
            "text/plain": [
              "UF             0\n",
              "Tipo Crime     0\n",
              "Ano            0\n",
              "Mês            0\n",
              "Ocorrências    0\n",
              "dtype: int64"
            ]
          },
          "metadata": {},
          "execution_count": 129
        }
      ]
    },
    {
      "cell_type": "code",
      "metadata": {
        "colab": {
          "base_uri": "https://localhost:8080/"
        },
        "id": "0UmsYEagjchR",
        "outputId": "7e16757c-bab7-4470-e5c0-7037a695fe75"
      },
      "source": [
        "sorted(pd.unique(df1['UF']))"
      ],
      "execution_count": null,
      "outputs": [
        {
          "output_type": "execute_result",
          "data": {
            "text/plain": [
              "['Acre',\n",
              " 'Alagoas',\n",
              " 'Amapá',\n",
              " 'Amazonas',\n",
              " 'Bahia',\n",
              " 'Ceará',\n",
              " 'Distrito Federal',\n",
              " 'Espírito Santo',\n",
              " 'Goiás',\n",
              " 'Maranhão',\n",
              " 'Mato Grosso',\n",
              " 'Mato Grosso do Sul',\n",
              " 'Minas Gerais',\n",
              " 'Paraná',\n",
              " 'Paraíba',\n",
              " 'Pará',\n",
              " 'Pernambuco',\n",
              " 'Piauí',\n",
              " 'Rio Grande do Norte',\n",
              " 'Rio Grande do Sul',\n",
              " 'Rio de Janeiro',\n",
              " 'Rondônia',\n",
              " 'Roraima',\n",
              " 'Santa Catarina',\n",
              " 'Sergipe',\n",
              " 'São Paulo',\n",
              " 'Tocantins']"
            ]
          },
          "metadata": {},
          "execution_count": 130
        }
      ]
    },
    {
      "cell_type": "code",
      "metadata": {
        "colab": {
          "base_uri": "https://localhost:8080/"
        },
        "id": "laKA7HZIjfin",
        "outputId": "02fb6056-2e0f-4e6c-a61e-5273f4b09c98"
      },
      "source": [
        "sorted(pd.unique(df1['Tipo Crime']))"
      ],
      "execution_count": null,
      "outputs": [
        {
          "output_type": "execute_result",
          "data": {
            "text/plain": [
              "['Estupro',\n",
              " 'Furto de veículo',\n",
              " 'Homicídio doloso',\n",
              " 'Lesão corporal seguida de morte',\n",
              " 'Roubo a instituição financeira',\n",
              " 'Roubo de carga',\n",
              " 'Roubo de veículo',\n",
              " 'Roubo seguido de morte (latrocínio)',\n",
              " 'Tentativa de homicídio']"
            ]
          },
          "metadata": {},
          "execution_count": 131
        }
      ]
    },
    {
      "cell_type": "code",
      "metadata": {
        "colab": {
          "base_uri": "https://localhost:8080/"
        },
        "id": "R6eZbolsjjug",
        "outputId": "bdbcb225-c86c-46ec-9ee1-dbd8498a722f"
      },
      "source": [
        "sorted(pd.unique(df1['Ano']))"
      ],
      "execution_count": null,
      "outputs": [
        {
          "output_type": "execute_result",
          "data": {
            "text/plain": [
              "[2015, 2016, 2017, 2018, 2019, 2020, 2021]"
            ]
          },
          "metadata": {},
          "execution_count": 132
        }
      ]
    },
    {
      "cell_type": "code",
      "metadata": {
        "colab": {
          "base_uri": "https://localhost:8080/"
        },
        "id": "-_f2S2AZj13t",
        "outputId": "b3084d76-17bc-4a9f-e7db-8a92d738afa5"
      },
      "source": [
        "sorted(pd.unique(df1['Mês']))"
      ],
      "execution_count": null,
      "outputs": [
        {
          "output_type": "execute_result",
          "data": {
            "text/plain": [
              "['abril',\n",
              " 'agosto',\n",
              " 'dezembro',\n",
              " 'fevereiro',\n",
              " 'janeiro',\n",
              " 'julho',\n",
              " 'junho',\n",
              " 'maio',\n",
              " 'março',\n",
              " 'novembro',\n",
              " 'outubro',\n",
              " 'setembro']"
            ]
          },
          "metadata": {},
          "execution_count": 133
        }
      ]
    },
    {
      "cell_type": "code",
      "metadata": {
        "id": "DLMFgJWLj5J0"
      },
      "source": [
        "sorted(pd.unique(df1['Ocorrências']))"
      ],
      "execution_count": null,
      "outputs": []
    },
    {
      "cell_type": "markdown",
      "metadata": {
        "id": "zTqYE1wekFle"
      },
      "source": [
        "#Vítimas JSON"
      ]
    },
    {
      "cell_type": "code",
      "metadata": {
        "id": "PJ869aqgkLsf",
        "colab": {
          "base_uri": "https://localhost:8080/",
          "height": 424
        },
        "outputId": "dee04679-ccf9-49e7-df8b-be2cf2fdae3f"
      },
      "source": [
        "import os\n",
        "from google.cloud import storage\n",
        "serviceaccount = '/content/soulcode-projeto-final-4b88bea6e07a.json'\n",
        "os.environ[\"GOOGLE_APPLICATION_CREDENTIALS\"] = serviceaccount\n",
        "df2 = pd.read_json('gs://data_lake_ingest_data/1_input/VitimasUF.json')\n",
        "df2"
      ],
      "execution_count": null,
      "outputs": [
        {
          "output_type": "execute_result",
          "data": {
            "text/html": [
              "<div>\n",
              "<style scoped>\n",
              "    .dataframe tbody tr th:only-of-type {\n",
              "        vertical-align: middle;\n",
              "    }\n",
              "\n",
              "    .dataframe tbody tr th {\n",
              "        vertical-align: top;\n",
              "    }\n",
              "\n",
              "    .dataframe thead th {\n",
              "        text-align: right;\n",
              "    }\n",
              "</style>\n",
              "<table border=\"1\" class=\"dataframe\">\n",
              "  <thead>\n",
              "    <tr style=\"text-align: right;\">\n",
              "      <th></th>\n",
              "      <th>UF</th>\n",
              "      <th>Tipo Crime</th>\n",
              "      <th>Ano</th>\n",
              "      <th>Mês</th>\n",
              "      <th>Sexo da Vítima</th>\n",
              "      <th>Vítimas</th>\n",
              "    </tr>\n",
              "  </thead>\n",
              "  <tbody>\n",
              "    <tr>\n",
              "      <th>0</th>\n",
              "      <td>Acre</td>\n",
              "      <td>Homicídio doloso</td>\n",
              "      <td>2021</td>\n",
              "      <td>janeiro</td>\n",
              "      <td>Feminino</td>\n",
              "      <td>1</td>\n",
              "    </tr>\n",
              "    <tr>\n",
              "      <th>1</th>\n",
              "      <td>Acre</td>\n",
              "      <td>Homicídio doloso</td>\n",
              "      <td>2021</td>\n",
              "      <td>janeiro</td>\n",
              "      <td>Masculino</td>\n",
              "      <td>13</td>\n",
              "    </tr>\n",
              "    <tr>\n",
              "      <th>2</th>\n",
              "      <td>Acre</td>\n",
              "      <td>Homicídio doloso</td>\n",
              "      <td>2021</td>\n",
              "      <td>janeiro</td>\n",
              "      <td>Sexo NI</td>\n",
              "      <td>0</td>\n",
              "    </tr>\n",
              "    <tr>\n",
              "      <th>3</th>\n",
              "      <td>Acre</td>\n",
              "      <td>Homicídio doloso</td>\n",
              "      <td>2021</td>\n",
              "      <td>fevereiro</td>\n",
              "      <td>Feminino</td>\n",
              "      <td>4</td>\n",
              "    </tr>\n",
              "    <tr>\n",
              "      <th>4</th>\n",
              "      <td>Acre</td>\n",
              "      <td>Homicídio doloso</td>\n",
              "      <td>2021</td>\n",
              "      <td>fevereiro</td>\n",
              "      <td>Masculino</td>\n",
              "      <td>12</td>\n",
              "    </tr>\n",
              "    <tr>\n",
              "      <th>...</th>\n",
              "      <td>...</td>\n",
              "      <td>...</td>\n",
              "      <td>...</td>\n",
              "      <td>...</td>\n",
              "      <td>...</td>\n",
              "      <td>...</td>\n",
              "    </tr>\n",
              "    <tr>\n",
              "      <th>15740</th>\n",
              "      <td>Tocantins</td>\n",
              "      <td>Roubo seguido de morte (latrocínio)</td>\n",
              "      <td>2015</td>\n",
              "      <td>junho</td>\n",
              "      <td>Masculino</td>\n",
              "      <td>1</td>\n",
              "    </tr>\n",
              "    <tr>\n",
              "      <th>15741</th>\n",
              "      <td>Tocantins</td>\n",
              "      <td>Roubo seguido de morte (latrocínio)</td>\n",
              "      <td>2015</td>\n",
              "      <td>julho</td>\n",
              "      <td>Masculino</td>\n",
              "      <td>1</td>\n",
              "    </tr>\n",
              "    <tr>\n",
              "      <th>15742</th>\n",
              "      <td>Tocantins</td>\n",
              "      <td>Roubo seguido de morte (latrocínio)</td>\n",
              "      <td>2015</td>\n",
              "      <td>agosto</td>\n",
              "      <td>Masculino</td>\n",
              "      <td>1</td>\n",
              "    </tr>\n",
              "    <tr>\n",
              "      <th>15743</th>\n",
              "      <td>Tocantins</td>\n",
              "      <td>Roubo seguido de morte (latrocínio)</td>\n",
              "      <td>2015</td>\n",
              "      <td>outubro</td>\n",
              "      <td>Masculino</td>\n",
              "      <td>2</td>\n",
              "    </tr>\n",
              "    <tr>\n",
              "      <th>15744</th>\n",
              "      <td>Tocantins</td>\n",
              "      <td>Roubo seguido de morte (latrocínio)</td>\n",
              "      <td>2015</td>\n",
              "      <td>dezembro</td>\n",
              "      <td>Masculino</td>\n",
              "      <td>2</td>\n",
              "    </tr>\n",
              "  </tbody>\n",
              "</table>\n",
              "<p>15745 rows × 6 columns</p>\n",
              "</div>"
            ],
            "text/plain": [
              "              UF                           Tipo Crime  ...  Sexo da Vítima Vítimas\n",
              "0           Acre                     Homicídio doloso  ...        Feminino       1\n",
              "1           Acre                     Homicídio doloso  ...       Masculino      13\n",
              "2           Acre                     Homicídio doloso  ...         Sexo NI       0\n",
              "3           Acre                     Homicídio doloso  ...        Feminino       4\n",
              "4           Acre                     Homicídio doloso  ...       Masculino      12\n",
              "...          ...                                  ...  ...             ...     ...\n",
              "15740  Tocantins  Roubo seguido de morte (latrocínio)  ...       Masculino       1\n",
              "15741  Tocantins  Roubo seguido de morte (latrocínio)  ...       Masculino       1\n",
              "15742  Tocantins  Roubo seguido de morte (latrocínio)  ...       Masculino       1\n",
              "15743  Tocantins  Roubo seguido de morte (latrocínio)  ...       Masculino       2\n",
              "15744  Tocantins  Roubo seguido de morte (latrocínio)  ...       Masculino       2\n",
              "\n",
              "[15745 rows x 6 columns]"
            ]
          },
          "metadata": {},
          "execution_count": 135
        }
      ]
    },
    {
      "cell_type": "code",
      "metadata": {
        "colab": {
          "base_uri": "https://localhost:8080/",
          "height": 206
        },
        "id": "nKDZe5A2xivI",
        "outputId": "7d4c3560-913d-411f-a9bd-9e1e3a8a086e"
      },
      "source": [
        "df2.head()"
      ],
      "execution_count": null,
      "outputs": [
        {
          "output_type": "execute_result",
          "data": {
            "text/html": [
              "<div>\n",
              "<style scoped>\n",
              "    .dataframe tbody tr th:only-of-type {\n",
              "        vertical-align: middle;\n",
              "    }\n",
              "\n",
              "    .dataframe tbody tr th {\n",
              "        vertical-align: top;\n",
              "    }\n",
              "\n",
              "    .dataframe thead th {\n",
              "        text-align: right;\n",
              "    }\n",
              "</style>\n",
              "<table border=\"1\" class=\"dataframe\">\n",
              "  <thead>\n",
              "    <tr style=\"text-align: right;\">\n",
              "      <th></th>\n",
              "      <th>UF</th>\n",
              "      <th>Tipo Crime</th>\n",
              "      <th>Ano</th>\n",
              "      <th>Mês</th>\n",
              "      <th>Sexo da Vítima</th>\n",
              "      <th>Vítimas</th>\n",
              "    </tr>\n",
              "  </thead>\n",
              "  <tbody>\n",
              "    <tr>\n",
              "      <th>0</th>\n",
              "      <td>Acre</td>\n",
              "      <td>Homicídio doloso</td>\n",
              "      <td>2021</td>\n",
              "      <td>janeiro</td>\n",
              "      <td>Feminino</td>\n",
              "      <td>1</td>\n",
              "    </tr>\n",
              "    <tr>\n",
              "      <th>1</th>\n",
              "      <td>Acre</td>\n",
              "      <td>Homicídio doloso</td>\n",
              "      <td>2021</td>\n",
              "      <td>janeiro</td>\n",
              "      <td>Masculino</td>\n",
              "      <td>13</td>\n",
              "    </tr>\n",
              "    <tr>\n",
              "      <th>2</th>\n",
              "      <td>Acre</td>\n",
              "      <td>Homicídio doloso</td>\n",
              "      <td>2021</td>\n",
              "      <td>janeiro</td>\n",
              "      <td>Sexo NI</td>\n",
              "      <td>0</td>\n",
              "    </tr>\n",
              "    <tr>\n",
              "      <th>3</th>\n",
              "      <td>Acre</td>\n",
              "      <td>Homicídio doloso</td>\n",
              "      <td>2021</td>\n",
              "      <td>fevereiro</td>\n",
              "      <td>Feminino</td>\n",
              "      <td>4</td>\n",
              "    </tr>\n",
              "    <tr>\n",
              "      <th>4</th>\n",
              "      <td>Acre</td>\n",
              "      <td>Homicídio doloso</td>\n",
              "      <td>2021</td>\n",
              "      <td>fevereiro</td>\n",
              "      <td>Masculino</td>\n",
              "      <td>12</td>\n",
              "    </tr>\n",
              "  </tbody>\n",
              "</table>\n",
              "</div>"
            ],
            "text/plain": [
              "     UF        Tipo Crime   Ano        Mês Sexo da Vítima  Vítimas\n",
              "0  Acre  Homicídio doloso  2021    janeiro       Feminino        1\n",
              "1  Acre  Homicídio doloso  2021    janeiro      Masculino       13\n",
              "2  Acre  Homicídio doloso  2021    janeiro        Sexo NI        0\n",
              "3  Acre  Homicídio doloso  2021  fevereiro       Feminino        4\n",
              "4  Acre  Homicídio doloso  2021  fevereiro      Masculino       12"
            ]
          },
          "metadata": {},
          "execution_count": 136
        }
      ]
    },
    {
      "cell_type": "code",
      "metadata": {
        "colab": {
          "base_uri": "https://localhost:8080/",
          "height": 206
        },
        "id": "uWmT4xNbxnNU",
        "outputId": "8786a5b3-32fa-4ba4-f697-296b26ff0ffb"
      },
      "source": [
        "df2.tail()"
      ],
      "execution_count": null,
      "outputs": [
        {
          "output_type": "execute_result",
          "data": {
            "text/html": [
              "<div>\n",
              "<style scoped>\n",
              "    .dataframe tbody tr th:only-of-type {\n",
              "        vertical-align: middle;\n",
              "    }\n",
              "\n",
              "    .dataframe tbody tr th {\n",
              "        vertical-align: top;\n",
              "    }\n",
              "\n",
              "    .dataframe thead th {\n",
              "        text-align: right;\n",
              "    }\n",
              "</style>\n",
              "<table border=\"1\" class=\"dataframe\">\n",
              "  <thead>\n",
              "    <tr style=\"text-align: right;\">\n",
              "      <th></th>\n",
              "      <th>UF</th>\n",
              "      <th>Tipo Crime</th>\n",
              "      <th>Ano</th>\n",
              "      <th>Mês</th>\n",
              "      <th>Sexo da Vítima</th>\n",
              "      <th>Vítimas</th>\n",
              "    </tr>\n",
              "  </thead>\n",
              "  <tbody>\n",
              "    <tr>\n",
              "      <th>15740</th>\n",
              "      <td>Tocantins</td>\n",
              "      <td>Roubo seguido de morte (latrocínio)</td>\n",
              "      <td>2015</td>\n",
              "      <td>junho</td>\n",
              "      <td>Masculino</td>\n",
              "      <td>1</td>\n",
              "    </tr>\n",
              "    <tr>\n",
              "      <th>15741</th>\n",
              "      <td>Tocantins</td>\n",
              "      <td>Roubo seguido de morte (latrocínio)</td>\n",
              "      <td>2015</td>\n",
              "      <td>julho</td>\n",
              "      <td>Masculino</td>\n",
              "      <td>1</td>\n",
              "    </tr>\n",
              "    <tr>\n",
              "      <th>15742</th>\n",
              "      <td>Tocantins</td>\n",
              "      <td>Roubo seguido de morte (latrocínio)</td>\n",
              "      <td>2015</td>\n",
              "      <td>agosto</td>\n",
              "      <td>Masculino</td>\n",
              "      <td>1</td>\n",
              "    </tr>\n",
              "    <tr>\n",
              "      <th>15743</th>\n",
              "      <td>Tocantins</td>\n",
              "      <td>Roubo seguido de morte (latrocínio)</td>\n",
              "      <td>2015</td>\n",
              "      <td>outubro</td>\n",
              "      <td>Masculino</td>\n",
              "      <td>2</td>\n",
              "    </tr>\n",
              "    <tr>\n",
              "      <th>15744</th>\n",
              "      <td>Tocantins</td>\n",
              "      <td>Roubo seguido de morte (latrocínio)</td>\n",
              "      <td>2015</td>\n",
              "      <td>dezembro</td>\n",
              "      <td>Masculino</td>\n",
              "      <td>2</td>\n",
              "    </tr>\n",
              "  </tbody>\n",
              "</table>\n",
              "</div>"
            ],
            "text/plain": [
              "              UF                           Tipo Crime  ...  Sexo da Vítima Vítimas\n",
              "15740  Tocantins  Roubo seguido de morte (latrocínio)  ...       Masculino       1\n",
              "15741  Tocantins  Roubo seguido de morte (latrocínio)  ...       Masculino       1\n",
              "15742  Tocantins  Roubo seguido de morte (latrocínio)  ...       Masculino       1\n",
              "15743  Tocantins  Roubo seguido de morte (latrocínio)  ...       Masculino       2\n",
              "15744  Tocantins  Roubo seguido de morte (latrocínio)  ...       Masculino       2\n",
              "\n",
              "[5 rows x 6 columns]"
            ]
          },
          "metadata": {},
          "execution_count": 137
        }
      ]
    },
    {
      "cell_type": "code",
      "metadata": {
        "colab": {
          "base_uri": "https://localhost:8080/"
        },
        "id": "-KgneDiYxopz",
        "outputId": "5a2d210b-03e7-4175-93f9-5dc88b20119f"
      },
      "source": [
        "df2.dtypes"
      ],
      "execution_count": null,
      "outputs": [
        {
          "output_type": "execute_result",
          "data": {
            "text/plain": [
              "UF                object\n",
              "Tipo Crime        object\n",
              "Ano                int64\n",
              "Mês               object\n",
              "Sexo da Vítima    object\n",
              "Vítimas            int64\n",
              "dtype: object"
            ]
          },
          "metadata": {},
          "execution_count": 138
        }
      ]
    },
    {
      "cell_type": "code",
      "metadata": {
        "colab": {
          "base_uri": "https://localhost:8080/"
        },
        "id": "ODet_ckfxrJe",
        "outputId": "29063315-cd2e-48fb-c3b0-1818fc8a1fd2"
      },
      "source": [
        "df2.isnull().sum()"
      ],
      "execution_count": null,
      "outputs": [
        {
          "output_type": "execute_result",
          "data": {
            "text/plain": [
              "UF                0\n",
              "Tipo Crime        0\n",
              "Ano               0\n",
              "Mês               0\n",
              "Sexo da Vítima    0\n",
              "Vítimas           0\n",
              "dtype: int64"
            ]
          },
          "metadata": {},
          "execution_count": 139
        }
      ]
    },
    {
      "cell_type": "code",
      "metadata": {
        "colab": {
          "base_uri": "https://localhost:8080/"
        },
        "id": "uyU8iQeLxtMs",
        "outputId": "514a6073-07bb-473e-f66c-3fc976b92bbf"
      },
      "source": [
        "df2.isna().sum()"
      ],
      "execution_count": null,
      "outputs": [
        {
          "output_type": "execute_result",
          "data": {
            "text/plain": [
              "UF                0\n",
              "Tipo Crime        0\n",
              "Ano               0\n",
              "Mês               0\n",
              "Sexo da Vítima    0\n",
              "Vítimas           0\n",
              "dtype: int64"
            ]
          },
          "metadata": {},
          "execution_count": 140
        }
      ]
    },
    {
      "cell_type": "code",
      "metadata": {
        "id": "1JMXMrJVxvgJ"
      },
      "source": [
        "sorted(pd.unique(df2['UF']))"
      ],
      "execution_count": null,
      "outputs": []
    },
    {
      "cell_type": "code",
      "metadata": {
        "colab": {
          "base_uri": "https://localhost:8080/"
        },
        "id": "osWyMo1qx1BX",
        "outputId": "6730098e-8ab3-4e33-9fac-2c2816f0082f"
      },
      "source": [
        "sorted(pd.unique(df2['Tipo Crime']))"
      ],
      "execution_count": null,
      "outputs": [
        {
          "output_type": "execute_result",
          "data": {
            "text/plain": [
              "['Homicídio doloso',\n",
              " 'Lesão corporal seguida de morte',\n",
              " 'Roubo seguido de morte (latrocínio)']"
            ]
          },
          "metadata": {},
          "execution_count": 142
        }
      ]
    },
    {
      "cell_type": "code",
      "metadata": {
        "colab": {
          "base_uri": "https://localhost:8080/"
        },
        "id": "MfqlSkIHx3Gl",
        "outputId": "b77ca277-d851-426e-cf35-f74b9e86a6af"
      },
      "source": [
        "sorted(pd.unique(df2['Ano']))"
      ],
      "execution_count": null,
      "outputs": [
        {
          "output_type": "execute_result",
          "data": {
            "text/plain": [
              "[2015, 2016, 2017, 2018, 2019, 2020, 2021]"
            ]
          },
          "metadata": {},
          "execution_count": 143
        }
      ]
    },
    {
      "cell_type": "code",
      "metadata": {
        "colab": {
          "base_uri": "https://localhost:8080/"
        },
        "id": "7ncN7tREx4QT",
        "outputId": "e4ed1bc8-4460-4447-f62c-84b6af27b09e"
      },
      "source": [
        "sorted(pd.unique(df2['Mês']))"
      ],
      "execution_count": null,
      "outputs": [
        {
          "output_type": "execute_result",
          "data": {
            "text/plain": [
              "['abril',\n",
              " 'agosto',\n",
              " 'dezembro',\n",
              " 'fevereiro',\n",
              " 'janeiro',\n",
              " 'julho',\n",
              " 'junho',\n",
              " 'maio',\n",
              " 'março',\n",
              " 'novembro',\n",
              " 'outubro',\n",
              " 'setembro']"
            ]
          },
          "metadata": {},
          "execution_count": 144
        }
      ]
    },
    {
      "cell_type": "code",
      "metadata": {
        "colab": {
          "base_uri": "https://localhost:8080/"
        },
        "id": "XjILa6fLx57x",
        "outputId": "1c352acb-d43b-4ff1-c325-f960f74a5e46"
      },
      "source": [
        "sorted(pd.unique(df2['Sexo da Vítima']))"
      ],
      "execution_count": null,
      "outputs": [
        {
          "output_type": "execute_result",
          "data": {
            "text/plain": [
              "['Feminino', 'Masculino', 'Não informado', 'Sem Informação', 'Sexo NI']"
            ]
          },
          "metadata": {},
          "execution_count": 145
        }
      ]
    },
    {
      "cell_type": "code",
      "metadata": {
        "id": "BGYAPYdex72j"
      },
      "source": [
        "sorted(pd.unique(df2['Vítimas']))"
      ],
      "execution_count": null,
      "outputs": []
    },
    {
      "cell_type": "code",
      "metadata": {
        "colab": {
          "base_uri": "https://localhost:8080/",
          "height": 424
        },
        "id": "emxACWLT0t7a",
        "outputId": "fca076cb-1e0c-4a13-ecc3-d2b18630571e"
      },
      "source": [
        "df2_back = df2.copy()\n",
        "df2_back"
      ],
      "execution_count": null,
      "outputs": [
        {
          "output_type": "execute_result",
          "data": {
            "text/html": [
              "<div>\n",
              "<style scoped>\n",
              "    .dataframe tbody tr th:only-of-type {\n",
              "        vertical-align: middle;\n",
              "    }\n",
              "\n",
              "    .dataframe tbody tr th {\n",
              "        vertical-align: top;\n",
              "    }\n",
              "\n",
              "    .dataframe thead th {\n",
              "        text-align: right;\n",
              "    }\n",
              "</style>\n",
              "<table border=\"1\" class=\"dataframe\">\n",
              "  <thead>\n",
              "    <tr style=\"text-align: right;\">\n",
              "      <th></th>\n",
              "      <th>UF</th>\n",
              "      <th>Tipo Crime</th>\n",
              "      <th>Ano</th>\n",
              "      <th>Mês</th>\n",
              "      <th>Sexo da Vítima</th>\n",
              "      <th>Vítimas</th>\n",
              "    </tr>\n",
              "  </thead>\n",
              "  <tbody>\n",
              "    <tr>\n",
              "      <th>0</th>\n",
              "      <td>Acre</td>\n",
              "      <td>Homicídio doloso</td>\n",
              "      <td>2021</td>\n",
              "      <td>janeiro</td>\n",
              "      <td>Feminino</td>\n",
              "      <td>1</td>\n",
              "    </tr>\n",
              "    <tr>\n",
              "      <th>1</th>\n",
              "      <td>Acre</td>\n",
              "      <td>Homicídio doloso</td>\n",
              "      <td>2021</td>\n",
              "      <td>janeiro</td>\n",
              "      <td>Masculino</td>\n",
              "      <td>13</td>\n",
              "    </tr>\n",
              "    <tr>\n",
              "      <th>2</th>\n",
              "      <td>Acre</td>\n",
              "      <td>Homicídio doloso</td>\n",
              "      <td>2021</td>\n",
              "      <td>janeiro</td>\n",
              "      <td>Sexo NI</td>\n",
              "      <td>0</td>\n",
              "    </tr>\n",
              "    <tr>\n",
              "      <th>3</th>\n",
              "      <td>Acre</td>\n",
              "      <td>Homicídio doloso</td>\n",
              "      <td>2021</td>\n",
              "      <td>fevereiro</td>\n",
              "      <td>Feminino</td>\n",
              "      <td>4</td>\n",
              "    </tr>\n",
              "    <tr>\n",
              "      <th>4</th>\n",
              "      <td>Acre</td>\n",
              "      <td>Homicídio doloso</td>\n",
              "      <td>2021</td>\n",
              "      <td>fevereiro</td>\n",
              "      <td>Masculino</td>\n",
              "      <td>12</td>\n",
              "    </tr>\n",
              "    <tr>\n",
              "      <th>...</th>\n",
              "      <td>...</td>\n",
              "      <td>...</td>\n",
              "      <td>...</td>\n",
              "      <td>...</td>\n",
              "      <td>...</td>\n",
              "      <td>...</td>\n",
              "    </tr>\n",
              "    <tr>\n",
              "      <th>15740</th>\n",
              "      <td>Tocantins</td>\n",
              "      <td>Roubo seguido de morte (latrocínio)</td>\n",
              "      <td>2015</td>\n",
              "      <td>junho</td>\n",
              "      <td>Masculino</td>\n",
              "      <td>1</td>\n",
              "    </tr>\n",
              "    <tr>\n",
              "      <th>15741</th>\n",
              "      <td>Tocantins</td>\n",
              "      <td>Roubo seguido de morte (latrocínio)</td>\n",
              "      <td>2015</td>\n",
              "      <td>julho</td>\n",
              "      <td>Masculino</td>\n",
              "      <td>1</td>\n",
              "    </tr>\n",
              "    <tr>\n",
              "      <th>15742</th>\n",
              "      <td>Tocantins</td>\n",
              "      <td>Roubo seguido de morte (latrocínio)</td>\n",
              "      <td>2015</td>\n",
              "      <td>agosto</td>\n",
              "      <td>Masculino</td>\n",
              "      <td>1</td>\n",
              "    </tr>\n",
              "    <tr>\n",
              "      <th>15743</th>\n",
              "      <td>Tocantins</td>\n",
              "      <td>Roubo seguido de morte (latrocínio)</td>\n",
              "      <td>2015</td>\n",
              "      <td>outubro</td>\n",
              "      <td>Masculino</td>\n",
              "      <td>2</td>\n",
              "    </tr>\n",
              "    <tr>\n",
              "      <th>15744</th>\n",
              "      <td>Tocantins</td>\n",
              "      <td>Roubo seguido de morte (latrocínio)</td>\n",
              "      <td>2015</td>\n",
              "      <td>dezembro</td>\n",
              "      <td>Masculino</td>\n",
              "      <td>2</td>\n",
              "    </tr>\n",
              "  </tbody>\n",
              "</table>\n",
              "<p>15745 rows × 6 columns</p>\n",
              "</div>"
            ],
            "text/plain": [
              "              UF                           Tipo Crime  ...  Sexo da Vítima Vítimas\n",
              "0           Acre                     Homicídio doloso  ...        Feminino       1\n",
              "1           Acre                     Homicídio doloso  ...       Masculino      13\n",
              "2           Acre                     Homicídio doloso  ...         Sexo NI       0\n",
              "3           Acre                     Homicídio doloso  ...        Feminino       4\n",
              "4           Acre                     Homicídio doloso  ...       Masculino      12\n",
              "...          ...                                  ...  ...             ...     ...\n",
              "15740  Tocantins  Roubo seguido de morte (latrocínio)  ...       Masculino       1\n",
              "15741  Tocantins  Roubo seguido de morte (latrocínio)  ...       Masculino       1\n",
              "15742  Tocantins  Roubo seguido de morte (latrocínio)  ...       Masculino       1\n",
              "15743  Tocantins  Roubo seguido de morte (latrocínio)  ...       Masculino       2\n",
              "15744  Tocantins  Roubo seguido de morte (latrocínio)  ...       Masculino       2\n",
              "\n",
              "[15745 rows x 6 columns]"
            ]
          },
          "metadata": {},
          "execution_count": 153
        }
      ]
    },
    {
      "cell_type": "code",
      "metadata": {
        "colab": {
          "base_uri": "https://localhost:8080/",
          "height": 424
        },
        "id": "AsDFaCm8yFZW",
        "outputId": "c2e9faf8-9a1e-4d0d-e272-a4b93b103161"
      },
      "source": [
        "df2['Sexo da Vítima'] = df2['Sexo da Vítima'].replace([\"Não Informado\",\"Sem Informação\"],'Sexo NI')\n",
        "df2"
      ],
      "execution_count": null,
      "outputs": [
        {
          "output_type": "execute_result",
          "data": {
            "text/html": [
              "<div>\n",
              "<style scoped>\n",
              "    .dataframe tbody tr th:only-of-type {\n",
              "        vertical-align: middle;\n",
              "    }\n",
              "\n",
              "    .dataframe tbody tr th {\n",
              "        vertical-align: top;\n",
              "    }\n",
              "\n",
              "    .dataframe thead th {\n",
              "        text-align: right;\n",
              "    }\n",
              "</style>\n",
              "<table border=\"1\" class=\"dataframe\">\n",
              "  <thead>\n",
              "    <tr style=\"text-align: right;\">\n",
              "      <th></th>\n",
              "      <th>UF</th>\n",
              "      <th>Tipo Crime</th>\n",
              "      <th>Ano</th>\n",
              "      <th>Mês</th>\n",
              "      <th>Sexo da Vítima</th>\n",
              "      <th>Vítimas</th>\n",
              "    </tr>\n",
              "  </thead>\n",
              "  <tbody>\n",
              "    <tr>\n",
              "      <th>0</th>\n",
              "      <td>Acre</td>\n",
              "      <td>Homicídio doloso</td>\n",
              "      <td>2021</td>\n",
              "      <td>janeiro</td>\n",
              "      <td>Feminino</td>\n",
              "      <td>1</td>\n",
              "    </tr>\n",
              "    <tr>\n",
              "      <th>1</th>\n",
              "      <td>Acre</td>\n",
              "      <td>Homicídio doloso</td>\n",
              "      <td>2021</td>\n",
              "      <td>janeiro</td>\n",
              "      <td>Masculino</td>\n",
              "      <td>13</td>\n",
              "    </tr>\n",
              "    <tr>\n",
              "      <th>2</th>\n",
              "      <td>Acre</td>\n",
              "      <td>Homicídio doloso</td>\n",
              "      <td>2021</td>\n",
              "      <td>janeiro</td>\n",
              "      <td>Sexo NI</td>\n",
              "      <td>0</td>\n",
              "    </tr>\n",
              "    <tr>\n",
              "      <th>3</th>\n",
              "      <td>Acre</td>\n",
              "      <td>Homicídio doloso</td>\n",
              "      <td>2021</td>\n",
              "      <td>fevereiro</td>\n",
              "      <td>Feminino</td>\n",
              "      <td>4</td>\n",
              "    </tr>\n",
              "    <tr>\n",
              "      <th>4</th>\n",
              "      <td>Acre</td>\n",
              "      <td>Homicídio doloso</td>\n",
              "      <td>2021</td>\n",
              "      <td>fevereiro</td>\n",
              "      <td>Masculino</td>\n",
              "      <td>12</td>\n",
              "    </tr>\n",
              "    <tr>\n",
              "      <th>...</th>\n",
              "      <td>...</td>\n",
              "      <td>...</td>\n",
              "      <td>...</td>\n",
              "      <td>...</td>\n",
              "      <td>...</td>\n",
              "      <td>...</td>\n",
              "    </tr>\n",
              "    <tr>\n",
              "      <th>15740</th>\n",
              "      <td>Tocantins</td>\n",
              "      <td>Roubo seguido de morte (latrocínio)</td>\n",
              "      <td>2015</td>\n",
              "      <td>junho</td>\n",
              "      <td>Masculino</td>\n",
              "      <td>1</td>\n",
              "    </tr>\n",
              "    <tr>\n",
              "      <th>15741</th>\n",
              "      <td>Tocantins</td>\n",
              "      <td>Roubo seguido de morte (latrocínio)</td>\n",
              "      <td>2015</td>\n",
              "      <td>julho</td>\n",
              "      <td>Masculino</td>\n",
              "      <td>1</td>\n",
              "    </tr>\n",
              "    <tr>\n",
              "      <th>15742</th>\n",
              "      <td>Tocantins</td>\n",
              "      <td>Roubo seguido de morte (latrocínio)</td>\n",
              "      <td>2015</td>\n",
              "      <td>agosto</td>\n",
              "      <td>Masculino</td>\n",
              "      <td>1</td>\n",
              "    </tr>\n",
              "    <tr>\n",
              "      <th>15743</th>\n",
              "      <td>Tocantins</td>\n",
              "      <td>Roubo seguido de morte (latrocínio)</td>\n",
              "      <td>2015</td>\n",
              "      <td>outubro</td>\n",
              "      <td>Masculino</td>\n",
              "      <td>2</td>\n",
              "    </tr>\n",
              "    <tr>\n",
              "      <th>15744</th>\n",
              "      <td>Tocantins</td>\n",
              "      <td>Roubo seguido de morte (latrocínio)</td>\n",
              "      <td>2015</td>\n",
              "      <td>dezembro</td>\n",
              "      <td>Masculino</td>\n",
              "      <td>2</td>\n",
              "    </tr>\n",
              "  </tbody>\n",
              "</table>\n",
              "<p>15745 rows × 6 columns</p>\n",
              "</div>"
            ],
            "text/plain": [
              "              UF                           Tipo Crime  ...  Sexo da Vítima Vítimas\n",
              "0           Acre                     Homicídio doloso  ...        Feminino       1\n",
              "1           Acre                     Homicídio doloso  ...       Masculino      13\n",
              "2           Acre                     Homicídio doloso  ...         Sexo NI       0\n",
              "3           Acre                     Homicídio doloso  ...        Feminino       4\n",
              "4           Acre                     Homicídio doloso  ...       Masculino      12\n",
              "...          ...                                  ...  ...             ...     ...\n",
              "15740  Tocantins  Roubo seguido de morte (latrocínio)  ...       Masculino       1\n",
              "15741  Tocantins  Roubo seguido de morte (latrocínio)  ...       Masculino       1\n",
              "15742  Tocantins  Roubo seguido de morte (latrocínio)  ...       Masculino       1\n",
              "15743  Tocantins  Roubo seguido de morte (latrocínio)  ...       Masculino       2\n",
              "15744  Tocantins  Roubo seguido de morte (latrocínio)  ...       Masculino       2\n",
              "\n",
              "[15745 rows x 6 columns]"
            ]
          },
          "metadata": {},
          "execution_count": 147
        }
      ]
    },
    {
      "cell_type": "code",
      "metadata": {
        "colab": {
          "base_uri": "https://localhost:8080/",
          "height": 424
        },
        "id": "yRhnhydIyXu4",
        "outputId": "6819c18b-e59f-4bd7-fb6d-a21ae0f0cd44"
      },
      "source": [
        "df2.loc[df2['Sexo da Vítima'] == 'Sexo NI']"
      ],
      "execution_count": null,
      "outputs": [
        {
          "output_type": "execute_result",
          "data": {
            "text/html": [
              "<div>\n",
              "<style scoped>\n",
              "    .dataframe tbody tr th:only-of-type {\n",
              "        vertical-align: middle;\n",
              "    }\n",
              "\n",
              "    .dataframe tbody tr th {\n",
              "        vertical-align: top;\n",
              "    }\n",
              "\n",
              "    .dataframe thead th {\n",
              "        text-align: right;\n",
              "    }\n",
              "</style>\n",
              "<table border=\"1\" class=\"dataframe\">\n",
              "  <thead>\n",
              "    <tr style=\"text-align: right;\">\n",
              "      <th></th>\n",
              "      <th>UF</th>\n",
              "      <th>Tipo Crime</th>\n",
              "      <th>Ano</th>\n",
              "      <th>Mês</th>\n",
              "      <th>Sexo da Vítima</th>\n",
              "      <th>Vítimas</th>\n",
              "    </tr>\n",
              "  </thead>\n",
              "  <tbody>\n",
              "    <tr>\n",
              "      <th>2</th>\n",
              "      <td>Acre</td>\n",
              "      <td>Homicídio doloso</td>\n",
              "      <td>2021</td>\n",
              "      <td>janeiro</td>\n",
              "      <td>Sexo NI</td>\n",
              "      <td>0</td>\n",
              "    </tr>\n",
              "    <tr>\n",
              "      <th>5</th>\n",
              "      <td>Acre</td>\n",
              "      <td>Homicídio doloso</td>\n",
              "      <td>2021</td>\n",
              "      <td>fevereiro</td>\n",
              "      <td>Sexo NI</td>\n",
              "      <td>0</td>\n",
              "    </tr>\n",
              "    <tr>\n",
              "      <th>8</th>\n",
              "      <td>Acre</td>\n",
              "      <td>Homicídio doloso</td>\n",
              "      <td>2021</td>\n",
              "      <td>março</td>\n",
              "      <td>Sexo NI</td>\n",
              "      <td>0</td>\n",
              "    </tr>\n",
              "    <tr>\n",
              "      <th>11</th>\n",
              "      <td>Acre</td>\n",
              "      <td>Homicídio doloso</td>\n",
              "      <td>2021</td>\n",
              "      <td>abril</td>\n",
              "      <td>Sexo NI</td>\n",
              "      <td>0</td>\n",
              "    </tr>\n",
              "    <tr>\n",
              "      <th>14</th>\n",
              "      <td>Acre</td>\n",
              "      <td>Homicídio doloso</td>\n",
              "      <td>2021</td>\n",
              "      <td>maio</td>\n",
              "      <td>Sexo NI</td>\n",
              "      <td>0</td>\n",
              "    </tr>\n",
              "    <tr>\n",
              "      <th>...</th>\n",
              "      <td>...</td>\n",
              "      <td>...</td>\n",
              "      <td>...</td>\n",
              "      <td>...</td>\n",
              "      <td>...</td>\n",
              "      <td>...</td>\n",
              "    </tr>\n",
              "    <tr>\n",
              "      <th>15695</th>\n",
              "      <td>Sergipe</td>\n",
              "      <td>Roubo seguido de morte (latrocínio)</td>\n",
              "      <td>2015</td>\n",
              "      <td>agosto</td>\n",
              "      <td>Sexo NI</td>\n",
              "      <td>0</td>\n",
              "    </tr>\n",
              "    <tr>\n",
              "      <th>15698</th>\n",
              "      <td>Sergipe</td>\n",
              "      <td>Roubo seguido de morte (latrocínio)</td>\n",
              "      <td>2015</td>\n",
              "      <td>setembro</td>\n",
              "      <td>Sexo NI</td>\n",
              "      <td>0</td>\n",
              "    </tr>\n",
              "    <tr>\n",
              "      <th>15701</th>\n",
              "      <td>Sergipe</td>\n",
              "      <td>Roubo seguido de morte (latrocínio)</td>\n",
              "      <td>2015</td>\n",
              "      <td>outubro</td>\n",
              "      <td>Sexo NI</td>\n",
              "      <td>0</td>\n",
              "    </tr>\n",
              "    <tr>\n",
              "      <th>15704</th>\n",
              "      <td>Sergipe</td>\n",
              "      <td>Roubo seguido de morte (latrocínio)</td>\n",
              "      <td>2015</td>\n",
              "      <td>novembro</td>\n",
              "      <td>Sexo NI</td>\n",
              "      <td>0</td>\n",
              "    </tr>\n",
              "    <tr>\n",
              "      <th>15707</th>\n",
              "      <td>Sergipe</td>\n",
              "      <td>Roubo seguido de morte (latrocínio)</td>\n",
              "      <td>2015</td>\n",
              "      <td>dezembro</td>\n",
              "      <td>Sexo NI</td>\n",
              "      <td>0</td>\n",
              "    </tr>\n",
              "  </tbody>\n",
              "</table>\n",
              "<p>4830 rows × 6 columns</p>\n",
              "</div>"
            ],
            "text/plain": [
              "            UF                           Tipo Crime  ...  Sexo da Vítima Vítimas\n",
              "2         Acre                     Homicídio doloso  ...         Sexo NI       0\n",
              "5         Acre                     Homicídio doloso  ...         Sexo NI       0\n",
              "8         Acre                     Homicídio doloso  ...         Sexo NI       0\n",
              "11        Acre                     Homicídio doloso  ...         Sexo NI       0\n",
              "14        Acre                     Homicídio doloso  ...         Sexo NI       0\n",
              "...        ...                                  ...  ...             ...     ...\n",
              "15695  Sergipe  Roubo seguido de morte (latrocínio)  ...         Sexo NI       0\n",
              "15698  Sergipe  Roubo seguido de morte (latrocínio)  ...         Sexo NI       0\n",
              "15701  Sergipe  Roubo seguido de morte (latrocínio)  ...         Sexo NI       0\n",
              "15704  Sergipe  Roubo seguido de morte (latrocínio)  ...         Sexo NI       0\n",
              "15707  Sergipe  Roubo seguido de morte (latrocínio)  ...         Sexo NI       0\n",
              "\n",
              "[4830 rows x 6 columns]"
            ]
          },
          "metadata": {},
          "execution_count": 150
        }
      ]
    }
  ]
}